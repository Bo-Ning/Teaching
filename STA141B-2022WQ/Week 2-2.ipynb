{
 "cells": [
  {
   "cell_type": "markdown",
   "metadata": {},
   "source": [
    "# STA 141B - Lecture 4\n",
    "\n",
    "January 13, 2022\n",
    "\n",
    "### Announcements\n",
    "\n",
    "* Group member list due next week: Jan 22 (sunday) 11:59pm\n",
    "* hw1 due next Wednesday\n",
    "* Survey\n",
    "* Discussion session?\n",
    "\n",
    "\n",
    "### Last time\n",
    "\n",
    "* Modules and Packages\n",
    "* Iteration: Loops, Comprehensions, and Generators expressions\n",
    "\n",
    "### Topics\n",
    "\n",
    "* NumPy and Pandas\n",
    "\n",
    "### Data Sets\n",
    "\n",
    "* Dogs (in repository)\n",
    "\n",
    "### References\n",
    "\n",
    "* Python for Data Analysis, Ch. 5, 10\n",
    "* [Python Data Science Handbook][PDSH], Ch. 3\n",
    "\n",
    "[PDSH]: https://jakevdp.github.io/PythonDataScienceHandbook/\n",
    "[ProGit]: https://git-scm.com/book/"
   ]
  },
  {
   "cell_type": "markdown",
   "metadata": {},
   "source": [
    "### Assignment operators"
   ]
  },
  {
   "cell_type": "markdown",
   "metadata": {},
   "source": [
    "<img src=\"assigned.png\">"
   ]
  },
  {
   "cell_type": "markdown",
   "metadata": {},
   "source": [
    "### NumPy\n",
    "NumPy is a Python package that provides tools for numerical computing (the name stands for \"Numerical Python\"). Since we're using Anaconda, NumPy is already installed.\n",
    "\n",
    "NumPy is documented [here][link4].\n",
    "\n",
    "[link4]: https://numpy.org/doc/stable/"
   ]
  },
  {
   "cell_type": "code",
   "execution_count": 1,
   "metadata": {},
   "outputs": [],
   "source": [
    "import numpy as np"
   ]
  },
  {
   "cell_type": "markdown",
   "metadata": {},
   "source": [
    "NumPy's core feature is the n-dimensional array, or ndarray. NumPy arrays are the basis for almost all of Python's scientific computing packages. They are the Python equivalent of R's built-in vectors.\n",
    "\n",
    "NumPy arrays use reference semantics!"
   ]
  },
  {
   "cell_type": "markdown",
   "metadata": {},
   "source": [
    "#### Creating NumPy Arrays\n",
    "\n",
    "You can create NumPy arrays from lists:"
   ]
  },
  {
   "cell_type": "code",
   "execution_count": 2,
   "metadata": {},
   "outputs": [
    {
     "data": {
      "text/plain": [
       "array([1, 2, 3])"
      ]
     },
     "execution_count": 2,
     "metadata": {},
     "output_type": "execute_result"
    }
   ],
   "source": [
    "np.array([1, 2, 3])"
   ]
  },
  {
   "cell_type": "markdown",
   "metadata": {},
   "source": [
    "A numpy array is a grid of values, all of __the same type__, and is indexed by a tuple of nonnegative integers. \n",
    "\n",
    "A list is the Python equivalent of an array, but is resizeable and can contain elements of different types."
   ]
  },
  {
   "cell_type": "code",
   "execution_count": 3,
   "metadata": {},
   "outputs": [],
   "source": [
    "x = np.array([1, 2, 3])\n",
    "y = np.array((4.1, 5.2, 6.3))"
   ]
  },
  {
   "cell_type": "code",
   "execution_count": null,
   "metadata": {},
   "outputs": [],
   "source": [
    "z = [2, 3, 4]\n",
    "x + z # list + array = array\n",
    "x + [2, 'apple', 3]\n",
    "x + [2, 3]\n",
    "x + [2, 3, 4, 5]"
   ]
  },
  {
   "cell_type": "markdown",
   "metadata": {},
   "source": [
    "You can create multidimensional arrays, like matrices, from nested lists."
   ]
  },
  {
   "cell_type": "code",
   "execution_count": 3,
   "metadata": {},
   "outputs": [
    {
     "data": {
      "text/plain": [
       "array([[1, 2, 3],\n",
       "       [4, 5, 6]])"
      ]
     },
     "execution_count": 3,
     "metadata": {},
     "output_type": "execute_result"
    }
   ],
   "source": [
    "m = np.array([[1, 2, 3], [4, 5, 6]])\n",
    "m"
   ]
  },
  {
   "cell_type": "markdown",
   "metadata": {},
   "source": [
    "NumPy also provides several helper functions to create arrays. See the [documentation](https://numpy.org/doc/stable/user/basics.creation.html) for a full list.\n",
    "\n",
    "As an example, np.arange() is the NumPy equivalent of range()."
   ]
  },
  {
   "cell_type": "code",
   "execution_count": 4,
   "metadata": {},
   "outputs": [
    {
     "data": {
      "text/plain": [
       "array([0, 1, 2, 3, 4, 5, 6, 7, 8, 9])"
      ]
     },
     "execution_count": 4,
     "metadata": {},
     "output_type": "execute_result"
    }
   ],
   "source": [
    "np.arange(10) # the same as np.array(range(10))"
   ]
  },
  {
   "cell_type": "code",
   "execution_count": 8,
   "metadata": {},
   "outputs": [
    {
     "data": {
      "text/plain": [
       "array([0., 0., 0., 0., 0., 0., 0., 0., 0., 0.])"
      ]
     },
     "execution_count": 8,
     "metadata": {},
     "output_type": "execute_result"
    }
   ],
   "source": [
    "np.zeros(10)"
   ]
  },
  {
   "cell_type": "markdown",
   "metadata": {},
   "source": [
    "A Python matrix is a specialized two-dimensional rectangular array of data stored in rows and columns "
   ]
  },
  {
   "cell_type": "code",
   "execution_count": 11,
   "metadata": {},
   "outputs": [
    {
     "data": {
      "text/plain": [
       "matrix([[1, 2, 3],\n",
       "        [4, 5, 6]])"
      ]
     },
     "execution_count": 11,
     "metadata": {},
     "output_type": "execute_result"
    }
   ],
   "source": [
    "a = np.matrix([[1, 2, 3], [4, 5, 6]]) \n",
    "a"
   ]
  },
  {
   "cell_type": "code",
   "execution_count": 12,
   "metadata": {},
   "outputs": [
    {
     "data": {
      "text/plain": [
       "numpy.matrix"
      ]
     },
     "execution_count": 12,
     "metadata": {},
     "output_type": "execute_result"
    }
   ],
   "source": [
    "type(a)"
   ]
  },
  {
   "cell_type": "code",
   "execution_count": 25,
   "metadata": {},
   "outputs": [],
   "source": [
    "# you can do m - a "
   ]
  },
  {
   "cell_type": "markdown",
   "metadata": {},
   "source": [
    "There is no N-dimensional matrix in numpy, only N-dimensional array: see [this](https://numpy.org/doc/stable/reference/arrays.ndarray.html)"
   ]
  },
  {
   "cell_type": "markdown",
   "metadata": {},
   "source": [
    "#### Inspecting Arrays\n",
    "\n",
    "The array attributes .shape and .size contain information about the structure of the array."
   ]
  },
  {
   "cell_type": "code",
   "execution_count": 15,
   "metadata": {},
   "outputs": [
    {
     "data": {
      "text/plain": [
       "(3,)"
      ]
     },
     "execution_count": 15,
     "metadata": {},
     "output_type": "execute_result"
    }
   ],
   "source": [
    "x.shape  # like R's dim()"
   ]
  },
  {
   "cell_type": "code",
   "execution_count": 16,
   "metadata": {},
   "outputs": [
    {
     "data": {
      "text/plain": [
       "(2, 3)"
      ]
     },
     "execution_count": 16,
     "metadata": {},
     "output_type": "execute_result"
    }
   ],
   "source": [
    "m.shape"
   ]
  },
  {
   "cell_type": "code",
   "execution_count": 17,
   "metadata": {},
   "outputs": [
    {
     "data": {
      "text/plain": [
       "3"
      ]
     },
     "execution_count": 17,
     "metadata": {},
     "output_type": "execute_result"
    }
   ],
   "source": [
    "x.size # like R's length()"
   ]
  },
  {
   "cell_type": "code",
   "execution_count": 18,
   "metadata": {},
   "outputs": [
    {
     "data": {
      "text/plain": [
       "6"
      ]
     },
     "execution_count": 18,
     "metadata": {},
     "output_type": "execute_result"
    }
   ],
   "source": [
    "m.size"
   ]
  },
  {
   "cell_type": "code",
   "execution_count": 19,
   "metadata": {},
   "outputs": [
    {
     "data": {
      "text/plain": [
       "numpy.ndarray"
      ]
     },
     "execution_count": 19,
     "metadata": {},
     "output_type": "execute_result"
    }
   ],
   "source": [
    "type(m)"
   ]
  },
  {
   "cell_type": "code",
   "execution_count": 22,
   "metadata": {},
   "outputs": [
    {
     "data": {
      "text/plain": [
       "(2, 3)"
      ]
     },
     "execution_count": 22,
     "metadata": {},
     "output_type": "execute_result"
    }
   ],
   "source": [
    "a.shape"
   ]
  },
  {
   "cell_type": "markdown",
   "metadata": {},
   "source": [
    "The array attribute .dtype contains the data type of the array's elements."
   ]
  },
  {
   "cell_type": "code",
   "execution_count": 26,
   "metadata": {},
   "outputs": [
    {
     "data": {
      "text/plain": [
       "dtype('int64')"
      ]
     },
     "execution_count": 26,
     "metadata": {},
     "output_type": "execute_result"
    }
   ],
   "source": [
    "x.dtype"
   ]
  },
  {
   "cell_type": "code",
   "execution_count": 29,
   "metadata": {},
   "outputs": [
    {
     "data": {
      "text/plain": [
       "array([1, 2, 3])"
      ]
     },
     "execution_count": 29,
     "metadata": {},
     "output_type": "execute_result"
    }
   ],
   "source": [
    "x"
   ]
  },
  {
   "cell_type": "code",
   "execution_count": 27,
   "metadata": {},
   "outputs": [
    {
     "data": {
      "text/plain": [
       "dtype('float64')"
      ]
     },
     "execution_count": 27,
     "metadata": {},
     "output_type": "execute_result"
    }
   ],
   "source": [
    "y.dtype"
   ]
  },
  {
   "cell_type": "code",
   "execution_count": 28,
   "metadata": {},
   "outputs": [
    {
     "data": {
      "text/plain": [
       "array([4.1, 5.2, 6.3])"
      ]
     },
     "execution_count": 28,
     "metadata": {},
     "output_type": "execute_result"
    }
   ],
   "source": [
    "y"
   ]
  },
  {
   "cell_type": "markdown",
   "metadata": {},
   "source": [
    "See [here][link5] or [here][link6] for a complete list of Numpy data types.\n",
    "\n",
    "[link5]: https://docs.scipy.org/doc/numpy-1.15.0/user/basics.types.html\n",
    "[link6]: https://jakevdp.github.io/PythonDataScienceHandbook/02.01-understanding-data-types.html#NumPy-Standard-Data-Types "
   ]
  },
  {
   "cell_type": "code",
   "execution_count": 30,
   "metadata": {},
   "outputs": [
    {
     "data": {
      "text/plain": [
       "array([5.1, 7.2, 9.3])"
      ]
     },
     "execution_count": 30,
     "metadata": {},
     "output_type": "execute_result"
    }
   ],
   "source": [
    "x + y"
   ]
  },
  {
   "cell_type": "code",
   "execution_count": 31,
   "metadata": {},
   "outputs": [
    {
     "data": {
      "text/plain": [
       "dtype('float64')"
      ]
     },
     "execution_count": 31,
     "metadata": {},
     "output_type": "execute_result"
    }
   ],
   "source": [
    "(x+y).dtype"
   ]
  },
  {
   "cell_type": "code",
   "execution_count": 32,
   "metadata": {},
   "outputs": [
    {
     "data": {
      "text/plain": [
       "array([0.84147098, 0.90929743, 0.14112001])"
      ]
     },
     "execution_count": 32,
     "metadata": {},
     "output_type": "execute_result"
    }
   ],
   "source": [
    "np.sin(x) # call functions"
   ]
  },
  {
   "cell_type": "markdown",
   "metadata": {},
   "source": [
    "#### Indexing\n",
    "\n",
    "You can subset NumPy arrays with indexes or Boolean arrays. Again, this is similar to R.\n",
    "\n",
    "Be careful! Python uses and and or to combine conditions, but NumPy uses & and |."
   ]
  },
  {
   "cell_type": "code",
   "execution_count": 33,
   "metadata": {},
   "outputs": [
    {
     "data": {
      "text/plain": [
       "1"
      ]
     },
     "execution_count": 33,
     "metadata": {},
     "output_type": "execute_result"
    }
   ],
   "source": [
    "x[0]"
   ]
  },
  {
   "cell_type": "code",
   "execution_count": 34,
   "metadata": {},
   "outputs": [
    {
     "data": {
      "text/plain": [
       "array([1, 2])"
      ]
     },
     "execution_count": 34,
     "metadata": {},
     "output_type": "execute_result"
    }
   ],
   "source": [
    "x[0:2]"
   ]
  },
  {
   "cell_type": "code",
   "execution_count": 35,
   "metadata": {},
   "outputs": [
    {
     "data": {
      "text/plain": [
       "5"
      ]
     },
     "execution_count": 35,
     "metadata": {},
     "output_type": "execute_result"
    }
   ],
   "source": [
    "m[1,1]"
   ]
  },
  {
   "cell_type": "code",
   "execution_count": 36,
   "metadata": {},
   "outputs": [
    {
     "data": {
      "text/plain": [
       "array([[1, 2, 3],\n",
       "       [4, 5, 6]])"
      ]
     },
     "execution_count": 36,
     "metadata": {},
     "output_type": "execute_result"
    }
   ],
   "source": [
    "m"
   ]
  },
  {
   "cell_type": "code",
   "execution_count": 38,
   "metadata": {},
   "outputs": [
    {
     "data": {
      "text/plain": [
       "array([False,  True, False])"
      ]
     },
     "execution_count": 38,
     "metadata": {},
     "output_type": "execute_result"
    }
   ],
   "source": [
    "x[x % 2 == 0] # true or false\n"
   ]
  },
  {
   "cell_type": "markdown",
   "metadata": {},
   "source": [
    "In multidimensional arrays, separate indexes for each dimension with commas. The \"bare\" slice : selects everything in one dimension.\n",
    "\n",
    "Be careful! When subsetting, remember to use : where you would use a __blank in $\\mathsf{R}$__."
   ]
  },
  {
   "cell_type": "code",
   "execution_count": null,
   "metadata": {},
   "outputs": [],
   "source": [
    "m"
   ]
  },
  {
   "cell_type": "code",
   "execution_count": null,
   "metadata": {},
   "outputs": [],
   "source": [
    "m[:,0]"
   ]
  },
  {
   "cell_type": "markdown",
   "metadata": {},
   "source": [
    "What else can NumPy do?\n",
    "NumPy also provides functions for:\n",
    "\n",
    "<ul>\n",
    "    <li>Linear algebra (multiplication, transposition, decomposition, ...)</li>\n",
    "    <li>Random number generation</li>\n",
    "    <li>Elementary statistics</li>\n",
    "    <li>Signal processing</li>\n",
    "    <li>And more...</li>\n",
    "</ul>    \n",
    "There isn't time to cover all of these in detail in lecture, but you can learn more from the documentation and references."
   ]
  },
  {
   "cell_type": "markdown",
   "metadata": {},
   "source": [
    "## Using NumPy for Monte Carlo Integration\n",
    "### Example - estimate $\\pi$ using Monte Carlo method\n",
    "\n",
    "Consider a circle with radius 1 circumscribed by a square with side length 2.\n",
    "\n",
    "The area of the circle is $\\pi$, so for a uniform distribution on the square, the probability a point will fall in the circle is $\\pi / 4$.\n",
    "\n",
    "We can estimate the probability to estimate $\\pi$."
   ]
  },
  {
   "cell_type": "code",
   "execution_count": 5,
   "metadata": {},
   "outputs": [],
   "source": [
    "# Estimate pi\n",
    "\n",
    "import numpy as np\n",
    "\n",
    "def estimate_pi(n):\n",
    "    # First, we need to sample points (x, y) with x in (-1, 1) and y the same\n",
    "    x = np.random.rand(n) # uniform distribution from 0 to 1\n",
    "    y = np.random.rand(n)\n",
    "\n",
    "    # Check which are in the circle\n",
    "    in_circle = x**2 + y**2 <= 1\n",
    "\n",
    "    # Estimate pi\n",
    "    #sum(in_circle)\n",
    "    num_inside = in_circle.sum()\n",
    "    p_hat = num_inside / n\n",
    "    return 4 * p_hat\n",
    "\n",
    "\n",
    "# estimate_pi(1000)\n",
    "\n",
    "# np.pi\n",
    "\n",
    "# np.random.rand?"
   ]
  },
  {
   "cell_type": "code",
   "execution_count": 6,
   "metadata": {},
   "outputs": [
    {
     "data": {
      "text/plain": [
       "array([      1,       1,       1,       1,       1,      10,      10,\n",
       "            10,      10,      10,      10,      10,      10,      10,\n",
       "           100,     100,     100,     100,     100,     100,     100,\n",
       "           100,     100,    1000,    1000,    1000,    1000,    1000,\n",
       "          1000,    1000,    1000,    1000,   10000,   10000,   10000,\n",
       "         10000,   10000,   10000,   10000,   10000,   10000,  100000,\n",
       "        100000,  100000,  100000,  100000,  100000,  100000,  100000,\n",
       "       1000000])"
      ]
     },
     "execution_count": 6,
     "metadata": {},
     "output_type": "execute_result"
    }
   ],
   "source": [
    "import random\n",
    "random.seed(1)\n",
    "\n",
    "# np.random.seed\n",
    "\n",
    "log_n = np.linspace(start=0.5, stop=6, num=50)\n",
    "n = 10**(log_n).astype(int)\n",
    "pi_hat = [estimate_pi(i) for i in n]\n",
    "\n",
    "n"
   ]
  },
  {
   "cell_type": "code",
   "execution_count": 10,
   "metadata": {},
   "outputs": [
    {
     "data": {
      "image/png": "[encoded data removed]",
      "text/plain": [
       "<Figure size 432x288 with 1 Axes>"
      ]
     },
     "metadata": {
      "needs_background": "light"
     },
     "output_type": "display_data"
    }
   ],
   "source": [
    "# make a plot\n",
    "\n",
    "import matplotlib.pyplot as plt\n",
    "plt.plot(log_n, pi_hat)\n",
    "plt.axhline(y=np.pi, color='r', linestyle='-')\n",
    "plt.xlabel(\"log_10(n)\")\n",
    "plt.ylabel(\"$\\hat\\pi$\")\n",
    "plt.show()"
   ]
  },
  {
   "cell_type": "markdown",
   "metadata": {},
   "source": [
    "You can do more with plt, see [documentation](https://matplotlib.org/stable/tutorials/introductory/pyplot.html)"
   ]
  },
  {
   "cell_type": "markdown",
   "metadata": {},
   "source": [
    "## Pandas\n",
    "\n",
    "Pandas is a Python package that provides tools for manipulating tabular data. The name \"pandas\" is short for \"**PAN**el **DA**ta\", an econometrics term. Since we're using Anaconda, Pandas is already installed.\n",
    "\n",
    "Pandas is documented [here](http://pandas.pydata.org/pandas-docs/stable/)."
   ]
  },
  {
   "cell_type": "code",
   "execution_count": 11,
   "metadata": {},
   "outputs": [],
   "source": [
    "import pandas as pd"
   ]
  },
  {
   "cell_type": "markdown",
   "metadata": {},
   "source": [
    "### Series\n",
    "\n",
    "A Pandas Series a one-dimensional labeled array capable of holding data of any type (integer, string, float, python objects, etc.). It is a generalization of a NumPy array.\n",
    "\n",
    "In addition to elements, every series includes an <b>index</b>."
   ]
  },
  {
   "cell_type": "code",
   "execution_count": 12,
   "metadata": {},
   "outputs": [
    {
     "data": {
      "text/plain": [
       "0    1\n",
       "1    2\n",
       "2    3\n",
       "dtype: int64"
      ]
     },
     "execution_count": 12,
     "metadata": {},
     "output_type": "execute_result"
    }
   ],
   "source": [
    "x = pd.Series([1, 2, 3])\n",
    "x"
   ]
  },
  {
   "cell_type": "markdown",
   "metadata": {},
   "source": [
    "A series can be indexed in all of the same ways as a NumPy array, but also by index values.\n",
    "\n",
    "This means a series can also be used like an ordered dictionary.\n",
    "\n",
    "\n",
    "So, can you add column/row names to a np.array? See [here](https://stackoverflow.com/questions/24168569/how-to-add-names-to-a-numpy-array-without-changing-its-dimension)"
   ]
  },
  {
   "cell_type": "code",
   "execution_count": 13,
   "metadata": {},
   "outputs": [
    {
     "data": {
      "text/plain": [
       "0    1\n",
       "1    2\n",
       "dtype: int64"
      ]
     },
     "execution_count": 13,
     "metadata": {},
     "output_type": "execute_result"
    }
   ],
   "source": [
    "x[0:2]"
   ]
  },
  {
   "cell_type": "code",
   "execution_count": 14,
   "metadata": {},
   "outputs": [
    {
     "data": {
      "text/plain": [
       "a    1\n",
       "b    2\n",
       "c    3\n",
       "dtype: int64"
      ]
     },
     "execution_count": 14,
     "metadata": {},
     "output_type": "execute_result"
    }
   ],
   "source": [
    "x = pd.Series([1, 2, 3], index = [\"a\", \"b\", \"c\"])\n",
    "x"
   ]
  },
  {
   "cell_type": "code",
   "execution_count": 15,
   "metadata": {},
   "outputs": [
    {
     "data": {
      "text/plain": [
       "1"
      ]
     },
     "execution_count": 15,
     "metadata": {},
     "output_type": "execute_result"
    }
   ],
   "source": [
    "x[\"a\"]"
   ]
  },
  {
   "cell_type": "code",
   "execution_count": 18,
   "metadata": {},
   "outputs": [
    {
     "data": {
      "text/plain": [
       "1"
      ]
     },
     "execution_count": 18,
     "metadata": {},
     "output_type": "execute_result"
    }
   ],
   "source": [
    "x[0]"
   ]
  },
  {
   "cell_type": "code",
   "execution_count": 20,
   "metadata": {},
   "outputs": [
    {
     "data": {
      "text/plain": [
       "a    1\n",
       "b    2\n",
       "dtype: int64"
      ]
     },
     "execution_count": 20,
     "metadata": {},
     "output_type": "execute_result"
    }
   ],
   "source": [
    "x[\"a\":\"b\"] # careful, this is inclusive!"
   ]
  },
  {
   "cell_type": "code",
   "execution_count": 24,
   "metadata": {},
   "outputs": [
    {
     "data": {
      "text/plain": [
       "Series([], dtype: int64)"
      ]
     },
     "execution_count": 24,
     "metadata": {},
     "output_type": "execute_result"
    }
   ],
   "source": [
    "# x = pd.Series([1, 2, 3], index = [\"c\", \"b\", \"a\"])\n",
    "# x[\"a\":\"c\"]"
   ]
  },
  {
   "cell_type": "markdown",
   "metadata": {},
   "source": [
    "What if a series has integer indexes?"
   ]
  },
  {
   "cell_type": "code",
   "execution_count": 34,
   "metadata": {},
   "outputs": [
    {
     "data": {
      "text/plain": [
       "10    1\n",
       "12    2\n",
       "14    3\n",
       "dtype: int64"
      ]
     },
     "execution_count": 34,
     "metadata": {},
     "output_type": "execute_result"
    }
   ],
   "source": [
    "y = pd.Series([1, 2, 3], index = [10, 12, 14])\n",
    "y"
   ]
  },
  {
   "cell_type": "code",
   "execution_count": 32,
   "metadata": {},
   "outputs": [
    {
     "data": {
      "text/plain": [
       "1"
      ]
     },
     "execution_count": 32,
     "metadata": {},
     "output_type": "execute_result"
    }
   ],
   "source": [
    "# y[1] # ambiguous\n",
    "# y[10]"
   ]
  },
  {
   "cell_type": "markdown",
   "metadata": {},
   "source": [
    "For a indexing series (and as we'll see later, also data frames):\n",
    "\n",
    "* `[ ]` is by position, name, or condition. **Exception:** for an integer index it's by name or condition only.\n",
    "* `.iloc[ ]` is by position\n",
    "* `.loc[ ]` is by name or condition"
   ]
  },
  {
   "cell_type": "code",
   "execution_count": 33,
   "metadata": {},
   "outputs": [
    {
     "data": {
      "text/plain": [
       "1"
      ]
     },
     "execution_count": 33,
     "metadata": {},
     "output_type": "execute_result"
    }
   ],
   "source": [
    "y.iloc[0]"
   ]
  },
  {
   "cell_type": "code",
   "execution_count": 35,
   "metadata": {},
   "outputs": [
    {
     "data": {
      "text/plain": [
       "1"
      ]
     },
     "execution_count": 35,
     "metadata": {},
     "output_type": "execute_result"
    }
   ],
   "source": [
    "y.loc[10]"
   ]
  },
  {
   "cell_type": "code",
   "execution_count": 37,
   "metadata": {},
   "outputs": [
    {
     "data": {
      "text/plain": [
       " 0.0+3.0j    1\n",
       " 0.0+2.0j    2\n",
       " 0.0+1.0j    3\n",
       "-0.0-1.0j    4\n",
       "dtype: int64"
      ]
     },
     "execution_count": 37,
     "metadata": {},
     "output_type": "execute_result"
    }
   ],
   "source": [
    "z = pd.Series([1, 2, 3, 4], index = [3j, 2j, 1j, -1j])\n",
    "z"
   ]
  },
  {
   "cell_type": "code",
   "execution_count": 40,
   "metadata": {},
   "outputs": [
    {
     "data": {
      "text/plain": [
       "4"
      ]
     },
     "execution_count": 40,
     "metadata": {},
     "output_type": "execute_result"
    }
   ],
   "source": [
    "z[3j]\n",
    "z[-1j]"
   ]
  },
  {
   "cell_type": "code",
   "execution_count": 39,
   "metadata": {},
   "outputs": [
    {
     "data": {
      "text/plain": [
       "Index([3j, 2j, 1j, (-0-1j)], dtype='object')"
      ]
     },
     "execution_count": 39,
     "metadata": {},
     "output_type": "execute_result"
    }
   ],
   "source": [
    "z.index"
   ]
  },
  {
   "cell_type": "code",
   "execution_count": 41,
   "metadata": {},
   "outputs": [],
   "source": [
    "z.index = [0, 1, 2, 3] # change index"
   ]
  },
  {
   "cell_type": "code",
   "execution_count": 42,
   "metadata": {},
   "outputs": [
    {
     "data": {
      "text/plain": [
       "0    1\n",
       "1    2\n",
       "2    3\n",
       "3    4\n",
       "dtype: int64"
      ]
     },
     "execution_count": 42,
     "metadata": {},
     "output_type": "execute_result"
    }
   ],
   "source": [
    "z"
   ]
  },
  {
   "cell_type": "markdown",
   "metadata": {},
   "source": [
    "### Data Frames\n",
    "\n",
    "A data frame is a table or a two-dimensional array-like structure in which each column contains values of one variable and each row contains one set of values from each column.\n",
    "\n",
    "It represents tabular data as a collection of Series."
   ]
  },
  {
   "cell_type": "code",
   "execution_count": 43,
   "metadata": {},
   "outputs": [
    {
     "data": {
      "text/html": [
       "<div>\n",
       "<style scoped>\n",
       "    .dataframe tbody tr th:only-of-type {\n",
       "        vertical-align: middle;\n",
       "    }\n",
       "\n",
       "    .dataframe tbody tr th {\n",
       "        vertical-align: top;\n",
       "    }\n",
       "\n",
       "    .dataframe thead th {\n",
       "        text-align: right;\n",
       "    }\n",
       "</style>\n",
       "<table border=\"1\" class=\"dataframe\">\n",
       "  <thead>\n",
       "    <tr style=\"text-align: right;\">\n",
       "      <th></th>\n",
       "      <th>x</th>\n",
       "      <th>y</th>\n",
       "    </tr>\n",
       "  </thead>\n",
       "  <tbody>\n",
       "    <tr>\n",
       "      <th>0</th>\n",
       "      <td>1</td>\n",
       "      <td>a</td>\n",
       "    </tr>\n",
       "    <tr>\n",
       "      <th>1</th>\n",
       "      <td>2</td>\n",
       "      <td>b</td>\n",
       "    </tr>\n",
       "    <tr>\n",
       "      <th>2</th>\n",
       "      <td>3</td>\n",
       "      <td>c</td>\n",
       "    </tr>\n",
       "  </tbody>\n",
       "</table>\n",
       "</div>"
      ],
      "text/plain": [
       "   x  y\n",
       "0  1  a\n",
       "1  2  b\n",
       "2  3  c"
      ]
     },
     "execution_count": 43,
     "metadata": {},
     "output_type": "execute_result"
    }
   ],
   "source": [
    "df = pd.DataFrame({\"x\": [1, 2, 3], \"y\": [\"a\", \"b\", \"c\"]})\n",
    "df"
   ]
  },
  {
   "cell_type": "markdown",
   "metadata": {},
   "source": [
    "Data frames support the similar indexing methods as series. However, for indexing with `[ ]`,\n",
    "\n",
    "* Scalar values get columns by name\n",
    "* Conditions or slices get rows"
   ]
  },
  {
   "cell_type": "code",
   "execution_count": 55,
   "metadata": {},
   "outputs": [
    {
     "data": {
      "text/plain": [
       "1"
      ]
     },
     "execution_count": 55,
     "metadata": {},
     "output_type": "execute_result"
    }
   ],
   "source": [
    "df.iloc[0, 0]"
   ]
  },
  {
   "cell_type": "code",
   "execution_count": 47,
   "metadata": {},
   "outputs": [
    {
     "data": {
      "text/plain": [
       "0    1\n",
       "1    2\n",
       "2    3\n",
       "Name: x, dtype: int64"
      ]
     },
     "execution_count": 47,
     "metadata": {},
     "output_type": "execute_result"
    }
   ],
   "source": [
    "df[\"x\"]"
   ]
  },
  {
   "cell_type": "code",
   "execution_count": 48,
   "metadata": {},
   "outputs": [
    {
     "data": {
      "text/plain": [
       "0    a\n",
       "1    b\n",
       "2    c\n",
       "Name: y, dtype: object"
      ]
     },
     "execution_count": 48,
     "metadata": {},
     "output_type": "execute_result"
    }
   ],
   "source": [
    "df[\"y\"]"
   ]
  },
  {
   "cell_type": "code",
   "execution_count": 49,
   "metadata": {},
   "outputs": [
    {
     "ename": "KeyError",
     "evalue": "0",
     "output_type": "error",
     "traceback": [
      "\u001b[0;31m---------------------------------------------------------------------------\u001b[0m",
      "\u001b[0;31mKeyError\u001b[0m                                  Traceback (most recent call last)",
      "\u001b[0;32m~/opt/anaconda3/lib/python3.8/site-packages/pandas/core/indexes/base.py\u001b[0m in \u001b[0;36mget_loc\u001b[0;34m(self, key, method, tolerance)\u001b[0m\n\u001b[1;32m   3079\u001b[0m             \u001b[0;32mtry\u001b[0m\u001b[0;34m:\u001b[0m\u001b[0;34m\u001b[0m\u001b[0;34m\u001b[0m\u001b[0m\n\u001b[0;32m-> 3080\u001b[0;31m                 \u001b[0;32mreturn\u001b[0m \u001b[0mself\u001b[0m\u001b[0;34m.\u001b[0m\u001b[0m_engine\u001b[0m\u001b[0;34m.\u001b[0m\u001b[0mget_loc\u001b[0m\u001b[0;34m(\u001b[0m\u001b[0mcasted_key\u001b[0m\u001b[0;34m)\u001b[0m\u001b[0;34m\u001b[0m\u001b[0;34m\u001b[0m\u001b[0m\n\u001b[0m\u001b[1;32m   3081\u001b[0m             \u001b[0;32mexcept\u001b[0m \u001b[0mKeyError\u001b[0m \u001b[0;32mas\u001b[0m \u001b[0merr\u001b[0m\u001b[0;34m:\u001b[0m\u001b[0;34m\u001b[0m\u001b[0;34m\u001b[0m\u001b[0m\n",
      "\u001b[0;32mpandas/_libs/index.pyx\u001b[0m in \u001b[0;36mpandas._libs.index.IndexEngine.get_loc\u001b[0;34m()\u001b[0m\n",
      "\u001b[0;32mpandas/_libs/index.pyx\u001b[0m in \u001b[0;36mpandas._libs.index.IndexEngine.get_loc\u001b[0;34m()\u001b[0m\n",
      "\u001b[0;32mpandas/_libs/hashtable_class_helper.pxi\u001b[0m in \u001b[0;36mpandas._libs.hashtable.PyObjectHashTable.get_item\u001b[0;34m()\u001b[0m\n",
      "\u001b[0;32mpandas/_libs/hashtable_class_helper.pxi\u001b[0m in \u001b[0;36mpandas._libs.hashtable.PyObjectHashTable.get_item\u001b[0;34m()\u001b[0m\n",
      "\u001b[0;31mKeyError\u001b[0m: 0",
      "\nThe above exception was the direct cause of the following exception:\n",
      "\u001b[0;31mKeyError\u001b[0m                                  Traceback (most recent call last)",
      "\u001b[0;32m<ipython-input-49-868521478e87>\u001b[0m in \u001b[0;36m<module>\u001b[0;34m\u001b[0m\n\u001b[0;32m----> 1\u001b[0;31m \u001b[0mdf\u001b[0m\u001b[0;34m[\u001b[0m\u001b[0;36m0\u001b[0m\u001b[0;34m]\u001b[0m \u001b[0;31m# scalars always look up columns by name\u001b[0m\u001b[0;34m\u001b[0m\u001b[0;34m\u001b[0m\u001b[0m\n\u001b[0m",
      "\u001b[0;32m~/opt/anaconda3/lib/python3.8/site-packages/pandas/core/frame.py\u001b[0m in \u001b[0;36m__getitem__\u001b[0;34m(self, key)\u001b[0m\n\u001b[1;32m   3022\u001b[0m             \u001b[0;32mif\u001b[0m \u001b[0mself\u001b[0m\u001b[0;34m.\u001b[0m\u001b[0mcolumns\u001b[0m\u001b[0;34m.\u001b[0m\u001b[0mnlevels\u001b[0m \u001b[0;34m>\u001b[0m \u001b[0;36m1\u001b[0m\u001b[0;34m:\u001b[0m\u001b[0;34m\u001b[0m\u001b[0;34m\u001b[0m\u001b[0m\n\u001b[1;32m   3023\u001b[0m                 \u001b[0;32mreturn\u001b[0m \u001b[0mself\u001b[0m\u001b[0;34m.\u001b[0m\u001b[0m_getitem_multilevel\u001b[0m\u001b[0;34m(\u001b[0m\u001b[0mkey\u001b[0m\u001b[0;34m)\u001b[0m\u001b[0;34m\u001b[0m\u001b[0;34m\u001b[0m\u001b[0m\n\u001b[0;32m-> 3024\u001b[0;31m             \u001b[0mindexer\u001b[0m \u001b[0;34m=\u001b[0m \u001b[0mself\u001b[0m\u001b[0;34m.\u001b[0m\u001b[0mcolumns\u001b[0m\u001b[0;34m.\u001b[0m\u001b[0mget_loc\u001b[0m\u001b[0;34m(\u001b[0m\u001b[0mkey\u001b[0m\u001b[0;34m)\u001b[0m\u001b[0;34m\u001b[0m\u001b[0;34m\u001b[0m\u001b[0m\n\u001b[0m\u001b[1;32m   3025\u001b[0m             \u001b[0;32mif\u001b[0m \u001b[0mis_integer\u001b[0m\u001b[0;34m(\u001b[0m\u001b[0mindexer\u001b[0m\u001b[0;34m)\u001b[0m\u001b[0;34m:\u001b[0m\u001b[0;34m\u001b[0m\u001b[0;34m\u001b[0m\u001b[0m\n\u001b[1;32m   3026\u001b[0m                 \u001b[0mindexer\u001b[0m \u001b[0;34m=\u001b[0m \u001b[0;34m[\u001b[0m\u001b[0mindexer\u001b[0m\u001b[0;34m]\u001b[0m\u001b[0;34m\u001b[0m\u001b[0;34m\u001b[0m\u001b[0m\n",
      "\u001b[0;32m~/opt/anaconda3/lib/python3.8/site-packages/pandas/core/indexes/base.py\u001b[0m in \u001b[0;36mget_loc\u001b[0;34m(self, key, method, tolerance)\u001b[0m\n\u001b[1;32m   3080\u001b[0m                 \u001b[0;32mreturn\u001b[0m \u001b[0mself\u001b[0m\u001b[0;34m.\u001b[0m\u001b[0m_engine\u001b[0m\u001b[0;34m.\u001b[0m\u001b[0mget_loc\u001b[0m\u001b[0;34m(\u001b[0m\u001b[0mcasted_key\u001b[0m\u001b[0;34m)\u001b[0m\u001b[0;34m\u001b[0m\u001b[0;34m\u001b[0m\u001b[0m\n\u001b[1;32m   3081\u001b[0m             \u001b[0;32mexcept\u001b[0m \u001b[0mKeyError\u001b[0m \u001b[0;32mas\u001b[0m \u001b[0merr\u001b[0m\u001b[0;34m:\u001b[0m\u001b[0;34m\u001b[0m\u001b[0;34m\u001b[0m\u001b[0m\n\u001b[0;32m-> 3082\u001b[0;31m                 \u001b[0;32mraise\u001b[0m \u001b[0mKeyError\u001b[0m\u001b[0;34m(\u001b[0m\u001b[0mkey\u001b[0m\u001b[0;34m)\u001b[0m \u001b[0;32mfrom\u001b[0m \u001b[0merr\u001b[0m\u001b[0;34m\u001b[0m\u001b[0;34m\u001b[0m\u001b[0m\n\u001b[0m\u001b[1;32m   3083\u001b[0m \u001b[0;34m\u001b[0m\u001b[0m\n\u001b[1;32m   3084\u001b[0m         \u001b[0;32mif\u001b[0m \u001b[0mtolerance\u001b[0m \u001b[0;32mis\u001b[0m \u001b[0;32mnot\u001b[0m \u001b[0;32mNone\u001b[0m\u001b[0;34m:\u001b[0m\u001b[0;34m\u001b[0m\u001b[0;34m\u001b[0m\u001b[0m\n",
      "\u001b[0;31mKeyError\u001b[0m: 0"
     ]
    }
   ],
   "source": [
    "df[0] # scalars always look up columns by name"
   ]
  },
  {
   "cell_type": "code",
   "execution_count": 50,
   "metadata": {},
   "outputs": [
    {
     "data": {
      "text/html": [
       "<div>\n",
       "<style scoped>\n",
       "    .dataframe tbody tr th:only-of-type {\n",
       "        vertical-align: middle;\n",
       "    }\n",
       "\n",
       "    .dataframe tbody tr th {\n",
       "        vertical-align: top;\n",
       "    }\n",
       "\n",
       "    .dataframe thead th {\n",
       "        text-align: right;\n",
       "    }\n",
       "</style>\n",
       "<table border=\"1\" class=\"dataframe\">\n",
       "  <thead>\n",
       "    <tr style=\"text-align: right;\">\n",
       "      <th></th>\n",
       "      <th>x</th>\n",
       "      <th>y</th>\n",
       "    </tr>\n",
       "  </thead>\n",
       "  <tbody>\n",
       "    <tr>\n",
       "      <th>0</th>\n",
       "      <td>1</td>\n",
       "      <td>a</td>\n",
       "    </tr>\n",
       "    <tr>\n",
       "      <th>1</th>\n",
       "      <td>2</td>\n",
       "      <td>b</td>\n",
       "    </tr>\n",
       "    <tr>\n",
       "      <th>2</th>\n",
       "      <td>3</td>\n",
       "      <td>c</td>\n",
       "    </tr>\n",
       "  </tbody>\n",
       "</table>\n",
       "</div>"
      ],
      "text/plain": [
       "   x  y\n",
       "0  1  a\n",
       "1  2  b\n",
       "2  3  c"
      ]
     },
     "execution_count": 50,
     "metadata": {},
     "output_type": "execute_result"
    }
   ],
   "source": [
    "# condition\n",
    "df.loc[:, \"x\"]"
   ]
  },
  {
   "cell_type": "code",
   "execution_count": 60,
   "metadata": {},
   "outputs": [
    {
     "data": {
      "text/html": [
       "<div>\n",
       "<style scoped>\n",
       "    .dataframe tbody tr th:only-of-type {\n",
       "        vertical-align: middle;\n",
       "    }\n",
       "\n",
       "    .dataframe tbody tr th {\n",
       "        vertical-align: top;\n",
       "    }\n",
       "\n",
       "    .dataframe thead th {\n",
       "        text-align: right;\n",
       "    }\n",
       "</style>\n",
       "<table border=\"1\" class=\"dataframe\">\n",
       "  <thead>\n",
       "    <tr style=\"text-align: right;\">\n",
       "      <th></th>\n",
       "      <th>x</th>\n",
       "      <th>y</th>\n",
       "    </tr>\n",
       "  </thead>\n",
       "  <tbody>\n",
       "    <tr>\n",
       "      <th>2</th>\n",
       "      <td>3</td>\n",
       "      <td>c</td>\n",
       "    </tr>\n",
       "  </tbody>\n",
       "</table>\n",
       "</div>"
      ],
      "text/plain": [
       "   x  y\n",
       "2  3  c"
      ]
     },
     "execution_count": 60,
     "metadata": {},
     "output_type": "execute_result"
    }
   ],
   "source": [
    "df[df[\"x\"] > 2] "
   ]
  },
  {
   "cell_type": "code",
   "execution_count": 61,
   "metadata": {},
   "outputs": [
    {
     "data": {
      "text/html": [
       "<div>\n",
       "<style scoped>\n",
       "    .dataframe tbody tr th:only-of-type {\n",
       "        vertical-align: middle;\n",
       "    }\n",
       "\n",
       "    .dataframe tbody tr th {\n",
       "        vertical-align: top;\n",
       "    }\n",
       "\n",
       "    .dataframe thead th {\n",
       "        text-align: right;\n",
       "    }\n",
       "</style>\n",
       "<table border=\"1\" class=\"dataframe\">\n",
       "  <thead>\n",
       "    <tr style=\"text-align: right;\">\n",
       "      <th></th>\n",
       "      <th>x</th>\n",
       "      <th>y</th>\n",
       "    </tr>\n",
       "  </thead>\n",
       "  <tbody>\n",
       "    <tr>\n",
       "      <th>2</th>\n",
       "      <td>3</td>\n",
       "      <td>c</td>\n",
       "    </tr>\n",
       "  </tbody>\n",
       "</table>\n",
       "</div>"
      ],
      "text/plain": [
       "   x  y\n",
       "2  3  c"
      ]
     },
     "execution_count": 61,
     "metadata": {},
     "output_type": "execute_result"
    }
   ],
   "source": [
    "df.loc[df[\"x\"] > 2, :]"
   ]
  },
  {
   "cell_type": "markdown",
   "metadata": {},
   "source": [
    "More indexing and selection data using pandas can be found [here](https://pandas.pydata.org/pandas-docs/stable/user_guide/indexing.html#indexing-slicing-with-labels)"
   ]
  },
  {
   "cell_type": "code",
   "execution_count": 51,
   "metadata": {},
   "outputs": [
    {
     "data": {
      "text/plain": [
       "(3, 2)"
      ]
     },
     "execution_count": 51,
     "metadata": {},
     "output_type": "execute_result"
    }
   ],
   "source": [
    "df.shape"
   ]
  },
  {
   "cell_type": "code",
   "execution_count": 52,
   "metadata": {},
   "outputs": [
    {
     "data": {
      "text/plain": [
       "6"
      ]
     },
     "execution_count": 52,
     "metadata": {},
     "output_type": "execute_result"
    }
   ],
   "source": [
    "df.size"
   ]
  },
  {
   "cell_type": "code",
   "execution_count": 67,
   "metadata": {},
   "outputs": [
    {
     "data": {
      "text/plain": [
       "pandas.core.frame.DataFrame"
      ]
     },
     "execution_count": 67,
     "metadata": {},
     "output_type": "execute_result"
    }
   ],
   "source": [
    "type(df)"
   ]
  },
  {
   "cell_type": "code",
   "execution_count": 53,
   "metadata": {},
   "outputs": [
    {
     "data": {
      "text/plain": [
       "x     int64\n",
       "y    object\n",
       "dtype: object"
      ]
     },
     "execution_count": 53,
     "metadata": {},
     "output_type": "execute_result"
    }
   ],
   "source": [
    "df.dtypes"
   ]
  },
  {
   "cell_type": "markdown",
   "metadata": {},
   "source": [
    "### Missing Data\n",
    "\n",
    "Pandas represents missing data with `NaN` and `None`, but these values do not exclusively mean missing data. For instance, `NaN` stands for \"Not a Number\" and is also the result of undefined computations. Pay attention to your data and code to determine whether values are missing or have some other meaning.\n",
    "\n",
    "You can create `NaN` values with NumPy."
   ]
  },
  {
   "cell_type": "code",
   "execution_count": 54,
   "metadata": {},
   "outputs": [
    {
     "data": {
      "text/plain": [
       "nan"
      ]
     },
     "execution_count": 54,
     "metadata": {},
     "output_type": "execute_result"
    }
   ],
   "source": [
    "np.nan"
   ]
  },
  {
   "cell_type": "code",
   "execution_count": 55,
   "metadata": {},
   "outputs": [
    {
     "data": {
      "text/html": [
       "<div>\n",
       "<style scoped>\n",
       "    .dataframe tbody tr th:only-of-type {\n",
       "        vertical-align: middle;\n",
       "    }\n",
       "\n",
       "    .dataframe tbody tr th {\n",
       "        vertical-align: top;\n",
       "    }\n",
       "\n",
       "    .dataframe thead th {\n",
       "        text-align: right;\n",
       "    }\n",
       "</style>\n",
       "<table border=\"1\" class=\"dataframe\">\n",
       "  <thead>\n",
       "    <tr style=\"text-align: right;\">\n",
       "      <th></th>\n",
       "      <th>x</th>\n",
       "      <th>y</th>\n",
       "      <th>z</th>\n",
       "    </tr>\n",
       "  </thead>\n",
       "  <tbody>\n",
       "    <tr>\n",
       "      <th>0</th>\n",
       "      <td>1.0</td>\n",
       "      <td>0</td>\n",
       "      <td>x</td>\n",
       "    </tr>\n",
       "    <tr>\n",
       "      <th>1</th>\n",
       "      <td>NaN</td>\n",
       "      <td>1</td>\n",
       "      <td>y</td>\n",
       "    </tr>\n",
       "    <tr>\n",
       "      <th>2</th>\n",
       "      <td>2.0</td>\n",
       "      <td>2</td>\n",
       "      <td>None</td>\n",
       "    </tr>\n",
       "  </tbody>\n",
       "</table>\n",
       "</div>"
      ],
      "text/plain": [
       "     x  y     z\n",
       "0  1.0  0     x\n",
       "1  NaN  1     y\n",
       "2  2.0  2  None"
      ]
     },
     "execution_count": 55,
     "metadata": {},
     "output_type": "execute_result"
    }
   ],
   "source": [
    "df = pd.DataFrame({\"x\": [1, np.nan, 2], \"y\": np.arange(3), \"z\": [\"x\", \"y\", None]})\n",
    "df"
   ]
  },
  {
   "cell_type": "markdown",
   "metadata": {},
   "source": [
    "Use the `.isna()` or `.isnull()` methods to detect missing values."
   ]
  },
  {
   "cell_type": "code",
   "execution_count": 56,
   "metadata": {},
   "outputs": [
    {
     "data": {
      "text/html": [
       "<div>\n",
       "<style scoped>\n",
       "    .dataframe tbody tr th:only-of-type {\n",
       "        vertical-align: middle;\n",
       "    }\n",
       "\n",
       "    .dataframe tbody tr th {\n",
       "        vertical-align: top;\n",
       "    }\n",
       "\n",
       "    .dataframe thead th {\n",
       "        text-align: right;\n",
       "    }\n",
       "</style>\n",
       "<table border=\"1\" class=\"dataframe\">\n",
       "  <thead>\n",
       "    <tr style=\"text-align: right;\">\n",
       "      <th></th>\n",
       "      <th>x</th>\n",
       "      <th>y</th>\n",
       "      <th>z</th>\n",
       "    </tr>\n",
       "  </thead>\n",
       "  <tbody>\n",
       "    <tr>\n",
       "      <th>0</th>\n",
       "      <td>False</td>\n",
       "      <td>False</td>\n",
       "      <td>False</td>\n",
       "    </tr>\n",
       "    <tr>\n",
       "      <th>1</th>\n",
       "      <td>True</td>\n",
       "      <td>False</td>\n",
       "      <td>False</td>\n",
       "    </tr>\n",
       "    <tr>\n",
       "      <th>2</th>\n",
       "      <td>False</td>\n",
       "      <td>False</td>\n",
       "      <td>True</td>\n",
       "    </tr>\n",
       "  </tbody>\n",
       "</table>\n",
       "</div>"
      ],
      "text/plain": [
       "       x      y      z\n",
       "0  False  False  False\n",
       "1   True  False  False\n",
       "2  False  False   True"
      ]
     },
     "execution_count": 56,
     "metadata": {},
     "output_type": "execute_result"
    }
   ],
   "source": [
    "df.isna()"
   ]
  },
  {
   "cell_type": "code",
   "execution_count": 57,
   "metadata": {},
   "outputs": [
    {
     "data": {
      "text/html": [
       "<div>\n",
       "<style scoped>\n",
       "    .dataframe tbody tr th:only-of-type {\n",
       "        vertical-align: middle;\n",
       "    }\n",
       "\n",
       "    .dataframe tbody tr th {\n",
       "        vertical-align: top;\n",
       "    }\n",
       "\n",
       "    .dataframe thead th {\n",
       "        text-align: right;\n",
       "    }\n",
       "</style>\n",
       "<table border=\"1\" class=\"dataframe\">\n",
       "  <thead>\n",
       "    <tr style=\"text-align: right;\">\n",
       "      <th></th>\n",
       "      <th>x</th>\n",
       "      <th>y</th>\n",
       "      <th>z</th>\n",
       "    </tr>\n",
       "  </thead>\n",
       "  <tbody>\n",
       "    <tr>\n",
       "      <th>0</th>\n",
       "      <td>False</td>\n",
       "      <td>False</td>\n",
       "      <td>False</td>\n",
       "    </tr>\n",
       "    <tr>\n",
       "      <th>1</th>\n",
       "      <td>True</td>\n",
       "      <td>False</td>\n",
       "      <td>False</td>\n",
       "    </tr>\n",
       "    <tr>\n",
       "      <th>2</th>\n",
       "      <td>False</td>\n",
       "      <td>False</td>\n",
       "      <td>True</td>\n",
       "    </tr>\n",
       "  </tbody>\n",
       "</table>\n",
       "</div>"
      ],
      "text/plain": [
       "       x      y      z\n",
       "0  False  False  False\n",
       "1   True  False  False\n",
       "2  False  False   True"
      ]
     },
     "execution_count": 57,
     "metadata": {},
     "output_type": "execute_result"
    }
   ],
   "source": [
    "df.isnull()"
   ]
  },
  {
   "cell_type": "code",
   "execution_count": 58,
   "metadata": {},
   "outputs": [
    {
     "name": "stdout",
     "output_type": "stream",
     "text": [
      "<class 'pandas.core.frame.DataFrame'>\n",
      "RangeIndex: 3 entries, 0 to 2\n",
      "Data columns (total 3 columns):\n",
      " #   Column  Non-Null Count  Dtype  \n",
      "---  ------  --------------  -----  \n",
      " 0   x       2 non-null      float64\n",
      " 1   y       3 non-null      int64  \n",
      " 2   z       2 non-null      object \n",
      "dtypes: float64(1), int64(1), object(1)\n",
      "memory usage: 200.0+ bytes\n"
     ]
    }
   ],
   "source": [
    "df.info()"
   ]
  },
  {
   "cell_type": "code",
   "execution_count": 69,
   "metadata": {},
   "outputs": [
    {
     "data": {
      "text/plain": [
       "7"
      ]
     },
     "execution_count": 69,
     "metadata": {},
     "output_type": "execute_result"
    }
   ],
   "source": [
    "(~df.isna()).sum().sum() # number not missing"
   ]
  },
  {
   "cell_type": "code",
   "execution_count": 70,
   "metadata": {},
   "outputs": [
    {
     "data": {
      "text/plain": [
       "7"
      ]
     },
     "execution_count": 70,
     "metadata": {},
     "output_type": "execute_result"
    }
   ],
   "source": [
    "df.notna().sum().sum() # number not missing"
   ]
  },
  {
   "cell_type": "code",
   "execution_count": 72,
   "metadata": {},
   "outputs": [
    {
     "data": {
      "text/plain": [
       "6.0"
      ]
     },
     "execution_count": 72,
     "metadata": {},
     "output_type": "execute_result"
    }
   ],
   "source": [
    "df.sum().sum()"
   ]
  },
  {
   "cell_type": "markdown",
   "metadata": {},
   "source": [
    "### Data Alignment\n",
    "\n",
    "Pandas supports vectorized operations, but elements are <b>automatically</b> aligned by index. **Beware!!** This is a major difference compared to R."
   ]
  },
  {
   "cell_type": "code",
   "execution_count": 78,
   "metadata": {},
   "outputs": [
    {
     "data": {
      "text/plain": [
       "a    1\n",
       "b    2\n",
       "c    3\n",
       "dtype: int64"
      ]
     },
     "execution_count": 78,
     "metadata": {},
     "output_type": "execute_result"
    }
   ],
   "source": [
    "x = pd.Series([1, 2, 3], index = [\"a\", \"b\", \"c\"])\n",
    "y = pd.Series([1, 2, 3, 1], index = [\"b\", \"a\", \"d\", \"c\"])\n",
    "\n",
    "x"
   ]
  },
  {
   "cell_type": "code",
   "execution_count": 74,
   "metadata": {},
   "outputs": [
    {
     "data": {
      "text/plain": [
       "b    1\n",
       "a    2\n",
       "d    3\n",
       "c    1\n",
       "dtype: int64"
      ]
     },
     "execution_count": 74,
     "metadata": {},
     "output_type": "execute_result"
    }
   ],
   "source": [
    "y"
   ]
  },
  {
   "cell_type": "code",
   "execution_count": 75,
   "metadata": {},
   "outputs": [
    {
     "data": {
      "text/plain": [
       "a    2.0\n",
       "b    2.0\n",
       "c    3.0\n",
       "d    NaN\n",
       "dtype: float64"
      ]
     },
     "execution_count": 75,
     "metadata": {},
     "output_type": "execute_result"
    }
   ],
   "source": [
    "x * y"
   ]
  },
  {
   "cell_type": "markdown",
   "metadata": {},
   "source": [
    "You can use the `.reset_index()` method to reset the indexes on a series or data frame."
   ]
  },
  {
   "cell_type": "code",
   "execution_count": 79,
   "metadata": {},
   "outputs": [
    {
     "data": {
      "text/html": [
       "<div>\n",
       "<style scoped>\n",
       "    .dataframe tbody tr th:only-of-type {\n",
       "        vertical-align: middle;\n",
       "    }\n",
       "\n",
       "    .dataframe tbody tr th {\n",
       "        vertical-align: top;\n",
       "    }\n",
       "\n",
       "    .dataframe thead th {\n",
       "        text-align: right;\n",
       "    }\n",
       "</style>\n",
       "<table border=\"1\" class=\"dataframe\">\n",
       "  <thead>\n",
       "    <tr style=\"text-align: right;\">\n",
       "      <th></th>\n",
       "      <th>index</th>\n",
       "      <th>0</th>\n",
       "    </tr>\n",
       "  </thead>\n",
       "  <tbody>\n",
       "    <tr>\n",
       "      <th>0</th>\n",
       "      <td>a</td>\n",
       "      <td>1</td>\n",
       "    </tr>\n",
       "    <tr>\n",
       "      <th>1</th>\n",
       "      <td>b</td>\n",
       "      <td>2</td>\n",
       "    </tr>\n",
       "    <tr>\n",
       "      <th>2</th>\n",
       "      <td>c</td>\n",
       "      <td>3</td>\n",
       "    </tr>\n",
       "  </tbody>\n",
       "</table>\n",
       "</div>"
      ],
      "text/plain": [
       "  index  0\n",
       "0     a  1\n",
       "1     b  2\n",
       "2     c  3"
      ]
     },
     "execution_count": 79,
     "metadata": {},
     "output_type": "execute_result"
    }
   ],
   "source": [
    "x.reset_index() # keep old index as a new column\n",
    "\n",
    "# x.reset_index(drop = True) # throw away the old index"
   ]
  },
  {
   "cell_type": "markdown",
   "metadata": {},
   "source": [
    "### Reading Data\n",
    "\n",
    "Pandas provides functions for reading (and writing) a variety of common formats. Most of their names begin with `read_`. For instance, we can read the dogs data from a CSV file:"
   ]
  },
  {
   "cell_type": "code",
   "execution_count": 82,
   "metadata": {},
   "outputs": [],
   "source": [
    "dogs = pd.read_csv(\"dogs_full.csv\")"
   ]
  },
  {
   "cell_type": "code",
   "execution_count": 84,
   "metadata": {
    "scrolled": true
   },
   "outputs": [
    {
     "data": {
      "text/html": [
       "<div>\n",
       "<style scoped>\n",
       "    .dataframe tbody tr th:only-of-type {\n",
       "        vertical-align: middle;\n",
       "    }\n",
       "\n",
       "    .dataframe tbody tr th {\n",
       "        vertical-align: top;\n",
       "    }\n",
       "\n",
       "    .dataframe thead th {\n",
       "        text-align: right;\n",
       "    }\n",
       "</style>\n",
       "<table border=\"1\" class=\"dataframe\">\n",
       "  <thead>\n",
       "    <tr style=\"text-align: right;\">\n",
       "      <th></th>\n",
       "      <th>breed</th>\n",
       "      <th>group</th>\n",
       "      <th>datadog</th>\n",
       "      <th>popularity_all</th>\n",
       "      <th>popularity</th>\n",
       "      <th>lifetime_cost</th>\n",
       "      <th>intelligence_rank</th>\n",
       "      <th>longevity</th>\n",
       "      <th>ailments</th>\n",
       "      <th>price</th>\n",
       "      <th>food_cost</th>\n",
       "      <th>grooming</th>\n",
       "      <th>kids</th>\n",
       "      <th>megarank_kids</th>\n",
       "      <th>megarank</th>\n",
       "      <th>size</th>\n",
       "      <th>weight</th>\n",
       "      <th>height</th>\n",
       "    </tr>\n",
       "  </thead>\n",
       "  <tbody>\n",
       "    <tr>\n",
       "      <th>0</th>\n",
       "      <td>Border Collie</td>\n",
       "      <td>herding</td>\n",
       "      <td>3.64</td>\n",
       "      <td>45</td>\n",
       "      <td>39.0</td>\n",
       "      <td>20143.0</td>\n",
       "      <td>1.0</td>\n",
       "      <td>12.52</td>\n",
       "      <td>2.0</td>\n",
       "      <td>623.0</td>\n",
       "      <td>324.0</td>\n",
       "      <td>weekly</td>\n",
       "      <td>low</td>\n",
       "      <td>1.0</td>\n",
       "      <td>29.0</td>\n",
       "      <td>medium</td>\n",
       "      <td>NaN</td>\n",
       "      <td>20.0</td>\n",
       "    </tr>\n",
       "    <tr>\n",
       "      <th>1</th>\n",
       "      <td>Border Terrier</td>\n",
       "      <td>terrier</td>\n",
       "      <td>3.61</td>\n",
       "      <td>80</td>\n",
       "      <td>61.0</td>\n",
       "      <td>22638.0</td>\n",
       "      <td>30.0</td>\n",
       "      <td>14.00</td>\n",
       "      <td>0.0</td>\n",
       "      <td>833.0</td>\n",
       "      <td>324.0</td>\n",
       "      <td>weekly</td>\n",
       "      <td>high</td>\n",
       "      <td>2.0</td>\n",
       "      <td>1.0</td>\n",
       "      <td>small</td>\n",
       "      <td>13.5</td>\n",
       "      <td>NaN</td>\n",
       "    </tr>\n",
       "    <tr>\n",
       "      <th>2</th>\n",
       "      <td>Brittany</td>\n",
       "      <td>sporting</td>\n",
       "      <td>3.54</td>\n",
       "      <td>30</td>\n",
       "      <td>30.0</td>\n",
       "      <td>22589.0</td>\n",
       "      <td>19.0</td>\n",
       "      <td>12.92</td>\n",
       "      <td>0.0</td>\n",
       "      <td>618.0</td>\n",
       "      <td>466.0</td>\n",
       "      <td>weekly</td>\n",
       "      <td>medium</td>\n",
       "      <td>3.0</td>\n",
       "      <td>11.0</td>\n",
       "      <td>medium</td>\n",
       "      <td>35.0</td>\n",
       "      <td>19.0</td>\n",
       "    </tr>\n",
       "    <tr>\n",
       "      <th>3</th>\n",
       "      <td>Cairn Terrier</td>\n",
       "      <td>terrier</td>\n",
       "      <td>3.53</td>\n",
       "      <td>59</td>\n",
       "      <td>48.0</td>\n",
       "      <td>21992.0</td>\n",
       "      <td>35.0</td>\n",
       "      <td>13.84</td>\n",
       "      <td>2.0</td>\n",
       "      <td>435.0</td>\n",
       "      <td>324.0</td>\n",
       "      <td>weekly</td>\n",
       "      <td>high</td>\n",
       "      <td>4.0</td>\n",
       "      <td>2.0</td>\n",
       "      <td>small</td>\n",
       "      <td>14.0</td>\n",
       "      <td>10.0</td>\n",
       "    </tr>\n",
       "    <tr>\n",
       "      <th>4</th>\n",
       "      <td>Welsh Springer Spaniel</td>\n",
       "      <td>sporting</td>\n",
       "      <td>3.34</td>\n",
       "      <td>130</td>\n",
       "      <td>81.0</td>\n",
       "      <td>20224.0</td>\n",
       "      <td>31.0</td>\n",
       "      <td>12.49</td>\n",
       "      <td>1.0</td>\n",
       "      <td>750.0</td>\n",
       "      <td>324.0</td>\n",
       "      <td>weekly</td>\n",
       "      <td>high</td>\n",
       "      <td>5.0</td>\n",
       "      <td>4.0</td>\n",
       "      <td>medium</td>\n",
       "      <td>NaN</td>\n",
       "      <td>18.0</td>\n",
       "    </tr>\n",
       "    <tr>\n",
       "      <th>5</th>\n",
       "      <td>English Cocker Spaniel</td>\n",
       "      <td>sporting</td>\n",
       "      <td>3.33</td>\n",
       "      <td>63</td>\n",
       "      <td>51.0</td>\n",
       "      <td>18993.0</td>\n",
       "      <td>18.0</td>\n",
       "      <td>11.66</td>\n",
       "      <td>0.0</td>\n",
       "      <td>800.0</td>\n",
       "      <td>324.0</td>\n",
       "      <td>weekly</td>\n",
       "      <td>high</td>\n",
       "      <td>6.0</td>\n",
       "      <td>5.0</td>\n",
       "      <td>medium</td>\n",
       "      <td>30.0</td>\n",
       "      <td>16.0</td>\n",
       "    </tr>\n",
       "  </tbody>\n",
       "</table>\n",
       "</div>"
      ],
      "text/plain": [
       "                    breed     group  datadog  popularity_all  popularity  \\\n",
       "0           Border Collie   herding     3.64              45        39.0   \n",
       "1          Border Terrier   terrier     3.61              80        61.0   \n",
       "2                Brittany  sporting     3.54              30        30.0   \n",
       "3           Cairn Terrier   terrier     3.53              59        48.0   \n",
       "4  Welsh Springer Spaniel  sporting     3.34             130        81.0   \n",
       "5  English Cocker Spaniel  sporting     3.33              63        51.0   \n",
       "\n",
       "   lifetime_cost  intelligence_rank  longevity  ailments  price  food_cost  \\\n",
       "0        20143.0                1.0      12.52       2.0  623.0      324.0   \n",
       "1        22638.0               30.0      14.00       0.0  833.0      324.0   \n",
       "2        22589.0               19.0      12.92       0.0  618.0      466.0   \n",
       "3        21992.0               35.0      13.84       2.0  435.0      324.0   \n",
       "4        20224.0               31.0      12.49       1.0  750.0      324.0   \n",
       "5        18993.0               18.0      11.66       0.0  800.0      324.0   \n",
       "\n",
       "  grooming    kids  megarank_kids  megarank    size  weight  height  \n",
       "0   weekly     low            1.0      29.0  medium     NaN    20.0  \n",
       "1   weekly    high            2.0       1.0   small    13.5     NaN  \n",
       "2   weekly  medium            3.0      11.0  medium    35.0    19.0  \n",
       "3   weekly    high            4.0       2.0   small    14.0    10.0  \n",
       "4   weekly    high            5.0       4.0  medium     NaN    18.0  \n",
       "5   weekly    high            6.0       5.0  medium    30.0    16.0  "
      ]
     },
     "execution_count": 84,
     "metadata": {},
     "output_type": "execute_result"
    }
   ],
   "source": [
    "# dogs.head()\n",
    "dogs.head(n = 6)"
   ]
  },
  {
   "cell_type": "code",
   "execution_count": 85,
   "metadata": {},
   "outputs": [
    {
     "data": {
      "text/html": [
       "<div>\n",
       "<style scoped>\n",
       "    .dataframe tbody tr th:only-of-type {\n",
       "        vertical-align: middle;\n",
       "    }\n",
       "\n",
       "    .dataframe tbody tr th {\n",
       "        vertical-align: top;\n",
       "    }\n",
       "\n",
       "    .dataframe thead th {\n",
       "        text-align: right;\n",
       "    }\n",
       "</style>\n",
       "<table border=\"1\" class=\"dataframe\">\n",
       "  <thead>\n",
       "    <tr style=\"text-align: right;\">\n",
       "      <th></th>\n",
       "      <th>breed</th>\n",
       "      <th>group</th>\n",
       "      <th>datadog</th>\n",
       "      <th>popularity_all</th>\n",
       "      <th>popularity</th>\n",
       "      <th>lifetime_cost</th>\n",
       "      <th>intelligence_rank</th>\n",
       "      <th>longevity</th>\n",
       "      <th>ailments</th>\n",
       "      <th>price</th>\n",
       "      <th>food_cost</th>\n",
       "      <th>grooming</th>\n",
       "      <th>kids</th>\n",
       "      <th>megarank_kids</th>\n",
       "      <th>megarank</th>\n",
       "      <th>size</th>\n",
       "      <th>weight</th>\n",
       "      <th>height</th>\n",
       "    </tr>\n",
       "  </thead>\n",
       "  <tbody>\n",
       "    <tr>\n",
       "      <th>0</th>\n",
       "      <td>Border Collie</td>\n",
       "      <td>herding</td>\n",
       "      <td>3.64</td>\n",
       "      <td>45</td>\n",
       "      <td>39.0</td>\n",
       "      <td>20143.0</td>\n",
       "      <td>1.0</td>\n",
       "      <td>12.52</td>\n",
       "      <td>2.0</td>\n",
       "      <td>623.0</td>\n",
       "      <td>324.0</td>\n",
       "      <td>weekly</td>\n",
       "      <td>low</td>\n",
       "      <td>1.0</td>\n",
       "      <td>29.0</td>\n",
       "      <td>medium</td>\n",
       "      <td>NaN</td>\n",
       "      <td>20.0</td>\n",
       "    </tr>\n",
       "    <tr>\n",
       "      <th>1</th>\n",
       "      <td>Border Terrier</td>\n",
       "      <td>terrier</td>\n",
       "      <td>3.61</td>\n",
       "      <td>80</td>\n",
       "      <td>61.0</td>\n",
       "      <td>22638.0</td>\n",
       "      <td>30.0</td>\n",
       "      <td>14.00</td>\n",
       "      <td>0.0</td>\n",
       "      <td>833.0</td>\n",
       "      <td>324.0</td>\n",
       "      <td>weekly</td>\n",
       "      <td>high</td>\n",
       "      <td>2.0</td>\n",
       "      <td>1.0</td>\n",
       "      <td>small</td>\n",
       "      <td>13.5</td>\n",
       "      <td>NaN</td>\n",
       "    </tr>\n",
       "    <tr>\n",
       "      <th>2</th>\n",
       "      <td>Brittany</td>\n",
       "      <td>sporting</td>\n",
       "      <td>3.54</td>\n",
       "      <td>30</td>\n",
       "      <td>30.0</td>\n",
       "      <td>22589.0</td>\n",
       "      <td>19.0</td>\n",
       "      <td>12.92</td>\n",
       "      <td>0.0</td>\n",
       "      <td>618.0</td>\n",
       "      <td>466.0</td>\n",
       "      <td>weekly</td>\n",
       "      <td>medium</td>\n",
       "      <td>3.0</td>\n",
       "      <td>11.0</td>\n",
       "      <td>medium</td>\n",
       "      <td>35.0</td>\n",
       "      <td>19.0</td>\n",
       "    </tr>\n",
       "  </tbody>\n",
       "</table>\n",
       "</div>"
      ],
      "text/plain": [
       "            breed     group  datadog  popularity_all  popularity  \\\n",
       "0   Border Collie   herding     3.64              45        39.0   \n",
       "1  Border Terrier   terrier     3.61              80        61.0   \n",
       "2        Brittany  sporting     3.54              30        30.0   \n",
       "\n",
       "   lifetime_cost  intelligence_rank  longevity  ailments  price  food_cost  \\\n",
       "0        20143.0                1.0      12.52       2.0  623.0      324.0   \n",
       "1        22638.0               30.0      14.00       0.0  833.0      324.0   \n",
       "2        22589.0               19.0      12.92       0.0  618.0      466.0   \n",
       "\n",
       "  grooming    kids  megarank_kids  megarank    size  weight  height  \n",
       "0   weekly     low            1.0      29.0  medium     NaN    20.0  \n",
       "1   weekly    high            2.0       1.0   small    13.5     NaN  \n",
       "2   weekly  medium            3.0      11.0  medium    35.0    19.0  "
      ]
     },
     "execution_count": 85,
     "metadata": {},
     "output_type": "execute_result"
    }
   ],
   "source": [
    "dogs.head(3)"
   ]
  },
  {
   "cell_type": "code",
   "execution_count": 86,
   "metadata": {},
   "outputs": [
    {
     "data": {
      "text/html": [
       "<div>\n",
       "<style scoped>\n",
       "    .dataframe tbody tr th:only-of-type {\n",
       "        vertical-align: middle;\n",
       "    }\n",
       "\n",
       "    .dataframe tbody tr th {\n",
       "        vertical-align: top;\n",
       "    }\n",
       "\n",
       "    .dataframe thead th {\n",
       "        text-align: right;\n",
       "    }\n",
       "</style>\n",
       "<table border=\"1\" class=\"dataframe\">\n",
       "  <thead>\n",
       "    <tr style=\"text-align: right;\">\n",
       "      <th></th>\n",
       "      <th>breed</th>\n",
       "      <th>group</th>\n",
       "      <th>datadog</th>\n",
       "      <th>popularity_all</th>\n",
       "      <th>popularity</th>\n",
       "      <th>lifetime_cost</th>\n",
       "      <th>intelligence_rank</th>\n",
       "      <th>longevity</th>\n",
       "      <th>ailments</th>\n",
       "      <th>price</th>\n",
       "      <th>food_cost</th>\n",
       "      <th>grooming</th>\n",
       "      <th>kids</th>\n",
       "      <th>megarank_kids</th>\n",
       "      <th>megarank</th>\n",
       "      <th>size</th>\n",
       "      <th>weight</th>\n",
       "      <th>height</th>\n",
       "    </tr>\n",
       "  </thead>\n",
       "  <tbody>\n",
       "    <tr>\n",
       "      <th>167</th>\n",
       "      <td>Weimaraner</td>\n",
       "      <td>sporting</td>\n",
       "      <td>NaN</td>\n",
       "      <td>32</td>\n",
       "      <td>NaN</td>\n",
       "      <td>NaN</td>\n",
       "      <td>21.0</td>\n",
       "      <td>NaN</td>\n",
       "      <td>1.0</td>\n",
       "      <td>562.0</td>\n",
       "      <td>NaN</td>\n",
       "      <td>weekly</td>\n",
       "      <td>high</td>\n",
       "      <td>NaN</td>\n",
       "      <td>NaN</td>\n",
       "      <td>large</td>\n",
       "      <td>NaN</td>\n",
       "      <td>25.0</td>\n",
       "    </tr>\n",
       "    <tr>\n",
       "      <th>168</th>\n",
       "      <td>Welsh Terrier</td>\n",
       "      <td>terrier</td>\n",
       "      <td>NaN</td>\n",
       "      <td>99</td>\n",
       "      <td>NaN</td>\n",
       "      <td>NaN</td>\n",
       "      <td>53.0</td>\n",
       "      <td>NaN</td>\n",
       "      <td>0.0</td>\n",
       "      <td>843.0</td>\n",
       "      <td>NaN</td>\n",
       "      <td>weekly</td>\n",
       "      <td>high</td>\n",
       "      <td>NaN</td>\n",
       "      <td>NaN</td>\n",
       "      <td>small</td>\n",
       "      <td>20.0</td>\n",
       "      <td>15.0</td>\n",
       "    </tr>\n",
       "    <tr>\n",
       "      <th>169</th>\n",
       "      <td>Wire Fox Terrier</td>\n",
       "      <td>terrier</td>\n",
       "      <td>NaN</td>\n",
       "      <td>100</td>\n",
       "      <td>NaN</td>\n",
       "      <td>NaN</td>\n",
       "      <td>51.0</td>\n",
       "      <td>13.17</td>\n",
       "      <td>0.0</td>\n",
       "      <td>668.0</td>\n",
       "      <td>NaN</td>\n",
       "      <td>NaN</td>\n",
       "      <td>NaN</td>\n",
       "      <td>NaN</td>\n",
       "      <td>NaN</td>\n",
       "      <td>small</td>\n",
       "      <td>17.5</td>\n",
       "      <td>15.0</td>\n",
       "    </tr>\n",
       "    <tr>\n",
       "      <th>170</th>\n",
       "      <td>Wirehaired Pointing Griffon</td>\n",
       "      <td>sporting</td>\n",
       "      <td>NaN</td>\n",
       "      <td>92</td>\n",
       "      <td>NaN</td>\n",
       "      <td>NaN</td>\n",
       "      <td>46.0</td>\n",
       "      <td>8.80</td>\n",
       "      <td>0.0</td>\n",
       "      <td>755.0</td>\n",
       "      <td>NaN</td>\n",
       "      <td>NaN</td>\n",
       "      <td>NaN</td>\n",
       "      <td>NaN</td>\n",
       "      <td>NaN</td>\n",
       "      <td>medium</td>\n",
       "      <td>NaN</td>\n",
       "      <td>22.0</td>\n",
       "    </tr>\n",
       "    <tr>\n",
       "      <th>171</th>\n",
       "      <td>Xoloitzcuintli</td>\n",
       "      <td>non-sporting</td>\n",
       "      <td>NaN</td>\n",
       "      <td>155</td>\n",
       "      <td>NaN</td>\n",
       "      <td>NaN</td>\n",
       "      <td>NaN</td>\n",
       "      <td>NaN</td>\n",
       "      <td>NaN</td>\n",
       "      <td>717.0</td>\n",
       "      <td>NaN</td>\n",
       "      <td>NaN</td>\n",
       "      <td>NaN</td>\n",
       "      <td>NaN</td>\n",
       "      <td>NaN</td>\n",
       "      <td>medium</td>\n",
       "      <td>NaN</td>\n",
       "      <td>16.5</td>\n",
       "    </tr>\n",
       "  </tbody>\n",
       "</table>\n",
       "</div>"
      ],
      "text/plain": [
       "                           breed         group  datadog  popularity_all  \\\n",
       "167                   Weimaraner      sporting      NaN              32   \n",
       "168                Welsh Terrier       terrier      NaN              99   \n",
       "169             Wire Fox Terrier       terrier      NaN             100   \n",
       "170  Wirehaired Pointing Griffon      sporting      NaN              92   \n",
       "171               Xoloitzcuintli  non-sporting      NaN             155   \n",
       "\n",
       "     popularity  lifetime_cost  intelligence_rank  longevity  ailments  price  \\\n",
       "167         NaN            NaN               21.0        NaN       1.0  562.0   \n",
       "168         NaN            NaN               53.0        NaN       0.0  843.0   \n",
       "169         NaN            NaN               51.0      13.17       0.0  668.0   \n",
       "170         NaN            NaN               46.0       8.80       0.0  755.0   \n",
       "171         NaN            NaN                NaN        NaN       NaN  717.0   \n",
       "\n",
       "     food_cost grooming  kids  megarank_kids  megarank    size  weight  height  \n",
       "167        NaN   weekly  high            NaN       NaN   large     NaN    25.0  \n",
       "168        NaN   weekly  high            NaN       NaN   small    20.0    15.0  \n",
       "169        NaN      NaN   NaN            NaN       NaN   small    17.5    15.0  \n",
       "170        NaN      NaN   NaN            NaN       NaN  medium     NaN    22.0  \n",
       "171        NaN      NaN   NaN            NaN       NaN  medium     NaN    16.5  "
      ]
     },
     "execution_count": 86,
     "metadata": {},
     "output_type": "execute_result"
    }
   ],
   "source": [
    "dogs.tail()"
   ]
  },
  {
   "cell_type": "markdown",
   "metadata": {},
   "source": [
    "### Inspecting Data\n",
    "\n",
    "Series and data frames provide many of the same methods and attributes as NumPy arrays."
   ]
  },
  {
   "cell_type": "markdown",
   "metadata": {},
   "source": [
    "For a data frame, the `.dtypes` attribute gives the column types.\n",
    "\n",
    "The type \"object\" means some non-numeric Python object, often a string."
   ]
  },
  {
   "cell_type": "code",
   "execution_count": 87,
   "metadata": {},
   "outputs": [
    {
     "data": {
      "text/plain": [
       "breed                 object\n",
       "group                 object\n",
       "datadog              float64\n",
       "popularity_all         int64\n",
       "popularity           float64\n",
       "lifetime_cost        float64\n",
       "intelligence_rank    float64\n",
       "longevity            float64\n",
       "ailments             float64\n",
       "price                float64\n",
       "food_cost            float64\n",
       "grooming              object\n",
       "kids                  object\n",
       "megarank_kids        float64\n",
       "megarank             float64\n",
       "size                  object\n",
       "weight               float64\n",
       "height               float64\n",
       "dtype: object"
      ]
     },
     "execution_count": 87,
     "metadata": {},
     "output_type": "execute_result"
    }
   ],
   "source": [
    "dogs.dtypes"
   ]
  },
  {
   "cell_type": "markdown",
   "metadata": {},
   "source": [
    "There are also several methods for quickly summarizing data."
   ]
  },
  {
   "cell_type": "code",
   "execution_count": 88,
   "metadata": {},
   "outputs": [
    {
     "data": {
      "text/html": [
       "<div>\n",
       "<style scoped>\n",
       "    .dataframe tbody tr th:only-of-type {\n",
       "        vertical-align: middle;\n",
       "    }\n",
       "\n",
       "    .dataframe tbody tr th {\n",
       "        vertical-align: top;\n",
       "    }\n",
       "\n",
       "    .dataframe thead th {\n",
       "        text-align: right;\n",
       "    }\n",
       "</style>\n",
       "<table border=\"1\" class=\"dataframe\">\n",
       "  <thead>\n",
       "    <tr style=\"text-align: right;\">\n",
       "      <th></th>\n",
       "      <th>datadog</th>\n",
       "      <th>popularity_all</th>\n",
       "      <th>popularity</th>\n",
       "      <th>lifetime_cost</th>\n",
       "      <th>intelligence_rank</th>\n",
       "      <th>longevity</th>\n",
       "      <th>ailments</th>\n",
       "      <th>price</th>\n",
       "      <th>food_cost</th>\n",
       "      <th>megarank_kids</th>\n",
       "      <th>megarank</th>\n",
       "      <th>weight</th>\n",
       "      <th>height</th>\n",
       "    </tr>\n",
       "  </thead>\n",
       "  <tbody>\n",
       "    <tr>\n",
       "      <th>count</th>\n",
       "      <td>87.000000</td>\n",
       "      <td>172.000000</td>\n",
       "      <td>87.000000</td>\n",
       "      <td>91.000000</td>\n",
       "      <td>132.000000</td>\n",
       "      <td>135.000000</td>\n",
       "      <td>148.000000</td>\n",
       "      <td>146.000000</td>\n",
       "      <td>87.000000</td>\n",
       "      <td>87.000000</td>\n",
       "      <td>87.000000</td>\n",
       "      <td>86.00000</td>\n",
       "      <td>159.000000</td>\n",
       "    </tr>\n",
       "    <tr>\n",
       "      <th>mean</th>\n",
       "      <td>2.603678</td>\n",
       "      <td>87.122093</td>\n",
       "      <td>44.000000</td>\n",
       "      <td>19819.538462</td>\n",
       "      <td>40.924242</td>\n",
       "      <td>10.956741</td>\n",
       "      <td>1.216216</td>\n",
       "      <td>876.815068</td>\n",
       "      <td>489.597701</td>\n",
       "      <td>43.954023</td>\n",
       "      <td>43.942529</td>\n",
       "      <td>44.97093</td>\n",
       "      <td>19.089623</td>\n",
       "    </tr>\n",
       "    <tr>\n",
       "      <th>std</th>\n",
       "      <td>0.570288</td>\n",
       "      <td>50.205335</td>\n",
       "      <td>25.258662</td>\n",
       "      <td>3102.475382</td>\n",
       "      <td>19.603560</td>\n",
       "      <td>1.995742</td>\n",
       "      <td>1.549810</td>\n",
       "      <td>461.172524</td>\n",
       "      <td>204.266894</td>\n",
       "      <td>25.288065</td>\n",
       "      <td>25.278153</td>\n",
       "      <td>35.52707</td>\n",
       "      <td>6.012400</td>\n",
       "    </tr>\n",
       "    <tr>\n",
       "      <th>min</th>\n",
       "      <td>0.990000</td>\n",
       "      <td>1.000000</td>\n",
       "      <td>1.000000</td>\n",
       "      <td>12653.000000</td>\n",
       "      <td>1.000000</td>\n",
       "      <td>6.290000</td>\n",
       "      <td>0.000000</td>\n",
       "      <td>283.000000</td>\n",
       "      <td>270.000000</td>\n",
       "      <td>1.000000</td>\n",
       "      <td>1.000000</td>\n",
       "      <td>5.00000</td>\n",
       "      <td>5.000000</td>\n",
       "    </tr>\n",
       "    <tr>\n",
       "      <th>25%</th>\n",
       "      <td>2.185000</td>\n",
       "      <td>43.750000</td>\n",
       "      <td>22.500000</td>\n",
       "      <td>17816.500000</td>\n",
       "      <td>27.000000</td>\n",
       "      <td>9.700000</td>\n",
       "      <td>0.000000</td>\n",
       "      <td>587.250000</td>\n",
       "      <td>324.000000</td>\n",
       "      <td>22.500000</td>\n",
       "      <td>22.500000</td>\n",
       "      <td>17.50000</td>\n",
       "      <td>14.000000</td>\n",
       "    </tr>\n",
       "    <tr>\n",
       "      <th>50%</th>\n",
       "      <td>2.710000</td>\n",
       "      <td>87.500000</td>\n",
       "      <td>44.000000</td>\n",
       "      <td>20087.000000</td>\n",
       "      <td>42.000000</td>\n",
       "      <td>11.290000</td>\n",
       "      <td>1.000000</td>\n",
       "      <td>795.000000</td>\n",
       "      <td>466.000000</td>\n",
       "      <td>44.000000</td>\n",
       "      <td>44.000000</td>\n",
       "      <td>35.00000</td>\n",
       "      <td>19.000000</td>\n",
       "    </tr>\n",
       "    <tr>\n",
       "      <th>75%</th>\n",
       "      <td>3.035000</td>\n",
       "      <td>130.250000</td>\n",
       "      <td>65.500000</td>\n",
       "      <td>21798.000000</td>\n",
       "      <td>54.250000</td>\n",
       "      <td>12.365000</td>\n",
       "      <td>2.000000</td>\n",
       "      <td>1042.250000</td>\n",
       "      <td>466.000000</td>\n",
       "      <td>65.500000</td>\n",
       "      <td>65.500000</td>\n",
       "      <td>62.50000</td>\n",
       "      <td>24.125000</td>\n",
       "    </tr>\n",
       "    <tr>\n",
       "      <th>max</th>\n",
       "      <td>3.640000</td>\n",
       "      <td>173.000000</td>\n",
       "      <td>87.000000</td>\n",
       "      <td>26686.000000</td>\n",
       "      <td>80.000000</td>\n",
       "      <td>16.500000</td>\n",
       "      <td>9.000000</td>\n",
       "      <td>3460.000000</td>\n",
       "      <td>1349.000000</td>\n",
       "      <td>87.000000</td>\n",
       "      <td>87.000000</td>\n",
       "      <td>175.00000</td>\n",
       "      <td>32.000000</td>\n",
       "    </tr>\n",
       "  </tbody>\n",
       "</table>\n",
       "</div>"
      ],
      "text/plain": [
       "         datadog  popularity_all  popularity  lifetime_cost  \\\n",
       "count  87.000000      172.000000   87.000000      91.000000   \n",
       "mean    2.603678       87.122093   44.000000   19819.538462   \n",
       "std     0.570288       50.205335   25.258662    3102.475382   \n",
       "min     0.990000        1.000000    1.000000   12653.000000   \n",
       "25%     2.185000       43.750000   22.500000   17816.500000   \n",
       "50%     2.710000       87.500000   44.000000   20087.000000   \n",
       "75%     3.035000      130.250000   65.500000   21798.000000   \n",
       "max     3.640000      173.000000   87.000000   26686.000000   \n",
       "\n",
       "       intelligence_rank   longevity    ailments        price    food_cost  \\\n",
       "count         132.000000  135.000000  148.000000   146.000000    87.000000   \n",
       "mean           40.924242   10.956741    1.216216   876.815068   489.597701   \n",
       "std            19.603560    1.995742    1.549810   461.172524   204.266894   \n",
       "min             1.000000    6.290000    0.000000   283.000000   270.000000   \n",
       "25%            27.000000    9.700000    0.000000   587.250000   324.000000   \n",
       "50%            42.000000   11.290000    1.000000   795.000000   466.000000   \n",
       "75%            54.250000   12.365000    2.000000  1042.250000   466.000000   \n",
       "max            80.000000   16.500000    9.000000  3460.000000  1349.000000   \n",
       "\n",
       "       megarank_kids   megarank     weight      height  \n",
       "count      87.000000  87.000000   86.00000  159.000000  \n",
       "mean       43.954023  43.942529   44.97093   19.089623  \n",
       "std        25.288065  25.278153   35.52707    6.012400  \n",
       "min         1.000000   1.000000    5.00000    5.000000  \n",
       "25%        22.500000  22.500000   17.50000   14.000000  \n",
       "50%        44.000000  44.000000   35.00000   19.000000  \n",
       "75%        65.500000  65.500000   62.50000   24.125000  \n",
       "max        87.000000  87.000000  175.00000   32.000000  "
      ]
     },
     "execution_count": 88,
     "metadata": {},
     "output_type": "execute_result"
    }
   ],
   "source": [
    "dogs.describe()"
   ]
  },
  {
   "cell_type": "code",
   "execution_count": 90,
   "metadata": {},
   "outputs": [
    {
     "data": {
      "text/html": [
       "<div>\n",
       "<style scoped>\n",
       "    .dataframe tbody tr th:only-of-type {\n",
       "        vertical-align: middle;\n",
       "    }\n",
       "\n",
       "    .dataframe tbody tr th {\n",
       "        vertical-align: top;\n",
       "    }\n",
       "\n",
       "    .dataframe thead th {\n",
       "        text-align: right;\n",
       "    }\n",
       "</style>\n",
       "<table border=\"1\" class=\"dataframe\">\n",
       "  <thead>\n",
       "    <tr style=\"text-align: right;\">\n",
       "      <th></th>\n",
       "      <th>datadog</th>\n",
       "      <th>popularity</th>\n",
       "      <th>lifetime_cost</th>\n",
       "      <th>intelligence_rank</th>\n",
       "      <th>longevity</th>\n",
       "      <th>ailments</th>\n",
       "      <th>price</th>\n",
       "      <th>food_cost</th>\n",
       "      <th>megarank_kids</th>\n",
       "      <th>megarank</th>\n",
       "      <th>weight</th>\n",
       "      <th>height</th>\n",
       "    </tr>\n",
       "  </thead>\n",
       "  <tbody>\n",
       "    <tr>\n",
       "      <th>count</th>\n",
       "      <td>87.000000</td>\n",
       "      <td>87.000000</td>\n",
       "      <td>91.000000</td>\n",
       "      <td>132.000000</td>\n",
       "      <td>135.000000</td>\n",
       "      <td>148.000000</td>\n",
       "      <td>146.000000</td>\n",
       "      <td>87.000000</td>\n",
       "      <td>87.000000</td>\n",
       "      <td>87.000000</td>\n",
       "      <td>86.00000</td>\n",
       "      <td>159.000000</td>\n",
       "    </tr>\n",
       "    <tr>\n",
       "      <th>mean</th>\n",
       "      <td>2.603678</td>\n",
       "      <td>44.000000</td>\n",
       "      <td>19819.538462</td>\n",
       "      <td>40.924242</td>\n",
       "      <td>10.956741</td>\n",
       "      <td>1.216216</td>\n",
       "      <td>876.815068</td>\n",
       "      <td>489.597701</td>\n",
       "      <td>43.954023</td>\n",
       "      <td>43.942529</td>\n",
       "      <td>44.97093</td>\n",
       "      <td>19.089623</td>\n",
       "    </tr>\n",
       "    <tr>\n",
       "      <th>std</th>\n",
       "      <td>0.570288</td>\n",
       "      <td>25.258662</td>\n",
       "      <td>3102.475382</td>\n",
       "      <td>19.603560</td>\n",
       "      <td>1.995742</td>\n",
       "      <td>1.549810</td>\n",
       "      <td>461.172524</td>\n",
       "      <td>204.266894</td>\n",
       "      <td>25.288065</td>\n",
       "      <td>25.278153</td>\n",
       "      <td>35.52707</td>\n",
       "      <td>6.012400</td>\n",
       "    </tr>\n",
       "    <tr>\n",
       "      <th>min</th>\n",
       "      <td>0.990000</td>\n",
       "      <td>1.000000</td>\n",
       "      <td>12653.000000</td>\n",
       "      <td>1.000000</td>\n",
       "      <td>6.290000</td>\n",
       "      <td>0.000000</td>\n",
       "      <td>283.000000</td>\n",
       "      <td>270.000000</td>\n",
       "      <td>1.000000</td>\n",
       "      <td>1.000000</td>\n",
       "      <td>5.00000</td>\n",
       "      <td>5.000000</td>\n",
       "    </tr>\n",
       "    <tr>\n",
       "      <th>25%</th>\n",
       "      <td>2.185000</td>\n",
       "      <td>22.500000</td>\n",
       "      <td>17816.500000</td>\n",
       "      <td>27.000000</td>\n",
       "      <td>9.700000</td>\n",
       "      <td>0.000000</td>\n",
       "      <td>587.250000</td>\n",
       "      <td>324.000000</td>\n",
       "      <td>22.500000</td>\n",
       "      <td>22.500000</td>\n",
       "      <td>17.50000</td>\n",
       "      <td>14.000000</td>\n",
       "    </tr>\n",
       "    <tr>\n",
       "      <th>50%</th>\n",
       "      <td>2.710000</td>\n",
       "      <td>44.000000</td>\n",
       "      <td>20087.000000</td>\n",
       "      <td>42.000000</td>\n",
       "      <td>11.290000</td>\n",
       "      <td>1.000000</td>\n",
       "      <td>795.000000</td>\n",
       "      <td>466.000000</td>\n",
       "      <td>44.000000</td>\n",
       "      <td>44.000000</td>\n",
       "      <td>35.00000</td>\n",
       "      <td>19.000000</td>\n",
       "    </tr>\n",
       "    <tr>\n",
       "      <th>75%</th>\n",
       "      <td>3.035000</td>\n",
       "      <td>65.500000</td>\n",
       "      <td>21798.000000</td>\n",
       "      <td>54.250000</td>\n",
       "      <td>12.365000</td>\n",
       "      <td>2.000000</td>\n",
       "      <td>1042.250000</td>\n",
       "      <td>466.000000</td>\n",
       "      <td>65.500000</td>\n",
       "      <td>65.500000</td>\n",
       "      <td>62.50000</td>\n",
       "      <td>24.125000</td>\n",
       "    </tr>\n",
       "    <tr>\n",
       "      <th>max</th>\n",
       "      <td>3.640000</td>\n",
       "      <td>87.000000</td>\n",
       "      <td>26686.000000</td>\n",
       "      <td>80.000000</td>\n",
       "      <td>16.500000</td>\n",
       "      <td>9.000000</td>\n",
       "      <td>3460.000000</td>\n",
       "      <td>1349.000000</td>\n",
       "      <td>87.000000</td>\n",
       "      <td>87.000000</td>\n",
       "      <td>175.00000</td>\n",
       "      <td>32.000000</td>\n",
       "    </tr>\n",
       "  </tbody>\n",
       "</table>\n",
       "</div>"
      ],
      "text/plain": [
       "         datadog  popularity  lifetime_cost  intelligence_rank   longevity  \\\n",
       "count  87.000000   87.000000      91.000000         132.000000  135.000000   \n",
       "mean    2.603678   44.000000   19819.538462          40.924242   10.956741   \n",
       "std     0.570288   25.258662    3102.475382          19.603560    1.995742   \n",
       "min     0.990000    1.000000   12653.000000           1.000000    6.290000   \n",
       "25%     2.185000   22.500000   17816.500000          27.000000    9.700000   \n",
       "50%     2.710000   44.000000   20087.000000          42.000000   11.290000   \n",
       "75%     3.035000   65.500000   21798.000000          54.250000   12.365000   \n",
       "max     3.640000   87.000000   26686.000000          80.000000   16.500000   \n",
       "\n",
       "         ailments        price    food_cost  megarank_kids   megarank  \\\n",
       "count  148.000000   146.000000    87.000000      87.000000  87.000000   \n",
       "mean     1.216216   876.815068   489.597701      43.954023  43.942529   \n",
       "std      1.549810   461.172524   204.266894      25.288065  25.278153   \n",
       "min      0.000000   283.000000   270.000000       1.000000   1.000000   \n",
       "25%      0.000000   587.250000   324.000000      22.500000  22.500000   \n",
       "50%      1.000000   795.000000   466.000000      44.000000  44.000000   \n",
       "75%      2.000000  1042.250000   466.000000      65.500000  65.500000   \n",
       "max      9.000000  3460.000000  1349.000000      87.000000  87.000000   \n",
       "\n",
       "          weight      height  \n",
       "count   86.00000  159.000000  \n",
       "mean    44.97093   19.089623  \n",
       "std     35.52707    6.012400  \n",
       "min      5.00000    5.000000  \n",
       "25%     17.50000   14.000000  \n",
       "50%     35.00000   19.000000  \n",
       "75%     62.50000   24.125000  \n",
       "max    175.00000   32.000000  "
      ]
     },
     "execution_count": 90,
     "metadata": {},
     "output_type": "execute_result"
    }
   ],
   "source": [
    "# First, get the string columns (\"object\"), then describe\n",
    "dogs.select_dtypes(include = [\"object\"]).describe()\n",
    "dogs.select_dtypes(include = [\"float64\"]).describe()"
   ]
  },
  {
   "cell_type": "markdown",
   "metadata": {},
   "source": [
    "### Aggregation\n",
    "\n",
    "Pandas also provides several methods for aggregating data, such as `.mean()`, `.median()`, `.std()`, and `.value_counts()`. They ignore missing values by default."
   ]
  },
  {
   "cell_type": "code",
   "execution_count": 91,
   "metadata": {},
   "outputs": [
    {
     "data": {
      "text/plain": [
       "datadog                  2.71\n",
       "popularity_all          87.50\n",
       "popularity              44.00\n",
       "lifetime_cost        20087.00\n",
       "intelligence_rank       42.00\n",
       "longevity               11.29\n",
       "ailments                 1.00\n",
       "price                  795.00\n",
       "food_cost              466.00\n",
       "megarank_kids           44.00\n",
       "megarank                44.00\n",
       "weight                  35.00\n",
       "height                  19.00\n",
       "dtype: float64"
      ]
     },
     "execution_count": 91,
     "metadata": {},
     "output_type": "execute_result"
    }
   ],
   "source": [
    "dogs.median()"
   ]
  },
  {
   "cell_type": "code",
   "execution_count": 92,
   "metadata": {},
   "outputs": [
    {
     "data": {
      "text/plain": [
       "795.0"
      ]
     },
     "execution_count": 92,
     "metadata": {},
     "output_type": "execute_result"
    }
   ],
   "source": [
    "dogs[\"price\"].median()"
   ]
  },
  {
   "cell_type": "code",
   "execution_count": 93,
   "metadata": {},
   "outputs": [
    {
     "data": {
      "text/plain": [
       "sporting        28\n",
       "terrier         28\n",
       "working         27\n",
       "hound           26\n",
       "herding         25\n",
       "non-sporting    19\n",
       "toy             19\n",
       "Name: group, dtype: int64"
      ]
     },
     "execution_count": 93,
     "metadata": {},
     "output_type": "execute_result"
    }
   ],
   "source": [
    "dogs[\"group\"].value_counts() # like R's table() with 1 arg"
   ]
  },
  {
   "cell_type": "markdown",
   "metadata": {},
   "source": [
    "For counting one group against another (crosstabulating), use `pd.crosstab()`."
   ]
  },
  {
   "cell_type": "code",
   "execution_count": 95,
   "metadata": {},
   "outputs": [
    {
     "data": {
      "text/html": [
       "<div>\n",
       "<style scoped>\n",
       "    .dataframe tbody tr th:only-of-type {\n",
       "        vertical-align: middle;\n",
       "    }\n",
       "\n",
       "    .dataframe tbody tr th {\n",
       "        vertical-align: top;\n",
       "    }\n",
       "\n",
       "    .dataframe thead th {\n",
       "        text-align: right;\n",
       "    }\n",
       "</style>\n",
       "<table border=\"1\" class=\"dataframe\">\n",
       "  <thead>\n",
       "    <tr style=\"text-align: right;\">\n",
       "      <th>kids</th>\n",
       "      <th>high</th>\n",
       "      <th>low</th>\n",
       "      <th>medium</th>\n",
       "    </tr>\n",
       "    <tr>\n",
       "      <th>group</th>\n",
       "      <th></th>\n",
       "      <th></th>\n",
       "      <th></th>\n",
       "    </tr>\n",
       "  </thead>\n",
       "  <tbody>\n",
       "    <tr>\n",
       "      <th>herding</th>\n",
       "      <td>11</td>\n",
       "      <td>2</td>\n",
       "      <td>3</td>\n",
       "    </tr>\n",
       "    <tr>\n",
       "      <th>hound</th>\n",
       "      <td>8</td>\n",
       "      <td>1</td>\n",
       "      <td>6</td>\n",
       "    </tr>\n",
       "    <tr>\n",
       "      <th>non-sporting</th>\n",
       "      <td>7</td>\n",
       "      <td>0</td>\n",
       "      <td>4</td>\n",
       "    </tr>\n",
       "    <tr>\n",
       "      <th>sporting</th>\n",
       "      <td>17</td>\n",
       "      <td>1</td>\n",
       "      <td>3</td>\n",
       "    </tr>\n",
       "    <tr>\n",
       "      <th>terrier</th>\n",
       "      <td>9</td>\n",
       "      <td>0</td>\n",
       "      <td>9</td>\n",
       "    </tr>\n",
       "    <tr>\n",
       "      <th>toy</th>\n",
       "      <td>3</td>\n",
       "      <td>5</td>\n",
       "      <td>5</td>\n",
       "    </tr>\n",
       "    <tr>\n",
       "      <th>working</th>\n",
       "      <td>12</td>\n",
       "      <td>1</td>\n",
       "      <td>5</td>\n",
       "    </tr>\n",
       "  </tbody>\n",
       "</table>\n",
       "</div>"
      ],
      "text/plain": [
       "kids          high  low  medium\n",
       "group                          \n",
       "herding         11    2       3\n",
       "hound            8    1       6\n",
       "non-sporting     7    0       4\n",
       "sporting        17    1       3\n",
       "terrier          9    0       9\n",
       "toy              3    5       5\n",
       "working         12    1       5"
      ]
     },
     "execution_count": 95,
     "metadata": {},
     "output_type": "execute_result"
    }
   ],
   "source": [
    "pd.crosstab(dogs[\"group\"], dogs[\"kids\"]) # like R's table() with 2+ arg"
   ]
  },
  {
   "cell_type": "markdown",
   "metadata": {},
   "source": [
    "### Applying Functions\n",
    "\n",
    "You can also use Pandas to apply your own aggregation functions to columns or rows.\n",
    "\n",
    "* `.apply()` applies a function column-by-column or row-by-row.\n",
    "* `.applymap()` applies a function element-by-element.\n",
    "\n",
    "This is another way to vectorizing code, but only works for data frame.\n"
   ]
  },
  {
   "cell_type": "code",
   "execution_count": 103,
   "metadata": {},
   "outputs": [
    {
     "data": {
      "text/plain": [
       "datadog                  2.65\n",
       "popularity_all         172.00\n",
       "popularity              86.00\n",
       "lifetime_cost        14033.00\n",
       "intelligence_rank       79.00\n",
       "longevity               10.21\n",
       "ailments                 9.00\n",
       "price                 3177.00\n",
       "food_cost             1079.00\n",
       "megarank_kids           86.00\n",
       "megarank                86.00\n",
       "weight                 170.00\n",
       "height                  27.00\n",
       "dtype: float64"
      ]
     },
     "execution_count": 103,
     "metadata": {},
     "output_type": "execute_result"
    }
   ],
   "source": [
    "def spread(x):\n",
    "    # Input is a single column (or row)\n",
    "    return x.max() - x.min()\n",
    "    \n",
    "dogs.select_dtypes(include = [\"float64\", \"int64\"]).apply(spread)"
   ]
  },
  {
   "cell_type": "markdown",
   "metadata": {},
   "source": [
    "### Grouping"
   ]
  },
  {
   "cell_type": "markdown",
   "metadata": {},
   "source": [
    "Use the `.groupby()` method to group data before computing aggregate statistics."
   ]
  },
  {
   "cell_type": "code",
   "execution_count": 104,
   "metadata": {},
   "outputs": [
    {
     "data": {
      "text/html": [
       "<div>\n",
       "<style scoped>\n",
       "    .dataframe tbody tr th:only-of-type {\n",
       "        vertical-align: middle;\n",
       "    }\n",
       "\n",
       "    .dataframe tbody tr th {\n",
       "        vertical-align: top;\n",
       "    }\n",
       "\n",
       "    .dataframe thead th {\n",
       "        text-align: right;\n",
       "    }\n",
       "</style>\n",
       "<table border=\"1\" class=\"dataframe\">\n",
       "  <thead>\n",
       "    <tr style=\"text-align: right;\">\n",
       "      <th></th>\n",
       "      <th>breed</th>\n",
       "      <th>group</th>\n",
       "      <th>datadog</th>\n",
       "      <th>popularity_all</th>\n",
       "      <th>popularity</th>\n",
       "      <th>lifetime_cost</th>\n",
       "      <th>intelligence_rank</th>\n",
       "      <th>longevity</th>\n",
       "      <th>ailments</th>\n",
       "      <th>price</th>\n",
       "      <th>food_cost</th>\n",
       "      <th>grooming</th>\n",
       "      <th>kids</th>\n",
       "      <th>megarank_kids</th>\n",
       "      <th>megarank</th>\n",
       "      <th>size</th>\n",
       "      <th>weight</th>\n",
       "      <th>height</th>\n",
       "    </tr>\n",
       "  </thead>\n",
       "  <tbody>\n",
       "    <tr>\n",
       "      <th>0</th>\n",
       "      <td>Border Collie</td>\n",
       "      <td>herding</td>\n",
       "      <td>3.64</td>\n",
       "      <td>45</td>\n",
       "      <td>39.0</td>\n",
       "      <td>20143.0</td>\n",
       "      <td>1.0</td>\n",
       "      <td>12.52</td>\n",
       "      <td>2.0</td>\n",
       "      <td>623.0</td>\n",
       "      <td>324.0</td>\n",
       "      <td>weekly</td>\n",
       "      <td>low</td>\n",
       "      <td>1.0</td>\n",
       "      <td>29.0</td>\n",
       "      <td>medium</td>\n",
       "      <td>NaN</td>\n",
       "      <td>20.0</td>\n",
       "    </tr>\n",
       "    <tr>\n",
       "      <th>1</th>\n",
       "      <td>Border Terrier</td>\n",
       "      <td>terrier</td>\n",
       "      <td>3.61</td>\n",
       "      <td>80</td>\n",
       "      <td>61.0</td>\n",
       "      <td>22638.0</td>\n",
       "      <td>30.0</td>\n",
       "      <td>14.00</td>\n",
       "      <td>0.0</td>\n",
       "      <td>833.0</td>\n",
       "      <td>324.0</td>\n",
       "      <td>weekly</td>\n",
       "      <td>high</td>\n",
       "      <td>2.0</td>\n",
       "      <td>1.0</td>\n",
       "      <td>small</td>\n",
       "      <td>13.5</td>\n",
       "      <td>NaN</td>\n",
       "    </tr>\n",
       "    <tr>\n",
       "      <th>2</th>\n",
       "      <td>Brittany</td>\n",
       "      <td>sporting</td>\n",
       "      <td>3.54</td>\n",
       "      <td>30</td>\n",
       "      <td>30.0</td>\n",
       "      <td>22589.0</td>\n",
       "      <td>19.0</td>\n",
       "      <td>12.92</td>\n",
       "      <td>0.0</td>\n",
       "      <td>618.0</td>\n",
       "      <td>466.0</td>\n",
       "      <td>weekly</td>\n",
       "      <td>medium</td>\n",
       "      <td>3.0</td>\n",
       "      <td>11.0</td>\n",
       "      <td>medium</td>\n",
       "      <td>35.0</td>\n",
       "      <td>19.0</td>\n",
       "    </tr>\n",
       "    <tr>\n",
       "      <th>3</th>\n",
       "      <td>Cairn Terrier</td>\n",
       "      <td>terrier</td>\n",
       "      <td>3.53</td>\n",
       "      <td>59</td>\n",
       "      <td>48.0</td>\n",
       "      <td>21992.0</td>\n",
       "      <td>35.0</td>\n",
       "      <td>13.84</td>\n",
       "      <td>2.0</td>\n",
       "      <td>435.0</td>\n",
       "      <td>324.0</td>\n",
       "      <td>weekly</td>\n",
       "      <td>high</td>\n",
       "      <td>4.0</td>\n",
       "      <td>2.0</td>\n",
       "      <td>small</td>\n",
       "      <td>14.0</td>\n",
       "      <td>10.0</td>\n",
       "    </tr>\n",
       "    <tr>\n",
       "      <th>4</th>\n",
       "      <td>Welsh Springer Spaniel</td>\n",
       "      <td>sporting</td>\n",
       "      <td>3.34</td>\n",
       "      <td>130</td>\n",
       "      <td>81.0</td>\n",
       "      <td>20224.0</td>\n",
       "      <td>31.0</td>\n",
       "      <td>12.49</td>\n",
       "      <td>1.0</td>\n",
       "      <td>750.0</td>\n",
       "      <td>324.0</td>\n",
       "      <td>weekly</td>\n",
       "      <td>high</td>\n",
       "      <td>5.0</td>\n",
       "      <td>4.0</td>\n",
       "      <td>medium</td>\n",
       "      <td>NaN</td>\n",
       "      <td>18.0</td>\n",
       "    </tr>\n",
       "  </tbody>\n",
       "</table>\n",
       "</div>"
      ],
      "text/plain": [
       "                    breed     group  datadog  popularity_all  popularity  \\\n",
       "0           Border Collie   herding     3.64              45        39.0   \n",
       "1          Border Terrier   terrier     3.61              80        61.0   \n",
       "2                Brittany  sporting     3.54              30        30.0   \n",
       "3           Cairn Terrier   terrier     3.53              59        48.0   \n",
       "4  Welsh Springer Spaniel  sporting     3.34             130        81.0   \n",
       "\n",
       "   lifetime_cost  intelligence_rank  longevity  ailments  price  food_cost  \\\n",
       "0        20143.0                1.0      12.52       2.0  623.0      324.0   \n",
       "1        22638.0               30.0      14.00       0.0  833.0      324.0   \n",
       "2        22589.0               19.0      12.92       0.0  618.0      466.0   \n",
       "3        21992.0               35.0      13.84       2.0  435.0      324.0   \n",
       "4        20224.0               31.0      12.49       1.0  750.0      324.0   \n",
       "\n",
       "  grooming    kids  megarank_kids  megarank    size  weight  height  \n",
       "0   weekly     low            1.0      29.0  medium     NaN    20.0  \n",
       "1   weekly    high            2.0       1.0   small    13.5     NaN  \n",
       "2   weekly  medium            3.0      11.0  medium    35.0    19.0  \n",
       "3   weekly    high            4.0       2.0   small    14.0    10.0  \n",
       "4   weekly    high            5.0       4.0  medium     NaN    18.0  "
      ]
     },
     "execution_count": 104,
     "metadata": {},
     "output_type": "execute_result"
    }
   ],
   "source": [
    "dogs.head()"
   ]
  },
  {
   "cell_type": "code",
   "execution_count": 106,
   "metadata": {},
   "outputs": [
    {
     "data": {
      "text/html": [
       "<div>\n",
       "<style scoped>\n",
       "    .dataframe tbody tr th:only-of-type {\n",
       "        vertical-align: middle;\n",
       "    }\n",
       "\n",
       "    .dataframe tbody tr th {\n",
       "        vertical-align: top;\n",
       "    }\n",
       "\n",
       "    .dataframe thead th {\n",
       "        text-align: right;\n",
       "    }\n",
       "</style>\n",
       "<table border=\"1\" class=\"dataframe\">\n",
       "  <thead>\n",
       "    <tr style=\"text-align: right;\">\n",
       "      <th></th>\n",
       "      <th>datadog</th>\n",
       "      <th>popularity_all</th>\n",
       "      <th>popularity</th>\n",
       "      <th>lifetime_cost</th>\n",
       "      <th>intelligence_rank</th>\n",
       "      <th>longevity</th>\n",
       "      <th>ailments</th>\n",
       "      <th>price</th>\n",
       "      <th>food_cost</th>\n",
       "      <th>megarank_kids</th>\n",
       "      <th>megarank</th>\n",
       "      <th>weight</th>\n",
       "      <th>height</th>\n",
       "    </tr>\n",
       "    <tr>\n",
       "      <th>group</th>\n",
       "      <th></th>\n",
       "      <th></th>\n",
       "      <th></th>\n",
       "      <th></th>\n",
       "      <th></th>\n",
       "      <th></th>\n",
       "      <th></th>\n",
       "      <th></th>\n",
       "      <th></th>\n",
       "      <th></th>\n",
       "      <th></th>\n",
       "      <th></th>\n",
       "      <th></th>\n",
       "    </tr>\n",
       "  </thead>\n",
       "  <tbody>\n",
       "    <tr>\n",
       "      <th>herding</th>\n",
       "      <td>2.732000</td>\n",
       "      <td>99.880000</td>\n",
       "      <td>43.500000</td>\n",
       "      <td>20691.818182</td>\n",
       "      <td>21.812500</td>\n",
       "      <td>11.728824</td>\n",
       "      <td>2.235294</td>\n",
       "      <td>814.941176</td>\n",
       "      <td>490.900000</td>\n",
       "      <td>40.300000</td>\n",
       "      <td>42.600000</td>\n",
       "      <td>36.666667</td>\n",
       "      <td>19.730000</td>\n",
       "    </tr>\n",
       "    <tr>\n",
       "      <th>hound</th>\n",
       "      <td>2.373077</td>\n",
       "      <td>104.769231</td>\n",
       "      <td>52.692308</td>\n",
       "      <td>19365.769231</td>\n",
       "      <td>54.904762</td>\n",
       "      <td>10.793529</td>\n",
       "      <td>0.833333</td>\n",
       "      <td>746.571429</td>\n",
       "      <td>514.538462</td>\n",
       "      <td>54.769231</td>\n",
       "      <td>56.153846</td>\n",
       "      <td>63.833333</td>\n",
       "      <td>22.543478</td>\n",
       "    </tr>\n",
       "    <tr>\n",
       "      <th>non-sporting</th>\n",
       "      <td>2.488000</td>\n",
       "      <td>82.210526</td>\n",
       "      <td>38.600000</td>\n",
       "      <td>19315.800000</td>\n",
       "      <td>46.714286</td>\n",
       "      <td>10.976000</td>\n",
       "      <td>1.352941</td>\n",
       "      <td>930.500000</td>\n",
       "      <td>409.200000</td>\n",
       "      <td>46.300000</td>\n",
       "      <td>42.800000</td>\n",
       "      <td>27.928571</td>\n",
       "      <td>14.984375</td>\n",
       "    </tr>\n",
       "    <tr>\n",
       "      <th>sporting</th>\n",
       "      <td>2.976000</td>\n",
       "      <td>87.428571</td>\n",
       "      <td>46.066667</td>\n",
       "      <td>20299.312500</td>\n",
       "      <td>27.782609</td>\n",
       "      <td>10.895600</td>\n",
       "      <td>1.040000</td>\n",
       "      <td>760.125000</td>\n",
       "      <td>510.866667</td>\n",
       "      <td>27.466667</td>\n",
       "      <td>17.266667</td>\n",
       "      <td>51.966667</td>\n",
       "      <td>21.276786</td>\n",
       "    </tr>\n",
       "    <tr>\n",
       "      <th>terrier</th>\n",
       "      <td>2.787500</td>\n",
       "      <td>100.250000</td>\n",
       "      <td>58.416667</td>\n",
       "      <td>20504.333333</td>\n",
       "      <td>44.750000</td>\n",
       "      <td>11.480000</td>\n",
       "      <td>0.653846</td>\n",
       "      <td>905.760000</td>\n",
       "      <td>389.916667</td>\n",
       "      <td>37.166667</td>\n",
       "      <td>39.583333</td>\n",
       "      <td>23.413043</td>\n",
       "      <td>13.780000</td>\n",
       "    </tr>\n",
       "    <tr>\n",
       "      <th>toy</th>\n",
       "      <td>2.805385</td>\n",
       "      <td>54.052632</td>\n",
       "      <td>36.769231</td>\n",
       "      <td>19506.076923</td>\n",
       "      <td>48.647059</td>\n",
       "      <td>11.672941</td>\n",
       "      <td>1.000000</td>\n",
       "      <td>686.894737</td>\n",
       "      <td>343.230769</td>\n",
       "      <td>35.076923</td>\n",
       "      <td>49.000000</td>\n",
       "      <td>9.818182</td>\n",
       "      <td>10.533333</td>\n",
       "    </tr>\n",
       "    <tr>\n",
       "      <th>working</th>\n",
       "      <td>2.065000</td>\n",
       "      <td>71.111111</td>\n",
       "      <td>32.285714</td>\n",
       "      <td>19164.687500</td>\n",
       "      <td>41.529412</td>\n",
       "      <td>9.465909</td>\n",
       "      <td>1.772727</td>\n",
       "      <td>1235.708333</td>\n",
       "      <td>721.500000</td>\n",
       "      <td>66.571429</td>\n",
       "      <td>62.000000</td>\n",
       "      <td>105.000000</td>\n",
       "      <td>25.388889</td>\n",
       "    </tr>\n",
       "  </tbody>\n",
       "</table>\n",
       "</div>"
      ],
      "text/plain": [
       "               datadog  popularity_all  popularity  lifetime_cost  \\\n",
       "group                                                               \n",
       "herding       2.732000       99.880000   43.500000   20691.818182   \n",
       "hound         2.373077      104.769231   52.692308   19365.769231   \n",
       "non-sporting  2.488000       82.210526   38.600000   19315.800000   \n",
       "sporting      2.976000       87.428571   46.066667   20299.312500   \n",
       "terrier       2.787500      100.250000   58.416667   20504.333333   \n",
       "toy           2.805385       54.052632   36.769231   19506.076923   \n",
       "working       2.065000       71.111111   32.285714   19164.687500   \n",
       "\n",
       "              intelligence_rank  longevity  ailments        price   food_cost  \\\n",
       "group                                                                           \n",
       "herding               21.812500  11.728824  2.235294   814.941176  490.900000   \n",
       "hound                 54.904762  10.793529  0.833333   746.571429  514.538462   \n",
       "non-sporting          46.714286  10.976000  1.352941   930.500000  409.200000   \n",
       "sporting              27.782609  10.895600  1.040000   760.125000  510.866667   \n",
       "terrier               44.750000  11.480000  0.653846   905.760000  389.916667   \n",
       "toy                   48.647059  11.672941  1.000000   686.894737  343.230769   \n",
       "working               41.529412   9.465909  1.772727  1235.708333  721.500000   \n",
       "\n",
       "              megarank_kids   megarank      weight     height  \n",
       "group                                                          \n",
       "herding           40.300000  42.600000   36.666667  19.730000  \n",
       "hound             54.769231  56.153846   63.833333  22.543478  \n",
       "non-sporting      46.300000  42.800000   27.928571  14.984375  \n",
       "sporting          27.466667  17.266667   51.966667  21.276786  \n",
       "terrier           37.166667  39.583333   23.413043  13.780000  \n",
       "toy               35.076923  49.000000    9.818182  10.533333  \n",
       "working           66.571429  62.000000  105.000000  25.388889  "
      ]
     },
     "execution_count": 106,
     "metadata": {},
     "output_type": "execute_result"
    }
   ],
   "source": [
    "dogs.groupby(\"group\").mean()"
   ]
  },
  {
   "cell_type": "markdown",
   "metadata": {},
   "source": [
    "By default, the groups become the index. You can keep them as regular columns by setting `as_index = False` when grouping."
   ]
  },
  {
   "cell_type": "code",
   "execution_count": 107,
   "metadata": {},
   "outputs": [
    {
     "data": {
      "text/html": [
       "<div>\n",
       "<style scoped>\n",
       "    .dataframe tbody tr th:only-of-type {\n",
       "        vertical-align: middle;\n",
       "    }\n",
       "\n",
       "    .dataframe tbody tr th {\n",
       "        vertical-align: top;\n",
       "    }\n",
       "\n",
       "    .dataframe thead th {\n",
       "        text-align: right;\n",
       "    }\n",
       "</style>\n",
       "<table border=\"1\" class=\"dataframe\">\n",
       "  <thead>\n",
       "    <tr style=\"text-align: right;\">\n",
       "      <th></th>\n",
       "      <th>group</th>\n",
       "      <th>datadog</th>\n",
       "      <th>popularity_all</th>\n",
       "      <th>popularity</th>\n",
       "      <th>lifetime_cost</th>\n",
       "      <th>intelligence_rank</th>\n",
       "      <th>longevity</th>\n",
       "      <th>ailments</th>\n",
       "      <th>price</th>\n",
       "      <th>food_cost</th>\n",
       "      <th>megarank_kids</th>\n",
       "      <th>megarank</th>\n",
       "      <th>weight</th>\n",
       "      <th>height</th>\n",
       "    </tr>\n",
       "  </thead>\n",
       "  <tbody>\n",
       "    <tr>\n",
       "      <th>0</th>\n",
       "      <td>herding</td>\n",
       "      <td>2.732000</td>\n",
       "      <td>99.880000</td>\n",
       "      <td>43.500000</td>\n",
       "      <td>20691.818182</td>\n",
       "      <td>21.812500</td>\n",
       "      <td>11.728824</td>\n",
       "      <td>2.235294</td>\n",
       "      <td>814.941176</td>\n",
       "      <td>490.900000</td>\n",
       "      <td>40.300000</td>\n",
       "      <td>42.600000</td>\n",
       "      <td>36.666667</td>\n",
       "      <td>19.730000</td>\n",
       "    </tr>\n",
       "    <tr>\n",
       "      <th>1</th>\n",
       "      <td>hound</td>\n",
       "      <td>2.373077</td>\n",
       "      <td>104.769231</td>\n",
       "      <td>52.692308</td>\n",
       "      <td>19365.769231</td>\n",
       "      <td>54.904762</td>\n",
       "      <td>10.793529</td>\n",
       "      <td>0.833333</td>\n",
       "      <td>746.571429</td>\n",
       "      <td>514.538462</td>\n",
       "      <td>54.769231</td>\n",
       "      <td>56.153846</td>\n",
       "      <td>63.833333</td>\n",
       "      <td>22.543478</td>\n",
       "    </tr>\n",
       "    <tr>\n",
       "      <th>2</th>\n",
       "      <td>non-sporting</td>\n",
       "      <td>2.488000</td>\n",
       "      <td>82.210526</td>\n",
       "      <td>38.600000</td>\n",
       "      <td>19315.800000</td>\n",
       "      <td>46.714286</td>\n",
       "      <td>10.976000</td>\n",
       "      <td>1.352941</td>\n",
       "      <td>930.500000</td>\n",
       "      <td>409.200000</td>\n",
       "      <td>46.300000</td>\n",
       "      <td>42.800000</td>\n",
       "      <td>27.928571</td>\n",
       "      <td>14.984375</td>\n",
       "    </tr>\n",
       "    <tr>\n",
       "      <th>3</th>\n",
       "      <td>sporting</td>\n",
       "      <td>2.976000</td>\n",
       "      <td>87.428571</td>\n",
       "      <td>46.066667</td>\n",
       "      <td>20299.312500</td>\n",
       "      <td>27.782609</td>\n",
       "      <td>10.895600</td>\n",
       "      <td>1.040000</td>\n",
       "      <td>760.125000</td>\n",
       "      <td>510.866667</td>\n",
       "      <td>27.466667</td>\n",
       "      <td>17.266667</td>\n",
       "      <td>51.966667</td>\n",
       "      <td>21.276786</td>\n",
       "    </tr>\n",
       "    <tr>\n",
       "      <th>4</th>\n",
       "      <td>terrier</td>\n",
       "      <td>2.787500</td>\n",
       "      <td>100.250000</td>\n",
       "      <td>58.416667</td>\n",
       "      <td>20504.333333</td>\n",
       "      <td>44.750000</td>\n",
       "      <td>11.480000</td>\n",
       "      <td>0.653846</td>\n",
       "      <td>905.760000</td>\n",
       "      <td>389.916667</td>\n",
       "      <td>37.166667</td>\n",
       "      <td>39.583333</td>\n",
       "      <td>23.413043</td>\n",
       "      <td>13.780000</td>\n",
       "    </tr>\n",
       "    <tr>\n",
       "      <th>5</th>\n",
       "      <td>toy</td>\n",
       "      <td>2.805385</td>\n",
       "      <td>54.052632</td>\n",
       "      <td>36.769231</td>\n",
       "      <td>19506.076923</td>\n",
       "      <td>48.647059</td>\n",
       "      <td>11.672941</td>\n",
       "      <td>1.000000</td>\n",
       "      <td>686.894737</td>\n",
       "      <td>343.230769</td>\n",
       "      <td>35.076923</td>\n",
       "      <td>49.000000</td>\n",
       "      <td>9.818182</td>\n",
       "      <td>10.533333</td>\n",
       "    </tr>\n",
       "    <tr>\n",
       "      <th>6</th>\n",
       "      <td>working</td>\n",
       "      <td>2.065000</td>\n",
       "      <td>71.111111</td>\n",
       "      <td>32.285714</td>\n",
       "      <td>19164.687500</td>\n",
       "      <td>41.529412</td>\n",
       "      <td>9.465909</td>\n",
       "      <td>1.772727</td>\n",
       "      <td>1235.708333</td>\n",
       "      <td>721.500000</td>\n",
       "      <td>66.571429</td>\n",
       "      <td>62.000000</td>\n",
       "      <td>105.000000</td>\n",
       "      <td>25.388889</td>\n",
       "    </tr>\n",
       "  </tbody>\n",
       "</table>\n",
       "</div>"
      ],
      "text/plain": [
       "          group   datadog  popularity_all  popularity  lifetime_cost  \\\n",
       "0       herding  2.732000       99.880000   43.500000   20691.818182   \n",
       "1         hound  2.373077      104.769231   52.692308   19365.769231   \n",
       "2  non-sporting  2.488000       82.210526   38.600000   19315.800000   \n",
       "3      sporting  2.976000       87.428571   46.066667   20299.312500   \n",
       "4       terrier  2.787500      100.250000   58.416667   20504.333333   \n",
       "5           toy  2.805385       54.052632   36.769231   19506.076923   \n",
       "6       working  2.065000       71.111111   32.285714   19164.687500   \n",
       "\n",
       "   intelligence_rank  longevity  ailments        price   food_cost  \\\n",
       "0          21.812500  11.728824  2.235294   814.941176  490.900000   \n",
       "1          54.904762  10.793529  0.833333   746.571429  514.538462   \n",
       "2          46.714286  10.976000  1.352941   930.500000  409.200000   \n",
       "3          27.782609  10.895600  1.040000   760.125000  510.866667   \n",
       "4          44.750000  11.480000  0.653846   905.760000  389.916667   \n",
       "5          48.647059  11.672941  1.000000   686.894737  343.230769   \n",
       "6          41.529412   9.465909  1.772727  1235.708333  721.500000   \n",
       "\n",
       "   megarank_kids   megarank      weight     height  \n",
       "0      40.300000  42.600000   36.666667  19.730000  \n",
       "1      54.769231  56.153846   63.833333  22.543478  \n",
       "2      46.300000  42.800000   27.928571  14.984375  \n",
       "3      27.466667  17.266667   51.966667  21.276786  \n",
       "4      37.166667  39.583333   23.413043  13.780000  \n",
       "5      35.076923  49.000000    9.818182  10.533333  \n",
       "6      66.571429  62.000000  105.000000  25.388889  "
      ]
     },
     "execution_count": 107,
     "metadata": {},
     "output_type": "execute_result"
    }
   ],
   "source": [
    "dogs.groupby(\"group\", as_index = False).mean()"
   ]
  },
  {
   "cell_type": "markdown",
   "metadata": {},
   "source": [
    "You can group by multiple columns."
   ]
  },
  {
   "cell_type": "code",
   "execution_count": 108,
   "metadata": {},
   "outputs": [
    {
     "data": {
      "text/html": [
       "<div>\n",
       "<style scoped>\n",
       "    .dataframe tbody tr th:only-of-type {\n",
       "        vertical-align: middle;\n",
       "    }\n",
       "\n",
       "    .dataframe tbody tr th {\n",
       "        vertical-align: top;\n",
       "    }\n",
       "\n",
       "    .dataframe thead th {\n",
       "        text-align: right;\n",
       "    }\n",
       "</style>\n",
       "<table border=\"1\" class=\"dataframe\">\n",
       "  <thead>\n",
       "    <tr style=\"text-align: right;\">\n",
       "      <th></th>\n",
       "      <th></th>\n",
       "      <th>datadog</th>\n",
       "      <th>popularity_all</th>\n",
       "      <th>popularity</th>\n",
       "      <th>lifetime_cost</th>\n",
       "      <th>intelligence_rank</th>\n",
       "      <th>longevity</th>\n",
       "      <th>ailments</th>\n",
       "      <th>price</th>\n",
       "      <th>food_cost</th>\n",
       "      <th>megarank_kids</th>\n",
       "      <th>megarank</th>\n",
       "      <th>weight</th>\n",
       "      <th>height</th>\n",
       "    </tr>\n",
       "    <tr>\n",
       "      <th>group</th>\n",
       "      <th>kids</th>\n",
       "      <th></th>\n",
       "      <th></th>\n",
       "      <th></th>\n",
       "      <th></th>\n",
       "      <th></th>\n",
       "      <th></th>\n",
       "      <th></th>\n",
       "      <th></th>\n",
       "      <th></th>\n",
       "      <th></th>\n",
       "      <th></th>\n",
       "      <th></th>\n",
       "      <th></th>\n",
       "    </tr>\n",
       "  </thead>\n",
       "  <tbody>\n",
       "    <tr>\n",
       "      <th rowspan=\"3\" valign=\"top\">herding</th>\n",
       "      <th>high</th>\n",
       "      <td>2.576667</td>\n",
       "      <td>96.000000</td>\n",
       "      <td>53.500000</td>\n",
       "      <td>21171.142857</td>\n",
       "      <td>26.125000</td>\n",
       "      <td>11.702000</td>\n",
       "      <td>2.111111</td>\n",
       "      <td>848.875000</td>\n",
       "      <td>531.166667</td>\n",
       "      <td>48.833333</td>\n",
       "      <td>37.500000</td>\n",
       "      <td>31.000000</td>\n",
       "      <td>19.909091</td>\n",
       "    </tr>\n",
       "    <tr>\n",
       "      <th>low</th>\n",
       "      <td>3.445000</td>\n",
       "      <td>52.500000</td>\n",
       "      <td>44.000000</td>\n",
       "      <td>20269.000000</td>\n",
       "      <td>5.500000</td>\n",
       "      <td>12.095000</td>\n",
       "      <td>1.500000</td>\n",
       "      <td>576.500000</td>\n",
       "      <td>395.000000</td>\n",
       "      <td>5.000000</td>\n",
       "      <td>40.500000</td>\n",
       "      <td>NaN</td>\n",
       "      <td>19.250000</td>\n",
       "    </tr>\n",
       "    <tr>\n",
       "      <th>medium</th>\n",
       "      <td>2.485000</td>\n",
       "      <td>61.666667</td>\n",
       "      <td>13.000000</td>\n",
       "      <td>19437.000000</td>\n",
       "      <td>22.500000</td>\n",
       "      <td>10.936667</td>\n",
       "      <td>5.000000</td>\n",
       "      <td>692.500000</td>\n",
       "      <td>466.000000</td>\n",
       "      <td>50.000000</td>\n",
       "      <td>60.000000</td>\n",
       "      <td>NaN</td>\n",
       "      <td>21.000000</td>\n",
       "    </tr>\n",
       "    <tr>\n",
       "      <th rowspan=\"3\" valign=\"top\">hound</th>\n",
       "      <th>high</th>\n",
       "      <td>2.295000</td>\n",
       "      <td>98.250000</td>\n",
       "      <td>54.166667</td>\n",
       "      <td>20165.500000</td>\n",
       "      <td>56.625000</td>\n",
       "      <td>10.678571</td>\n",
       "      <td>1.000000</td>\n",
       "      <td>1028.714286</td>\n",
       "      <td>601.500000</td>\n",
       "      <td>60.666667</td>\n",
       "      <td>49.166667</td>\n",
       "      <td>72.500000</td>\n",
       "      <td>22.785714</td>\n",
       "    </tr>\n",
       "    <tr>\n",
       "      <th>low</th>\n",
       "      <td>3.190000</td>\n",
       "      <td>9.000000</td>\n",
       "      <td>9.000000</td>\n",
       "      <td>20113.000000</td>\n",
       "      <td>49.000000</td>\n",
       "      <td>12.630000</td>\n",
       "      <td>2.000000</td>\n",
       "      <td>423.000000</td>\n",
       "      <td>324.000000</td>\n",
       "      <td>14.000000</td>\n",
       "      <td>54.000000</td>\n",
       "      <td>24.000000</td>\n",
       "      <td>NaN</td>\n",
       "    </tr>\n",
       "    <tr>\n",
       "      <th>medium</th>\n",
       "      <td>2.315000</td>\n",
       "      <td>82.500000</td>\n",
       "      <td>58.500000</td>\n",
       "      <td>18441.500000</td>\n",
       "      <td>61.666667</td>\n",
       "      <td>10.535000</td>\n",
       "      <td>1.166667</td>\n",
       "      <td>841.000000</td>\n",
       "      <td>459.333333</td>\n",
       "      <td>55.666667</td>\n",
       "      <td>63.500000</td>\n",
       "      <td>67.000000</td>\n",
       "      <td>23.000000</td>\n",
       "    </tr>\n",
       "    <tr>\n",
       "      <th rowspan=\"2\" valign=\"top\">non-sporting</th>\n",
       "      <th>high</th>\n",
       "      <td>2.723333</td>\n",
       "      <td>70.714286</td>\n",
       "      <td>42.333333</td>\n",
       "      <td>20368.000000</td>\n",
       "      <td>50.428571</td>\n",
       "      <td>11.844286</td>\n",
       "      <td>0.571429</td>\n",
       "      <td>896.333333</td>\n",
       "      <td>395.000000</td>\n",
       "      <td>39.000000</td>\n",
       "      <td>27.666667</td>\n",
       "      <td>18.000000</td>\n",
       "      <td>13.950000</td>\n",
       "    </tr>\n",
       "    <tr>\n",
       "      <th>medium</th>\n",
       "      <td>2.135000</td>\n",
       "      <td>42.000000</td>\n",
       "      <td>33.000000</td>\n",
       "      <td>17737.500000</td>\n",
       "      <td>54.750000</td>\n",
       "      <td>9.890000</td>\n",
       "      <td>2.250000</td>\n",
       "      <td>1308.750000</td>\n",
       "      <td>430.500000</td>\n",
       "      <td>57.250000</td>\n",
       "      <td>65.500000</td>\n",
       "      <td>34.500000</td>\n",
       "      <td>16.666667</td>\n",
       "    </tr>\n",
       "    <tr>\n",
       "      <th rowspan=\"3\" valign=\"top\">sporting</th>\n",
       "      <th>high</th>\n",
       "      <td>2.935714</td>\n",
       "      <td>70.176471</td>\n",
       "      <td>47.214286</td>\n",
       "      <td>20146.666667</td>\n",
       "      <td>24.125000</td>\n",
       "      <td>10.986250</td>\n",
       "      <td>1.470588</td>\n",
       "      <td>705.875000</td>\n",
       "      <td>514.071429</td>\n",
       "      <td>29.214286</td>\n",
       "      <td>17.714286</td>\n",
       "      <td>55.791667</td>\n",
       "      <td>21.794118</td>\n",
       "    </tr>\n",
       "    <tr>\n",
       "      <th>low</th>\n",
       "      <td>NaN</td>\n",
       "      <td>161.000000</td>\n",
       "      <td>NaN</td>\n",
       "      <td>NaN</td>\n",
       "      <td>NaN</td>\n",
       "      <td>11.170000</td>\n",
       "      <td>0.000000</td>\n",
       "      <td>NaN</td>\n",
       "      <td>NaN</td>\n",
       "      <td>NaN</td>\n",
       "      <td>NaN</td>\n",
       "      <td>40.000000</td>\n",
       "      <td>14.000000</td>\n",
       "    </tr>\n",
       "    <tr>\n",
       "      <th>medium</th>\n",
       "      <td>3.540000</td>\n",
       "      <td>108.333333</td>\n",
       "      <td>30.000000</td>\n",
       "      <td>22589.000000</td>\n",
       "      <td>31.333333</td>\n",
       "      <td>11.190000</td>\n",
       "      <td>0.000000</td>\n",
       "      <td>618.000000</td>\n",
       "      <td>466.000000</td>\n",
       "      <td>3.000000</td>\n",
       "      <td>11.000000</td>\n",
       "      <td>35.000000</td>\n",
       "      <td>20.500000</td>\n",
       "    </tr>\n",
       "    <tr>\n",
       "      <th rowspan=\"2\" valign=\"top\">terrier</th>\n",
       "      <th>high</th>\n",
       "      <td>3.024000</td>\n",
       "      <td>98.000000</td>\n",
       "      <td>57.200000</td>\n",
       "      <td>21680.600000</td>\n",
       "      <td>48.875000</td>\n",
       "      <td>12.213333</td>\n",
       "      <td>0.750000</td>\n",
       "      <td>800.000000</td>\n",
       "      <td>380.800000</td>\n",
       "      <td>28.400000</td>\n",
       "      <td>20.600000</td>\n",
       "      <td>20.187500</td>\n",
       "      <td>12.937500</td>\n",
       "    </tr>\n",
       "    <tr>\n",
       "      <th>medium</th>\n",
       "      <td>2.618571</td>\n",
       "      <td>89.111111</td>\n",
       "      <td>59.285714</td>\n",
       "      <td>19664.142857</td>\n",
       "      <td>43.250000</td>\n",
       "      <td>11.391429</td>\n",
       "      <td>0.888889</td>\n",
       "      <td>1042.555556</td>\n",
       "      <td>396.428571</td>\n",
       "      <td>43.428571</td>\n",
       "      <td>53.142857</td>\n",
       "      <td>23.875000</td>\n",
       "      <td>13.312500</td>\n",
       "    </tr>\n",
       "    <tr>\n",
       "      <th rowspan=\"3\" valign=\"top\">toy</th>\n",
       "      <th>high</th>\n",
       "      <td>2.740000</td>\n",
       "      <td>19.333333</td>\n",
       "      <td>19.333333</td>\n",
       "      <td>19439.333333</td>\n",
       "      <td>57.000000</td>\n",
       "      <td>11.830000</td>\n",
       "      <td>1.333333</td>\n",
       "      <td>689.666667</td>\n",
       "      <td>351.000000</td>\n",
       "      <td>40.333333</td>\n",
       "      <td>26.000000</td>\n",
       "      <td>14.666667</td>\n",
       "      <td>12.750000</td>\n",
       "    </tr>\n",
       "    <tr>\n",
       "      <th>low</th>\n",
       "      <td>2.844000</td>\n",
       "      <td>36.800000</td>\n",
       "      <td>30.800000</td>\n",
       "      <td>20409.800000</td>\n",
       "      <td>54.400000</td>\n",
       "      <td>12.674000</td>\n",
       "      <td>1.200000</td>\n",
       "      <td>785.600000</td>\n",
       "      <td>313.200000</td>\n",
       "      <td>33.600000</td>\n",
       "      <td>66.400000</td>\n",
       "      <td>6.250000</td>\n",
       "      <td>9.333333</td>\n",
       "    </tr>\n",
       "    <tr>\n",
       "      <th>medium</th>\n",
       "      <td>2.806000</td>\n",
       "      <td>77.400000</td>\n",
       "      <td>53.200000</td>\n",
       "      <td>18642.400000</td>\n",
       "      <td>37.400000</td>\n",
       "      <td>11.150000</td>\n",
       "      <td>1.400000</td>\n",
       "      <td>746.000000</td>\n",
       "      <td>368.600000</td>\n",
       "      <td>33.400000</td>\n",
       "      <td>45.400000</td>\n",
       "      <td>9.666667</td>\n",
       "      <td>9.916667</td>\n",
       "    </tr>\n",
       "    <tr>\n",
       "      <th rowspan=\"3\" valign=\"top\">working</th>\n",
       "      <th>high</th>\n",
       "      <td>1.992222</td>\n",
       "      <td>53.333333</td>\n",
       "      <td>30.111111</td>\n",
       "      <td>18153.272727</td>\n",
       "      <td>48.444444</td>\n",
       "      <td>8.947273</td>\n",
       "      <td>2.300000</td>\n",
       "      <td>1292.083333</td>\n",
       "      <td>684.000000</td>\n",
       "      <td>67.222222</td>\n",
       "      <td>56.333333</td>\n",
       "      <td>124.583333</td>\n",
       "      <td>25.958333</td>\n",
       "    </tr>\n",
       "    <tr>\n",
       "      <th>low</th>\n",
       "      <td>1.950000</td>\n",
       "      <td>47.000000</td>\n",
       "      <td>41.000000</td>\n",
       "      <td>20994.000000</td>\n",
       "      <td>54.000000</td>\n",
       "      <td>10.160000</td>\n",
       "      <td>1.000000</td>\n",
       "      <td>1202.000000</td>\n",
       "      <td>710.000000</td>\n",
       "      <td>72.000000</td>\n",
       "      <td>86.000000</td>\n",
       "      <td>NaN</td>\n",
       "      <td>26.000000</td>\n",
       "    </tr>\n",
       "    <tr>\n",
       "      <th>medium</th>\n",
       "      <td>2.257500</td>\n",
       "      <td>57.400000</td>\n",
       "      <td>35.000000</td>\n",
       "      <td>21488.750000</td>\n",
       "      <td>23.000000</td>\n",
       "      <td>10.172000</td>\n",
       "      <td>2.500000</td>\n",
       "      <td>982.000000</td>\n",
       "      <td>808.750000</td>\n",
       "      <td>63.750000</td>\n",
       "      <td>68.750000</td>\n",
       "      <td>90.833333</td>\n",
       "      <td>25.600000</td>\n",
       "    </tr>\n",
       "  </tbody>\n",
       "</table>\n",
       "</div>"
      ],
      "text/plain": [
       "                      datadog  popularity_all  popularity  lifetime_cost  \\\n",
       "group        kids                                                          \n",
       "herding      high    2.576667       96.000000   53.500000   21171.142857   \n",
       "             low     3.445000       52.500000   44.000000   20269.000000   \n",
       "             medium  2.485000       61.666667   13.000000   19437.000000   \n",
       "hound        high    2.295000       98.250000   54.166667   20165.500000   \n",
       "             low     3.190000        9.000000    9.000000   20113.000000   \n",
       "             medium  2.315000       82.500000   58.500000   18441.500000   \n",
       "non-sporting high    2.723333       70.714286   42.333333   20368.000000   \n",
       "             medium  2.135000       42.000000   33.000000   17737.500000   \n",
       "sporting     high    2.935714       70.176471   47.214286   20146.666667   \n",
       "             low          NaN      161.000000         NaN            NaN   \n",
       "             medium  3.540000      108.333333   30.000000   22589.000000   \n",
       "terrier      high    3.024000       98.000000   57.200000   21680.600000   \n",
       "             medium  2.618571       89.111111   59.285714   19664.142857   \n",
       "toy          high    2.740000       19.333333   19.333333   19439.333333   \n",
       "             low     2.844000       36.800000   30.800000   20409.800000   \n",
       "             medium  2.806000       77.400000   53.200000   18642.400000   \n",
       "working      high    1.992222       53.333333   30.111111   18153.272727   \n",
       "             low     1.950000       47.000000   41.000000   20994.000000   \n",
       "             medium  2.257500       57.400000   35.000000   21488.750000   \n",
       "\n",
       "                     intelligence_rank  longevity  ailments        price  \\\n",
       "group        kids                                                          \n",
       "herding      high            26.125000  11.702000  2.111111   848.875000   \n",
       "             low              5.500000  12.095000  1.500000   576.500000   \n",
       "             medium          22.500000  10.936667  5.000000   692.500000   \n",
       "hound        high            56.625000  10.678571  1.000000  1028.714286   \n",
       "             low             49.000000  12.630000  2.000000   423.000000   \n",
       "             medium          61.666667  10.535000  1.166667   841.000000   \n",
       "non-sporting high            50.428571  11.844286  0.571429   896.333333   \n",
       "             medium          54.750000   9.890000  2.250000  1308.750000   \n",
       "sporting     high            24.125000  10.986250  1.470588   705.875000   \n",
       "             low                   NaN  11.170000  0.000000          NaN   \n",
       "             medium          31.333333  11.190000  0.000000   618.000000   \n",
       "terrier      high            48.875000  12.213333  0.750000   800.000000   \n",
       "             medium          43.250000  11.391429  0.888889  1042.555556   \n",
       "toy          high            57.000000  11.830000  1.333333   689.666667   \n",
       "             low             54.400000  12.674000  1.200000   785.600000   \n",
       "             medium          37.400000  11.150000  1.400000   746.000000   \n",
       "working      high            48.444444   8.947273  2.300000  1292.083333   \n",
       "             low             54.000000  10.160000  1.000000  1202.000000   \n",
       "             medium          23.000000  10.172000  2.500000   982.000000   \n",
       "\n",
       "                      food_cost  megarank_kids   megarank      weight  \\\n",
       "group        kids                                                       \n",
       "herding      high    531.166667      48.833333  37.500000   31.000000   \n",
       "             low     395.000000       5.000000  40.500000         NaN   \n",
       "             medium  466.000000      50.000000  60.000000         NaN   \n",
       "hound        high    601.500000      60.666667  49.166667   72.500000   \n",
       "             low     324.000000      14.000000  54.000000   24.000000   \n",
       "             medium  459.333333      55.666667  63.500000   67.000000   \n",
       "non-sporting high    395.000000      39.000000  27.666667   18.000000   \n",
       "             medium  430.500000      57.250000  65.500000   34.500000   \n",
       "sporting     high    514.071429      29.214286  17.714286   55.791667   \n",
       "             low            NaN            NaN        NaN   40.000000   \n",
       "             medium  466.000000       3.000000  11.000000   35.000000   \n",
       "terrier      high    380.800000      28.400000  20.600000   20.187500   \n",
       "             medium  396.428571      43.428571  53.142857   23.875000   \n",
       "toy          high    351.000000      40.333333  26.000000   14.666667   \n",
       "             low     313.200000      33.600000  66.400000    6.250000   \n",
       "             medium  368.600000      33.400000  45.400000    9.666667   \n",
       "working      high    684.000000      67.222222  56.333333  124.583333   \n",
       "             low     710.000000      72.000000  86.000000         NaN   \n",
       "             medium  808.750000      63.750000  68.750000   90.833333   \n",
       "\n",
       "                        height  \n",
       "group        kids               \n",
       "herding      high    19.909091  \n",
       "             low     19.250000  \n",
       "             medium  21.000000  \n",
       "hound        high    22.785714  \n",
       "             low           NaN  \n",
       "             medium  23.000000  \n",
       "non-sporting high    13.950000  \n",
       "             medium  16.666667  \n",
       "sporting     high    21.794118  \n",
       "             low     14.000000  \n",
       "             medium  20.500000  \n",
       "terrier      high    12.937500  \n",
       "             medium  13.312500  \n",
       "toy          high    12.750000  \n",
       "             low      9.333333  \n",
       "             medium   9.916667  \n",
       "working      high    25.958333  \n",
       "             low     26.000000  \n",
       "             medium  25.600000  "
      ]
     },
     "execution_count": 108,
     "metadata": {},
     "output_type": "execute_result"
    }
   ],
   "source": [
    "dogs.groupby([\"group\", \"kids\"]).mean()"
   ]
  },
  {
   "cell_type": "markdown",
   "metadata": {},
   "source": [
    "On groups, the `.apply()` method computes group-by-group. It is the most general form of two other methods:\n",
    "\n",
    "* `.agg()`, which applies a function to each group to compute summary statistics\n",
    "* `.transform()`, which applies a function to each group to compute transformations (such as standardization)"
   ]
  },
  {
   "cell_type": "code",
   "execution_count": null,
   "metadata": {},
   "outputs": [],
   "source": [
    "def f(x):\n",
    "    # Like R's browser() function, the breakpoint() function runs the debugger.\n",
    "    # The debugger is especially useful for checking what's going on in a function.\n",
    "    breakpoint()\n",
    "    \n",
    "dogs.groupby(\"group\").apply(f)"
   ]
  },
  {
   "cell_type": "markdown",
   "metadata": {},
   "source": [
    "## Static Visualizations in Python\n",
    "\n",
    "Discussion and part of the next lecture will cover the plotnine package, an implementation of ggplot2 for Python. Unlike packages we've seen so far, plotnine is not included with Anaconda. To install the package:\n",
    "\n",
    "* On Windows, run `conda install -c conda-forge plotnine` in an Anaconda Prompt (find it in the start menu)\n",
    "* On MacOS or Linux, run `conda install -c conda-forge plotnine` in the Terminal\n",
    "\n",
    "You may have to restart Jupyter after installing. To test your installation, try running"
   ]
  },
  {
   "cell_type": "code",
   "execution_count": 2,
   "metadata": {},
   "outputs": [
    {
     "data": {
      "text/plain": [
       "'0.5.1'"
      ]
     },
     "execution_count": 2,
     "metadata": {},
     "output_type": "execute_result"
    }
   ],
   "source": [
    "import plotnine\n",
    "\n",
    "plotnine.__version__"
   ]
  },
  {
   "cell_type": "markdown",
   "metadata": {},
   "source": [
    "## More About Packages and Modules\n",
    "\n",
    "Which of the built-in modules are important?\n",
    "\n",
    "Module      | Description\n",
    "----------- | -----------\n",
    "sys         | info about Python (version, etc)\n",
    "pdb         | Python debugger\n",
    "pathlib     | tools for file paths\n",
    "collections | additional data structures\n",
    "string      | string processing\n",
    "re          | regular expressions\n",
    "datetime    | date processing\n",
    "urlparse    | tools for URLs\n",
    "itertools   | tools for iterators\n",
    "functools   | tools for functions\n",
    "\n",
    "Python's built-in `math` and `statistics` modules are missing features we need for serious scientific computing, so we use the \"SciPy Stack\" instead.\n",
    "\n",
    "The SciPy Stack is a collection of packages for scientific computing (marked with a `*` below). Most scientists working in Python use the SciPy Stack. The 3 most important packages in the stack are:\n",
    "\n",
    "Package      | Description\n",
    "------------ | -----------\n",
    "numpy\\*      | arrays, matrices, math/stat functions\n",
    "scipy\\*      | additional math/stat functions\n",
    "pandas\\*     | data frames\n",
    "\n",
    "There are also several packages available for creating static plots. We'll see these soon:\n",
    "\n",
    "Package      | Description\n",
    "------------ | -----------\n",
    "matplotlib\\* | visualizations\n",
    "seaborn      | \"statistical\" visualizations\n",
    "plotnine     | ggplot2 for Python\n",
    "\n",
    "Finally, there are many other packages we may use for specific statistical tasks. Some of these are:\n",
    "\n",
    "Package      | Description\n",
    "------------ | -----------\n",
    "requests     | web (HTTP) requests\n",
    "lxml         | web page parsing (XML & HTML)\n",
    "beatifulsoup | web page parsing (HTML)\n",
    "nltk         | natural language processing\n",
    "spacy        | natural language processing\n",
    "textblob     | natural language processing\n",
    "statsmodels  | classical statistical models\n",
    "scikit-learn | machine learning models\n",
    "pillow       | image processing\n",
    "scikit-image | image processing\n",
    "opencv       | image processing"
   ]
  },
  {
   "cell_type": "code",
   "execution_count": null,
   "metadata": {},
   "outputs": [],
   "source": []
  }
 ],
 "metadata": {
  "kernelspec": {
   "display_name": "Python 3",
   "language": "python",
   "name": "python3"
  },
  "language_info": {
   "codemirror_mode": {
    "name": "ipython",
    "version": 3
   },
   "file_extension": ".py",
   "mimetype": "text/x-python",
   "name": "python",
   "nbconvert_exporter": "python",
   "pygments_lexer": "ipython3",
   "version": "3.8.8"
  }
 },
 "nbformat": 4,
 "nbformat_minor": 2
}
