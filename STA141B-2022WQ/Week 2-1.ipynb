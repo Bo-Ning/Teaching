{
 "cells": [
  {
   "cell_type": "markdown",
   "id": "a9f0e83e",
   "metadata": {},
   "source": [
    "# STA 141B - Lecture 3\n",
    "\n",
    "January 11, 2022\n",
    "\n",
    "#### Announcement\n",
    "\n",
    "* Remote teaching until Jan 28\n",
    "* Homework 1 posted, due Jan 19 @ 23:59pm\n",
    "* Discussion session this week: Github and hints on hw1 (please attend)\n",
    "* Zoom links (OH, Lectures, DS) can be found on Piazza --> \"Resources\"\n",
    "* Thinking about group members?\n",
    "\n",
    "\n",
    "#### Last time\n",
    "\n",
    "* Python basics\n",
    "* Tuple, list, and dictionaries\n",
    "* Methods and attribus (use . to access methods and attributes)\n",
    "* If, while, for statements\n",
    "* Modules\n",
    "\n",
    "\n",
    "#### Today\n",
    "\n",
    "\n",
    "* Modules and Packages \n",
    "* Iteration: Loops and Comprehensions and Generators\n",
    "* Numpy and pandas "
   ]
  },
  {
   "cell_type": "markdown",
   "id": "a0675925",
   "metadata": {},
   "source": [
    "## Jupyter and Markdown\n",
    "\n",
    "Jupyter breaks sections of the notebook into _cells_. You can choose the type of cell in the `Cell -> Cell Type` menu. Use \"Code\" for cells that contain code and \"Markdown\" for cells that contain text or images.\n",
    "\n",
    "Code sells are set up to run Python code. When you open a Jupyter notebook, Jupyter runs a Python session called a _kernel_ in the background. Each time you run a code cell, the code is sent to the kernel, and then the results are printed in the notebook. The kernel maintains state between cells, so code you run in one cell can affect code you run in another cell.\n",
    "\n",
    "__Caution!__ The state of the kernel depends on the order you run cells in, not the order cells appear in the notebook.\n",
    "\n",
    "You can stop or restart the kernel using the `Kernel` menu. This is mostly useful when you want to cancel a computation.\n",
    "\n",
    "Markdown cells allow you to input text and format it using the Markdown language. You can learn more about Markdown [here](https://github.com/adam-p/markdown-here/wiki/Markdown-Cheatsheet)."
   ]
  },
  {
   "cell_type": "markdown",
   "id": "6edf3888",
   "metadata": {},
   "source": [
    "* This\n",
    "* is\n",
    "* a\n",
    "* list\n",
    "\n",
    "**This is bold**\n",
    "\n",
    "$\\int$\n",
    "\n",
    "$$ $$"
   ]
  },
  {
   "cell_type": "code",
   "execution_count": 2,
   "id": "30455991",
   "metadata": {},
   "outputs": [],
   "source": [
    "x = 3"
   ]
  },
  {
   "cell_type": "code",
   "execution_count": 3,
   "id": "746a925f",
   "metadata": {},
   "outputs": [
    {
     "data": {
      "text/plain": [
       "3"
      ]
     },
     "execution_count": 3,
     "metadata": {},
     "output_type": "execute_result"
    }
   ],
   "source": [
    "x"
   ]
  },
  {
   "cell_type": "code",
   "execution_count": 4,
   "id": "26954589",
   "metadata": {},
   "outputs": [
    {
     "ename": "NameError",
     "evalue": "name 'y' is not defined",
     "output_type": "error",
     "traceback": [
      "\u001b[0;31m---------------------------------------------------------------------------\u001b[0m",
      "\u001b[0;31mNameError\u001b[0m                                 Traceback (most recent call last)",
      "\u001b[0;32m<ipython-input-4-9063a9f0e032>\u001b[0m in \u001b[0;36m<module>\u001b[0;34m\u001b[0m\n\u001b[0;32m----> 1\u001b[0;31m \u001b[0my\u001b[0m\u001b[0;34m\u001b[0m\u001b[0;34m\u001b[0m\u001b[0m\n\u001b[0m",
      "\u001b[0;31mNameError\u001b[0m: name 'y' is not defined"
     ]
    }
   ],
   "source": [
    "y"
   ]
  },
  {
   "cell_type": "code",
   "execution_count": 5,
   "id": "c6883eca",
   "metadata": {},
   "outputs": [],
   "source": [
    "y = 3"
   ]
  },
  {
   "cell_type": "code",
   "execution_count": 6,
   "id": "e552b999",
   "metadata": {},
   "outputs": [
    {
     "data": {
      "text/plain": [
       "3"
      ]
     },
     "execution_count": 6,
     "metadata": {},
     "output_type": "execute_result"
    }
   ],
   "source": [
    "y"
   ]
  },
  {
   "cell_type": "markdown",
   "id": "cea613ad",
   "metadata": {},
   "source": [
    "* one-statement-per-line. Example: [here][link1]\n",
    "* Convert .ipynb to .pdf or .html\n",
    "\n",
    "[link1]: https://pedantic-python.readme.io/docs/one-statement-per-line"
   ]
  },
  {
   "cell_type": "markdown",
   "id": "0afeeefa",
   "metadata": {},
   "source": [
    "### Modules and Packages\n",
    "\n",
    "A module is a file containing Python code in run time for a .py code. Any Python file is a module, its name being the file's base name without the .py extension.\n",
    "\n",
    "A package is a collection of Python modules\n",
    "\n",
    "Python's import command lets us load code from a module to use in our script or notebook. Note: import is like a combination of R's source() and library() functions.\n",
    "\n",
    "Python provides many built-in modules for common tasks (see the [list](https://docs.python.org/3/py-modindex.html))."
   ]
  },
  {
   "cell_type": "code",
   "execution_count": 1,
   "id": "98a8103b",
   "metadata": {},
   "outputs": [],
   "source": [
    "# import pandas\n",
    "import pandas"
   ]
  },
  {
   "cell_type": "code",
   "execution_count": 2,
   "id": "85f1df53",
   "metadata": {},
   "outputs": [],
   "source": [
    "# important numpy\n",
    "import numpy"
   ]
  },
  {
   "cell_type": "code",
   "execution_count": 3,
   "id": "ae51ac76",
   "metadata": {},
   "outputs": [],
   "source": [
    "# rename modules\n",
    "import numpy as np"
   ]
  },
  {
   "cell_type": "code",
   "execution_count": 4,
   "id": "2bbf65e2",
   "metadata": {},
   "outputs": [
    {
     "data": {
      "text/plain": [
       "3.141592653589793"
      ]
     },
     "execution_count": 4,
     "metadata": {},
     "output_type": "execute_result"
    }
   ],
   "source": [
    "# important math\n",
    "import math\n",
    "# use math.pi\n",
    "math.pi"
   ]
  },
  {
   "cell_type": "code",
   "execution_count": 1,
   "id": "068ee0a5",
   "metadata": {},
   "outputs": [],
   "source": [
    "# import self written python packages\n",
    "\n",
    "import sys\n",
    "# sys.path.append(\"path\")\n",
    "# import file_name"
   ]
  },
  {
   "cell_type": "markdown",
   "id": "1f5a2454",
   "metadata": {},
   "source": [
    "The difference between __import module__ and __from module import foo__ is mainly subjective. Pick the one you like best and be consistent in your use of it. Here are some points to help you decide.\n",
    "\n",
    "#### import module\n",
    "\n",
    "__Pros:__\n",
    "* Less maintenance of your import statements. Don't need to add any additional imports to start using another item from the module\n",
    "\n",
    "__Cons:__\n",
    "* Typing module.foo in your code can be tedious and redundant (tedium can be minimized by using import module as mo then typing mo.foo)\n",
    "\n",
    "#### from module import foo\n",
    "\n",
    "__Pros:__\n",
    "* Less typing to use foo\n",
    "* More control over which items of a module can be accessed\n",
    "\n",
    "__Cons:__\n",
    "* To use a new item from the module you have to update your import statement\n",
    "* You lose context about foo. For example, it's less clear what ceil() does compared to math.ceil()\n",
    "\n",
    "Reference: [here](https://stackoverflow.com/questions/710551/use-import-module-or-from-module-import)\n"
   ]
  },
  {
   "cell_type": "markdown",
   "id": "aacd442c",
   "metadata": {},
   "source": [
    "More on __import__ can be found [here](https://docs.python.org/3/reference/import.html)"
   ]
  },
  {
   "cell_type": "markdown",
   "id": "dfdc9a96",
   "metadata": {},
   "source": [
    "### Iteration\n",
    "\n",
    "The three most important methods to repeat code for identical or similar tasks are:\n",
    "\n",
    "<ol>\n",
    "    <li>Loops (while and for)</li>\n",
    "    <li>Comprehensions, Generators, and map()</li>\n",
    "    <li>Vectorization (NumPy arrays and functions)</li>\n",
    "</ol>    \n",
    "    \n",
    "These methods have tradeoffs. In general:\n",
    "\n",
    "<ul>\n",
    "    <li>Loops are the most flexible -- particularly while loops.</li>\n",
    "    <li>Generators tend to use the least memory.</li>\n",
    "    <li>Vectorization tends to be fastest. (Try to use vectorization as much as possible.)</li>\n",
    "</ul>    \n",
    "    \n",
    "There are other methods for iteration, like recursion (more info \n",
    "[the list][link1] and [the list][link2] but they are not common in statistical computing with Python.)\n",
    "\n",
    "[link1]: https://greenteapress.com/thinkpython2/html/thinkpython2006.html#sec62 \n",
    "[link2]: https://greenteapress.com/thinkpython2/html/thinkpython2007.html#sec74)"
   ]
  },
  {
   "cell_type": "markdown",
   "id": "a91c79c6",
   "metadata": {},
   "source": [
    "#### 1. Loop tips and tricks\n",
    "\n",
    "An iteratable object is a object that can be iterated over, element-by-element. Examples: tuples, lists, strings\n",
    "\n",
    "Python's for-loops can automatically get elements from iterable objects."
   ]
  },
  {
   "cell_type": "code",
   "execution_count": 5,
   "id": "a1a1db5f",
   "metadata": {},
   "outputs": [
    {
     "name": "stdout",
     "output_type": "stream",
     "text": [
      "h\n",
      "e\n",
      "l\n",
      "l\n",
      "o\n"
     ]
    }
   ],
   "source": [
    "# DO THIS\n",
    "for x in 'hello':\n",
    "    print(x)"
   ]
  },
  {
   "cell_type": "code",
   "execution_count": 6,
   "id": "6d7dee77",
   "metadata": {},
   "outputs": [
    {
     "name": "stdout",
     "output_type": "stream",
     "text": [
      "h\n",
      "e\n",
      "l\n",
      "l\n",
      "o\n"
     ]
    }
   ],
   "source": [
    "# NOT THIS\n",
    "x = 'hello'\n",
    "for i in [0, 1, 2, 3, 4]:\n",
    "    print(x[i])"
   ]
  },
  {
   "cell_type": "markdown",
   "id": "2bb99b89",
   "metadata": {},
   "source": [
    "The range() function returns a sequence of integers."
   ]
  },
  {
   "cell_type": "code",
   "execution_count": 8,
   "id": "a8088779",
   "metadata": {},
   "outputs": [
    {
     "name": "stdout",
     "output_type": "stream",
     "text": [
      "1\n",
      "2\n",
      "3\n",
      "4\n"
     ]
    }
   ],
   "source": [
    "for i in range(1, 5):\n",
    "    print(i)"
   ]
  },
  {
   "cell_type": "markdown",
   "id": "d0f586da",
   "metadata": {},
   "source": [
    "You can use list() to convert objects like ranges to lists.\n",
    "\n",
    "Generally, you'll only need to do this for visual inspection. You DO NOT need to convert ranges into lists to use them in loops."
   ]
  },
  {
   "cell_type": "code",
   "execution_count": 7,
   "id": "e7ace7a3",
   "metadata": {},
   "outputs": [
    {
     "data": {
      "text/plain": [
       "[0, 1, 2, 3, 4]"
      ]
     },
     "execution_count": 7,
     "metadata": {},
     "output_type": "execute_result"
    }
   ],
   "source": [
    "list(range(5))"
   ]
  },
  {
   "cell_type": "markdown",
   "id": "83cd7860",
   "metadata": {},
   "source": [
    "You can make the keys and values in a dictionary iterable with the .items() method."
   ]
  },
  {
   "cell_type": "code",
   "execution_count": 10,
   "id": "2afd79be",
   "metadata": {},
   "outputs": [
    {
     "name": "stdout",
     "output_type": "stream",
     "text": [
      "hello 1\n",
      "goodbye 2\n"
     ]
    }
   ],
   "source": [
    "x = {'hello': 1, \"goodbye\": 2}\n",
    "\n",
    "for elt in x:\n",
    "    print(elt, x[elt])"
   ]
  },
  {
   "cell_type": "code",
   "execution_count": 11,
   "id": "32258ff6",
   "metadata": {},
   "outputs": [
    {
     "name": "stdout",
     "output_type": "stream",
     "text": [
      "hello 1\n",
      "goodbye 2\n"
     ]
    }
   ],
   "source": [
    "for key, val in x.items():\n",
    "    print(key, val)"
   ]
  },
  {
   "cell_type": "code",
   "execution_count": 12,
   "id": "ad776d22",
   "metadata": {},
   "outputs": [
    {
     "data": {
      "text/plain": [
       "[('hello', 1), ('goodbye', 2)]"
      ]
     },
     "execution_count": 12,
     "metadata": {},
     "output_type": "execute_result"
    }
   ],
   "source": [
    "list(x.items())"
   ]
  },
  {
   "cell_type": "markdown",
   "id": "9db75e6c",
   "metadata": {},
   "source": [
    "__Zipping__ two sequences together means combining them into a list of tuples where:\n",
    "\n",
    "<ul>\n",
    "    <li>The first element of each tuple is an element from the first sequence.</li>\n",
    "    <li>The second element of each tuple is an element from the second sequence.</li>\n",
    " </ul>\n",
    "\n",
    "Usually it only makes sense to zip sequences that are the __same length__.\n",
    "\n",
    "The zip() function zips two or more sequences. Use it to iterate over multiple sequences at the same time."
   ]
  },
  {
   "cell_type": "code",
   "execution_count": 2,
   "id": "0a39e1ec",
   "metadata": {},
   "outputs": [
    {
     "name": "stdout",
     "output_type": "stream",
     "text": [
      "1 4\n",
      "2 5\n",
      "3 6\n"
     ]
    }
   ],
   "source": [
    "x = [1, 2, 3]\n",
    "y = [4, 5, 6]\n",
    "\n",
    "for x_elt, y_elt in zip(x, y):\n",
    "    print(x_elt, y_elt)"
   ]
  },
  {
   "cell_type": "code",
   "execution_count": 6,
   "id": "1814bd4e",
   "metadata": {},
   "outputs": [
    {
     "data": {
      "text/plain": [
       "[(1, 4), (2, 5), (3, 6)]"
      ]
     },
     "execution_count": 6,
     "metadata": {},
     "output_type": "execute_result"
    }
   ],
   "source": [
    "zip(x, y)\n",
    "list(zip(x, y))"
   ]
  },
  {
   "cell_type": "code",
   "execution_count": 14,
   "id": "d3a85094",
   "metadata": {},
   "outputs": [
    {
     "data": {
      "text/plain": [
       "[(1, 4, 7), (2, 5, 8), (3, 6, 9)]"
      ]
     },
     "execution_count": 14,
     "metadata": {},
     "output_type": "execute_result"
    }
   ],
   "source": [
    "list(zip(x, y, [7, 8, 9]))"
   ]
  },
  {
   "cell_type": "code",
   "execution_count": 14,
   "id": "e2b4361c",
   "metadata": {},
   "outputs": [
    {
     "name": "stdout",
     "output_type": "stream",
     "text": [
      "[(1, 4, 7), (2, 5, 3)]\n",
      "[(1, 4, 7), (2, 5, 3), (3, 6, 4)]\n",
      "<class 'zip'>\n"
     ]
    },
    {
     "ename": "TypeError",
     "evalue": "unsupported operand type(s) for +: 'zip' and 'zip'",
     "output_type": "error",
     "traceback": [
      "\u001b[0;31m---------------------------------------------------------------------------\u001b[0m",
      "\u001b[0;31mTypeError\u001b[0m                                 Traceback (most recent call last)",
      "\u001b[0;32m<ipython-input-14-3d5c3f98989b>\u001b[0m in \u001b[0;36m<module>\u001b[0;34m\u001b[0m\n\u001b[1;32m      2\u001b[0m \u001b[0mprint\u001b[0m\u001b[0;34m(\u001b[0m\u001b[0mlist\u001b[0m\u001b[0;34m(\u001b[0m\u001b[0mzip\u001b[0m\u001b[0;34m(\u001b[0m\u001b[0mx\u001b[0m\u001b[0;34m,\u001b[0m \u001b[0my\u001b[0m\u001b[0;34m,\u001b[0m \u001b[0;34m[\u001b[0m\u001b[0;36m7\u001b[0m\u001b[0;34m,\u001b[0m \u001b[0;36m3\u001b[0m\u001b[0;34m,\u001b[0m \u001b[0;36m4\u001b[0m\u001b[0;34m,\u001b[0m \u001b[0;36m8\u001b[0m\u001b[0;34m]\u001b[0m\u001b[0;34m)\u001b[0m\u001b[0;34m)\u001b[0m\u001b[0;34m)\u001b[0m\u001b[0;34m\u001b[0m\u001b[0;34m\u001b[0m\u001b[0m\n\u001b[1;32m      3\u001b[0m \u001b[0mprint\u001b[0m\u001b[0;34m(\u001b[0m\u001b[0mtype\u001b[0m\u001b[0;34m(\u001b[0m\u001b[0mzip\u001b[0m\u001b[0;34m(\u001b[0m\u001b[0mx\u001b[0m\u001b[0;34m,\u001b[0m\u001b[0my\u001b[0m\u001b[0;34m)\u001b[0m\u001b[0;34m)\u001b[0m\u001b[0;34m)\u001b[0m\u001b[0;34m\u001b[0m\u001b[0;34m\u001b[0m\u001b[0m\n\u001b[0;32m----> 4\u001b[0;31m \u001b[0mzip\u001b[0m\u001b[0;34m(\u001b[0m\u001b[0mx\u001b[0m\u001b[0;34m,\u001b[0m\u001b[0my\u001b[0m\u001b[0;34m)\u001b[0m\u001b[0;34m+\u001b[0m\u001b[0mzip\u001b[0m\u001b[0;34m(\u001b[0m\u001b[0my\u001b[0m\u001b[0;34m,\u001b[0m\u001b[0mx\u001b[0m\u001b[0;34m)\u001b[0m\u001b[0;34m\u001b[0m\u001b[0;34m\u001b[0m\u001b[0m\n\u001b[0m",
      "\u001b[0;31mTypeError\u001b[0m: unsupported operand type(s) for +: 'zip' and 'zip'"
     ]
    }
   ],
   "source": [
    "print(list(zip(x, y, [7, 3])))\n",
    "print(list(zip(x, y, [7, 3, 4, 8])))\n",
    "print(type(zip(x,y)))\n",
    "zip(x,y)+zip(y,x) # cannot do addition"
   ]
  },
  {
   "cell_type": "markdown",
   "id": "d2fe923d",
   "metadata": {},
   "source": [
    "The enumerate() function zips together index numbers and a sequence. In other words, the function enumerates a sequence."
   ]
  },
  {
   "cell_type": "code",
   "execution_count": 17,
   "id": "26d8935a",
   "metadata": {},
   "outputs": [
    {
     "data": {
      "text/plain": [
       "[(0, 'h'), (1, 'e'), (2, 'l'), (3, 'l'), (4, 'o')]"
      ]
     },
     "execution_count": 17,
     "metadata": {},
     "output_type": "execute_result"
    }
   ],
   "source": [
    "# If you absolutely must use index numbers, at least use enumerate() to get them\n",
    "x = 'hello'\n",
    "\n",
    "enumerate(x)\n",
    "list(enumerate(x))"
   ]
  },
  {
   "cell_type": "code",
   "execution_count": null,
   "id": "97da15da",
   "metadata": {},
   "outputs": [],
   "source": [
    "for i, x_elt in enumerate(x):\n",
    "    print(\"Position\", i, \"is\", x_elt)"
   ]
  },
  {
   "cell_type": "markdown",
   "id": "0f37b21f",
   "metadata": {},
   "source": [
    "#### 2. Comprehensions and generators\n",
    "\n",
    "A comprehension is a Python expression that transforms a sequence, element-by-element. The notation is similar to mathematical set notation:"
   ]
  },
  {
   "cell_type": "code",
   "execution_count": 17,
   "id": "54e7ff6b",
   "metadata": {},
   "outputs": [
    {
     "data": {
      "text/plain": [
       "[0, 1, 4, 9, 16]"
      ]
     },
     "execution_count": 17,
     "metadata": {},
     "output_type": "execute_result"
    }
   ],
   "source": [
    "# [x for x in Z]\n",
    "[x**2 for x in range(5)]"
   ]
  },
  {
   "cell_type": "code",
   "execution_count": 18,
   "id": "8951048c",
   "metadata": {},
   "outputs": [
    {
     "data": {
      "text/plain": [
       "[0.0, 1.0, 1.4142135623730951, 1.7320508075688772, 2.0]"
      ]
     },
     "execution_count": 18,
     "metadata": {},
     "output_type": "execute_result"
    }
   ],
   "source": [
    "import math\n",
    "[math.sqrt(x) for x in range(5)] # think of this as Python's lapply()"
   ]
  },
  {
   "cell_type": "markdown",
   "id": "c8a5fe96",
   "metadata": {},
   "source": [
    "You can include a condition in a comprehension:"
   ]
  },
  {
   "cell_type": "code",
   "execution_count": 19,
   "id": "b575b77e",
   "metadata": {},
   "outputs": [
    {
     "data": {
      "text/plain": [
       "[0, 4, 16, 36, 64, 100]"
      ]
     },
     "execution_count": 19,
     "metadata": {},
     "output_type": "execute_result"
    }
   ],
   "source": [
    "# Get all squares of even numbers from 0...10\n",
    "# [x for x in Z if W]\n",
    "\n",
    "x = [x**2 for x in range(11) if x % 2 == 0]\n",
    "x"
   ]
  },
  {
   "cell_type": "code",
   "execution_count": 20,
   "id": "3484cabb",
   "metadata": {},
   "outputs": [
    {
     "data": {
      "text/plain": [
       "[0.0,\n",
       " -0.7568024953079282,\n",
       " -0.2879033166650653,\n",
       " -0.9917788534431158,\n",
       " 0.9200260381967907,\n",
       " -0.5063656411097588]"
      ]
     },
     "execution_count": 20,
     "metadata": {},
     "output_type": "execute_result"
    }
   ],
   "source": [
    "[math.sin(y) for y in x]"
   ]
  },
  {
   "cell_type": "markdown",
   "id": "b3a32b5c",
   "metadata": {},
   "source": [
    "You can also iterate over subelements."
   ]
  },
  {
   "cell_type": "code",
   "execution_count": 19,
   "id": "bd0c66ae",
   "metadata": {},
   "outputs": [],
   "source": [
    "x = [[1, 2, 3], [4, 5, 6]] # print 1, 2, 3, 4, 5, 6"
   ]
  },
  {
   "cell_type": "code",
   "execution_count": 20,
   "id": "f7ca6f30",
   "metadata": {
    "scrolled": true
   },
   "outputs": [
    {
     "name": "stdout",
     "output_type": "stream",
     "text": [
      "1\n",
      "2\n",
      "3\n",
      "4\n",
      "5\n",
      "6\n"
     ]
    }
   ],
   "source": [
    "for sublist in x:\n",
    "    for elt in sublist:\n",
    "        print(elt)"
   ]
  },
  {
   "cell_type": "code",
   "execution_count": 21,
   "id": "dc5810d9",
   "metadata": {},
   "outputs": [
    {
     "data": {
      "text/plain": [
       "[1, 2, 3, 4, 5, 6]"
      ]
     },
     "execution_count": 21,
     "metadata": {},
     "output_type": "execute_result"
    }
   ],
   "source": [
    "[elt for sublist in x for elt in sublist]"
   ]
  },
  {
   "cell_type": "markdown",
   "id": "7548d6bc",
   "metadata": {},
   "source": [
    "<mark>This is tricky!</mark> The outermost iterables always come first in the comprehension, which can be counterintuitive."
   ]
  },
  {
   "cell_type": "markdown",
   "id": "104407c7",
   "metadata": {},
   "source": [
    "A comprehension surrounded by [ ] is called a list comprehension and produces a list.\n",
    "\n",
    "A comprehension surrounded by { } (and including : ) is called a dictionary comprehension and produces a dictionary."
   ]
  },
  {
   "cell_type": "code",
   "execution_count": 24,
   "id": "7a602770",
   "metadata": {},
   "outputs": [
    {
     "data": {
      "text/plain": [
       "{'hello': 5, 'goodbye': 7}"
      ]
     },
     "execution_count": 24,
     "metadata": {},
     "output_type": "execute_result"
    }
   ],
   "source": [
    "x = [\"hello\", \"goodbye\"]\n",
    "\n",
    "lens = {name: len(name) for name in x} # print the length of names\n",
    "lens"
   ]
  },
  {
   "cell_type": "code",
   "execution_count": 24,
   "id": "c9dd1262",
   "metadata": {},
   "outputs": [
    {
     "data": {
      "text/plain": [
       "{1, 2, 4}"
      ]
     },
     "execution_count": 24,
     "metadata": {},
     "output_type": "execute_result"
    }
   ],
   "source": [
    "x = {1, 2, 2, 4}  # Python dictionaries don't support duplicate keys \n",
    "x"
   ]
  },
  {
   "cell_type": "code",
   "execution_count": 27,
   "id": "e9bee4d3",
   "metadata": {},
   "outputs": [
    {
     "data": {
      "text/plain": [
       "[1, 2, 2, 4]"
      ]
     },
     "execution_count": 27,
     "metadata": {},
     "output_type": "execute_result"
    }
   ],
   "source": [
    "x = [1, 2, 2, 4]\n",
    "x"
   ]
  },
  {
   "cell_type": "code",
   "execution_count": 26,
   "id": "c65c9a42",
   "metadata": {},
   "outputs": [
    {
     "data": {
      "text/plain": [
       "{0, 1}"
      ]
     },
     "execution_count": 26,
     "metadata": {},
     "output_type": "execute_result"
    }
   ],
   "source": [
    "{x**2 for x in [-1, 0, 1]}"
   ]
  },
  {
   "cell_type": "markdown",
   "id": "4d448554",
   "metadata": {},
   "source": [
    "#### 3. Generator Expressions\n",
    "There's no such thing as a tuple comprehension. Instead, a comprehension surrounded by ( ) is called a generator expression."
   ]
  },
  {
   "cell_type": "code",
   "execution_count": 3,
   "id": "d4736f06",
   "metadata": {},
   "outputs": [],
   "source": [
    "y = (x**2 for x in range(11) if x % 2 == 0)"
   ]
  },
  {
   "cell_type": "code",
   "execution_count": 4,
   "id": "26cfdc21",
   "metadata": {},
   "outputs": [
    {
     "name": "stdout",
     "output_type": "stream",
     "text": [
      "0 4 16 36 64 100 "
     ]
    }
   ],
   "source": [
    "# to print out result\n",
    "for i in y:\n",
    "    print(i, end=\" \")"
   ]
  },
  {
   "cell_type": "code",
   "execution_count": 5,
   "id": "30d5d2f7",
   "metadata": {},
   "outputs": [
    {
     "data": {
      "text/plain": [
       "0"
      ]
     },
     "execution_count": 5,
     "metadata": {},
     "output_type": "execute_result"
    }
   ],
   "source": [
    "sum(y) # This also forces evaluation"
   ]
  },
  {
   "cell_type": "markdown",
   "id": "54fcec3d",
   "metadata": {},
   "source": [
    "The generator yields one item at a time and generates item only when in demand. Whereas, in a list comprehension, Python reserves memory for the whole list. Thus we can say that the generator expressions are memory efficient than the lists."
   ]
  },
  {
   "cell_type": "code",
   "execution_count": 30,
   "id": "6f360163",
   "metadata": {},
   "outputs": [
    {
     "name": "stdout",
     "output_type": "stream",
     "text": [
      "x =  87616\n",
      "y =  112\n"
     ]
    }
   ],
   "source": [
    "from sys import getsizeof\n",
    "  \n",
    "comp = [i for i in range(10000)] # list \n",
    "gen = (i for i in range(10000)) # generator\n",
    "  \n",
    "#gives size for list comprehension\n",
    "x = getsizeof(comp) \n",
    "print(\"x = \", x)\n",
    "  \n",
    "#gives size for generator expression\n",
    "y = getsizeof(gen) \n",
    "print(\"y = \", y)"
   ]
  },
  {
   "cell_type": "markdown",
   "id": "59cc940c",
   "metadata": {},
   "source": [
    "There is a remarkable difference in the execution time. Thus, generator expressions are faster than list comprehension and hence time efficient."
   ]
  },
  {
   "cell_type": "code",
   "execution_count": 31,
   "id": "9a5e905b",
   "metadata": {},
   "outputs": [
    {
     "name": "stdout",
     "output_type": "stream",
     "text": [
      "4.941507946999991\n"
     ]
    }
   ],
   "source": [
    "import timeit\n",
    "  \n",
    "print(timeit.timeit('''list_com = [i for i in range(100) if i % 2 == 0]''', number=1000000))"
   ]
  },
  {
   "cell_type": "code",
   "execution_count": 32,
   "id": "b3f81e00",
   "metadata": {},
   "outputs": [
    {
     "name": "stdout",
     "output_type": "stream",
     "text": [
      "0.3718962149996514\n"
     ]
    }
   ],
   "source": [
    "import timeit\n",
    "  \n",
    "print(timeit.timeit('''gen_exp = (i for i in range(100) if i % 2 == 0)''', number=1000000))"
   ]
  },
  {
   "cell_type": "markdown",
   "id": "f887472d",
   "metadata": {},
   "source": [
    "Python's itertools module has functions for manipulating generators and iterable objects"
   ]
  },
  {
   "cell_type": "markdown",
   "id": "a8a77f37",
   "metadata": {},
   "source": [
    "A generator is a special kind of iterable which computes its elements on demand. Examples: ranges, generator expressions\n",
    "\n",
    "Generators are especially useful for working with data that are __too large__ to fit in memory. While making a huge list (say $10^9$ elements) might use enough memory to crash Python, making a generator with the same number of elements uses almost no memory.\n",
    "\n",
    "See more examples [here](https://zacks.one/python-generators/)\n",
    "\n",
    "[link3]: https://www.google.com/search?q=A+generator+is+a+special+kind+of+iterable+which+computes+its+elements+on+demand.+Examples%3A+ranges%2C+generator+expressionsGenerators+are+especially+useful+for+working+with+data+that+are+too+large+to+fit+in+memory.+While+making+a+huge+list+(say+%2410%5E9%24+elements)+might+use+enough+memory+to+crash+Python%2C+making+a+generator+with+the+same+number+of+elements+uses+almost+no+memory.You+can+become+a+generator+ninja+and+see+several+examples+that+use+real+data+here.&oq=A+generator+is+a+special+kind+of+iterable+which+computes+its+elements+on+demand.+Examples%3A+ranges%2C+generator+expressionsGenerators+are+especially+useful+for+working+with+data+that+are+too+large+to+fit+in+memory.+While+making+a+huge+list+(say+%2410%5E9%24+elements)+might+use+enough+memory+to+crash+Python%2C+making+a+generator+with+the+same+number+of+elements+uses+almost+no+memory.You+can+become+a+generator+ninja+and+see+several+examples+that+use+real+data+here.&aqs=chrome..69i57j69i64l2&sourceid=chrome&ie=UTF-8."
   ]
  },
  {
   "cell_type": "code",
   "execution_count": null,
   "id": "e83a6995",
   "metadata": {},
   "outputs": [],
   "source": []
  }
 ],
 "metadata": {
  "kernelspec": {
   "display_name": "Python 3",
   "language": "python",
   "name": "python3"
  },
  "language_info": {
   "codemirror_mode": {
    "name": "ipython",
    "version": 3
   },
   "file_extension": ".py",
   "mimetype": "text/x-python",
   "name": "python",
   "nbconvert_exporter": "python",
   "pygments_lexer": "ipython3",
   "version": "3.8.8"
  }
 },
 "nbformat": 4,
 "nbformat_minor": 5
}
