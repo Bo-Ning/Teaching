{
 "cells": [
  {
   "cell_type": "markdown",
   "metadata": {},
   "source": [
    "# Lecture 8\n",
    "\n",
    "February 02, 2022\n",
    "\n",
    "\n",
    "### Announcements\n",
    "\n",
    "* HW2 due tomorrow\n",
    "\n",
    "### Topics\n",
    "\n",
    "* Undocumented APIs\n",
    "* XML and HTML\n",
    "* Web Scraping\n",
    "\n",
    "### Datasets\n",
    "\n",
    "* [Yolo County Health Inspections](https://yoloeco.envisionconnect.com/)\n",
    "* [Wikipedia's List of Largest Cities](https://en.wikipedia.org/wiki/List_of_largest_cities)\n",
    "* [CUESA's Vegetable Seasons Chart](https://cuesa.org/eat-seasonally/charts/vegetables)\n",
    "\n",
    "### References\n",
    "\n",
    "* [__requests__ documentation](http://docs.python-requests.org/en/master/)\n",
    "* [__requests-html__ documentation](https://html.python-requests.org/)\n",
    "* [MDN HTML Reference](https://developer.mozilla.org/en-US/docs/Web/HTML/Element)\n",
    "* [XPath Diner](http://www.topswagcode.com/xpath/) -- an interactive XPath tutorial\n",
    "* [CSS Diner](https://flukeout.github.io/) -- an interactive CSS Selector tutorial\n",
    "* Python for Data Analysis, Ch. 6\n",
    "* Python for Data Analysis, Ch. 7.3 (to review string processing)\n",
    "\n",
    "[PDSH]: https://jakevdp.github.io/PythonDataScienceHandbook/\n",
    "[ProGit]: https://git-scm.com/book/"
   ]
  },
  {
   "cell_type": "markdown",
   "metadata": {},
   "source": [
    "## Getting Data from the Web\n",
    "\n",
    "Revised list of ways you can get data from the web, from most to least convenient:\n",
    "\n",
    "1. Direct download or \"data dump\"\n",
    "2. Python or R package (there are packages for many popular web APIs)\n",
    "3. Documented web API\n",
    "4. Undocumented web API\n",
    "5. Scraping"
   ]
  },
  {
   "cell_type": "markdown",
   "metadata": {},
   "source": [
    "## Undocumented Web APIs\n",
    "\n",
    "Many websites use undocumented web APIs to get data. For example:\n",
    "\n",
    "* [University of California Compensation](https://ucannualwage.ucop.edu/wage/)\n",
    "* [Yolo County Health Inspections](https://yoloeco.envisionconnect.com/)\n",
    "\n",
    "You can identify these websites by looking at requests in your browser's developer tools. In Firefox or Chrome, you can open the developer tools with `ctrl-shift-i`.\n",
    "\n",
    "Requests to web APIs almost always return JSON or XML data. By examining the browser requests, you can work out the endpoints and parameters, allowing you to use the API.\n",
    "\n",
    "**CAUTION:** Web APIs that are undocumented are often undocumented for a reason. Using an undocumented API may make someone angry or get you into legal trouble! Government and quasi-government websites (like the examples above) are probably okay, as long as you cache and rate-limit your requests. For everything else, find for an alternative or get permission first."
   ]
  },
  {
   "cell_type": "markdown",
   "metadata": {},
   "source": [
    "Let's reverse engineer the Yolo County Health Inspections web API so that we can get data about local restaurants."
   ]
  },
  {
   "cell_type": "code",
   "execution_count": 2,
   "metadata": {},
   "outputs": [],
   "source": [
    "import numpy as np\n",
    "import pandas as pd\n",
    "import requests\n",
    "import requests_cache\n",
    "\n",
    "requests_cache.install_cache(\"mycache\")"
   ]
  },
  {
   "cell_type": "code",
   "execution_count": 4,
   "metadata": {},
   "outputs": [
    {
     "data": {
      "text/plain": [
       "[{'FacilityId': 'FA0021354',\n",
       "  'FacilityName': 'A KE TACO',\n",
       "  'Address': '1900 PARKWOOD DR ',\n",
       "  'CityStateZip': 'YUBA CITY CA 95993 ',\n",
       "  'LastScore': 100.0,\n",
       "  'attachmentId': 'c5bf43d6-aa71-416f-b95a-ad4f00b3cda4'},\n",
       " {'FacilityId': 'FA0019474',\n",
       "  'FacilityName': 'ACOUSTIC EVENTS',\n",
       "  'Address': '4467 D ST ',\n",
       "  'CityStateZip': 'SACRAMENTO CA 95819 ',\n",
       "  'LastScore': 100.0,\n",
       "  'attachmentId': '6ad8b394-103b-4f88-8e1c-ae2b01015500'},\n",
       " {'FacilityId': 'FA0014014',\n",
       "  'FacilityName': 'AFC SUSHI / HOT WOK @ BEL AIR #526',\n",
       "  'Address': '1885 E GIBSON RD ',\n",
       "  'CityStateZip': 'WOODLAND CA 95776 ',\n",
       "  'LastScore': 100.0,\n",
       "  'attachmentId': None},\n",
       " {'FacilityId': 'FA0014013',\n",
       "  'FacilityName': \"AFC SUSHI / HOT WOK @ RALEY'S #206\",\n",
       "  'Address': '367 W MAIN ST ',\n",
       "  'CityStateZip': 'WOODLAND CA 95695 ',\n",
       "  'LastScore': 100.0,\n",
       "  'attachmentId': None},\n",
       " {'FacilityId': 'FA0014015',\n",
       "  'FacilityName': \"AFC SUSHI / HOT WOK @ RALEY'S #448\",\n",
       "  'Address': '1601 W CAPITOL AVE ',\n",
       "  'CityStateZip': 'WEST SACRAMENTO CA 95691 ',\n",
       "  'LastScore': 100.0,\n",
       "  'attachmentId': 'a8d24d51-da4b-4be3-9cf4-ad4e0110d37c'},\n",
       " {'FacilityId': 'FA0010191',\n",
       "  'FacilityName': 'AFC SUSHI @ SAFEWAY #1205',\n",
       "  'Address': '1451 W COVELL BLVD ',\n",
       "  'CityStateZip': 'DAVIS CA 95616 ',\n",
       "  'LastScore': 100.0,\n",
       "  'attachmentId': '59be27cd-feed-41d0-ac11-ae1b00e0793e'},\n",
       " {'FacilityId': 'FA0010190',\n",
       "  'FacilityName': 'AFC SUSHI @ SAFEWAY #1561',\n",
       "  'Address': '2121 COWELL BLVD ',\n",
       "  'CityStateZip': 'DAVIS CA 95616 ',\n",
       "  'LastScore': 100.0,\n",
       "  'attachmentId': 'd9e3e620-56d4-4499-876f-ad2100926eda'},\n",
       " {'FacilityId': 'FA0010016',\n",
       "  'FacilityName': 'AFC SUSHI @ WALMART #3652',\n",
       "  'Address': '755 RIVERPOINT DR ',\n",
       "  'CityStateZip': 'WEST SACRAMENTO CA 95691 ',\n",
       "  'LastScore': 100.0,\n",
       "  'attachmentId': 'feec422f-cc1d-42ee-b7cb-adfe008d791a'},\n",
       " {'FacilityId': 'FA0018619',\n",
       "  'FacilityName': 'AFC TIK TOK WOK @ SAFEWAY #1205',\n",
       "  'Address': '1451 W COVELL BLVD ',\n",
       "  'CityStateZip': 'DAVIS CA 95616 ',\n",
       "  'LastScore': 100.0,\n",
       "  'attachmentId': 'b6dc986d-cabc-4a10-ae18-ae1b00debf6b'},\n",
       " {'FacilityId': 'FA0012949',\n",
       "  'FacilityName': 'AFRIDI FOOD COMPANY',\n",
       "  'Address': '1250 CHURCHILL DOWNS AVE D STE ',\n",
       "  'CityStateZip': 'WOODLAND CA 95776 ',\n",
       "  'LastScore': 100.0,\n",
       "  'attachmentId': 'e6c8ecab-92be-4109-a307-ade1010bc52a'},\n",
       " {'FacilityId': 'FA0001050',\n",
       "  'FacilityName': 'AGGIE LIQUOR',\n",
       "  'Address': '507 L ST ',\n",
       "  'CityStateZip': 'DAVIS CA 95616 ',\n",
       "  'LastScore': 100.0,\n",
       "  'attachmentId': '3dd7fd23-3214-4051-b67e-ad7f01039b0b'},\n",
       " {'FacilityId': 'FA0021027',\n",
       "  'FacilityName': 'AGTECH INNOVATION ALLIANCE',\n",
       "  'Address': '1100 MAIN ST 300 STE ',\n",
       "  'CityStateZip': 'WOODLAND CA 95695 ',\n",
       "  'LastScore': 100.0,\n",
       "  'attachmentId': 'f3a386ca-7eb8-43ff-8c66-ad4300f8f912'},\n",
       " {'FacilityId': 'FA0005895',\n",
       "  'FacilityName': 'AISLE 1 #2576',\n",
       "  'Address': '1813 E GIBSON RD ',\n",
       "  'CityStateZip': 'WOODLAND CA 95776 ',\n",
       "  'LastScore': 100.0,\n",
       "  'attachmentId': '32430bf5-bb48-46c1-bc3f-ac92010ef2b2'},\n",
       " {'FacilityId': 'FA0017313',\n",
       "  'FacilityName': 'AJ HUNDAL MART',\n",
       "  'Address': '2434 W CAPITOL AVE ',\n",
       "  'CityStateZip': 'WEST SACRAMENTO CA 95691 ',\n",
       "  'LastScore': 100.0,\n",
       "  'attachmentId': 'f5d5febb-cb42-4ec3-b7d5-adb900939a9b'},\n",
       " {'FacilityId': 'FA0020303',\n",
       "  'FacilityName': 'AKIRA COFFEE & TEA',\n",
       "  'Address': '620 W COVELL BLVD A STE ',\n",
       "  'CityStateZip': 'DAVIS CA 95616 ',\n",
       "  'LastScore': 100.0,\n",
       "  'attachmentId': 'edf866ab-e17d-4d44-9d81-ae1c01058853'},\n",
       " {'FacilityId': 'FA0006503',\n",
       "  'FacilityName': \"AL & TOMI'S SHAVED ICE\",\n",
       "  'Address': '8334 OLIVE SCHOOL RD ',\n",
       "  'CityStateZip': 'WINTERS CA 95694 ',\n",
       "  'LastScore': 100.0,\n",
       "  'attachmentId': '737d9d4a-3668-470d-a227-aa3c00f64043'},\n",
       " {'FacilityId': 'FA0009941',\n",
       "  'FacilityName': 'ALDERSON CONVALESCENT - FOOD',\n",
       "  'Address': '124 WALNUT ST ',\n",
       "  'CityStateZip': 'WOODLAND CA 95695 ',\n",
       "  'LastScore': 100.0,\n",
       "  'attachmentId': 'de0878e6-0f22-4af9-bba7-ade800828c81'},\n",
       " {'FacilityId': 'FA0001973',\n",
       "  'FacilityName': 'ALI BABA RESTAURANT',\n",
       "  'Address': '220 3RD ST ',\n",
       "  'CityStateZip': 'DAVIS CA 95616 ',\n",
       "  'LastScore': 100.0,\n",
       "  'attachmentId': '43e9d9ea-f28d-45e7-963e-ace901277735'},\n",
       " {'FacilityId': 'FA0018627',\n",
       "  'FacilityName': 'ALKA PURE WATER',\n",
       "  'Address': '1620 W CAPITOL AVE ',\n",
       "  'CityStateZip': 'WEST SACRAMENTO CA 95691 ',\n",
       "  'LastScore': 100.0,\n",
       "  'attachmentId': 'c3e611eb-02f3-4736-b35f-adf1008c641e'},\n",
       " {'FacilityId': 'FA0015993',\n",
       "  'FacilityName': 'ALL SEASONS ALL REASONS CATERING',\n",
       "  'Address': '2135 DALE AVE ',\n",
       "  'CityStateZip': 'SACRAMENTO CA 95815 ',\n",
       "  'LastScore': 100.0,\n",
       "  'attachmentId': '8a9a0dd1-8df6-4b4e-ab8e-adf90112df27'},\n",
       " {'FacilityId': 'FA0019796',\n",
       "  'FacilityName': 'ALOHA POKEE & RAMEN',\n",
       "  'Address': '2055 TOWN CENTER PLZ 110 STE ',\n",
       "  'CityStateZip': 'WEST SACRAMENTO CA 95691 ',\n",
       "  'LastScore': 100.0,\n",
       "  'attachmentId': '8616befe-35cd-4465-8dd0-ad8600fb2082'},\n",
       " {'FacilityId': 'FA0002033',\n",
       "  'FacilityName': 'ALYCE NORMAN SCHOOL',\n",
       "  'Address': '1200 ANNA ST ',\n",
       "  'CityStateZip': 'WEST SACRAMENTO CA 95605 ',\n",
       "  'LastScore': 100.0,\n",
       "  'attachmentId': '69a7e506-66e7-476b-a8cf-adc60088d28c'},\n",
       " {'FacilityId': 'FA0002270',\n",
       "  'FacilityName': 'AM/PM MINI MARKET #5731- FOOD',\n",
       "  'Address': '805 REED AVE ',\n",
       "  'CityStateZip': 'WEST SACRAMENTO CA 95605 ',\n",
       "  'LastScore': 100.0,\n",
       "  'attachmentId': '926fecc8-5eb7-4597-a788-ae2800afd774'},\n",
       " {'FacilityId': 'FA0020636',\n",
       "  'FacilityName': 'AMALUNA - PUBLIC CONCESSIONS',\n",
       "  'Address': \"CIRQUE DU SOLEIL'S AMALUNA \",\n",
       "  'CityStateZip': 'WEST SACRAMENTO CA 95691 ',\n",
       "  'LastScore': 100.0,\n",
       "  'attachmentId': '80ec2fe7-47a7-4d1d-b9bb-ab5600a2edee'},\n",
       " {'FacilityId': 'FA0020635',\n",
       "  'FacilityName': 'AMALUNA - STAFF KITCHEN',\n",
       "  'Address': \"CIRQUE DU SOLEIL'S AMALUNA \",\n",
       "  'CityStateZip': 'WEST SACRAMENTO CA 95691 ',\n",
       "  'LastScore': 100.0,\n",
       "  'attachmentId': 'cf567238-9439-4a0f-b40a-ab5700d4d7d1'},\n",
       " {'FacilityId': 'FA0020634',\n",
       "  'FacilityName': 'AMALUNA - VIP CATERING',\n",
       "  'Address': \"CIRQUE DU SOLEIL'S AMALUNA \",\n",
       "  'CityStateZip': 'WEST SACRAMENTO CA 95691 ',\n",
       "  'LastScore': 100.0,\n",
       "  'attachmentId': 'd8d89f80-59c0-4114-ab7f-ab5700d58574'},\n",
       " {'FacilityId': 'FA0020421',\n",
       "  'FacilityName': 'AMERICAN RIVER PROVISIONS',\n",
       "  'Address': 'YOLO COUNTY ',\n",
       "  'CityStateZip': 'WITH IN YOLO COUNTY CA 95695 ',\n",
       "  'LastScore': 100.0,\n",
       "  'attachmentId': '4b2f62eb-7166-4010-8fb4-aa9800e6a54d'},\n",
       " {'FacilityId': 'FA0020398',\n",
       "  'FacilityName': 'AMY LOVES MUSTARD',\n",
       "  'Address': '2407 VAN GOGH ST ',\n",
       "  'CityStateZip': 'DAVIS CA 95618 ',\n",
       "  'LastScore': 100.0,\n",
       "  'attachmentId': '5a9838b3-59a5-47f6-a12e-ad2b00fa81fc'},\n",
       " {'FacilityId': 'FA0012414',\n",
       "  'FacilityName': 'ANDERSON FAMILY CATERING BBQ',\n",
       "  'Address': '1286 CALLEN ST ',\n",
       "  'CityStateZip': 'VACAVILLE CA 95687 ',\n",
       "  'LastScore': 100.0,\n",
       "  'attachmentId': '18583f0a-1b68-44fd-bbdd-ad160107bfa6'},\n",
       " {'FacilityId': 'FA0009436',\n",
       "  'FacilityName': 'ANDERSON GAS & MINI MART - FOOD',\n",
       "  'Address': '1935 ANDERSON RD ',\n",
       "  'CityStateZip': 'DAVIS CA 95616 ',\n",
       "  'LastScore': 100.0,\n",
       "  'attachmentId': '3ff4f0af-ef6d-48a6-9ef7-ad7f01002422'},\n",
       " {'FacilityId': 'FA0002159',\n",
       "  'FacilityName': 'ANDERSON ROAD SHELL - FOOD',\n",
       "  'Address': '1944 ANDERSON RD ',\n",
       "  'CityStateZip': 'DAVIS CA 95616 ',\n",
       "  'LastScore': 100.0,\n",
       "  'attachmentId': None},\n",
       " {'FacilityId': 'FA0002192',\n",
       "  'FacilityName': \"ANDY'S ARCO - FOOD\",\n",
       "  'Address': '313 W MAIN ST ',\n",
       "  'CityStateZip': 'WOODLAND CA 95695 ',\n",
       "  'LastScore': 100.0,\n",
       "  'attachmentId': 'f034bfe7-0f92-4b09-a543-adc1010b6ced'},\n",
       " {'FacilityId': 'FA0020071',\n",
       "  'FacilityName': \"ANN'S GLUTEN FREE GOODIES\",\n",
       "  'Address': '1391 PARKVIEW DR ',\n",
       "  'CityStateZip': 'WOODLAND CA 95776 ',\n",
       "  'LastScore': 100.0,\n",
       "  'attachmentId': '53cd6abc-b4cd-445c-9936-acd400da45a2'},\n",
       " {'FacilityId': 'FA0020747',\n",
       "  'FacilityName': 'ANTOJITOS JAIMITO #4TB1720',\n",
       "  'Address': '117 W MAIN ST ',\n",
       "  'CityStateZip': 'WOODLAND CA 95695 ',\n",
       "  'LastScore': 100.0,\n",
       "  'attachmentId': '5cd8c58c-f3b9-4ded-b094-adc10106d8bf'},\n",
       " {'FacilityId': 'FA0020438',\n",
       "  'FacilityName': 'APNA BAZAAR',\n",
       "  'Address': '2 W COURT ST C STE ',\n",
       "  'CityStateZip': 'WOODLAND CA 95696 ',\n",
       "  'LastScore': 100.0,\n",
       "  'attachmentId': '4fdd227a-0b70-464f-b502-adac0115e934'},\n",
       " {'FacilityId': 'FA0005596',\n",
       "  'FacilityName': \"APPLEBEE'S - WOODLAND\",\n",
       "  'Address': '1790 E MAIN ST ',\n",
       "  'CityStateZip': 'WOODLAND CA 95776 ',\n",
       "  'LastScore': 100.0,\n",
       "  'attachmentId': 'df19e47f-8a5f-4d65-a87a-adb30113bc70'},\n",
       " {'FacilityId': 'FA0021060',\n",
       "  'FacilityName': 'ARATA SUSHI',\n",
       "  'Address': '1900 ANDERSON RD ',\n",
       "  'CityStateZip': 'DAVIS CA 95616 ',\n",
       "  'LastScore': 100.0,\n",
       "  'attachmentId': 'dda81dec-63a3-4d8d-a208-ad830081a84f'},\n",
       " {'FacilityId': 'FA0020757',\n",
       "  'FacilityName': \"ARBY'S #8806\",\n",
       "  'Address': '85 W COURT ST ',\n",
       "  'CityStateZip': 'WOODLAND CA 95695 ',\n",
       "  'LastScore': 100.0,\n",
       "  'attachmentId': 'e549c6f1-1067-43d7-b14b-ae1a00e41f6a'},\n",
       " {'FacilityId': 'FA0016070',\n",
       "  'FacilityName': 'ARCO AMPM GAS STATION',\n",
       "  'Address': '4480 CHILES RD ',\n",
       "  'CityStateZip': 'DAVIS CA 95618 ',\n",
       "  'LastScore': 100.0,\n",
       "  'attachmentId': 'f674e5cd-c0b5-4e46-b7df-ac21010466d0'},\n",
       " {'FacilityId': 'FA0020258',\n",
       "  'FacilityName': 'ARMADILLO MUSIC INC.',\n",
       "  'Address': '207 F ST ',\n",
       "  'CityStateZip': 'DAVIS CA 95618 ',\n",
       "  'LastScore': 100.0,\n",
       "  'attachmentId': '46081833-bb64-42ee-bcb0-ad250107890a'},\n",
       " {'FacilityId': 'FA0001394',\n",
       "  'FacilityName': \"ARTEAGA'S SUPERMARKET INC\",\n",
       "  'Address': '940 SACRAMENTO AVE ',\n",
       "  'CityStateZip': 'WEST SACRAMENTO CA 95605 ',\n",
       "  'LastScore': 100.0,\n",
       "  'attachmentId': '5d6be7ea-3b0c-4959-af19-adbb01044ce1'},\n",
       " {'FacilityId': 'FA0020819',\n",
       "  'FacilityName': \"AUNTIE YASY'S GLUTEN-FREE GOODIES & MEAL DELIVERY LLC\",\n",
       "  'Address': '40162 BEST RANCH RD ',\n",
       "  'CityStateZip': 'WOODLAND CA 95776 ',\n",
       "  'LastScore': 100.0,\n",
       "  'attachmentId': 'ef5978a9-c33e-4d48-a350-ac7200d74432'},\n",
       " {'FacilityId': 'FA0001628',\n",
       "  'FacilityName': 'AY! JALISCO TAQUERIA #1',\n",
       "  'Address': '966 SACRAMENTO Ave ',\n",
       "  'CityStateZip': 'WEST SACRAMENTO CA 95691 ',\n",
       "  'LastScore': 100.0,\n",
       "  'attachmentId': '4fa45198-aeea-48b1-a43a-adce0102c90e'}]"
      ]
     },
     "execution_count": 4,
     "metadata": {},
     "output_type": "execute_result"
    }
   ],
   "source": [
    "def get_health_info(q):\n",
    "    response = requests.post(\"https://yoloeco.envisionconnect.com/api/pressAgentClient/searchFacilities\", params = {\n",
    "        \"PressAgentOid\": \"c08cb189-894c-4c8c-b595-a5ef010226b4\",\n",
    "    }, json = {\n",
    "        # \"FacilityName\": q,\n",
    "        \"Addresses\": \n",
    "        # \"FacilityId\": \"FA0021354\"\n",
    "    })\n",
    "\n",
    "    response.raise_for_status()\n",
    "    #\"FacilityName\": \"pluto's\"\n",
    "\n",
    "    # Different ways to attach data to a POST request:\n",
    "    # With data=, we get a query string\n",
    "    #   FacilityName=pluto's\n",
    "\n",
    "    # With json=, we get a json object\n",
    "\n",
    "    return response.json()\n",
    "\n",
    "\n",
    "get_health_info(\"A\")"
   ]
  },
  {
   "cell_type": "markdown",
   "metadata": {},
   "source": [
    "We could reverse engineer other parts of the API to get detailed data about health violations."
   ]
  },
  {
   "cell_type": "markdown",
   "metadata": {},
   "source": [
    "### Private API\n",
    "\n",
    "Tutorial: https://github.com/ping/instagram_private_api\n",
    "\n",
    "\n",
    "Here is the youtube video that talks undocumented API in more details: https://www.youtube.com/watch?v=pAHxtiQVL60&list=WL&index=50&t=731s"
   ]
  },
  {
   "cell_type": "markdown",
   "metadata": {},
   "source": [
    "## Web Scraping"
   ]
  },
  {
   "cell_type": "markdown",
   "metadata": {},
   "source": [
    "### What makes a web page?\n",
    "\n",
    "Web pages are written in _hypertext markup language_ (HTML). HTML files (`.htm` or `.html`) are plain text, just like JSON, Python scripts, and R scripts.\n",
    "\n",
    "In HTML, we use _tags_ to create _elements_ of a web page. Elements add formatting and structure to the page.\n",
    "\n",
    "* Tags usually come in pairs: an opening tag and a closing tag.\n",
    "* Tags are written `<NAME>` for opening tags, `</NAME>` for closing tags, and `<NAME />` for singleton tags.\n",
    "* Opening and singleton tags can have _attributes_ that contain additional information. Attributes are written `ATTRIBUTE=VALUE` after the tag name. \n",
    "\n",
    "See [here](https://developer.mozilla.org/en-US/docs/Learn/Getting_started_with_the_web/HTML_basics) for a more detailed explanation, and [here](https://developer.mozilla.org/en-US/docs/Web/HTML/Element) for a list of valid HTML elements.\n",
    "\n",
    "#### Examples\n",
    "\n",
    "As an example:\n",
    "\n",
    "```html\n",
    "<p>This page is famous and this <b>word</b> is emphasized.</p>\n",
    "```\n",
    "\n",
    "```html\n",
    "<p>This <a href=\"https://www.youtube.com/watch?v=dQw4w9WgXcQ\">page</a> is famous and this <strong>word</strong> is emphasized.</p>\n",
    "```\n",
    "\n",
    "```html\n",
    "<li>1. Something</li>\n",
    "```\n",
    "The `p` tag marks a paragraph, the `a` tag marks a link (an _anchor_), the `strong` tag marks emphasized text,\n",
    "and `li` tag marks a list.\n",
    "\n",
    "Here's a string that contains HTML for a simple, complete website:"
   ]
  },
  {
   "cell_type": "code",
   "execution_count": 23,
   "metadata": {},
   "outputs": [],
   "source": [
    "page = \"\"\"\n",
    "<html> \n",
    "<head>\n",
    "    <title>This is the Title!</title>\n",
    "</head>\n",
    "\n",
    "<body>\n",
    "    <p>This is a paragraph!</p>\n",
    "    <p id=\"best-paragraph\">This is another paragraph! &#127790;</p>\n",
    "    <p>Visit <a hrep=\"https://pudding.cool\">The Pudding</a>.</p>\n",
    "    <span>This is a span, it comes with an taco &#127790;</span>\n",
    "</body>\n",
    "\n",
    "<body>\n",
    "    <p>This is a new paragraph!</p>\n",
    "</body>\n",
    "\n",
    "</html>\n",
    "\"\"\""
   ]
  },
  {
   "cell_type": "code",
   "execution_count": 24,
   "metadata": {},
   "outputs": [
    {
     "data": {
      "text/plain": [
       "'\\n<html> \\n<head>\\n    <title>This is the Title!</title>\\n</head>\\n\\n<body>\\n    <p>This is a paragraph!</p>\\n    <p id=\"best-paragraph\">This is another paragraph! &#127790;</p>\\n    <p>Visit <a hrep=\"https://pudding.cool\">The Pudding</a>.</p>\\n    <span>This is a span, it comes with an taco &#127790;</span>\\n</body>\\n\\n<body>\\n    <p>This is a new paragraph!</p>\\n</body>\\n\\n</html>\\n'"
      ]
     },
     "execution_count": 24,
     "metadata": {},
     "output_type": "execute_result"
    }
   ],
   "source": [
    "page"
   ]
  },
  {
   "cell_type": "markdown",
   "metadata": {},
   "source": [
    "_Extensible markup language_ (XML) also uses tags to create elements. We say XML is _extensible_ because you can create your own XML elements (unlike HTML). People typically use XML to describe structure and meaning of data, rather than for formatting.\n",
    "\n",
    "We'll use the same process to extract data from both HTML and XML."
   ]
  },
  {
   "cell_type": "markdown",
   "metadata": {},
   "source": [
    "### Helper Packages\n",
    "\n",
    "A _parser_ converts formatted data into familiar data structures. We've used __requests__' built-in JSON parser, but the package doesn't have a built-in HTML/XML parser. Fortunately, there are many other Python packages for parsing HTML/XML and web scraping.\n",
    "\n",
    "HTML/XML Parsers:\n",
    "* [lxml](https://lxml.de/)\n",
    "* [html5lib](https://github.com/html5lib/html5lib-python)\n",
    "* [beautifulsoup](https://www.crummy.com/software/BeautifulSoup/)\n",
    "* [requests-html](https://docs.python-requests.org/projects/requests-html/en/latest/)\n",
    "\n",
    "Scraper Frameworks (_convenient after learning the basics with parsers_):\n",
    "* [scrapy](https://scrapy.org/)\n",
    "* [newspaper3k](https://github.com/codelucas/newspaper)\n",
    "\n",
    "Even more [here](https://github.com/lorien/awesome-web-scraping/blob/master/python.md#web-scraping-frameworks).\n",
    "\n",
    "We'll use __lxml__ here, but you're welcome to use other packages on assignments and the project. To install __lxml__ for Anaconda, run `conda install -c anaconda lxml` in a shell."
   ]
  },
  {
   "cell_type": "code",
   "execution_count": 7,
   "metadata": {},
   "outputs": [
    {
     "data": {
      "text/plain": [
       "<Element html at 0x7f7d41157b80>"
      ]
     },
     "execution_count": 7,
     "metadata": {},
     "output_type": "execute_result"
    }
   ],
   "source": [
    "import lxml.html as lx\n",
    "\n",
    "html = lx.fromstring(page)\n",
    "html"
   ]
  },
  {
   "cell_type": "markdown",
   "metadata": {},
   "source": [
    "### Finding Elements\n",
    "\n",
    "Elements are nested, so an HTML document is like a tree:\n",
    "```\n",
    "html\n",
    "├── head\n",
    "│   └── title\n",
    "└── body\n",
    "    ├── p\n",
    "    ├── p\n",
    "    ├── p\n",
    "    │   └── a\n",
    "    └── span\n",
    "```\n",
    "This is similar to the file system on your computer. The key difference is that elements at the same level can have the same tag name."
   ]
  },
  {
   "cell_type": "markdown",
   "metadata": {},
   "source": [
    "#### XPath\n",
    "\n",
    "The _XML Path Language_ (XPath) lets us write paths to elements. XPath paths look a lot like file paths. XPath is not Python-specific!\n",
    "\n",
    "The `.xpath()` method gets all elements at an XPath path:"
   ]
  },
  {
   "cell_type": "code",
   "execution_count": 25,
   "metadata": {},
   "outputs": [
    {
     "data": {
      "text/plain": [
       "[<Element title at 0x7f7d41196770>]"
      ]
     },
     "execution_count": 25,
     "metadata": {},
     "output_type": "execute_result"
    }
   ],
   "source": [
    "html.xpath(\"/html/head/title\")"
   ]
  },
  {
   "cell_type": "code",
   "execution_count": 26,
   "metadata": {},
   "outputs": [
    {
     "data": {
      "text/plain": [
       "[<Element body at 0x7f7d41194f90>]"
      ]
     },
     "execution_count": 26,
     "metadata": {},
     "output_type": "execute_result"
    }
   ],
   "source": [
    "html.xpath(\"/html/body\")"
   ]
  },
  {
   "cell_type": "markdown",
   "metadata": {},
   "source": [
    "Since there may be more than one element, the method always returns a list.\n",
    "\n",
    "Absolute paths are not robust for scraping. An update to a web page that adds a single tag can break a scraper that uses absolute paths. In XPath, `//` means \"anywhere below\". We'll use `//` often because it's more robust:"
   ]
  },
  {
   "cell_type": "code",
   "execution_count": 27,
   "metadata": {},
   "outputs": [
    {
     "data": {
      "text/plain": [
       "[<Element a at 0x7f7d41194cc0>]"
      ]
     },
     "execution_count": 27,
     "metadata": {},
     "output_type": "execute_result"
    }
   ],
   "source": [
    "html.xpath(\"/html/body//a\")"
   ]
  },
  {
   "cell_type": "markdown",
   "metadata": {},
   "source": [
    "What if we just elements that satisfy a certain condition? In XPath, `[ ]` filters out elements that don't match a condition. For example:"
   ]
  },
  {
   "cell_type": "code",
   "execution_count": 13,
   "metadata": {},
   "outputs": [
    {
     "data": {
      "text/plain": [
       "[<Element p at 0x7f7d41193ef0>]"
      ]
     },
     "execution_count": 13,
     "metadata": {},
     "output_type": "execute_result"
    }
   ],
   "source": [
    "html.xpath(\"//p[@id = 'best-paragraph']\")"
   ]
  },
  {
   "cell_type": "markdown",
   "metadata": {},
   "source": [
    "[XPath Diner](http://www.topswagcode.com/xpath/) is an interactive tutorial that teaches most of the XPath syntax. It takes about 20-60 minutes. Work through it to become an XPath ninja!"
   ]
  },
  {
   "cell_type": "markdown",
   "metadata": {},
   "source": [
    "#### CSS Selectors\n",
    "\n",
    "_Cascading Style Sheets_ (CSS) is another language for formatting elements in an HTML document. CSS provides another way to select elements, called _CSS selectors_.\n",
    "\n",
    "CSS selectors are more concise but less flexible than XPath paths. The `.cssselect()` method gets all elements at a CSS selector:"
   ]
  },
  {
   "cell_type": "code",
   "execution_count": 16,
   "metadata": {},
   "outputs": [
    {
     "data": {
      "text/plain": [
       "[<Element body at 0x7f7d41194f90>]"
      ]
     },
     "execution_count": 16,
     "metadata": {},
     "output_type": "execute_result"
    }
   ],
   "source": [
    "html.cssselect(\"body\")"
   ]
  },
  {
   "cell_type": "markdown",
   "metadata": {},
   "source": [
    "### Extracting Text and Attributes\n",
    "\n",
    "There are two ways to get text from an element:\n",
    "\n",
    "* `.text` gives text inside the element, but not its children\n",
    "* `.text_content()` gives text inside the element and its children, with all tags removed"
   ]
  },
  {
   "cell_type": "code",
   "execution_count": 28,
   "metadata": {},
   "outputs": [
    {
     "data": {
      "text/plain": [
       "'This is another paragraph! 🌮'"
      ]
     },
     "execution_count": 28,
     "metadata": {},
     "output_type": "execute_result"
    }
   ],
   "source": [
    "p = html.xpath(\"//p[@id = 'best-paragraph']\")[0]\n",
    "p.text_content()"
   ]
  },
  {
   "cell_type": "code",
   "execution_count": 29,
   "metadata": {},
   "outputs": [
    {
     "data": {
      "text/plain": [
       "'This is another paragraph! 🌮'"
      ]
     },
     "execution_count": 29,
     "metadata": {},
     "output_type": "execute_result"
    }
   ],
   "source": [
    "p.text"
   ]
  },
  {
   "cell_type": "code",
   "execution_count": 32,
   "metadata": {},
   "outputs": [
    {
     "data": {
      "text/plain": [
       "' \\n\\n    This is the Title!\\n\\n\\n\\n    This is a paragraph!\\n    This is another paragraph! 🌮\\n    Visit The Pudding.\\n\\n\\n\\n'"
      ]
     },
     "execution_count": 32,
     "metadata": {},
     "output_type": "execute_result"
    }
   ],
   "source": [
    "html.text_content()"
   ]
  },
  {
   "cell_type": "code",
   "execution_count": 33,
   "metadata": {},
   "outputs": [
    {
     "data": {
      "text/plain": [
       "' \\n'"
      ]
     },
     "execution_count": 33,
     "metadata": {},
     "output_type": "execute_result"
    }
   ],
   "source": [
    "html.text"
   ]
  },
  {
   "cell_type": "markdown",
   "metadata": {},
   "source": [
    "We can get values from attributes on an element with `.attrib`, which is a dictionary:"
   ]
  },
  {
   "cell_type": "code",
   "execution_count": 34,
   "metadata": {},
   "outputs": [
    {
     "data": {
      "text/plain": [
       "'best-paragraph'"
      ]
     },
     "execution_count": 34,
     "metadata": {},
     "output_type": "execute_result"
    }
   ],
   "source": [
    "p.attrib[\"id\"]"
   ]
  },
  {
   "cell_type": "code",
   "execution_count": 36,
   "metadata": {},
   "outputs": [
    {
     "data": {
      "text/plain": [
       "['https://pudding.cool']"
      ]
     },
     "execution_count": 36,
     "metadata": {},
     "output_type": "execute_result"
    }
   ],
   "source": [
    "[x.attrib[\"hrep\"] for x in html.xpath(\"//a\")]"
   ]
  },
  {
   "cell_type": "markdown",
   "metadata": {},
   "source": [
    "### Example: Scraping Tables\n",
    "\n",
    "For data in a `table` element, we can use __Pandas__ instead of writing a scraper.\n",
    "\n",
    "Wikipedia provides lots of useful information in tables. Let's get the Wikipedia list of [US cities by area][wiki].\n",
    "\n",
    "[wiki]: https://en.wikipedia.org/wiki/List_of_United_States_cities_by_area"
   ]
  },
  {
   "cell_type": "code",
   "execution_count": 37,
   "metadata": {},
   "outputs": [],
   "source": [
    "import pandas as pd"
   ]
  },
  {
   "cell_type": "code",
   "execution_count": 46,
   "metadata": {},
   "outputs": [
    {
     "data": {
      "text/html": [
       "<div>\n",
       "<style scoped>\n",
       "    .dataframe tbody tr th:only-of-type {\n",
       "        vertical-align: middle;\n",
       "    }\n",
       "\n",
       "    .dataframe tbody tr th {\n",
       "        vertical-align: top;\n",
       "    }\n",
       "\n",
       "    .dataframe thead th {\n",
       "        text-align: right;\n",
       "    }\n",
       "</style>\n",
       "<table border=\"1\" class=\"dataframe\">\n",
       "  <thead>\n",
       "    <tr style=\"text-align: right;\">\n",
       "      <th></th>\n",
       "      <th>Rank</th>\n",
       "      <th>City</th>\n",
       "      <th>State</th>\n",
       "      <th>Land area (sq mi)</th>\n",
       "      <th>Land area (km2)</th>\n",
       "      <th>Water area (sq mi)</th>\n",
       "      <th>Water area (km2)</th>\n",
       "      <th>Total area (sq mi)</th>\n",
       "      <th>Total area (km2)</th>\n",
       "      <th>Population (2020)[2]</th>\n",
       "    </tr>\n",
       "  </thead>\n",
       "  <tbody>\n",
       "    <tr>\n",
       "      <th>0</th>\n",
       "      <td>1</td>\n",
       "      <td>Sitka</td>\n",
       "      <td>Alaska</td>\n",
       "      <td>2870.1</td>\n",
       "      <td>7434</td>\n",
       "      <td>1945.1</td>\n",
       "      <td>5038.0</td>\n",
       "      <td>4815.1</td>\n",
       "      <td>12471</td>\n",
       "      <td>8458</td>\n",
       "    </tr>\n",
       "    <tr>\n",
       "      <th>1</th>\n",
       "      <td>2</td>\n",
       "      <td>Juneau</td>\n",
       "      <td>Alaska</td>\n",
       "      <td>2704.0</td>\n",
       "      <td>7003</td>\n",
       "      <td>550.7</td>\n",
       "      <td>1426.0</td>\n",
       "      <td>3254.7</td>\n",
       "      <td>8430</td>\n",
       "      <td>32255</td>\n",
       "    </tr>\n",
       "    <tr>\n",
       "      <th>2</th>\n",
       "      <td>3</td>\n",
       "      <td>Wrangell</td>\n",
       "      <td>Alaska</td>\n",
       "      <td>2556.0</td>\n",
       "      <td>6620</td>\n",
       "      <td>920.6</td>\n",
       "      <td>2384.0</td>\n",
       "      <td>3476.6</td>\n",
       "      <td>9004</td>\n",
       "      <td>2127</td>\n",
       "    </tr>\n",
       "    <tr>\n",
       "      <th>3</th>\n",
       "      <td>4</td>\n",
       "      <td>Anchorage</td>\n",
       "      <td>Alaska</td>\n",
       "      <td>1706.8</td>\n",
       "      <td>4421</td>\n",
       "      <td>239.9</td>\n",
       "      <td>621.0</td>\n",
       "      <td>1946.7</td>\n",
       "      <td>5042</td>\n",
       "      <td>291247</td>\n",
       "    </tr>\n",
       "    <tr>\n",
       "      <th>4</th>\n",
       "      <td>5</td>\n",
       "      <td>Tribune [note 1]*</td>\n",
       "      <td>Kansas</td>\n",
       "      <td>778.2</td>\n",
       "      <td>2016</td>\n",
       "      <td>0.0</td>\n",
       "      <td>0.0</td>\n",
       "      <td>778.2</td>\n",
       "      <td>2016</td>\n",
       "      <td>1182</td>\n",
       "    </tr>\n",
       "    <tr>\n",
       "      <th>5</th>\n",
       "      <td>6</td>\n",
       "      <td>Jacksonville</td>\n",
       "      <td>Florida</td>\n",
       "      <td>747.3</td>\n",
       "      <td>1935</td>\n",
       "      <td>127.2</td>\n",
       "      <td>329.0</td>\n",
       "      <td>874.5</td>\n",
       "      <td>2265</td>\n",
       "      <td>949611</td>\n",
       "    </tr>\n",
       "    <tr>\n",
       "      <th>6</th>\n",
       "      <td>7</td>\n",
       "      <td>Anaconda</td>\n",
       "      <td>Montana</td>\n",
       "      <td>736.7</td>\n",
       "      <td>1908</td>\n",
       "      <td>4.7</td>\n",
       "      <td>12.0</td>\n",
       "      <td>741.4</td>\n",
       "      <td>1920</td>\n",
       "      <td>9421</td>\n",
       "    </tr>\n",
       "    <tr>\n",
       "      <th>7</th>\n",
       "      <td>8</td>\n",
       "      <td>Butte *</td>\n",
       "      <td>Montana</td>\n",
       "      <td>715.8</td>\n",
       "      <td>1854</td>\n",
       "      <td>0.6</td>\n",
       "      <td>1.6</td>\n",
       "      <td>716.3</td>\n",
       "      <td>1855</td>\n",
       "      <td>34494</td>\n",
       "    </tr>\n",
       "    <tr>\n",
       "      <th>8</th>\n",
       "      <td>9</td>\n",
       "      <td>Houston</td>\n",
       "      <td>Texas</td>\n",
       "      <td>640.4</td>\n",
       "      <td>1659</td>\n",
       "      <td>31.2</td>\n",
       "      <td>81.0</td>\n",
       "      <td>671.7</td>\n",
       "      <td>1740</td>\n",
       "      <td>2304580</td>\n",
       "    </tr>\n",
       "    <tr>\n",
       "      <th>9</th>\n",
       "      <td>10</td>\n",
       "      <td>Oklahoma City</td>\n",
       "      <td>Oklahoma</td>\n",
       "      <td>606.2</td>\n",
       "      <td>1570</td>\n",
       "      <td>14.3</td>\n",
       "      <td>37.0</td>\n",
       "      <td>620.5</td>\n",
       "      <td>1607</td>\n",
       "      <td>681054</td>\n",
       "    </tr>\n",
       "  </tbody>\n",
       "</table>\n",
       "</div>"
      ],
      "text/plain": [
       "   Rank               City     State  Land area (sq mi)  Land area (km2)  \\\n",
       "0     1              Sitka    Alaska             2870.1             7434   \n",
       "1     2             Juneau    Alaska             2704.0             7003   \n",
       "2     3           Wrangell    Alaska             2556.0             6620   \n",
       "3     4          Anchorage    Alaska             1706.8             4421   \n",
       "4     5  Tribune [note 1]*    Kansas              778.2             2016   \n",
       "5     6       Jacksonville   Florida              747.3             1935   \n",
       "6     7           Anaconda   Montana              736.7             1908   \n",
       "7     8            Butte *   Montana              715.8             1854   \n",
       "8     9            Houston     Texas              640.4             1659   \n",
       "9    10      Oklahoma City  Oklahoma              606.2             1570   \n",
       "\n",
       "   Water area (sq mi)  Water area (km2)  Total area (sq mi)  Total area (km2)  \\\n",
       "0              1945.1            5038.0              4815.1             12471   \n",
       "1               550.7            1426.0              3254.7              8430   \n",
       "2               920.6            2384.0              3476.6              9004   \n",
       "3               239.9             621.0              1946.7              5042   \n",
       "4                 0.0               0.0               778.2              2016   \n",
       "5               127.2             329.0               874.5              2265   \n",
       "6                 4.7              12.0               741.4              1920   \n",
       "7                 0.6               1.6               716.3              1855   \n",
       "8                31.2              81.0               671.7              1740   \n",
       "9                14.3              37.0               620.5              1607   \n",
       "\n",
       "   Population (2020)[2]  \n",
       "0                  8458  \n",
       "1                 32255  \n",
       "2                  2127  \n",
       "3                291247  \n",
       "4                  1182  \n",
       "5                949611  \n",
       "6                  9421  \n",
       "7                 34494  \n",
       "8               2304580  \n",
       "9                681054  "
      ]
     },
     "execution_count": 46,
     "metadata": {},
     "output_type": "execute_result"
    }
   ],
   "source": [
    "tabs = pd.read_html(\"https://en.wikipedia.org/wiki/List_of_United_States_cities_by_area\")\n",
    "# tbl = tabs[1]\n",
    "# tbl\n",
    "tbl = tabs[1]\n",
    "tbl.head(n = 10)"
   ]
  },
  {
   "cell_type": "code",
   "execution_count": 45,
   "metadata": {},
   "outputs": [
    {
     "data": {
      "text/plain": [
       "2"
      ]
     },
     "execution_count": 45,
     "metadata": {},
     "output_type": "execute_result"
    }
   ],
   "source": [
    "len(tabs)"
   ]
  },
  {
   "cell_type": "code",
   "execution_count": 51,
   "metadata": {},
   "outputs": [],
   "source": [
    "tabs = pd.read_html(\"https://en.wikipedia.org/wiki/List_of_United_States_cities_by_area\")\n",
    "tbl = tabs[1]\n",
    "\n",
    "def strip_footnote(x):\n",
    "    \"\"\"This function removes bracketed footnotes, such as '[1]'.\"\"\"\n",
    "    if pd.isna(x):\n",
    "        return x\n",
    "    \n",
    "    return x.partition(\"[\")[0]"
   ]
  },
  {
   "cell_type": "code",
   "execution_count": 52,
   "metadata": {},
   "outputs": [
    {
     "data": {
      "text/plain": [
       "['Rank',\n",
       " 'City',\n",
       " 'State',\n",
       " 'Land area (sq\\xa0mi)',\n",
       " 'Land area (km2)',\n",
       " 'Water area (sq\\xa0mi)',\n",
       " 'Water area (km2)',\n",
       " 'Total area (sq\\xa0mi)',\n",
       " 'Total area (km2)',\n",
       " 'Population (2020)[2]']"
      ]
     },
     "execution_count": 52,
     "metadata": {},
     "output_type": "execute_result"
    }
   ],
   "source": [
    "# combine table headers into a row and remove footnote\n",
    "cols = list(tbl.columns.get_level_values(0))\n",
    "cols"
   ]
  },
  {
   "cell_type": "code",
   "execution_count": 53,
   "metadata": {},
   "outputs": [],
   "source": [
    "tbl.columns = [strip_footnote(c).title() for c in cols]"
   ]
  },
  {
   "cell_type": "code",
   "execution_count": 54,
   "metadata": {},
   "outputs": [
    {
     "data": {
      "text/plain": [
       "Index(['Rank', 'City', 'State', 'Land Area (Sq Mi)', 'Land Area (Km2)',\n",
       "       'Water Area (Sq Mi)', 'Water Area (Km2)', 'Total Area (Sq Mi)',\n",
       "       'Total Area (Km2)', 'Population (2020)'],\n",
       "      dtype='object')"
      ]
     },
     "execution_count": 54,
     "metadata": {},
     "output_type": "execute_result"
    }
   ],
   "source": [
    "tbl.columns"
   ]
  },
  {
   "cell_type": "code",
   "execution_count": 55,
   "metadata": {},
   "outputs": [
    {
     "ename": "AttributeError",
     "evalue": "'int' object has no attribute 'partition'",
     "output_type": "error",
     "traceback": [
      "\u001b[0;31m---------------------------------------------------------------------------\u001b[0m",
      "\u001b[0;31mAttributeError\u001b[0m                            Traceback (most recent call last)",
      "\u001b[0;32m<ipython-input-55-f1d8260d5d60>\u001b[0m in \u001b[0;36m<module>\u001b[0;34m\u001b[0m\n\u001b[0;32m----> 1\u001b[0;31m \u001b[0mtbl\u001b[0m \u001b[0;34m=\u001b[0m \u001b[0mtbl\u001b[0m\u001b[0;34m.\u001b[0m\u001b[0mapplymap\u001b[0m\u001b[0;34m(\u001b[0m\u001b[0mstrip_footnote\u001b[0m\u001b[0;34m)\u001b[0m\u001b[0;34m\u001b[0m\u001b[0;34m\u001b[0m\u001b[0m\n\u001b[0m",
      "\u001b[0;32m~/opt/anaconda3/lib/python3.8/site-packages/pandas/core/frame.py\u001b[0m in \u001b[0;36mapplymap\u001b[0;34m(self, func, na_action)\u001b[0m\n\u001b[1;32m   7842\u001b[0m             \u001b[0;32mreturn\u001b[0m \u001b[0mlib\u001b[0m\u001b[0;34m.\u001b[0m\u001b[0mmap_infer\u001b[0m\u001b[0;34m(\u001b[0m\u001b[0mx\u001b[0m\u001b[0;34m.\u001b[0m\u001b[0mastype\u001b[0m\u001b[0;34m(\u001b[0m\u001b[0mobject\u001b[0m\u001b[0;34m)\u001b[0m\u001b[0;34m.\u001b[0m\u001b[0m_values\u001b[0m\u001b[0;34m,\u001b[0m \u001b[0mfunc\u001b[0m\u001b[0;34m,\u001b[0m \u001b[0mignore_na\u001b[0m\u001b[0;34m=\u001b[0m\u001b[0mignore_na\u001b[0m\u001b[0;34m)\u001b[0m\u001b[0;34m\u001b[0m\u001b[0;34m\u001b[0m\u001b[0m\n\u001b[1;32m   7843\u001b[0m \u001b[0;34m\u001b[0m\u001b[0m\n\u001b[0;32m-> 7844\u001b[0;31m         \u001b[0;32mreturn\u001b[0m \u001b[0mself\u001b[0m\u001b[0;34m.\u001b[0m\u001b[0mapply\u001b[0m\u001b[0;34m(\u001b[0m\u001b[0minfer\u001b[0m\u001b[0;34m)\u001b[0m\u001b[0;34m.\u001b[0m\u001b[0m__finalize__\u001b[0m\u001b[0;34m(\u001b[0m\u001b[0mself\u001b[0m\u001b[0;34m,\u001b[0m \u001b[0;34m\"applymap\"\u001b[0m\u001b[0;34m)\u001b[0m\u001b[0;34m\u001b[0m\u001b[0;34m\u001b[0m\u001b[0m\n\u001b[0m\u001b[1;32m   7845\u001b[0m \u001b[0;34m\u001b[0m\u001b[0m\n\u001b[1;32m   7846\u001b[0m     \u001b[0;31m# ----------------------------------------------------------------------\u001b[0m\u001b[0;34m\u001b[0m\u001b[0;34m\u001b[0m\u001b[0;34m\u001b[0m\u001b[0m\n",
      "\u001b[0;32m~/opt/anaconda3/lib/python3.8/site-packages/pandas/core/frame.py\u001b[0m in \u001b[0;36mapply\u001b[0;34m(self, func, axis, raw, result_type, args, **kwds)\u001b[0m\n\u001b[1;32m   7766\u001b[0m             \u001b[0mkwds\u001b[0m\u001b[0;34m=\u001b[0m\u001b[0mkwds\u001b[0m\u001b[0;34m,\u001b[0m\u001b[0;34m\u001b[0m\u001b[0;34m\u001b[0m\u001b[0m\n\u001b[1;32m   7767\u001b[0m         )\n\u001b[0;32m-> 7768\u001b[0;31m         \u001b[0;32mreturn\u001b[0m \u001b[0mop\u001b[0m\u001b[0;34m.\u001b[0m\u001b[0mget_result\u001b[0m\u001b[0;34m(\u001b[0m\u001b[0;34m)\u001b[0m\u001b[0;34m\u001b[0m\u001b[0;34m\u001b[0m\u001b[0m\n\u001b[0m\u001b[1;32m   7769\u001b[0m \u001b[0;34m\u001b[0m\u001b[0m\n\u001b[1;32m   7770\u001b[0m     \u001b[0;32mdef\u001b[0m \u001b[0mapplymap\u001b[0m\u001b[0;34m(\u001b[0m\u001b[0mself\u001b[0m\u001b[0;34m,\u001b[0m \u001b[0mfunc\u001b[0m\u001b[0;34m,\u001b[0m \u001b[0mna_action\u001b[0m\u001b[0;34m:\u001b[0m \u001b[0mOptional\u001b[0m\u001b[0;34m[\u001b[0m\u001b[0mstr\u001b[0m\u001b[0;34m]\u001b[0m \u001b[0;34m=\u001b[0m \u001b[0;32mNone\u001b[0m\u001b[0;34m)\u001b[0m \u001b[0;34m->\u001b[0m \u001b[0mDataFrame\u001b[0m\u001b[0;34m:\u001b[0m\u001b[0;34m\u001b[0m\u001b[0;34m\u001b[0m\u001b[0m\n",
      "\u001b[0;32m~/opt/anaconda3/lib/python3.8/site-packages/pandas/core/apply.py\u001b[0m in \u001b[0;36mget_result\u001b[0;34m(self)\u001b[0m\n\u001b[1;32m    183\u001b[0m             \u001b[0;32mreturn\u001b[0m \u001b[0mself\u001b[0m\u001b[0;34m.\u001b[0m\u001b[0mapply_raw\u001b[0m\u001b[0;34m(\u001b[0m\u001b[0;34m)\u001b[0m\u001b[0;34m\u001b[0m\u001b[0;34m\u001b[0m\u001b[0m\n\u001b[1;32m    184\u001b[0m \u001b[0;34m\u001b[0m\u001b[0m\n\u001b[0;32m--> 185\u001b[0;31m         \u001b[0;32mreturn\u001b[0m \u001b[0mself\u001b[0m\u001b[0;34m.\u001b[0m\u001b[0mapply_standard\u001b[0m\u001b[0;34m(\u001b[0m\u001b[0;34m)\u001b[0m\u001b[0;34m\u001b[0m\u001b[0;34m\u001b[0m\u001b[0m\n\u001b[0m\u001b[1;32m    186\u001b[0m \u001b[0;34m\u001b[0m\u001b[0m\n\u001b[1;32m    187\u001b[0m     \u001b[0;32mdef\u001b[0m \u001b[0mapply_empty_result\u001b[0m\u001b[0;34m(\u001b[0m\u001b[0mself\u001b[0m\u001b[0;34m)\u001b[0m\u001b[0;34m:\u001b[0m\u001b[0;34m\u001b[0m\u001b[0;34m\u001b[0m\u001b[0m\n",
      "\u001b[0;32m~/opt/anaconda3/lib/python3.8/site-packages/pandas/core/apply.py\u001b[0m in \u001b[0;36mapply_standard\u001b[0;34m(self)\u001b[0m\n\u001b[1;32m    274\u001b[0m \u001b[0;34m\u001b[0m\u001b[0m\n\u001b[1;32m    275\u001b[0m     \u001b[0;32mdef\u001b[0m \u001b[0mapply_standard\u001b[0m\u001b[0;34m(\u001b[0m\u001b[0mself\u001b[0m\u001b[0;34m)\u001b[0m\u001b[0;34m:\u001b[0m\u001b[0;34m\u001b[0m\u001b[0;34m\u001b[0m\u001b[0m\n\u001b[0;32m--> 276\u001b[0;31m         \u001b[0mresults\u001b[0m\u001b[0;34m,\u001b[0m \u001b[0mres_index\u001b[0m \u001b[0;34m=\u001b[0m \u001b[0mself\u001b[0m\u001b[0;34m.\u001b[0m\u001b[0mapply_series_generator\u001b[0m\u001b[0;34m(\u001b[0m\u001b[0;34m)\u001b[0m\u001b[0;34m\u001b[0m\u001b[0;34m\u001b[0m\u001b[0m\n\u001b[0m\u001b[1;32m    277\u001b[0m \u001b[0;34m\u001b[0m\u001b[0m\n\u001b[1;32m    278\u001b[0m         \u001b[0;31m# wrap results\u001b[0m\u001b[0;34m\u001b[0m\u001b[0;34m\u001b[0m\u001b[0;34m\u001b[0m\u001b[0m\n",
      "\u001b[0;32m~/opt/anaconda3/lib/python3.8/site-packages/pandas/core/apply.py\u001b[0m in \u001b[0;36mapply_series_generator\u001b[0;34m(self)\u001b[0m\n\u001b[1;32m    288\u001b[0m             \u001b[0;32mfor\u001b[0m \u001b[0mi\u001b[0m\u001b[0;34m,\u001b[0m \u001b[0mv\u001b[0m \u001b[0;32min\u001b[0m \u001b[0menumerate\u001b[0m\u001b[0;34m(\u001b[0m\u001b[0mseries_gen\u001b[0m\u001b[0;34m)\u001b[0m\u001b[0;34m:\u001b[0m\u001b[0;34m\u001b[0m\u001b[0;34m\u001b[0m\u001b[0m\n\u001b[1;32m    289\u001b[0m                 \u001b[0;31m# ignore SettingWithCopy here in case the user mutates\u001b[0m\u001b[0;34m\u001b[0m\u001b[0;34m\u001b[0m\u001b[0;34m\u001b[0m\u001b[0m\n\u001b[0;32m--> 290\u001b[0;31m                 \u001b[0mresults\u001b[0m\u001b[0;34m[\u001b[0m\u001b[0mi\u001b[0m\u001b[0;34m]\u001b[0m \u001b[0;34m=\u001b[0m \u001b[0mself\u001b[0m\u001b[0;34m.\u001b[0m\u001b[0mf\u001b[0m\u001b[0;34m(\u001b[0m\u001b[0mv\u001b[0m\u001b[0;34m)\u001b[0m\u001b[0;34m\u001b[0m\u001b[0;34m\u001b[0m\u001b[0m\n\u001b[0m\u001b[1;32m    291\u001b[0m                 \u001b[0;32mif\u001b[0m \u001b[0misinstance\u001b[0m\u001b[0;34m(\u001b[0m\u001b[0mresults\u001b[0m\u001b[0;34m[\u001b[0m\u001b[0mi\u001b[0m\u001b[0;34m]\u001b[0m\u001b[0;34m,\u001b[0m \u001b[0mABCSeries\u001b[0m\u001b[0;34m)\u001b[0m\u001b[0;34m:\u001b[0m\u001b[0;34m\u001b[0m\u001b[0;34m\u001b[0m\u001b[0m\n\u001b[1;32m    292\u001b[0m                     \u001b[0;31m# If we have a view on v, we need to make a copy because\u001b[0m\u001b[0;34m\u001b[0m\u001b[0;34m\u001b[0m\u001b[0;34m\u001b[0m\u001b[0m\n",
      "\u001b[0;32m~/opt/anaconda3/lib/python3.8/site-packages/pandas/core/frame.py\u001b[0m in \u001b[0;36minfer\u001b[0;34m(x)\u001b[0m\n\u001b[1;32m   7840\u001b[0m             \u001b[0;32mif\u001b[0m \u001b[0mx\u001b[0m\u001b[0;34m.\u001b[0m\u001b[0mempty\u001b[0m\u001b[0;34m:\u001b[0m\u001b[0;34m\u001b[0m\u001b[0;34m\u001b[0m\u001b[0m\n\u001b[1;32m   7841\u001b[0m                 \u001b[0;32mreturn\u001b[0m \u001b[0mlib\u001b[0m\u001b[0;34m.\u001b[0m\u001b[0mmap_infer\u001b[0m\u001b[0;34m(\u001b[0m\u001b[0mx\u001b[0m\u001b[0;34m,\u001b[0m \u001b[0mfunc\u001b[0m\u001b[0;34m,\u001b[0m \u001b[0mignore_na\u001b[0m\u001b[0;34m=\u001b[0m\u001b[0mignore_na\u001b[0m\u001b[0;34m)\u001b[0m\u001b[0;34m\u001b[0m\u001b[0;34m\u001b[0m\u001b[0m\n\u001b[0;32m-> 7842\u001b[0;31m             \u001b[0;32mreturn\u001b[0m \u001b[0mlib\u001b[0m\u001b[0;34m.\u001b[0m\u001b[0mmap_infer\u001b[0m\u001b[0;34m(\u001b[0m\u001b[0mx\u001b[0m\u001b[0;34m.\u001b[0m\u001b[0mastype\u001b[0m\u001b[0;34m(\u001b[0m\u001b[0mobject\u001b[0m\u001b[0;34m)\u001b[0m\u001b[0;34m.\u001b[0m\u001b[0m_values\u001b[0m\u001b[0;34m,\u001b[0m \u001b[0mfunc\u001b[0m\u001b[0;34m,\u001b[0m \u001b[0mignore_na\u001b[0m\u001b[0;34m=\u001b[0m\u001b[0mignore_na\u001b[0m\u001b[0;34m)\u001b[0m\u001b[0;34m\u001b[0m\u001b[0;34m\u001b[0m\u001b[0m\n\u001b[0m\u001b[1;32m   7843\u001b[0m \u001b[0;34m\u001b[0m\u001b[0m\n\u001b[1;32m   7844\u001b[0m         \u001b[0;32mreturn\u001b[0m \u001b[0mself\u001b[0m\u001b[0;34m.\u001b[0m\u001b[0mapply\u001b[0m\u001b[0;34m(\u001b[0m\u001b[0minfer\u001b[0m\u001b[0;34m)\u001b[0m\u001b[0;34m.\u001b[0m\u001b[0m__finalize__\u001b[0m\u001b[0;34m(\u001b[0m\u001b[0mself\u001b[0m\u001b[0;34m,\u001b[0m \u001b[0;34m\"applymap\"\u001b[0m\u001b[0;34m)\u001b[0m\u001b[0;34m\u001b[0m\u001b[0;34m\u001b[0m\u001b[0m\n",
      "\u001b[0;32mpandas/_libs/lib.pyx\u001b[0m in \u001b[0;36mpandas._libs.lib.map_infer\u001b[0;34m()\u001b[0m\n",
      "\u001b[0;32m<ipython-input-51-2d03d64a34d9>\u001b[0m in \u001b[0;36mstrip_footnote\u001b[0;34m(x)\u001b[0m\n\u001b[1;32m      7\u001b[0m         \u001b[0;32mreturn\u001b[0m \u001b[0mx\u001b[0m\u001b[0;34m\u001b[0m\u001b[0;34m\u001b[0m\u001b[0m\n\u001b[1;32m      8\u001b[0m \u001b[0;34m\u001b[0m\u001b[0m\n\u001b[0;32m----> 9\u001b[0;31m     \u001b[0;32mreturn\u001b[0m \u001b[0mx\u001b[0m\u001b[0;34m.\u001b[0m\u001b[0mpartition\u001b[0m\u001b[0;34m(\u001b[0m\u001b[0;34m\"[\"\u001b[0m\u001b[0;34m)\u001b[0m\u001b[0;34m[\u001b[0m\u001b[0;36m0\u001b[0m\u001b[0;34m]\u001b[0m\u001b[0;34m\u001b[0m\u001b[0;34m\u001b[0m\u001b[0m\n\u001b[0m",
      "\u001b[0;31mAttributeError\u001b[0m: 'int' object has no attribute 'partition'"
     ]
    }
   ],
   "source": [
    "tbl = tbl.applymap(strip_footnote)"
   ]
  },
  {
   "cell_type": "code",
   "execution_count": 56,
   "metadata": {},
   "outputs": [
    {
     "data": {
      "text/plain": [
       "Rank                    int64\n",
       "City                   object\n",
       "State                  object\n",
       "Land Area (Sq Mi)     float64\n",
       "Land Area (Km2)         int64\n",
       "Water Area (Sq Mi)    float64\n",
       "Water Area (Km2)      float64\n",
       "Total Area (Sq Mi)    float64\n",
       "Total Area (Km2)        int64\n",
       "Population (2020)       int64\n",
       "dtype: object"
      ]
     },
     "execution_count": 56,
     "metadata": {},
     "output_type": "execute_result"
    }
   ],
   "source": [
    "tbl.dtypes"
   ]
  },
  {
   "cell_type": "code",
   "execution_count": 57,
   "metadata": {},
   "outputs": [],
   "source": [
    "tbl_str = tbl.applymap(str)"
   ]
  },
  {
   "cell_type": "code",
   "execution_count": 60,
   "metadata": {},
   "outputs": [
    {
     "data": {
      "text/plain": [
       "Rank                  object\n",
       "City                  object\n",
       "State                 object\n",
       "Land Area (Sq Mi)     object\n",
       "Land Area (Km2)       object\n",
       "Water Area (Sq Mi)    object\n",
       "Water Area (Km2)      object\n",
       "Total Area (Sq Mi)    object\n",
       "Total Area (Km2)      object\n",
       "Population (2020)     object\n",
       "dtype: object"
      ]
     },
     "execution_count": 60,
     "metadata": {},
     "output_type": "execute_result"
    }
   ],
   "source": [
    "tbl_str.dtypes"
   ]
  },
  {
   "cell_type": "code",
   "execution_count": 61,
   "metadata": {},
   "outputs": [],
   "source": [
    "tbl_str = tbl_str.applymap(strip_footnote)"
   ]
  },
  {
   "cell_type": "code",
   "execution_count": 62,
   "metadata": {},
   "outputs": [
    {
     "data": {
      "text/html": [
       "<div>\n",
       "<style scoped>\n",
       "    .dataframe tbody tr th:only-of-type {\n",
       "        vertical-align: middle;\n",
       "    }\n",
       "\n",
       "    .dataframe tbody tr th {\n",
       "        vertical-align: top;\n",
       "    }\n",
       "\n",
       "    .dataframe thead th {\n",
       "        text-align: right;\n",
       "    }\n",
       "</style>\n",
       "<table border=\"1\" class=\"dataframe\">\n",
       "  <thead>\n",
       "    <tr style=\"text-align: right;\">\n",
       "      <th></th>\n",
       "      <th>Rank</th>\n",
       "      <th>City</th>\n",
       "      <th>State</th>\n",
       "      <th>Land Area (Sq Mi)</th>\n",
       "      <th>Land Area (Km2)</th>\n",
       "      <th>Water Area (Sq Mi)</th>\n",
       "      <th>Water Area (Km2)</th>\n",
       "      <th>Total Area (Sq Mi)</th>\n",
       "      <th>Total Area (Km2)</th>\n",
       "      <th>Population (2020)</th>\n",
       "    </tr>\n",
       "  </thead>\n",
       "  <tbody>\n",
       "    <tr>\n",
       "      <th>0</th>\n",
       "      <td>1</td>\n",
       "      <td>Sitka</td>\n",
       "      <td>Alaska</td>\n",
       "      <td>2870.1</td>\n",
       "      <td>7434</td>\n",
       "      <td>1945.1</td>\n",
       "      <td>5038.0</td>\n",
       "      <td>4815.1</td>\n",
       "      <td>12471</td>\n",
       "      <td>8458</td>\n",
       "    </tr>\n",
       "    <tr>\n",
       "      <th>1</th>\n",
       "      <td>2</td>\n",
       "      <td>Juneau</td>\n",
       "      <td>Alaska</td>\n",
       "      <td>2704.0</td>\n",
       "      <td>7003</td>\n",
       "      <td>550.7</td>\n",
       "      <td>1426.0</td>\n",
       "      <td>3254.7</td>\n",
       "      <td>8430</td>\n",
       "      <td>32255</td>\n",
       "    </tr>\n",
       "    <tr>\n",
       "      <th>2</th>\n",
       "      <td>3</td>\n",
       "      <td>Wrangell</td>\n",
       "      <td>Alaska</td>\n",
       "      <td>2556.0</td>\n",
       "      <td>6620</td>\n",
       "      <td>920.6</td>\n",
       "      <td>2384.0</td>\n",
       "      <td>3476.6</td>\n",
       "      <td>9004</td>\n",
       "      <td>2127</td>\n",
       "    </tr>\n",
       "    <tr>\n",
       "      <th>3</th>\n",
       "      <td>4</td>\n",
       "      <td>Anchorage</td>\n",
       "      <td>Alaska</td>\n",
       "      <td>1706.8</td>\n",
       "      <td>4421</td>\n",
       "      <td>239.9</td>\n",
       "      <td>621.0</td>\n",
       "      <td>1946.7</td>\n",
       "      <td>5042</td>\n",
       "      <td>291247</td>\n",
       "    </tr>\n",
       "    <tr>\n",
       "      <th>4</th>\n",
       "      <td>5</td>\n",
       "      <td>Tribune</td>\n",
       "      <td>Kansas</td>\n",
       "      <td>778.2</td>\n",
       "      <td>2016</td>\n",
       "      <td>0.0</td>\n",
       "      <td>0.0</td>\n",
       "      <td>778.2</td>\n",
       "      <td>2016</td>\n",
       "      <td>1182</td>\n",
       "    </tr>\n",
       "  </tbody>\n",
       "</table>\n",
       "</div>"
      ],
      "text/plain": [
       "  Rank       City   State Land Area (Sq Mi) Land Area (Km2)  \\\n",
       "0    1      Sitka  Alaska            2870.1            7434   \n",
       "1    2     Juneau  Alaska            2704.0            7003   \n",
       "2    3   Wrangell  Alaska            2556.0            6620   \n",
       "3    4  Anchorage  Alaska            1706.8            4421   \n",
       "4    5   Tribune   Kansas             778.2            2016   \n",
       "\n",
       "  Water Area (Sq Mi) Water Area (Km2) Total Area (Sq Mi) Total Area (Km2)  \\\n",
       "0             1945.1           5038.0             4815.1            12471   \n",
       "1              550.7           1426.0             3254.7             8430   \n",
       "2              920.6           2384.0             3476.6             9004   \n",
       "3              239.9            621.0             1946.7             5042   \n",
       "4                0.0              0.0              778.2             2016   \n",
       "\n",
       "  Population (2020)  \n",
       "0              8458  \n",
       "1             32255  \n",
       "2              2127  \n",
       "3            291247  \n",
       "4              1182  "
      ]
     },
     "execution_count": 62,
     "metadata": {},
     "output_type": "execute_result"
    }
   ],
   "source": [
    "tbl_str.head()"
   ]
  },
  {
   "cell_type": "code",
   "execution_count": 63,
   "metadata": {},
   "outputs": [
    {
     "data": {
      "text/plain": [
       "Rank                  object\n",
       "City                  object\n",
       "State                 object\n",
       "Land Area (Sq Mi)     object\n",
       "Land Area (Km2)       object\n",
       "Water Area (Sq Mi)    object\n",
       "Water Area (Km2)      object\n",
       "Total Area (Sq Mi)    object\n",
       "Total Area (Km2)      object\n",
       "Population (2020)     object\n",
       "dtype: object"
      ]
     },
     "execution_count": 63,
     "metadata": {},
     "output_type": "execute_result"
    }
   ],
   "source": [
    "tbl_str.dtypes"
   ]
  },
  {
   "cell_type": "code",
   "execution_count": 64,
   "metadata": {},
   "outputs": [],
   "source": [
    "tbl_str['Land Area (Km2)'] = tbl_str['Land Area (Km2)'].astype(float)"
   ]
  },
  {
   "cell_type": "code",
   "execution_count": 66,
   "metadata": {},
   "outputs": [
    {
     "data": {
      "text/plain": [
       "Rank                   object\n",
       "City                   object\n",
       "State                  object\n",
       "Land Area (Sq Mi)      object\n",
       "Land Area (Km2)       float64\n",
       "Water Area (Sq Mi)     object\n",
       "Water Area (Km2)       object\n",
       "Total Area (Sq Mi)     object\n",
       "Total Area (Km2)       object\n",
       "Population (2020)      object\n",
       "dtype: object"
      ]
     },
     "execution_count": 66,
     "metadata": {},
     "output_type": "execute_result"
    }
   ],
   "source": [
    "tbl_str.dtypes"
   ]
  }
 ],
 "metadata": {
  "kernelspec": {
   "display_name": "Python 3",
   "language": "python",
   "name": "python3"
  },
  "language_info": {
   "codemirror_mode": {
    "name": "ipython",
    "version": 3
   },
   "file_extension": ".py",
   "mimetype": "text/x-python",
   "name": "python",
   "nbconvert_exporter": "python",
   "pygments_lexer": "ipython3",
   "version": "3.8.8"
  }
 },
 "nbformat": 4,
 "nbformat_minor": 2
}
