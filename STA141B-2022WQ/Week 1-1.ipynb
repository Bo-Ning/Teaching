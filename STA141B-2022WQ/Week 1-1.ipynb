{
 "cells": [
  {
   "cell_type": "markdown",
   "id": "08a6ba22",
   "metadata": {},
   "source": [
    "# STA 141B Data & Web Technologies for Statistical Analysis\n",
    "\n",
    "\n",
    "### Announcement\n",
    "\n",
    "<ul>\n",
    "    <li> No office hour for TA this week. My office hour for this week is between 1:00pm to 2:00pm on Wednesday </li>\n",
    "    <li> Lecture notes will be posted online\n",
    "    <li> The first two lectures will be online and will be recorded. Starting next week, we will have in person class. Lectures will be recorded and uploaded on Canvas   \n",
    "</ul>\n",
    "\n",
    "\n",
    "\n",
    "### Today's syllabus\n"
   ]
  },
  {
   "cell_type": "markdown",
   "id": "7a95d7fa",
   "metadata": {},
   "source": [
    "#### 1. Install Python and Jupyter Notebook\n",
    "\n",
    "<ul>\n",
    "    <li> Download python from the webiste: https://www.python.org/downloads/ \n",
    "    <br /> We use Python 3 for this class, do not download Python 2</li>\n",
    "</ul>\n",
    "<ul>        \n",
    "    <li> Install Python notebook </li>\n",
    "    <ol>\n",
    "        <li> intall conda <mark>https://conda.io/projects/conda/en/latest/user-guide/install/index.html</mark> </li>\n",
    "        <li> go to <b>Terminal</b> </li>\n",
    "        <li> Type <mark>conda install -c conda-forge notebook</mark> </li>\n",
    "        <li> In Terminal, type <b>jupyter notebook</b> to open the notebook    \n",
    "    </ol>\n",
    "</ul> "
   ]
  },
  {
   "cell_type": "markdown",
   "id": "f881c0d3",
   "metadata": {},
   "source": [
    "#### 2. Python basics\n",
    "\n",
    "check out the python document: <mark>https://docs.python.org/3/</mark>\n",
    "<br /><mark><b>GOOGLE</b></mark> is always your best friend!"
   ]
  },
  {
   "cell_type": "code",
   "execution_count": 6,
   "id": "1c4942a6",
   "metadata": {},
   "outputs": [
    {
     "name": "stdout",
     "output_type": "stream",
     "text": [
      "Hello, World!\n"
     ]
    }
   ],
   "source": [
    "print(\"Hello, World!\")"
   ]
  },
  {
   "cell_type": "code",
   "execution_count": 7,
   "id": "9d6a63f3",
   "metadata": {},
   "outputs": [
    {
     "data": {
      "text/plain": [
       "5"
      ]
     },
     "execution_count": 7,
     "metadata": {},
     "output_type": "execute_result"
    }
   ],
   "source": [
    "# <-- this starts a comment\n",
    "# print a number\n",
    "5"
   ]
  },
  {
   "cell_type": "code",
   "execution_count": 3,
   "id": "aaff04dc",
   "metadata": {},
   "outputs": [
    {
     "data": {
      "text/plain": [
       "5"
      ]
     },
     "execution_count": 3,
     "metadata": {},
     "output_type": "execute_result"
    }
   ],
   "source": [
    "# calculate 2 + 3\n",
    "2+3"
   ]
  },
  {
   "cell_type": "code",
   "execution_count": 4,
   "id": "b07a9710",
   "metadata": {},
   "outputs": [
    {
     "data": {
      "text/plain": [
       "'hello'"
      ]
     },
     "execution_count": 4,
     "metadata": {},
     "output_type": "execute_result"
    }
   ],
   "source": [
    "# Create a strings\n",
    "'hello'"
   ]
  },
  {
   "cell_type": "code",
   "execution_count": 5,
   "id": "5a417be6",
   "metadata": {},
   "outputs": [
    {
     "data": {
      "text/plain": [
       "'hello'"
      ]
     },
     "execution_count": 5,
     "metadata": {},
     "output_type": "execute_result"
    }
   ],
   "source": [
    "\"hello\""
   ]
  },
  {
   "cell_type": "code",
   "execution_count": 8,
   "id": "13217dc6",
   "metadata": {},
   "outputs": [
    {
     "data": {
      "text/plain": [
       "True"
      ]
     },
     "execution_count": 8,
     "metadata": {},
     "output_type": "execute_result"
    }
   ],
   "source": [
    "True"
   ]
  },
  {
   "cell_type": "code",
   "execution_count": 9,
   "id": "d72ac5b9",
   "metadata": {},
   "outputs": [],
   "source": [
    "# Python does not have an NA like R\n",
    "None # more like R's NULL than NA"
   ]
  },
  {
   "cell_type": "code",
   "execution_count": 10,
   "id": "cdb38c18",
   "metadata": {},
   "outputs": [
    {
     "data": {
      "text/plain": [
       "bool"
      ]
     },
     "execution_count": 10,
     "metadata": {},
     "output_type": "execute_result"
    }
   ],
   "source": [
    "# type\n",
    "type(True)"
   ]
  },
  {
   "cell_type": "code",
   "execution_count": 11,
   "id": "44774207",
   "metadata": {},
   "outputs": [
    {
     "data": {
      "text/plain": [
       "builtin_function_or_method"
      ]
     },
     "execution_count": 11,
     "metadata": {},
     "output_type": "execute_result"
    }
   ],
   "source": [
    "type(print)"
   ]
  },
  {
   "cell_type": "code",
   "execution_count": 12,
   "id": "14a33539",
   "metadata": {},
   "outputs": [
    {
     "data": {
      "text/plain": [
       "int"
      ]
     },
     "execution_count": 12,
     "metadata": {},
     "output_type": "execute_result"
    }
   ],
   "source": [
    "type(5)"
   ]
  },
  {
   "cell_type": "code",
   "execution_count": 13,
   "id": "4ee50361",
   "metadata": {},
   "outputs": [
    {
     "data": {
      "text/plain": [
       "float"
      ]
     },
     "execution_count": 13,
     "metadata": {},
     "output_type": "execute_result"
    }
   ],
   "source": [
    "type(5.3)"
   ]
  },
  {
   "cell_type": "code",
   "execution_count": 15,
   "id": "80ecf6c9",
   "metadata": {},
   "outputs": [
    {
     "data": {
      "text/plain": [
       "6"
      ]
     },
     "execution_count": 15,
     "metadata": {},
     "output_type": "execute_result"
    }
   ],
   "source": [
    "x = 6 \n",
    "x"
   ]
  },
  {
   "cell_type": "code",
   "execution_count": 16,
   "id": "b1a20493",
   "metadata": {},
   "outputs": [],
   "source": [
    "# write a function\n",
    "def square_it(x):\n",
    "    \n",
    "    return x ** 2 # a function output x^2"
   ]
  },
  {
   "cell_type": "code",
   "execution_count": 17,
   "id": "e16c7504",
   "metadata": {},
   "outputs": [
    {
     "data": {
      "text/plain": [
       "9"
      ]
     },
     "execution_count": 17,
     "metadata": {},
     "output_type": "execute_result"
    }
   ],
   "source": [
    "square_it(3)"
   ]
  },
  {
   "cell_type": "code",
   "execution_count": 4,
   "id": "1e0c6555",
   "metadata": {},
   "outputs": [
    {
     "name": "stdout",
     "output_type": "stream",
     "text": [
      "Help on built-in function print in module builtins:\n",
      "\n",
      "print(...)\n",
      "    print(value, ..., sep=' ', end='\\n', file=sys.stdout, flush=False)\n",
      "    \n",
      "    Prints the values to a stream, or to sys.stdout by default.\n",
      "    Optional keyword arguments:\n",
      "    file:  a file-like object (stream); defaults to the current sys.stdout.\n",
      "    sep:   string inserted between values, default a space.\n",
      "    end:   string appended after the last value, default a newline.\n",
      "    flush: whether to forcibly flush the stream.\n",
      "\n"
     ]
    }
   ],
   "source": [
    "# use help\n",
    "\n",
    "help(print)"
   ]
  },
  {
   "cell_type": "code",
   "execution_count": 5,
   "id": "a64ac047",
   "metadata": {},
   "outputs": [
    {
     "ename": "SyntaxError",
     "evalue": "invalid syntax (<ipython-input-5-652c7638d02e>, line 1)",
     "output_type": "error",
     "traceback": [
      "\u001b[0;36m  File \u001b[0;32m\"<ipython-input-5-652c7638d02e>\"\u001b[0;36m, line \u001b[0;32m1\u001b[0m\n\u001b[0;31m    print? # simply put ?\u001b[0m\n\u001b[0m         ^\u001b[0m\n\u001b[0;31mSyntaxError\u001b[0m\u001b[0;31m:\u001b[0m invalid syntax\n"
     ]
    }
   ],
   "source": [
    "print? # simply put ?"
   ]
  },
  {
   "cell_type": "code",
   "execution_count": 2,
   "id": "58c6dbf4",
   "metadata": {},
   "outputs": [
    {
     "ename": "SyntaxError",
     "evalue": "invalid syntax (<ipython-input-2-4500ef0bcfc9>, line 1)",
     "output_type": "error",
     "traceback": [
      "\u001b[0;36m  File \u001b[0;32m\"<ipython-input-2-4500ef0bcfc9>\"\u001b[0;36m, line \u001b[0;32m1\u001b[0m\n\u001b[0;31m    square_it??\u001b[0m\n\u001b[0m             ^\u001b[0m\n\u001b[0;31mSyntaxError\u001b[0m\u001b[0;31m:\u001b[0m invalid syntax\n"
     ]
    }
   ],
   "source": [
    "square_it?? "
   ]
  },
  {
   "cell_type": "code",
   "execution_count": 1,
   "id": "2ffb326f",
   "metadata": {},
   "outputs": [
    {
     "data": {
      "text/plain": [
       "1"
      ]
     },
     "execution_count": 1,
     "metadata": {},
     "output_type": "execute_result"
    }
   ],
   "source": [
    "# addition, Subtraction, Multiplication, Division, Modulus, Exponentiation, Floor division\n",
    "3 + 5\n",
    "3 - 2\n",
    "3 * 2\n",
    "3 / 2\n",
    "3 % 2\n",
    "3 ** 2\n",
    "3 // 2"
   ]
  },
  {
   "cell_type": "code",
   "execution_count": 34,
   "id": "9de0b853",
   "metadata": {},
   "outputs": [
    {
     "name": "stdout",
     "output_type": "stream",
     "text": [
      "4950\n"
     ]
    }
   ],
   "source": [
    "# for loop\n",
    "# k = 0\n",
    "# for i in range(1,100):\n",
    "#     k = k + i\n",
    "#     print(k) # indentation matters in Python!\n",
    "\n",
    "k = 0\n",
    "for i in range(1,100):\n",
    "    k = k + i\n",
    "    \n",
    "print(k)"
   ]
  },
  {
   "cell_type": "code",
   "execution_count": 30,
   "id": "9f23cd98",
   "metadata": {},
   "outputs": [
    {
     "name": "stdout",
     "output_type": "stream",
     "text": [
      "apple\n",
      "banana\n",
      "cherry\n"
     ]
    }
   ],
   "source": [
    "fruits = [\"apple\", \"banana\", \"cherry\"]\n",
    "for x in fruits:\n",
    "  print(x)"
   ]
  },
  {
   "cell_type": "code",
   "execution_count": 35,
   "id": "39a566c9",
   "metadata": {},
   "outputs": [
    {
     "data": {
      "text/plain": [
       "range(0, 100)"
      ]
     },
     "execution_count": 35,
     "metadata": {},
     "output_type": "execute_result"
    }
   ],
   "source": [
    "range(100) # python starts at 0, this is different from R! "
   ]
  },
  {
   "cell_type": "code",
   "execution_count": 36,
   "id": "3fe52216",
   "metadata": {},
   "outputs": [
    {
     "data": {
      "text/plain": [
       "range(2, 100)"
      ]
     },
     "execution_count": 36,
     "metadata": {},
     "output_type": "execute_result"
    }
   ],
   "source": [
    "range(2, 100)"
   ]
  },
  {
   "cell_type": "code",
   "execution_count": null,
   "id": "7ae96a9c",
   "metadata": {},
   "outputs": [],
   "source": []
  }
 ],
 "metadata": {
  "kernelspec": {
   "display_name": "Python 3",
   "language": "python",
   "name": "python3"
  },
  "language_info": {
   "codemirror_mode": {
    "name": "ipython",
    "version": 3
   },
   "file_extension": ".py",
   "mimetype": "text/x-python",
   "name": "python",
   "nbconvert_exporter": "python",
   "pygments_lexer": "ipython3",
   "version": "3.8.8"
  }
 },
 "nbformat": 4,
 "nbformat_minor": 5
}
