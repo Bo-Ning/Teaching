{
 "cells": [
  {
   "cell_type": "markdown",
   "id": "efa2296f",
   "metadata": {},
   "source": [
    "# STA 141B - Lecture 2\n",
    "\n",
    "\n",
    "\n",
    "January 06, 2022\n",
    "\n",
    "# Announcement\n",
    "\n",
    "<ul>\n",
    "    <li> Sign up piazza, future communications will be sent via Piazza </li>\n",
    "    <li> In person instruction starts next week @ Young Hall 194 </li>\n",
    "    <li> In person course will be recorded and uploaded on Canvas </li>\n",
    "    <li> OHs updated: Jue: F 10:00 am to 12:00pm; Eunseong: W 10:00 am to 12:00pm (Zoom links on syllabus)</li>\n",
    "</ul>\n",
    "\n",
    "\n",
    "# Last time\n",
    "<ul>\n",
    "    <li> Install the Jupyter notebook, using python 3 </li>    \n",
    "</ul>    \n",
    "\n",
    "\n",
    "# Today\n",
    "\n",
    "<ul>\n",
    "    <li> python basics </li>    \n",
    "    <li> Tuple, list, and dictionaries </li>\n",
    "    <li> Methods and attribus </li>\n",
    "    <li> If, while, for statements </li>\n",
    "    <li> Modules </li>\n",
    "</ul>"
   ]
  },
  {
   "cell_type": "markdown",
   "id": "3ae5afca",
   "metadata": {},
   "source": [
    "### Python basics\n",
    "\n",
    "check out the python document: <mark>https://docs.python.org/3/</mark>\n",
    "<br /><mark><b>GOOGLE</b></mark> is always your best friend!"
   ]
  },
  {
   "cell_type": "code",
   "execution_count": 1,
   "id": "1cd17c43",
   "metadata": {},
   "outputs": [
    {
     "name": "stdout",
     "output_type": "stream",
     "text": [
      "Hello, World!\n"
     ]
    }
   ],
   "source": [
    "print(\"Hello, World!\")"
   ]
  },
  {
   "cell_type": "code",
   "execution_count": 2,
   "id": "f8f6f4be",
   "metadata": {},
   "outputs": [
    {
     "data": {
      "text/plain": [
       "5"
      ]
     },
     "execution_count": 2,
     "metadata": {},
     "output_type": "execute_result"
    }
   ],
   "source": [
    "# <-- this starts a comment\n",
    "# print a number # print shift+enter\n",
    "5"
   ]
  },
  {
   "cell_type": "code",
   "execution_count": 3,
   "id": "cbb2edaa",
   "metadata": {},
   "outputs": [
    {
     "data": {
      "text/plain": [
       "5"
      ]
     },
     "execution_count": 3,
     "metadata": {},
     "output_type": "execute_result"
    }
   ],
   "source": [
    "# calculate 2 + 3\n",
    "2+3"
   ]
  },
  {
   "cell_type": "code",
   "execution_count": 4,
   "id": "da31f9bc",
   "metadata": {},
   "outputs": [
    {
     "data": {
      "text/plain": [
       "'hello'"
      ]
     },
     "execution_count": 4,
     "metadata": {},
     "output_type": "execute_result"
    }
   ],
   "source": [
    "# Create a strings\n",
    "'hello'"
   ]
  },
  {
   "cell_type": "code",
   "execution_count": 5,
   "id": "c9b19e6f",
   "metadata": {},
   "outputs": [
    {
     "data": {
      "text/plain": [
       "'hello'"
      ]
     },
     "execution_count": 5,
     "metadata": {},
     "output_type": "execute_result"
    }
   ],
   "source": [
    "\"hello\""
   ]
  },
  {
   "cell_type": "code",
   "execution_count": 6,
   "id": "a5af7642",
   "metadata": {},
   "outputs": [
    {
     "data": {
      "text/plain": [
       "True"
      ]
     },
     "execution_count": 6,
     "metadata": {},
     "output_type": "execute_result"
    }
   ],
   "source": [
    "# Booleans represent one of two values: True or False. Boolean Values. Like T in R\n",
    "True"
   ]
  },
  {
   "cell_type": "code",
   "execution_count": 7,
   "id": "a8dc6f87",
   "metadata": {},
   "outputs": [
    {
     "data": {
      "text/plain": [
       "bool"
      ]
     },
     "execution_count": 7,
     "metadata": {},
     "output_type": "execute_result"
    }
   ],
   "source": [
    "# type\n",
    "type(True)"
   ]
  },
  {
   "cell_type": "code",
   "execution_count": 8,
   "id": "5ce364a2",
   "metadata": {},
   "outputs": [],
   "source": [
    "# Python does not have an NA like R\n",
    "None # more like R's NULL than NA"
   ]
  },
  {
   "cell_type": "code",
   "execution_count": 9,
   "id": "7a9033c1",
   "metadata": {},
   "outputs": [
    {
     "data": {
      "text/plain": [
       "builtin_function_or_method"
      ]
     },
     "execution_count": 9,
     "metadata": {},
     "output_type": "execute_result"
    }
   ],
   "source": [
    "type(print)"
   ]
  },
  {
   "cell_type": "code",
   "execution_count": 10,
   "id": "572fba29",
   "metadata": {},
   "outputs": [
    {
     "data": {
      "text/plain": [
       "int"
      ]
     },
     "execution_count": 10,
     "metadata": {},
     "output_type": "execute_result"
    }
   ],
   "source": [
    "type(5)"
   ]
  },
  {
   "cell_type": "code",
   "execution_count": 11,
   "id": "b434af01",
   "metadata": {},
   "outputs": [
    {
     "data": {
      "text/plain": [
       "float"
      ]
     },
     "execution_count": 11,
     "metadata": {},
     "output_type": "execute_result"
    }
   ],
   "source": [
    "type(5.3)"
   ]
  },
  {
   "cell_type": "code",
   "execution_count": 12,
   "id": "24b70b05",
   "metadata": {},
   "outputs": [
    {
     "data": {
      "text/plain": [
       "6"
      ]
     },
     "execution_count": 12,
     "metadata": {},
     "output_type": "execute_result"
    }
   ],
   "source": [
    "x = 6 \n",
    "x"
   ]
  },
  {
   "cell_type": "code",
   "execution_count": 13,
   "id": "da33ac57",
   "metadata": {},
   "outputs": [
    {
     "name": "stdout",
     "output_type": "stream",
     "text": [
      "6\n"
     ]
    }
   ],
   "source": [
    "print(x)"
   ]
  },
  {
   "cell_type": "code",
   "execution_count": 14,
   "id": "e10bc9ea",
   "metadata": {},
   "outputs": [
    {
     "data": {
      "text/plain": [
       "7"
      ]
     },
     "execution_count": 14,
     "metadata": {},
     "output_type": "execute_result"
    }
   ],
   "source": [
    "x = 6\n",
    "y = 7\n",
    "x\n",
    "y"
   ]
  },
  {
   "cell_type": "code",
   "execution_count": 15,
   "id": "4a2aeb2e",
   "metadata": {},
   "outputs": [
    {
     "name": "stdout",
     "output_type": "stream",
     "text": [
      "6\n",
      "7\n"
     ]
    }
   ],
   "source": [
    "x = 6\n",
    "y = 7\n",
    "print(x)\n",
    "print(y)"
   ]
  },
  {
   "cell_type": "code",
   "execution_count": 16,
   "id": "e6f6c153",
   "metadata": {},
   "outputs": [],
   "source": [
    "# write a function\n",
    "def square_it(x):\n",
    "    \n",
    "    return x ** 2 # a function output x^2"
   ]
  },
  {
   "cell_type": "code",
   "execution_count": 17,
   "id": "03f3e658",
   "metadata": {},
   "outputs": [
    {
     "data": {
      "text/plain": [
       "9"
      ]
     },
     "execution_count": 17,
     "metadata": {},
     "output_type": "execute_result"
    }
   ],
   "source": [
    "square_it(3)"
   ]
  },
  {
   "cell_type": "code",
   "execution_count": 18,
   "id": "e05769da",
   "metadata": {},
   "outputs": [
    {
     "name": "stdout",
     "output_type": "stream",
     "text": [
      "Help on built-in function print in module builtins:\n",
      "\n",
      "print(...)\n",
      "    print(value, ..., sep=' ', end='\\n', file=sys.stdout, flush=False)\n",
      "    \n",
      "    Prints the values to a stream, or to sys.stdout by default.\n",
      "    Optional keyword arguments:\n",
      "    file:  a file-like object (stream); defaults to the current sys.stdout.\n",
      "    sep:   string inserted between values, default a space.\n",
      "    end:   string appended after the last value, default a newline.\n",
      "    flush: whether to forcibly flush the stream.\n",
      "\n"
     ]
    }
   ],
   "source": [
    "# use help\n",
    "\n",
    "help(print)"
   ]
  },
  {
   "cell_type": "code",
   "execution_count": 19,
   "id": "ab464ed5",
   "metadata": {},
   "outputs": [
    {
     "ename": "SyntaxError",
     "evalue": "invalid syntax (<ipython-input-19-652c7638d02e>, line 1)",
     "output_type": "error",
     "traceback": [
      "\u001b[0;36m  File \u001b[0;32m\"<ipython-input-19-652c7638d02e>\"\u001b[0;36m, line \u001b[0;32m1\u001b[0m\n\u001b[0;31m    print? # simply put ?\u001b[0m\n\u001b[0m         ^\u001b[0m\n\u001b[0;31mSyntaxError\u001b[0m\u001b[0;31m:\u001b[0m invalid syntax\n"
     ]
    }
   ],
   "source": [
    "print? # simply put ?"
   ]
  },
  {
   "cell_type": "code",
   "execution_count": 23,
   "id": "07746c83",
   "metadata": {},
   "outputs": [
    {
     "data": {
      "text/plain": [
       "2"
      ]
     },
     "execution_count": 23,
     "metadata": {},
     "output_type": "execute_result"
    }
   ],
   "source": [
    "# addition, Subtraction, Multiplication, Division, Modulus, Exponentiation, Floor division\n",
    "3 + 5\n",
    "3 - 2\n",
    "3 * 2\n",
    "3 / 2\n",
    "3 % 2\n",
    "3 ** 2\n",
    "5 // 2 # remainder"
   ]
  },
  {
   "cell_type": "code",
   "execution_count": 21,
   "id": "c5aec420",
   "metadata": {},
   "outputs": [
    {
     "name": "stdout",
     "output_type": "stream",
     "text": [
      "4950\n"
     ]
    }
   ],
   "source": [
    "# for loop \n",
    "# k = 0\n",
    "# for i in range(1,100):\n",
    "#     k = k + i\n",
    "#     print(k) # indentation matters in Python!\n",
    "\n",
    "k = 0\n",
    "for i in range(1,100): # 1, ..., 99\n",
    "    k = k + i\n",
    "    # print(i)\n",
    "print(k)"
   ]
  },
  {
   "cell_type": "code",
   "execution_count": 24,
   "id": "0a0e20d8",
   "metadata": {},
   "outputs": [],
   "source": [
    "# for loop \n",
    "# k = 0\n",
    "# for i in range(1,100):\n",
    "#     k = k + i\n",
    "#     print(k) # indentation matters in Python!\n",
    "\n",
    "k = 0\n",
    "for i in range(100): # 0,...,99: starts at 0!\n",
    "    k = k + i\n",
    "    # print(i)"
   ]
  },
  {
   "cell_type": "code",
   "execution_count": 25,
   "id": "43901ba7",
   "metadata": {},
   "outputs": [
    {
     "name": "stdout",
     "output_type": "stream",
     "text": [
      "apple\n",
      "banana\n",
      "cherry\n"
     ]
    }
   ],
   "source": [
    "fruits = [\"apple\", \"banana\", \"cherry\"]\n",
    "for x in fruits:\n",
    "  print(x)"
   ]
  },
  {
   "cell_type": "code",
   "execution_count": 26,
   "id": "d4ad6c3b",
   "metadata": {},
   "outputs": [
    {
     "data": {
      "text/plain": [
       "list"
      ]
     },
     "execution_count": 26,
     "metadata": {},
     "output_type": "execute_result"
    }
   ],
   "source": [
    "type(fruits)"
   ]
  },
  {
   "cell_type": "code",
   "execution_count": 27,
   "id": "ddb89c33",
   "metadata": {},
   "outputs": [
    {
     "data": {
      "text/plain": [
       "range(2, 100)"
      ]
     },
     "execution_count": 27,
     "metadata": {},
     "output_type": "execute_result"
    }
   ],
   "source": [
    "# range() returns a sequence of numbers starting from zero and increment by 1 \n",
    "# by default and stops before the given number\n",
    "\n",
    "range(2, 100)"
   ]
  },
  {
   "cell_type": "code",
   "execution_count": 28,
   "id": "a67fe466",
   "metadata": {},
   "outputs": [
    {
     "name": "stdout",
     "output_type": "stream",
     "text": [
      "[0, 1, 2]\n"
     ]
    }
   ],
   "source": [
    "# range() is not a list, nor it returns a list type. A range() return range object.\n",
    "\n",
    "print(list(range(3)))"
   ]
  },
  {
   "cell_type": "code",
   "execution_count": 29,
   "id": "f294c9f2",
   "metadata": {},
   "outputs": [
    {
     "data": {
      "text/plain": [
       "range(0, 100)"
      ]
     },
     "execution_count": 29,
     "metadata": {},
     "output_type": "execute_result"
    }
   ],
   "source": [
    "range(100)"
   ]
  },
  {
   "cell_type": "code",
   "execution_count": 30,
   "id": "667a5372",
   "metadata": {},
   "outputs": [
    {
     "data": {
      "text/plain": [
       "100"
      ]
     },
     "execution_count": 30,
     "metadata": {},
     "output_type": "execute_result"
    }
   ],
   "source": [
    "len(range(100)) # length"
   ]
  },
  {
   "cell_type": "markdown",
   "id": "3b808b89",
   "metadata": {},
   "source": [
    "### Tuple\n",
    "\n",
    "A tuple is an ordered collection of values. Think of coordinates. Tuples are immutable, which means they can't be changed after they're created."
   ]
  },
  {
   "cell_type": "code",
   "execution_count": 31,
   "id": "42a1aecf",
   "metadata": {},
   "outputs": [],
   "source": [
    "# Make a tuple with commas ,\n",
    "x = 1, 3, 5"
   ]
  },
  {
   "cell_type": "code",
   "execution_count": 32,
   "id": "4c3272f3",
   "metadata": {},
   "outputs": [
    {
     "data": {
      "text/plain": [
       "1"
      ]
     },
     "execution_count": 32,
     "metadata": {},
     "output_type": "execute_result"
    }
   ],
   "source": [
    "x[0]"
   ]
  },
  {
   "cell_type": "code",
   "execution_count": 33,
   "id": "f62717fe",
   "metadata": {},
   "outputs": [
    {
     "data": {
      "text/plain": [
       "tuple"
      ]
     },
     "execution_count": 33,
     "metadata": {},
     "output_type": "execute_result"
    }
   ],
   "source": [
    "type(x)"
   ]
  },
  {
   "cell_type": "code",
   "execution_count": 34,
   "id": "196d2689",
   "metadata": {},
   "outputs": [],
   "source": [
    "# Use parentheses ( ) for clarity\n",
    "y = (\"hi\", 1, 3.7)"
   ]
  },
  {
   "cell_type": "code",
   "execution_count": 35,
   "id": "ded41c02",
   "metadata": {},
   "outputs": [
    {
     "data": {
      "text/plain": [
       "tuple"
      ]
     },
     "execution_count": 35,
     "metadata": {},
     "output_type": "execute_result"
    }
   ],
   "source": [
    "type(y)"
   ]
  },
  {
   "cell_type": "markdown",
   "id": "80510433",
   "metadata": {},
   "source": [
    "There are three ways to get elements from a tuple:\n",
    "<ol>\n",
    "    <li>Indexing with [ ]</li>\n",
    "    <li>Slicing with [] and :, A slice a:b gets elements from a to b - 1.</li>\n",
    "    <li>Unpacking -- assign to a same-shape tuple of variables on the left-hand side</li>\n",
    "</ol>    "
   ]
  },
  {
   "cell_type": "markdown",
   "id": "2d61f632",
   "metadata": {},
   "source": [
    "Here are some examples:"
   ]
  },
  {
   "cell_type": "code",
   "execution_count": 36,
   "id": "27a82524",
   "metadata": {},
   "outputs": [
    {
     "data": {
      "text/plain": [
       "'hi'"
      ]
     },
     "execution_count": 36,
     "metadata": {},
     "output_type": "execute_result"
    }
   ],
   "source": [
    "y[0] # use square brackets"
   ]
  },
  {
   "cell_type": "code",
   "execution_count": 37,
   "id": "88e6072a",
   "metadata": {},
   "outputs": [
    {
     "data": {
      "text/plain": [
       "str"
      ]
     },
     "execution_count": 37,
     "metadata": {},
     "output_type": "execute_result"
    }
   ],
   "source": [
    "type(y[0])"
   ]
  },
  {
   "cell_type": "code",
   "execution_count": 38,
   "id": "94ce0c96",
   "metadata": {},
   "outputs": [
    {
     "data": {
      "text/plain": [
       "int"
      ]
     },
     "execution_count": 38,
     "metadata": {},
     "output_type": "execute_result"
    }
   ],
   "source": [
    "type(y[1])"
   ]
  },
  {
   "cell_type": "code",
   "execution_count": 39,
   "id": "78085e45",
   "metadata": {},
   "outputs": [
    {
     "data": {
      "text/plain": [
       "('hi',)"
      ]
     },
     "execution_count": 39,
     "metadata": {},
     "output_type": "execute_result"
    }
   ],
   "source": [
    "y[0:1]"
   ]
  },
  {
   "cell_type": "code",
   "execution_count": 40,
   "id": "2e68f15a",
   "metadata": {},
   "outputs": [
    {
     "data": {
      "text/plain": [
       "('hi', 1)"
      ]
     },
     "execution_count": 40,
     "metadata": {},
     "output_type": "execute_result"
    }
   ],
   "source": [
    "y[0:2]"
   ]
  },
  {
   "cell_type": "code",
   "execution_count": 41,
   "id": "5d9fe4a8",
   "metadata": {},
   "outputs": [
    {
     "data": {
      "text/plain": [
       "('hi', 1, 3.7)"
      ]
     },
     "execution_count": 41,
     "metadata": {},
     "output_type": "execute_result"
    }
   ],
   "source": [
    "y[0:3]"
   ]
  },
  {
   "cell_type": "code",
   "execution_count": 42,
   "id": "3818bf10",
   "metadata": {},
   "outputs": [
    {
     "data": {
      "text/plain": [
       "('hi', 1, 3.7)"
      ]
     },
     "execution_count": 42,
     "metadata": {},
     "output_type": "execute_result"
    }
   ],
   "source": [
    "y[0:5] # return the first three elements"
   ]
  },
  {
   "cell_type": "code",
   "execution_count": 43,
   "id": "30c7c636",
   "metadata": {},
   "outputs": [],
   "source": [
    "u, v, w = y"
   ]
  },
  {
   "cell_type": "code",
   "execution_count": 44,
   "id": "0baad416",
   "metadata": {},
   "outputs": [
    {
     "name": "stdout",
     "output_type": "stream",
     "text": [
      "hi\n",
      "1\n",
      "3.7\n"
     ]
    }
   ],
   "source": [
    "print(u); print(v); print(w)"
   ]
  },
  {
   "cell_type": "code",
   "execution_count": 45,
   "id": "9c652b1c",
   "metadata": {},
   "outputs": [
    {
     "name": "stdout",
     "output_type": "stream",
     "text": [
      "hi\n",
      "1\n",
      "3.7\n"
     ]
    }
   ],
   "source": [
    "print(u)\n",
    "print(v)\n",
    "print(w)"
   ]
  },
  {
   "cell_type": "markdown",
   "id": "b51d4f0a",
   "metadata": {},
   "source": [
    "Tuples can't be changed"
   ]
  },
  {
   "cell_type": "code",
   "execution_count": 46,
   "id": "687de503",
   "metadata": {},
   "outputs": [
    {
     "ename": "TypeError",
     "evalue": "'tuple' object does not support item assignment",
     "output_type": "error",
     "traceback": [
      "\u001b[0;31m---------------------------------------------------------------------------\u001b[0m",
      "\u001b[0;31mTypeError\u001b[0m                                 Traceback (most recent call last)",
      "\u001b[0;32m<ipython-input-46-7965e96284ff>\u001b[0m in \u001b[0;36m<module>\u001b[0;34m\u001b[0m\n\u001b[0;32m----> 1\u001b[0;31m \u001b[0my\u001b[0m\u001b[0;34m[\u001b[0m\u001b[0;36m0\u001b[0m\u001b[0;34m]\u001b[0m \u001b[0;34m=\u001b[0m \u001b[0;36m3\u001b[0m\u001b[0;34m\u001b[0m\u001b[0;34m\u001b[0m\u001b[0m\n\u001b[0m",
      "\u001b[0;31mTypeError\u001b[0m: 'tuple' object does not support item assignment"
     ]
    }
   ],
   "source": [
    "y[0] = 3"
   ]
  },
  {
   "cell_type": "markdown",
   "id": "0c9255b3",
   "metadata": {},
   "source": [
    "### List\n",
    "\n",
    "A list is an ordered collection of values. Lists are mutable, which means they can be changed after they're created.\n",
    "\n",
    "Lists are less efficient but more flexible than tuples.\n",
    "\n",
    "Why tuples are more efficients? https://stackoverflow.com/questions/68630/are-tuples-more-efficient-than-lists-in-python"
   ]
  },
  {
   "cell_type": "code",
   "execution_count": 69,
   "id": "c075ebf0",
   "metadata": {},
   "outputs": [],
   "source": [
    "# Make a list with square brackets [ ]\n",
    "x = [1, 3, 5]"
   ]
  },
  {
   "cell_type": "code",
   "execution_count": 70,
   "id": "24c9fae1",
   "metadata": {},
   "outputs": [
    {
     "data": {
      "text/plain": [
       "1"
      ]
     },
     "execution_count": 70,
     "metadata": {},
     "output_type": "execute_result"
    }
   ],
   "source": [
    "# Three ways to get elements from a list (same as a tuple):\n",
    "x[0]"
   ]
  },
  {
   "cell_type": "code",
   "execution_count": 72,
   "id": "54269f30",
   "metadata": {},
   "outputs": [
    {
     "data": {
      "text/plain": [
       "[3, 3, 5]"
      ]
     },
     "execution_count": 72,
     "metadata": {},
     "output_type": "execute_result"
    }
   ],
   "source": [
    "x[0] = 3\n",
    "x"
   ]
  },
  {
   "cell_type": "code",
   "execution_count": 49,
   "id": "c370afe7",
   "metadata": {},
   "outputs": [
    {
     "data": {
      "text/plain": [
       "[3, 5]"
      ]
     },
     "execution_count": 49,
     "metadata": {},
     "output_type": "execute_result"
    }
   ],
   "source": [
    "x[1:3]"
   ]
  },
  {
   "cell_type": "code",
   "execution_count": 50,
   "id": "4f7c517b",
   "metadata": {},
   "outputs": [
    {
     "name": "stdout",
     "output_type": "stream",
     "text": [
      "1\n",
      "3\n",
      "5\n"
     ]
    }
   ],
   "source": [
    "u, v, w = x\n",
    "print(u); print(v); print(w);"
   ]
  },
  {
   "cell_type": "code",
   "execution_count": 51,
   "id": "df990d9a",
   "metadata": {},
   "outputs": [
    {
     "name": "stdout",
     "output_type": "stream",
     "text": [
      "[1, 5]\n"
     ]
    }
   ],
   "source": [
    "# Delete a list element with del\n",
    "del x[1]\n",
    "print(x)"
   ]
  },
  {
   "cell_type": "markdown",
   "id": "55a2e125",
   "metadata": {},
   "source": [
    "Lists use <mark>reference semantics</mark>, which means that if you assign a list to two different variables, there's still only one list in memory, and both variables refer to it.\n",
    "\n",
    "As a result, <mark>changing the list with one variable changes the list for the other variable.</mark>"
   ]
  },
  {
   "cell_type": "code",
   "execution_count": 52,
   "id": "390311b4",
   "metadata": {},
   "outputs": [
    {
     "data": {
      "text/plain": [
       "[1, 7, 5]"
      ]
     },
     "execution_count": 52,
     "metadata": {},
     "output_type": "execute_result"
    }
   ],
   "source": [
    "x = [1, 3, 5]\n",
    "y = x\n",
    "y[1] = 7\n",
    "\n",
    "x"
   ]
  },
  {
   "cell_type": "markdown",
   "id": "c47ce194",
   "metadata": {},
   "source": [
    "### Dictionaries\n",
    "\n",
    "A dictionary (or dict) is a one-to-one map from keys to values. In other words, you use a key to look up a value.\n",
    "\n",
    "Dictionaries are mutable and use reference semantics."
   ]
  },
  {
   "cell_type": "code",
   "execution_count": 76,
   "id": "effbe1b3",
   "metadata": {},
   "outputs": [
    {
     "data": {
      "text/plain": [
       "dict"
      ]
     },
     "execution_count": 76,
     "metadata": {},
     "output_type": "execute_result"
    }
   ],
   "source": [
    "# Make a dict with curly brackets { } and colons :\n",
    "x = {\"hello\": 1, 3: 5}"
   ]
  },
  {
   "cell_type": "markdown",
   "id": "7867c517",
   "metadata": {},
   "source": [
    "There are Two ways to get elements from a dictionary:\n",
    "\n",
    "<ol>\n",
    "    <li> Indexing with [ ]</li>\n",
    "    <li> With the .get() method. We'll learn more about methods below.\n",
    "</ol>    "
   ]
  },
  {
   "cell_type": "code",
   "execution_count": 54,
   "id": "18862e4c",
   "metadata": {},
   "outputs": [
    {
     "data": {
      "text/plain": [
       "1"
      ]
     },
     "execution_count": 54,
     "metadata": {},
     "output_type": "execute_result"
    }
   ],
   "source": [
    "# 1:\n",
    "x[\"hello\"]"
   ]
  },
  {
   "cell_type": "code",
   "execution_count": 55,
   "id": "6e95c9bd",
   "metadata": {},
   "outputs": [
    {
     "data": {
      "text/plain": [
       "1"
      ]
     },
     "execution_count": 55,
     "metadata": {},
     "output_type": "execute_result"
    }
   ],
   "source": [
    "# 2: The .get() method gets an element OR returns a default value if the key can't be found.\n",
    "\n",
    "x.get(\"hello\", 10) # second argument (10) is default value if key is not in dictionary"
   ]
  },
  {
   "cell_type": "code",
   "execution_count": 56,
   "id": "6999a961",
   "metadata": {},
   "outputs": [
    {
     "data": {
      "text/plain": [
       "10"
      ]
     },
     "execution_count": 56,
     "metadata": {},
     "output_type": "execute_result"
    }
   ],
   "source": [
    "x.get(\"goodbye\", 10)"
   ]
  },
  {
   "cell_type": "code",
   "execution_count": 57,
   "id": "b692d604",
   "metadata": {},
   "outputs": [
    {
     "data": {
      "text/plain": [
       "{3: 5}"
      ]
     },
     "execution_count": 57,
     "metadata": {},
     "output_type": "execute_result"
    }
   ],
   "source": [
    "# Can also use del to delete dict elements\n",
    "del x[\"hello\"]\n",
    "x"
   ]
  },
  {
   "cell_type": "markdown",
   "id": "b6930b9d",
   "metadata": {},
   "source": [
    "### Methods and Attributes\n",
    "\n",
    "In Python, every number, string, data structure, function, and so on is an object. Each object has a type, and may have other objects stored inside.\n",
    "\n",
    "A method is a function stored inside another object. Methods usually affect their object somehow.\n",
    "\n",
    "An attribute is a non-function object stored inside another object."
   ]
  },
  {
   "cell_type": "code",
   "execution_count": 58,
   "id": "2224519e",
   "metadata": {},
   "outputs": [],
   "source": [
    "# Use . to access methods and attributes\n",
    "# Use dir() to list methods and attributes\n",
    "# For example, we can use the .copy() method of lists and dicts to make a copy."
   ]
  },
  {
   "cell_type": "code",
   "execution_count": 77,
   "id": "3d932aac",
   "metadata": {},
   "outputs": [
    {
     "data": {
      "text/plain": [
       "[1, 3, 5]"
      ]
     },
     "execution_count": 77,
     "metadata": {},
     "output_type": "execute_result"
    }
   ],
   "source": [
    "x = [1, 3, 5]\n",
    "y = x.copy()\n",
    "y[1] = 7\n",
    "# Since we made a copy, x is unchanged.\n",
    "x"
   ]
  },
  {
   "cell_type": "markdown",
   "id": "6fcd0fbc",
   "metadata": {},
   "source": [
    "### Control flow (if, while, for)\n",
    "\n",
    "#### 1. 'If' statement\n",
    "\n",
    "Python's if statement allows us to change the behavior of our code depending on whether a condition is met. Conditions must be Boolean expressions (type bool).\n",
    "\n",
    "Indentation determines whether code is inside or outside of a control flow statement! Be careful to get it right!"
   ]
  },
  {
   "cell_type": "code",
   "execution_count": 60,
   "id": "ffa11c90",
   "metadata": {},
   "outputs": [
    {
     "name": "stdout",
     "output_type": "stream",
     "text": [
      "x is less than or equal to 10\n",
      "This line is indented, so it's inside the if-statement and only runs when x is not greater than 10\n",
      "This line is not indented, so it's outside the if-statement and always runs.\n"
     ]
    }
   ],
   "source": [
    "x = 1\n",
    "if x > 10:\n",
    "    print(\"x is greater than 10\")\n",
    "else:\n",
    "    print(\"x is less than or equal to 10\")\n",
    "    \n",
    "    print(\"This line is indented, so it's inside the if-statement and only runs when x is not greater than 10\")\n",
    "    \n",
    "print(\"This line is not indented, so it's outside the if-statement and always runs.\")"
   ]
  },
  {
   "cell_type": "code",
   "execution_count": 61,
   "id": "4b578bfd",
   "metadata": {},
   "outputs": [
    {
     "name": "stdout",
     "output_type": "stream",
     "text": [
      "x is one!\n"
     ]
    }
   ],
   "source": [
    "if x > 10:\n",
    "    print(\"x is greater than 10\")\n",
    "elif x == 1:\n",
    "    print(\"x is one!\")\n",
    "else:\n",
    "    print(\"x is less than or equal to 10, and not 1\")"
   ]
  },
  {
   "cell_type": "markdown",
   "id": "4fb24404",
   "metadata": {},
   "source": [
    "#### 2. 'while' statement\n",
    "\n",
    "Python's while loop allows us to run code repeatedly while some condition is met."
   ]
  },
  {
   "cell_type": "code",
   "execution_count": 62,
   "id": "91b1343a",
   "metadata": {},
   "outputs": [
    {
     "name": "stdout",
     "output_type": "stream",
     "text": [
      "1\n",
      "2\n",
      "3\n",
      "4\n",
      "5\n",
      "6\n",
      "7\n",
      "8\n",
      "9\n",
      "10\n"
     ]
    }
   ],
   "source": [
    "x = 0\n",
    "while (x < 10):\n",
    "    x = x + 1\n",
    "    print(x)"
   ]
  },
  {
   "cell_type": "markdown",
   "id": "504d7827",
   "metadata": {},
   "source": [
    "#### 3. 'for' statement\n",
    "\n",
    "Python's for loop allows us to iterate over elements of a string, tuple, list, or other object.\n",
    "\n",
    "Objects that can be iterated over are iterable. We'll learn more about iterables next week."
   ]
  },
  {
   "cell_type": "code",
   "execution_count": 63,
   "id": "1cff9287",
   "metadata": {},
   "outputs": [
    {
     "name": "stdout",
     "output_type": "stream",
     "text": [
      "1\n",
      "2\n",
      "3\n"
     ]
    }
   ],
   "source": [
    "for i in [1, 2, 3]:\n",
    "    print(i)"
   ]
  },
  {
   "cell_type": "code",
   "execution_count": 64,
   "id": "742e3da8",
   "metadata": {},
   "outputs": [
    {
     "name": "stdout",
     "output_type": "stream",
     "text": [
      "s\n",
      "t\n",
      "a\n",
      " \n",
      "1\n",
      "4\n",
      "1\n",
      "b\n"
     ]
    }
   ],
   "source": [
    "# A weird way to convert to lowercase that shows a non-trivial loop:\n",
    "\n",
    "for letter in 'STA 141B':\n",
    "    # Computers compute on numbers, so each letter is represented by a number in memory.\n",
    "    # ord() gets the number that represents a letter\n",
    "    num = ord(letter)\n",
    "    if 65 <= num <= 90: # A-Z are represented by 65-90\n",
    "        # a-z are represented by 97-122, so a 32 number offset\n",
    "        new_letter = num + 32\n",
    "        # chr() converts a number that represents a letter back to the letter\n",
    "        new_letter = chr(new_letter)\n",
    "    else:\n",
    "        new_letter = letter\n",
    "        \n",
    "    print(new_letter)"
   ]
  },
  {
   "cell_type": "code",
   "execution_count": 65,
   "id": "826646a7",
   "metadata": {},
   "outputs": [
    {
     "data": {
      "text/plain": [
       "'sta 141b'"
      ]
     },
     "execution_count": 65,
     "metadata": {},
     "output_type": "execute_result"
    }
   ],
   "source": [
    "# In practice, we can just use a built-in method to convert to lowercase\n",
    "'STA 141B'.lower()\n",
    "\n",
    "# Behind the scenes, .lower() is implemented in pretty much the same way as our loop above."
   ]
  },
  {
   "cell_type": "markdown",
   "id": "e5e3be99",
   "metadata": {},
   "source": [
    "### Modules"
   ]
  },
  {
   "cell_type": "markdown",
   "id": "a253cd54",
   "metadata": {},
   "source": [
    "A module is a text file that contains Python code, usually a .py file.\n",
    "\n",
    "In R, it is called the package\n",
    "\n",
    "Python's import command lets us load code from a module to use in our script or notebook. Note: import is like a combination of R's source() and library() functions.\n",
    "\n",
    "Python provides many built-in modules for common tasks (see the list: https://docs.python.org/3/library/index.html). Packages provide even more modules."
   ]
  },
  {
   "cell_type": "code",
   "execution_count": 66,
   "id": "07b6c0f5",
   "metadata": {},
   "outputs": [
    {
     "data": {
      "text/plain": [
       "3.141592653589793"
      ]
     },
     "execution_count": 66,
     "metadata": {},
     "output_type": "execute_result"
    }
   ],
   "source": [
    "# Use . to access functions and variables in a module\n",
    "import math\n",
    "\n",
    "math.pi"
   ]
  },
  {
   "cell_type": "code",
   "execution_count": 67,
   "id": "96a38124",
   "metadata": {},
   "outputs": [
    {
     "data": {
      "text/plain": [
       "3.141592653589793"
      ]
     },
     "execution_count": 67,
     "metadata": {},
     "output_type": "execute_result"
    }
   ],
   "source": [
    "# You can give imported modules an alias to cut down on typing\n",
    "import math as m\n",
    "\n",
    "m.pi"
   ]
  }
 ],
 "metadata": {
  "kernelspec": {
   "display_name": "Python 3",
   "language": "python",
   "name": "python3"
  },
  "language_info": {
   "codemirror_mode": {
    "name": "ipython",
    "version": 3
   },
   "file_extension": ".py",
   "mimetype": "text/x-python",
   "name": "python",
   "nbconvert_exporter": "python",
   "pygments_lexer": "ipython3",
   "version": "3.8.8"
  }
 },
 "nbformat": 4,
 "nbformat_minor": 5
}
