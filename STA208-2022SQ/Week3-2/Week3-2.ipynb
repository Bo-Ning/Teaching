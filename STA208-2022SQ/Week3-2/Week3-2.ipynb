{
 "cells": [
  {
   "cell_type": "markdown",
   "metadata": {
    "slideshow": {
     "slide_type": "slide"
    }
   },
   "source": [
    "## Week 3-2: Lasso and variants of lasso \n",
    "\n",
    "\n",
    "#### Last time\n",
    "* Lasso\n",
    "* LARs\n",
    "\n",
    "#### Today\n",
    "* Continue with LARS\n",
    "* Coordinate descent\n",
    "* Elastic Net\n",
    "* Adaptive lasso\n",
    "* Group lasso\n",
    "* SCAD, etc...\n",
    "\n",
    "#### References\n",
    "\n",
    "- ESL, Chapter 3\n",
    "- James Sharpnack's lecture notes\n",
    "- Fan, J., and Li, R. (2001), Variable Selection via Nonconcave Penalized Likelihood and Its Oracle Properties. _JASA_ 96: 1348--1360\n",
    "- Friedman, J., T. Hastie, H. Höfling, and R. Tibshirani. (2007) Pathwise Coordinate Optimation. _AOS_ 1:302--332\n",
    "- Yuan, M. and Y. Lin (2006). Model selection and estimation in regression with grouped variables. _JRSSB_ 68:49--67\n",
    "- Ročková, V. and E. I. George. (2018) Spike-and-slab LASSO. _JASA_ 113:431--444\n",
    "- Zou, H. and T. Hastie. (2005), Regularization and variable selection via the elastic net. _JRSSB_ 67:301--320\n",
    "- Zou, H. (2006). Adaptive Lasso and Its Oracle Properties. _JASA_ 101:1418--1429"
   ]
  },
  {
   "cell_type": "markdown",
   "metadata": {},
   "source": [
    "#### Erranta\n",
    "\n",
    "1. About one standard error rule\n",
    "\n",
    "Given $$\n",
    "\\hat \\lambda = \\min_{\\lambda \\in \\{\\lambda_1, \\dots, \\lambda_m\\}} \\text{CVErr}(\\hat \\beta_{\\text{lasso}}(\\lambda)) \n",
    "$$\n",
    "Choose $\\hat \\lambda_{\\text{lasso}}$ such that \n",
    "    $$\n",
    "    \\hat \\lambda_{\\text{lasso}} = \\max\\{\\lambda \\in \\{\\lambda_1, \\dots, \\lambda_m\\}, \\quad \n",
    "        \\text{CVErr}(\\hat \\beta_{\\text{lasso}}(\\lambda)) \\leq \n",
    "        \\text{CVErr}(\\hat \\beta_{\\text{lasso}}(\\hat \\lambda)) + \\text{SE}(\\text{CVErr}(\\hat \\beta_{\\text{lasso}}(\\lambda)))\\}\n",
    "    $$\n",
    "    \n",
    "Should be \n",
    "Choose $\\hat \\lambda_{\\text{lasso}}$ such that \n",
    "    $$\n",
    "    \\hat \\lambda_{\\text{lasso}} = \\max\\{\\lambda \\in \\{\\lambda_1, \\dots, \\lambda_m\\}, \\quad \n",
    "        \\text{CVErr}(\\hat \\beta_{\\text{lasso}}(\\lambda)) \\leq \n",
    "        \\text{CVErr}(\\hat \\beta_{\\text{lasso}}(\\hat \\lambda)) + \\text{SE}(\\text{CVErr}(\\hat \\beta_{\\text{lasso}}\\color{red}{(\\hat\\lambda)}))\\}\n",
    "    $$\n",
    "    \n",
    "See Ryan Tibshirani's note: [here](https://www.stat.cmu.edu/~ryantibs/advmethods/notes/highdim.pdf)\n",
    "\n",
    "\n",
    "2. Orthgonal design $X'X = I_p$\n",
    "$$\n",
    "\\hat \\beta_j = \\min_{\\beta_j} \\left\\{\n",
    "\\frac{1}{2} \\left(\\beta_j - \\hat \\beta_j^{OLS}\\right)^2 + \\lambda |\\beta_j|\n",
    "\\right\\}\n",
    "$$\n",
    "\n",
    "- If $\\hat \\beta_j^{OLS} > 0$, then it is reasonable to set $\\beta_j > 0$. Thus taking derivative w.r.t. $\\beta_j$ and then setting it equals to zero, we obtain $\\hat \\beta_j = \\hat \\beta_j^{OLS} - \\lambda$. Thus we get \n",
    "$\\hat \\beta_j = \\max \\left\\{0, \\hat \\beta_j^{OLS} - \\lambda \\right\\}$.\n",
    "- If $\\hat \\beta_j^{OLS} < 0$, then following a similar argument, we get $\\hat \\beta_j = \\min \\left\\{\\hat \\beta_j^{OLS} + \\lambda, 0 \\right\\}$.\n",
    "- Combine the above two result, we get $\\hat \\beta_j = sgn\\left(\\hat \\beta_j^{OLS}\\right)\\left(|\\hat \\beta_j^{OLS}| - \\lambda\\right)_+$.\n"
   ]
  },
  {
   "cell_type": "markdown",
   "metadata": {},
   "source": [
    "### Lasso \n",
    "\n",
    "<img src=\"lasso.png\" style=\"width: 600px;\"/>\n",
    "\n",
    "Lasso, short for 'least absolute selection operator', which shrinks some coefficients and sets others to 0, hence tries to retain the good features of both subset selection and ridge regression.\n",
    "\n",
    "$$\\min_{\\beta \\in \\mathbb{R}^p} \\left\\{ \\|Y - X\\beta\\|_2^2 + \\lambda \\|\\beta\\|_1 \\right\\},$$\n",
    "\n",
    "where $\\|\\beta\\| = \\sum_{j=1}^p |\\beta_j|$"
   ]
  },
  {
   "cell_type": "markdown",
   "metadata": {
    "slideshow": {
     "slide_type": "slide"
    }
   },
   "source": [
    "### Least Angle Regression (LAR/LARS)\n",
    "\n",
    "1. Standardize predictors and start with residual $r = y - \\bar y$, $\\hat \\beta = 0$\n",
    "2. Find $x_j$ most correlated with $r$\n",
    "3. Move $\\beta_j$ in the direction of $x_j^\\top r$ until the residual is more correlated with another $x_k$\n",
    "4. Move $\\beta_j,\\beta_k$ in the direction of their joint OLS coefficients of $r$ on $(x_j,x_k)$ until some other competitor $x_l$ has as much correlation with the current residual\n",
    "5. Continue until all predictors have been entered."
   ]
  },
  {
   "cell_type": "markdown",
   "metadata": {},
   "source": [
    "### Understanding LAR\n",
    "\n",
    "Recall that we've learned forward stepwise regression. To add one variable at a time. At each step, identify the best variable to include in the model, and then update the least square fit sequentially.\n",
    "\n",
    "LAR uses a similar idead but instead of exploiting the current variable at much as possible, LARS only fits the current variable to a certain level.\n",
    "\n",
    "At first step, similar to the forward stepwise regression, identify the variable most correlated with the response.\n",
    "\n",
    "Then, increase the coefficient for this variable: \n",
    "\n",
    "   - What happens here is that the correlation between this variable and the residual of the fit to decrease (as the coefficient slowly increases)\n",
    "   - stop until another variable has the same absolute correlation (with the residual) as the current one. At this point, both variables are in the active set."
   ]
  },
  {
   "cell_type": "markdown",
   "metadata": {},
   "source": [
    "At each step when a new variable enters the active set, $\\mathcal{S}$, slowly increase the coefficient of the variables in $\\mathcal{S}$ along the direction of the least-square of the current residual on $\\mathcal{S}$, i.e.\n",
    "$$\n",
    "\\beta_\\mathcal{S}(\\alpha) = \\beta_\\mathcal{S}(0) + \\alpha \\delta_{\\mathcal{S}},\n",
    "$$\n",
    "where $\\delta_{\\mathcal{S}} = (X_\\mathcal{S}'X_\\mathcal{S})^{-1} X_\\mathcal{S}'r$, $r = y - X_\\mathcal{S}\\beta_\\mathcal{S}(0)$.\n",
    "$\\beta_\\mathcal{S}(0)$ is the coefficent vector for the variables in $\\mathcal{S}$ at the step. There are $|S| - 1$ zero values.\n",
    "\n",
    "   - Note that the variable which just entered the active set had coefficient 0.\n",
    "   - The correlations between the variables in $\\mathcal{S}$ and the residual $r(\\alpha) = y − X_\\mathcal{S} \\beta_{\\mathcal{S}}(\\alpha)$ decrease at the same time as $\\alpha$ increases\n",
    "    \n",
    "Increase $\\alpha$, until there is another variable which has as much correlation with the residual $r(\\alpha)$ as the ones in the active set $\\mathcal{S}$, at which point, the new variable enters the active set and the iterations restart.    \n",
    "\n",
    "   - At each iteration, there is a value for $\\beta$. This corresponds to a value of $t = \\|\\beta\\|_1$\n",
    "   - At the very beginning, when there was no variable in the active set. One could consider $t = 0$, i.e., $\\|\\beta\\|_1 = 0$ or $\\lambda = \\infty$\n",
    "   - In the end, when all variables are in the active set. This corresponds to $t = \\|\\hat \\beta^{OLS}\\|_1$, i.e., $\\lambda = 0$.\n",
    "   \n",
    "   \n",
    "Further reading: https://b-thi.github.io/pdfs/LARS.pdf"
   ]
  },
  {
   "cell_type": "markdown",
   "metadata": {},
   "source": [
    "<img src=\"projection.png\" style=\"width: 500px;\"/>"
   ]
  },
  {
   "cell_type": "markdown",
   "metadata": {
    "slideshow": {
     "slide_type": "fragment"
    }
   },
   "source": [
    "### LARS with lasso modification\n",
    "\n",
    "4.5 If a non-zero coefficient drops to 0 then remove it from the active set and recompute the restricted OLS."
   ]
  },
  {
   "cell_type": "markdown",
   "metadata": {
    "slideshow": {
     "slide_type": "slide"
    }
   },
   "source": [
    "![](lars_lasso.png)\n",
    "from ESL"
   ]
  },
  {
   "cell_type": "code",
   "execution_count": 1,
   "metadata": {
    "slideshow": {
     "slide_type": "skip"
    }
   },
   "outputs": [],
   "source": [
    "# %load ../standard_import.txt\n",
    "import pandas as pd\n",
    "import numpy as np\n",
    "import matplotlib.pyplot as plt\n",
    "from sklearn import preprocessing, model_selection, linear_model\n",
    "\n",
    "%matplotlib inline"
   ]
  },
  {
   "cell_type": "code",
   "execution_count": 2,
   "metadata": {
    "slideshow": {
     "slide_type": "slide"
    }
   },
   "outputs": [],
   "source": [
    "## Simulate a dataset for lasso\n",
    "np.random.seed(2022)\n",
    "n=100\n",
    "p=1000\n",
    "X = np.random.randn(n,p)\n",
    "X = preprocessing.scale(X)"
   ]
  },
  {
   "cell_type": "code",
   "execution_count": 3,
   "metadata": {
    "slideshow": {
     "slide_type": "slide"
    }
   },
   "outputs": [
    {
     "name": "stdout",
     "output_type": "stream",
     "text": [
      "Number of non-zero's: 17\n"
     ]
    }
   ],
   "source": [
    "## Subselect true active set\n",
    "sprob = 0.02\n",
    "Sbool = np.random.rand(p) < sprob\n",
    "s = np.sum(Sbool)\n",
    "print(\"Number of non-zero's: {}\".format(s))"
   ]
  },
  {
   "cell_type": "code",
   "execution_count": 4,
   "metadata": {
    "slideshow": {
     "slide_type": "slide"
    }
   },
   "outputs": [],
   "source": [
    "## Construct beta and y\n",
    "\n",
    "mu = 100.\n",
    "beta = np.zeros(p)\n",
    "beta[Sbool] = mu * np.random.randn(s)\n",
    "\n",
    "eps = np.random.randn(n)\n",
    "y = X.dot(beta) + eps"
   ]
  },
  {
   "cell_type": "code",
   "execution_count": 5,
   "metadata": {},
   "outputs": [
    {
     "data": {
      "text/plain": [
       "array([   0.        ,    0.        ,    0.        ,    0.        ,\n",
       "          0.        ,    0.        ,    0.        ,    0.        ,\n",
       "          0.        ,    0.        ,    0.        ,    0.        ,\n",
       "          0.        ,    0.        ,    0.        ,    0.        ,\n",
       "          0.        ,    0.        ,    0.        ,    0.        ,\n",
       "          0.        ,    0.        ,  -12.10139786,    0.        ,\n",
       "          0.        ,    0.        ,    0.        ,    0.        ,\n",
       "          0.        ,    0.        ,    0.        ,    0.        ,\n",
       "          0.        ,    0.        ,    0.        ,    0.        ,\n",
       "          0.        ,    0.        ,    0.        ,    0.        ,\n",
       "          0.        ,    0.        ,    0.        ,    0.        ,\n",
       "          0.        ,    0.        ,    0.        ,    0.        ,\n",
       "          0.        ,    0.        ,    0.        ,    0.        ,\n",
       "          0.        ,    0.        ,    0.        ,    0.        ,\n",
       "          0.        ,  -56.95492021,    0.        ,    0.        ,\n",
       "          0.        ,    0.        ,    0.        ,    0.        ,\n",
       "          0.        ,    0.        ,    0.        ,    0.        ,\n",
       "          0.        ,    0.        ,    0.        ,    0.        ,\n",
       "          0.        ,    0.        ,    0.        ,    0.        ,\n",
       "          0.        ,    0.        ,    0.        ,    0.        ,\n",
       "          0.        ,    0.        ,    0.        ,    0.        ,\n",
       "          0.        ,    0.        ,    0.        ,    0.        ,\n",
       "        292.81360414,    0.        ,    0.        ,    0.        ,\n",
       "          0.        ,    0.        ,    0.        ,    0.        ,\n",
       "          0.        ,    0.        ,    0.        ,    0.        ,\n",
       "          0.        ,    0.        ,    0.        ,    0.        ,\n",
       "          0.        ,    0.        ,    0.        ,    0.        ,\n",
       "          0.        ,    0.        ,    0.        ,    0.        ,\n",
       "          0.        ,    0.        ,    0.        ,    0.        ,\n",
       "          0.        ,    0.        ,    0.        ,    0.        ,\n",
       "          0.        ,    0.        ,    0.        ,    0.        ,\n",
       "          0.        ,    0.        ,    0.        ,    0.        ,\n",
       "          0.        ,    0.        ,    0.        ,    0.        ,\n",
       "          0.        ,    0.        ,    0.        ,    0.        ,\n",
       "          0.        ,    0.        ,    0.        ,    0.        ,\n",
       "          0.        ,    0.        ,    0.        ,    0.        ,\n",
       "          0.        ,    0.        ,  -22.85577814,    0.        ,\n",
       "          0.        ,    0.        ,    0.        ,    0.        ,\n",
       "          0.        ,    0.        ,    0.        ,    0.        ,\n",
       "          0.        ,    0.        ,    0.        ,    0.        ,\n",
       "          0.        ,    0.        ,    0.        ,    0.        ,\n",
       "          0.        ,    0.        ,    0.        ,    0.        ,\n",
       "          0.        ,    0.        ,    0.        ,    0.        ,\n",
       "          0.        ,    0.        ,    0.        ,    0.        ,\n",
       "          0.        ,    0.        ,    0.        ,    0.        ,\n",
       "          0.        , -128.33834596,    0.        ,    0.        ,\n",
       "          0.        ,    0.        ,    0.        ,    0.        ,\n",
       "          0.        ,    0.        ,    0.        ,    0.        ,\n",
       "          0.        ,    0.        ,    0.        ,    0.        ,\n",
       "          0.        ,    0.        ,    0.        ,    0.        ,\n",
       "          0.        ,    0.        ,    0.        ,    0.        ,\n",
       "          0.        ,    0.        ,    0.        ,    0.        ,\n",
       "          0.        ,    0.        ,    0.        ,    0.        ,\n",
       "          0.        ,    0.        ,    0.        ,    0.        ,\n",
       "          0.        ,    0.        ,    0.        ,    0.        ,\n",
       "          0.        ,    0.        ,    0.        ,    0.        ,\n",
       "          0.        ,    0.        ,    0.        ,    0.        ,\n",
       "          0.        ,    0.        ,    0.        ,    0.        ,\n",
       "          0.        ,    0.        ,    0.        ,    0.        ,\n",
       "          0.        ,    0.        ,    0.        ,    0.        ,\n",
       "          0.        ,    0.        ,    0.        ,    0.        ,\n",
       "          0.        ,    0.        ,    0.        ,    0.        ,\n",
       "          0.        ,    0.        ,    0.        ,    0.        ,\n",
       "          0.        ,    0.        ,    0.        ,    0.        ,\n",
       "          0.        ,    0.        ,    0.        ,    0.        ,\n",
       "          0.        ,    0.        ,    0.        ,    0.        ,\n",
       "          0.        ,    0.        ,    0.        ,    0.        ,\n",
       "          0.        ,    0.        ,    0.        ,    0.        ,\n",
       "          0.        ,    0.        ,    0.        ,    0.        ,\n",
       "          0.        ,    0.        ,    0.        ,    0.        ,\n",
       "          0.        ,    0.        ,    0.        ,    0.        ,\n",
       "          0.        ,    0.        ,    0.        ,    0.        ,\n",
       "          0.        ,    0.        ,   63.00102249,    0.        ,\n",
       "          0.        ,    0.        ,    0.        ,    0.        ,\n",
       "          0.        ,    0.        ,    0.        ,    0.        ,\n",
       "          0.        ,    0.        ,    0.        ,    0.        ,\n",
       "          0.        ,    0.        ,    0.        ,    0.        ,\n",
       "          0.        ,    0.        ,    0.        ,    0.        ,\n",
       "          0.        ,    0.        ,    0.        ,    0.        ,\n",
       "          0.        ,    0.        ,    0.        ,    0.        ,\n",
       "          0.        ,    0.        ,    0.        ,    0.        ,\n",
       "          0.        ,    0.        ,    0.        ,    0.        ,\n",
       "          0.        ,    0.        ,    0.        ,    0.        ,\n",
       "          0.        ,    0.        ,    0.        ,    0.        ,\n",
       "          0.        ,    0.        ,    0.        ,    0.        ,\n",
       "          0.        ,    0.        ,    0.        ,    0.        ,\n",
       "          0.        ,    0.        ,    0.        ,    0.        ,\n",
       "          0.        ,    0.        ,    0.        ,    0.        ,\n",
       "          0.        ,    0.        ,    0.        ,    0.        ,\n",
       "          0.        ,    0.        ,    0.        ,    0.        ,\n",
       "          0.        ,    0.        ,    0.        ,    0.        ,\n",
       "          0.        ,    0.        ,    0.        ,    0.        ,\n",
       "          0.        ,    0.        ,    0.        ,    0.        ,\n",
       "          0.        ,    0.        ,    0.        ,    0.        ,\n",
       "          0.        ,    0.        ,    0.        ,    0.        ,\n",
       "          0.        ,    0.        ,    0.        ,    0.        ,\n",
       "          0.        ,    0.        ,    0.        ,    0.        ,\n",
       "          0.        ,    0.        ,    0.        ,    0.        ,\n",
       "          0.        ,    0.        ,    0.        ,    0.        ,\n",
       "          0.        ,    0.        ,    0.        ,    0.        ,\n",
       "          0.        ,    0.        ,    0.        ,    0.        ,\n",
       "          0.        ,    0.        ,    0.        ,    0.        ,\n",
       "          0.        ,    0.        ,    0.        ,  112.78639822,\n",
       "          0.        ,    0.        ,    0.        ,    0.        ,\n",
       "          0.        ,    0.        ,    0.        ,    0.        ,\n",
       "          0.        ,    0.        ,    0.        ,    0.        ,\n",
       "          0.        ,    0.        ,    0.        ,    0.        ,\n",
       "          0.        ,    0.        ,    0.        ,    0.        ,\n",
       "          0.        ,    0.        ,    0.        ,    0.        ,\n",
       "          0.        ,    0.        ,    0.        ,    0.        ,\n",
       "        -24.29111753,    6.29991572,    0.        ,    0.        ,\n",
       "          0.        ,    0.        ,    0.        ,    0.        ,\n",
       "          0.        ,    0.        ,    0.        ,    0.        ,\n",
       "          0.        ,    0.        ,    0.        ,    0.        ,\n",
       "          0.        ,    0.        ,    0.        ,    0.        ,\n",
       "          0.        ,    0.        ,    0.        ,    0.        ,\n",
       "          0.        ,    0.        ,    0.        ,    0.        ,\n",
       "          0.        ,    0.        ,    0.        ,    0.        ,\n",
       "          0.        ,    0.        ,    0.        ,    0.        ,\n",
       "          0.        ,    0.        ,    0.        ,    0.        ,\n",
       "          0.        ,    0.        ,    0.        ,    0.        ,\n",
       "          0.        ,    0.        ,    0.        ,    0.        ,\n",
       "          0.        ,    0.        ,    0.        ,    0.        ,\n",
       "          0.        ,    0.        ,    0.        ,    0.        ,\n",
       "          0.        ,    0.        ,    0.        ,    0.        ,\n",
       "          0.        ,    0.        ,    0.        ,    0.        ,\n",
       "          0.        ,    0.        ,    0.        ,    0.        ,\n",
       "          0.        ,    0.        ,    0.        ,    0.        ,\n",
       "          0.        ,    0.        ,    0.        ,    0.        ,\n",
       "          0.        ,    0.        ,    0.        ,    0.        ,\n",
       "          0.        ,    0.        ,    0.        ,    0.        ,\n",
       "          0.        ,    0.        ,    0.        ,    0.        ,\n",
       "          0.        ,    0.        ,    0.        ,    0.        ,\n",
       "          0.        ,    0.        ,    0.        ,    0.        ,\n",
       "          0.        ,    0.        ,    0.        ,    0.        ,\n",
       "          0.        ,    0.        ,    0.        ,    0.        ,\n",
       "          0.        ,    0.        ,    0.        ,    0.        ,\n",
       "          0.        ,    0.        ,    0.        ,    0.        ,\n",
       "          0.        ,    0.        ,    0.        ,    0.        ,\n",
       "          0.        ,    0.        ,    0.        ,    0.        ,\n",
       "          0.        ,    0.        ,    0.        ,    0.        ,\n",
       "          0.        ,    0.        ,    0.        ,    0.        ,\n",
       "          0.        ,    0.        ,    0.        ,    0.        ,\n",
       "          0.        ,    0.        ,    0.        ,    0.        ,\n",
       "          0.        ,    0.        ,    0.        ,    0.        ,\n",
       "          0.        ,    0.        ,    0.        ,    0.        ,\n",
       "          0.        ,    0.        ,    0.        ,    0.        ,\n",
       "          0.        ,    0.        ,    0.        ,    0.        ,\n",
       "          0.        ,    0.        ,  -82.95142274,    0.        ,\n",
       "          0.        ,    0.        ,    0.        ,    0.        ,\n",
       "          0.        ,    0.        ,    0.        ,    0.        ,\n",
       "          0.        ,    0.        , -155.02277835,    0.        ,\n",
       "          0.        ,    0.        ,    0.        ,    0.        ,\n",
       "          0.        ,    0.        ,    0.        ,    0.        ,\n",
       "          0.        ,    0.        ,    0.        ,    0.        ,\n",
       "          0.        ,    0.        ,    0.        ,    0.        ,\n",
       "          0.        ,    0.        ,    0.        ,    0.        ,\n",
       "          0.        ,    0.        ,    0.        ,    0.        ,\n",
       "          0.        ,    0.        ,    0.        ,    0.        ,\n",
       "          0.        ,    0.        ,    0.        ,    0.        ,\n",
       "          0.        ,    0.        ,    0.        ,    0.        ,\n",
       "          0.        ,    0.        ,    0.        ,    0.        ,\n",
       "          0.        ,    0.        ,    0.        ,    0.        ,\n",
       "          0.        ,    0.        ,    0.        ,    0.        ,\n",
       "          0.        , -136.49505894,    0.        ,    0.        ,\n",
       "          0.        ,    0.        ,    0.        ,    0.        ,\n",
       "          0.        ,    0.        ,    0.        ,    0.        ,\n",
       "          0.        ,    0.        ,    0.        ,    0.        ,\n",
       "          0.        ,    0.        ,    0.        ,    0.        ,\n",
       "          0.        ,    0.        ,    0.        ,    0.        ,\n",
       "          0.        ,    0.        ,    0.        ,    0.        ,\n",
       "          0.        ,    0.        ,    0.        ,    0.        ,\n",
       "          0.        ,    0.        ,    0.        ,    0.        ,\n",
       "          0.        ,    0.        ,    0.        ,    0.        ,\n",
       "          0.        ,    0.        ,    0.        ,    0.        ,\n",
       "          0.        ,    0.        ,    0.        ,    0.        ,\n",
       "          0.        ,    0.        ,    0.        ,    0.        ,\n",
       "          0.        ,    0.        ,    0.        ,    0.        ,\n",
       "          0.        ,    0.        ,    0.        ,    0.        ,\n",
       "          0.        ,    0.        ,    0.        ,    0.        ,\n",
       "          0.        ,    0.        ,    0.        ,    0.        ,\n",
       "          0.        ,    0.        ,    0.        ,    0.        ,\n",
       "          0.        ,    0.        ,    0.        ,    0.        ,\n",
       "          0.        ,    0.        ,    0.        ,   96.61915235,\n",
       "          0.        ,    0.        ,    0.        ,    0.        ,\n",
       "          0.        ,    0.        ,    0.        ,    0.        ,\n",
       "          0.        ,    0.        ,    0.        ,    0.        ,\n",
       "          0.        ,    0.        ,    0.        ,    0.        ,\n",
       "          0.        ,    0.        ,    0.        ,    0.        ,\n",
       "          0.        ,    0.        ,    0.        ,    0.        ,\n",
       "          0.        ,    0.        ,    0.        ,    0.        ,\n",
       "          0.        ,  176.62608111,    0.        ,    0.        ,\n",
       "          0.        ,    0.        ,    0.        ,    0.        ,\n",
       "          0.        ,    0.        ,    0.        ,    0.        ,\n",
       "          0.        ,    0.        ,    0.        ,    0.        ,\n",
       "          0.        ,    0.        ,    0.        ,    0.        ,\n",
       "          0.        ,    0.        ,    0.        ,    0.        ,\n",
       "          0.        ,    0.        ,    0.        ,    0.        ,\n",
       "          0.        ,    0.        ,    0.        ,    0.        ,\n",
       "          0.        ,    0.        ,    0.        ,    0.        ,\n",
       "          0.        ,    0.        ,    0.        ,    0.        ,\n",
       "          0.        ,    0.        ,    0.        ,    0.        ,\n",
       "          0.        ,    0.        ,    0.        ,    0.        ,\n",
       "          0.        ,    0.        ,    0.        ,    0.        ,\n",
       "          0.        ,    0.        ,    0.        ,    0.        ,\n",
       "          0.        ,    0.        ,    0.        ,    2.57219574,\n",
       "          0.        ,    0.        ,  116.52757779,    0.        ,\n",
       "          0.        ,    0.        ,    0.        ,    0.        ,\n",
       "          0.        ,    0.        ,    0.        ,    0.        ,\n",
       "          0.        ,    0.        ,    0.        ,    0.        ,\n",
       "          0.        ,    0.        ,    0.        ,    0.        ,\n",
       "          0.        ,    0.        ,    0.        ,    0.        ,\n",
       "          0.        ,    0.        ,    0.        ,    0.        ,\n",
       "          0.        ,    0.        ,    0.        ,    0.        ,\n",
       "          0.        ,    0.        ,    0.        ,    0.        ,\n",
       "          0.        ,    0.        ,    0.        ,    0.        ,\n",
       "          0.        ,    0.        ,    0.        ,    0.        ,\n",
       "          0.        ,    0.        ,    0.        ,    0.        ,\n",
       "          0.        ,    0.        ,    0.        ,    0.        ,\n",
       "          0.        ,    0.        ,    0.        ,    0.        ,\n",
       "          0.        ,    0.        ,    0.        ,    0.        ,\n",
       "          0.        ,    0.        ,    0.        ,    0.        ,\n",
       "          0.        ,   93.53046254,    0.        ,    0.        ,\n",
       "          0.        ,    0.        ,    0.        ,    0.        ,\n",
       "          0.        ,    0.        ,    0.        ,    0.        ,\n",
       "          0.        ,    0.        ,    0.        ,    0.        ,\n",
       "          0.        ,    0.        ,    0.        ,    0.        ,\n",
       "          0.        ,    0.        ,    0.        ,    0.        ,\n",
       "          0.        ,    0.        ,    0.        ,    0.        ,\n",
       "          0.        ,    0.        ,    0.        ,    0.        ,\n",
       "          0.        ,    0.        ,    0.        ,    0.        ,\n",
       "          0.        ,    0.        ,    0.        ,    0.        ,\n",
       "          0.        ,    0.        ,    0.        ,    0.        ,\n",
       "          0.        ,    0.        ,    0.        ,    0.        ,\n",
       "          0.        ,    0.        ,    0.        ,    0.        ,\n",
       "          0.        ,    0.        ,    0.        ,    0.        ,\n",
       "          0.        ,    0.        ,    0.        ,    0.        ,\n",
       "          0.        ,    0.        ,    0.        ,    0.        ,\n",
       "          0.        ,    0.        ,    0.        ,    0.        ,\n",
       "          0.        ,    0.        ,    0.        ,    0.        ,\n",
       "          0.        ,    0.        ,    0.        ,    0.        ,\n",
       "          0.        ,    0.        ,    0.        ,    0.        ,\n",
       "          0.        ,    0.        ,    0.        ,    0.        ,\n",
       "          0.        ,    0.        ,    0.        ,    0.        ,\n",
       "          0.        ,    0.        ,    0.        ,    0.        ,\n",
       "          0.        ,    0.        ,    0.        ,    0.        ,\n",
       "          0.        ,    0.        ,    0.        ,    0.        ,\n",
       "          0.        ,    0.        ,    0.        ,    0.        ,\n",
       "          0.        ,    0.        ,    0.        ,    0.        ,\n",
       "          0.        ,    0.        ,    0.        ,    0.        ])"
      ]
     },
     "execution_count": 5,
     "metadata": {},
     "output_type": "execute_result"
    }
   ],
   "source": [
    "beta"
   ]
  },
  {
   "cell_type": "markdown",
   "metadata": {},
   "source": [
    "Run the lasso using `linear_model.lars_path` with the lasso modification (see docstring with ?linear_model.lars_path) \n",
    "\n",
    "Plot the lasso coefficients that are learned as a function of lambda.  You should have a plot with the x-axis being lambda and the y-axis being the coefficient value, with $p=1000$ lines plotted.  Highlight the $s$ coefficients that are truly non-zero by plotting them in red."
   ]
  },
  {
   "cell_type": "code",
   "execution_count": 20,
   "metadata": {},
   "outputs": [],
   "source": [
    "?linear_model.lars_path"
   ]
  },
  {
   "cell_type": "code",
   "execution_count": 21,
   "metadata": {
    "slideshow": {
     "slide_type": "slide"
    }
   },
   "outputs": [],
   "source": [
    "## Answer to exercise 5.3\n",
    "## Run lars with lasso mod, find active set\n",
    "\n",
    "larper = linear_model.lars_path(X,y,method=\"lasso\")\n",
    "S = set(np.where(Sbool)[0])\n",
    "\n",
    "def plot_it():\n",
    "    for j in S:\n",
    "        _ = plt.plot(larper[0],larper[2][j,:],'r')\n",
    "    for j in set(range(p)) - S:\n",
    "        _ = plt.plot(larper[0],larper[2][j,:],'k',linewidth=.75)\n",
    "    _ = plt.title('Lasso path for simulated data')\n",
    "    _ = plt.xlabel('lambda')\n",
    "    _ = plt.ylabel('Coef')"
   ]
  },
  {
   "cell_type": "code",
   "execution_count": 22,
   "metadata": {
    "slideshow": {
     "slide_type": "slide"
    }
   },
   "outputs": [
    {
     "data": {
      "image/png": "[encoded data removed]",
      "text/plain": [
       "<Figure size 432x288 with 1 Axes>"
      ]
     },
     "metadata": {
      "needs_background": "light"
     },
     "output_type": "display_data"
    }
   ],
   "source": [
    "plot_it()"
   ]
  },
  {
   "cell_type": "markdown",
   "metadata": {},
   "source": [
    "### Solving lasso using coordinate descent\n",
    "\n",
    "Another popular method to solve lasso is coordinate descent. See more details [here](https://www.stat.cmu.edu/~ryantibs/convexopt-S15/lectures/22-coord-desc.pdf).\n",
    "\n",
    "#### Coordinate descent (cd)\n",
    "\n",
    "In general, for a function $f(\\beta) = g(\\beta) + \\sum_{j=1}^p h_j(\\beta_j)$ with $g$ is convex and differentiable and each $h_j$ is convex (nonsmooth), the cd method goes like this\n",
    "\n",
    "- __Step 1:__ start with some initial guess $\\beta^{(0)}$ (e.g., OLS estimator or Ridge estimator). \n",
    "- __Step 2:__ Repeat $k = 1, \\dots, K$\n",
    "    - $\\beta_1^{(k)} = arg\\min_{\\beta_1} f(\\beta_1, \\beta_2^{(k-1)}, \\beta_3^{(k-1)}, \\dots, \\beta_p^{(k-1)})$\n",
    "    - $\\beta_2^{(k)} = arg\\min_{\\beta_2} f(\\beta_1^{(k)}, \\beta_2, \\beta_3^{(k-1)}, \\dots, \\beta_p^{(k-1)})$\n",
    "    - $\\beta_3^{(k)} = arg\\min_{\\beta_3} f(\\beta_1^{(k)}, \\beta_2^{(k)}, \\beta_3, \\dots, \\beta_p^{(k-1)})$\n",
    "    - $\\cdots$\n",
    "    - $\\beta_p^{(k)} = arg\\min_{\\beta_p} f(\\beta_1^{(k)}, \\beta_2^{(k)}, \\beta_3^{(k)}, \\dots, \\beta_{p-1}^{(k)}, \\beta_p)$\n",
    "- __STOP:__ if $\\|\\beta^{(k)} - \\beta^{(k-1)}\\|\\leq \\epsilon$ for some small $\\epsilon$.    \n",
    "\n",
    "\n",
    "Notes:\n",
    "\n",
    "1. Order of cycle through coordinates is arbitrary, can use any permutation of $\\{1, \\dots, p\\}$\n",
    "2. Can everywhere replace individual coordinates with blocks of coordinates\n",
    "3. “One-at-a-time” update scheme is critical, and “all-at-once” scheme _does not_ necessarily converge"
   ]
  },
  {
   "cell_type": "markdown",
   "metadata": {},
   "source": [
    "#### Coordinate descent for lasso\n",
    "\n",
    "Recall lasso \n",
    "$$\n",
    "\\min_{\\beta} \\frac{1}{2}\\|y - X\\beta\\|^2 + \\lambda \\|\\beta\\|_1,\n",
    "$$\n",
    "Q: what is $g(\\beta)$ and what is $h_j(\\beta_j)$ here?\n",
    "\n",
    "Apply CD, minimize $\\beta_j$ one-at-a-time; keep other $\\beta_{-j}$ fixed, where\n",
    "$\\beta_{-j} = (\\beta_1, \\dots, \\beta_{j-1}, \\beta_{j+1}, \\dots, \\beta_p)$\n",
    "\n",
    "$$\n",
    "\\min_{\\beta_j} \\frac{1}{2}\\|y - X_j\\beta_j - X_{-j} \\beta_{-j} \\|^2 + \\lambda (|\\beta_j| + \\|\\beta_{-j}\\|_1),\n",
    "$$\n",
    "Taking the first derivative w.r.t. $\\beta_j$, we get\n",
    "$$\n",
    "X_j'X_j \\beta_j + X_j'(X_{-j} \\beta_{-j} - y) + \\lambda s_j = 0,\n",
    "$$\n",
    "where $s_j = d|\\beta_j| / d \\beta_j$.\n",
    "\n",
    "Denote $z_j = X_j'X_j$ and $\\rho_j = X_j'(X_{-j} \\beta_{-j} - y)$. Solving $\\beta_j$, we get\n",
    "\\begin{align}\n",
    "\\hat\\beta_j = \\left\\{\n",
    "\\begin{array}{cl}\n",
    "\\frac{\\rho_j + \\lambda}{z_j} & \\text{if} \\rho_j < - \\lambda \\\\\n",
    "0 & \\text{if} -\\lambda \\leq \\rho_j \\leq \\lambda \\\\\n",
    "\\frac{\\rho_j - \\lambda}{z_j} & \\text{if} \\rho_j > \\lambda \n",
    "\\end{array}\n",
    "\\right.\n",
    "\\end{align}\n",
    "\n",
    "In short, one can denote \n",
    "$$\n",
    "\\hat \\beta_j = \\text{sgn}(\\rho_j) \\left(\\frac{|\\rho_j| - \\lambda}{z_j}\\right)_+,\n",
    "$$\n",
    "where $(a)_+ = \\max\\{0, a\\}$"
   ]
  },
  {
   "cell_type": "markdown",
   "metadata": {},
   "source": [
    "#### Coordinate descent in numpy \n",
    "\n",
    "See [website](https://scikit-learn.org/stable/modules/generated/sklearn.linear_model.Lasso.html)"
   ]
  },
  {
   "cell_type": "code",
   "execution_count": null,
   "metadata": {},
   "outputs": [],
   "source": [
    "## Hitters dataset\n",
    "\n",
    "df = pd.read_csv('../data/Hitters.csv', index_col=0).dropna()\n",
    "df.index.name = 'Player'\n",
    "df.info()"
   ]
  },
  {
   "cell_type": "code",
   "execution_count": null,
   "metadata": {},
   "outputs": [],
   "source": [
    "df.head()"
   ]
  },
  {
   "cell_type": "code",
   "execution_count": null,
   "metadata": {},
   "outputs": [],
   "source": [
    "y = df.Salary\n",
    "\n",
    "# Drop the column with the independent variable (Salary), and columns for which we created dummy variables\n",
    "X_ = df.drop(['Salary', 'League', 'Division', 'NewLeague'], axis=1).astype('float64')\n",
    "# Define the feature set X.\n",
    "X = pd.concat([X_, dummies[['League_N', 'Division_W', 'NewLeague_N']]], axis=1)\n",
    "X.info()"
   ]
  },
  {
   "cell_type": "code",
   "execution_count": null,
   "metadata": {},
   "outputs": [],
   "source": [
    "X.head(5)"
   ]
  },
  {
   "cell_type": "markdown",
   "metadata": {},
   "source": [
    "Use cross-validate to select the lambda just like any other tuning parameter.  \n",
    "\n",
    "- Sklearn gives you the option of using their fast cross-validation script via `linear_model.LassoCV`, see the documentation.  You can create a leave-one-out cross validator with `model_selection.LeaveOneOut` then pass this to `LassoCV` with the `cv` argument.  Do this, and see what the returned fit and selected lambda are."
   ]
  },
  {
   "cell_type": "code",
   "execution_count": null,
   "metadata": {},
   "outputs": [],
   "source": [
    "## Fit the lasso and cross-validate, increased max_iter to achieve convergence\n",
    "loo = model_selection.LeaveOneOut()\n",
    "looiter = loo.split(X)\n",
    "hitlasso = linear_model.LassoCV(cv=looiter,max_iter=2000) \n",
    "hitlasso.fit(X,y)"
   ]
  },
  {
   "cell_type": "code",
   "execution_count": null,
   "metadata": {},
   "outputs": [],
   "source": [
    "print(\"The selected lambda value is {:.2f}\".format(hitlasso.alpha_))"
   ]
  },
  {
   "cell_type": "code",
   "execution_count": null,
   "metadata": {},
   "outputs": [],
   "source": [
    "hitlasso.coef_"
   ]
  },
  {
   "cell_type": "markdown",
   "metadata": {},
   "source": [
    "We can also compare this to the selected model from forward stagewise regression:\n",
    "\n",
    "```\n",
    "[-0.21830515,  0.38154135,  0.        ,  0.        ,  0.        ,\n",
    "        0.16139123,  0.        ,  0.        ,  0.        ,  0.        ,\n",
    "        0.09994524,  0.56696569, -0.16872682,  0.16924078,  0.        ,\n",
    "        0.        ,  0.        , -0.19429699,  0.        ]\n",
    "```\n",
    "\n",
    "This is not exactly the same model with differences in the inclusion or exclusion of AtBat, HmRun, Runs, RBI, Years, CHmRun, Errors, League_N, Division_W, NewLeague_N"
   ]
  },
  {
   "cell_type": "code",
   "execution_count": null,
   "metadata": {},
   "outputs": [],
   "source": [
    "bforw = [-0.21830515,  0.38154135,  0.        ,  0.        ,  0.        ,\n",
    "        0.16139123,  0.        ,  0.        ,  0.        ,  0.        ,\n",
    "        0.09994524,  0.56696569, -0.16872682,  0.16924078,  0.        ,\n",
    "        0.        ,  0.        , -0.19429699,  0.        ]"
   ]
  },
  {
   "cell_type": "code",
   "execution_count": null,
   "metadata": {},
   "outputs": [],
   "source": [
    "print(\", \".join(X.columns[(hitlasso.coef_ != 0.) != (bforw != 0.)]))"
   ]
  },
  {
   "cell_type": "markdown",
   "metadata": {},
   "source": [
    "### Is the lasso method good?\n",
    "\n",
    "From Ročková and George (2018)\n",
    "\n",
    "_Simulation study:_\n",
    "\n",
    "- $n = 100$, $p = 1000$\n",
    "- Generate $y \\sim N(X\\beta_0, I_n)$\n",
    "    - $X \\sim N(0, \\Sigma)$, $\\Sigma = \\text{bdiag}(\\tilde \\Sigma, \\tilde \\Sigma, \\dots, \\tilde \\Sigma)$; \n",
    "      diagonal of $\\tilde \\Sigma$ is 1 and off-diagonal is $0.9$\n",
    "    - 6 coordinates in $\\beta_0$ are non-zero, the remaining is 0. Nonzero coordinates are at $1, 51, 101, 151, 201, 251$ locations. Values are chosen $\\frac{1}{\\sqrt{3}}\\{−2.5, −2, −1.5, 1.5, 2, 2.5\\}$\n",
    "- Generate 100 independent copies of $y$"
   ]
  },
  {
   "cell_type": "markdown",
   "metadata": {},
   "source": [
    "<img src=\"comparison.png\" style=\"width: 700px;\"/>\n",
    "\n",
    "- SSL (spike-and-slab lasso), EMVS & Horseshoe are Bayesian methods\n",
    "- MSE: mean square error\n",
    "- FDR: false discovery rate (true value is 0, but get non-zero estimated value)\n",
    "- FNR: false negative rate (true value is non-zero, but get 0)\n",
    "- $\\hat q$: average size of the model\n",
    "- TRUE: number of true model detected\n",
    "- HAM: hamming loss (classification error)"
   ]
  },
  {
   "cell_type": "markdown",
   "metadata": {},
   "source": [
    "### 1. Adaptive lasso\n",
    "\n",
    "\n",
    "Why we are not satisfied with lasso?\n",
    "\n",
    "Fan and Li (2001)\n",
    "- Lasso can perform automatic variable selection because the $\\ell_1$-penalty\n",
    "- the lasso shrinkage produces biased estimates for the large coefficients, and thus it could be suboptimal in terms of estimation risk\n",
    "\n",
    "Although lasso selection can be consistent under certain conditions, Zhou (2006) showed that when the condition is violated, lasso variable selection could be inconsistent.\n",
    "\n",
    "A good reference book on this topic is _Martin J. Wainwright. High-dimensional Statistics: A non-asymptotic viewpoint. Cambridge_ (Free download [here](https://www.cambridge.org/core/books/highdimensional-statistics/8A91ECEEC38F46DAB53E9FF8757C7A4E))\n",
    "\n",
    "Zou (2006) proposed the weighted lasso\n",
    "$$\n",
    "\\hat \\beta_{adalasso} = arg\\min_\\beta \\frac{1}{2} \\| y - X\\beta\\|_2^2 + \\lambda \\sum_{j=1}^p \\hat w_j |\\beta_j|,\n",
    "$$\n",
    "where $\\hat w_j = 1/|\\hat \\beta_j|$. $\\hat \\beta_j$ can be 1) OLS estimator; 2) ridge estimator; ...\n",
    "\n",
    "Idea: When $|\\beta_j|$ is large, $\\hat w_j$ is small (penalize less --> less bias); when $|\\beta_j|$ is small, $\\hat w_j$ is large (penalize more).\n",
    "\n",
    "This [website](https://towardsdatascience.com/an-adaptive-lasso-63afca54b80d) provides a tutorial on implementing the adaptive lasso method in python."
   ]
  },
  {
   "cell_type": "markdown",
   "metadata": {},
   "source": [
    "### 2. SCAD (smoothly clipped absolute deviations)\n",
    "\n",
    "_Fan and Li (2001)_\n",
    "\n",
    "A good penalty function should result in an estimator with three properties:\n",
    "1. Unbiasedness: The resulting estimator is nearly unbi- ased when the true unknown parameter is large to avoid unnecessary modeling bias. \n",
    "2. Sparsity: The resulting estimator is a thresholding rule, which automatically sets small estimated coefficients to zero to reduce model complexity. \n",
    "3. Continuity: The resulting estimator is continuous in data to avoid instability in model prediction.\n",
    "\n",
    "\n",
    "<img src=\"scad.png\" style=\"width: 900px;\"/>"
   ]
  },
  {
   "cell_type": "markdown",
   "metadata": {},
   "source": [
    "The penalty term for SCAD\n",
    "\n",
    "\\begin{align}\n",
    "h(z| \\lambda, \\gamma) = \\left\\{\n",
    "\\begin{array}{cl}\n",
    "\\lambda |z| & \\text{if} |z| \\leq \\lambda \\\\\n",
    "\\frac{2a \\lambda|z| - z^2 - \\lambda^2}{2(a-1)} & \\text{if} \\lambda < |z| <a\\lambda \\\\\n",
    "\\frac{\\lambda^2 (a+1)}{2} & \\text{if} |z| \\geq a\\lambda\n",
    "\\end{array}\n",
    "\\right.\n",
    "\\end{align}\n",
    "One chooses $a > 2$\n",
    "\n",
    "Comparing to lasso, its penalty term is $\\lambda |z|$. SCAD coincides with the lasso until $|z| = \\lambda$, then\n",
    "smoothly transitions to a quadratic function until $|z| = \\gamma\\lambda$, after which it remains constant for all $|z| > \\gamma\\lambda$\n",
    "\n",
    "\n",
    "__Package__: I did not find a python package for SCAD, but there is a R package [ncvreg](https://cran.r-project.org/web/packages/ncvreg/ncvreg.pdf) for SCAD"
   ]
  },
  {
   "cell_type": "markdown",
   "metadata": {},
   "source": [
    "### 3. Elastic Net\n",
    "\n",
    "_Zou and Hastie (2005)_\n",
    "\n",
    "- In the $p > n$ case, the lasso selects at most $n$ variables before it saturates\n",
    "- If there is a group of variables among which the pairwise correlations are very high, then the lasso tends to select only one variable from the group and does not care which one is selected.\n",
    "- The elastic net encourages a grouping effect, where strongly correlated predictors tend to be in or out of the model together\n",
    "\n",
    "The elastic net solution\n",
    "$$\n",
    "{\\displaystyle {\\hat {\\beta}_{en} } = {\\underset {\\beta }{\\operatorname {argmin} }}(\\|y-X\\beta \\|^{2}+\\lambda _{2}\\|\\beta \\|^{2}+\\lambda _{1}\\|\\beta \\|_{1}).}\n",
    "$$\n",
    "\n",
    "- Can be also solved using coordinate descent\n",
    "\n",
    "__Package__: Elastic net is available in scikit-learn [here](https://scikit-learn.org/stable/modules/linear_model.html#elastic-net)"
   ]
  },
  {
   "cell_type": "markdown",
   "metadata": {},
   "source": [
    "### 4. Group lasso\n",
    "\n",
    "_Yuan and Lin (2006)_\n",
    "\n",
    "If we know several variables come in the same (predefined) group. One wants to either force all of them to 0 or non-zero, then one can use the group lasso (say there are $J$ groups)\n",
    "$$\n",
    "\\hat \\beta_{glasso} = arg\\min_\\beta \\left\\{ \\left\\|y - \\sum_{j=1}^J X_j\\beta_j\\right\\|^2 + \\lambda \\sum_{j=1}^J \\|\\beta_j\\| \\right\\},\n",
    "$$\n",
    "when $J = P$, it reduces to lasso. The norm $\\sum_{j=1}^J \\|\\beta_j\\|$ is known as the $\\ell_{2,1}$-norm\n",
    "\n",
    "__Package__: No default package. See implementatio [here](https://github.com/yngvem/group-lasso)"
   ]
  },
  {
   "cell_type": "markdown",
   "metadata": {},
   "source": [
    "Other methods?\n",
    "\n",
    "- MCP (minimax concave penalty): idea is similar to SCAD, but use a different penalty. \n",
    "\n",
    "      Cun-Hui Zhang (2010). Nearly Unbiased Variable Selection Under Minimax Concave Penalty. AOS. 38:894--942\n",
    "\n",
    "- Fused lasso. A generalization of lasso for problems with features that can be ordered in some meaningful way.\n",
    "\n",
    "      Robert Tibshirani et al (2005). Sparsity and smoothness via the fused lasso. JRSSB. 67:91--108\n",
    "\n",
    "- The dantzig selector. Read Ch 3.8.3 of ESL\n",
    "\n",
    "- Spike-and-slab lasso. Derived from the Bayesian perspective. \n",
    "        \n",
    "      Ročková, V. and E. I. George. (2018) Spike-and-slab LASSO. _JASA_ 113:431--444\n",
    "        \n",
    "- Full Bayesian procedure: sparse priors (to be covered later of this course).\n",
    "\n",
    "      Note: Some textbook often says that lasso can be viewed as the Bayes estimate using the double exponential (or Laplace) prior (e.g., on Page 72 of ESL); similar to the ridge regression, using a multivariate normal prior. However, the LASSO (so does ridge) is not fully Bayesian. We will explain later when we discuss \n",
    "      Bayesian methods."
   ]
  }
 ],
 "metadata": {
  "celltoolbar": "Slideshow",
  "kernelspec": {
   "display_name": "Python 3",
   "language": "python",
   "name": "python3"
  },
  "language_info": {
   "codemirror_mode": {
    "name": "ipython",
    "version": 3
   },
   "file_extension": ".py",
   "mimetype": "text/x-python",
   "name": "python",
   "nbconvert_exporter": "python",
   "pygments_lexer": "ipython3",
   "version": "3.8.8"
  }
 },
 "nbformat": 4,
 "nbformat_minor": 2
}
