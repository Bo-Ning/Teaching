{
 "cells": [
  {
   "cell_type": "markdown",
   "id": "5a90aab5",
   "metadata": {},
   "source": [
    "## Week 6-1: Sparse PCA; intro to Bayesian analysis\n",
    "\n",
    "#### Announcement\n",
    "* TA will discuss Q1 in hw2 on Thursday's lab session\n",
    "* Sign up groups on Canvas \n",
    "* Google form result\n",
    "\n",
    "#### Last time\n",
    "* PCA, PPCA, Factor analysis\n",
    "\n",
    "#### Today\n",
    "* Sparse PCA\n",
    "* Introduction to Bayesian analysis\n",
    "\n",
    "#### Reference\n",
    "- Albert, I., S. Donnet, C. Guihenneuc-Jouyaux, ... (2012). Combining Expert Opinions in Prior Elicitation. _Bayesian Analysis_ 7:503--532\n",
    "- Bradley Efron (2013). A 250-year argument: Belief, Behavior, and the bootstrap. _Bulletin (New Series) of the American Mathematical Society._ 50:129--146\n",
    "- Y. Guan and J. Dy (2009). Sparse Probabilistic Principal Component Analysis. _Proceedings of the Twelth International Conference on Artificial Intelligence and Statistics_, PMLR 5:185-192\n",
    "- Ning (2021). Spike and slab Bayesian sparse principal component analysis. _arXiv: 2102.00305_\n",
    "- Robert, C. P. (1994). The Bayesian Choice. 2nd Edition. _Springer Text in Statistics_.\n",
    "- Ročková, V. and E. I. George (2016). Fast Bayesian factor analysis via automatic rotations to sparsity. _JASA_ 111:1608–1622.\n",
    "- F. Yao, H.-G. Müller, and J.-L. Wang (2005). Functional Data Analysis for Sparse Longitudinal Data. _JASA_ 100:577--590\n",
    "- H. Zou, T. Hastie, and Robert Tibshirani (2006). Sparse Principal Component Analysis. _JCGS_ 15:265--286"
   ]
  },
  {
   "cell_type": "markdown",
   "id": "24f49420",
   "metadata": {},
   "source": [
    "### Sparse PCA\n",
    "\n",
    "<img src=\"spca.png\" width=70%>"
   ]
  },
  {
   "cell_type": "markdown",
   "id": "65c0d59e",
   "metadata": {},
   "source": [
    "Idea: imposing sparsity on loadings. Assume there are $s$ non-zero coordinates in each eigenvector and the remaining $p-s$ coordinates are all 0. Typically, we need $k s \\log p \\ll n$ (one might can improve it a bit by $k s \\log (ep/s)$.\n",
    "\n",
    "\n"
   ]
  },
  {
   "cell_type": "markdown",
   "id": "e8e9aae2",
   "metadata": {},
   "source": [
    "1. Direct sparse approximations\n",
    "\n",
    "Let $Z_i = U_{i} D_{ii}$, for each $i$, we solve\n",
    "$$\n",
    "\\hat \\beta = arg\\min_\\beta \\|Z_i - X \\beta\\|^2 + \\text{Pen}_\\lambda (\\beta),\n",
    "$$\n",
    "then obtain $V_i = \\hat \\beta/\\|\\hat \\beta\\|$."
   ]
  },
  {
   "cell_type": "markdown",
   "id": "8291af10",
   "metadata": {},
   "source": [
    "2. “Self-contained” regression-type criterion (Zou, Hastie, Tibshirani (2006))\n",
    "\n",
    "Solve\n",
    "\\begin{align}\n",
    "(\\hat A, \\hat B) & = arg\\min_{A, B} \\sum_{i=1}^n \\|x_i' - x_i'BA'\\|^2 + \\sum_{j=1}^k\\text{Pen}_{\\lambda} (\\beta_j),\\\\\n",
    "& \\text{s.t.} \\quad A'A = I_{k\\times k}\n",
    "\\end{align}\n",
    "\n",
    "Algorithm:\n",
    "- Given $A$, solve $B$ as in the regression setting \n",
    "- Given $B$, we minimize $\\sum_{i=1}^n \\|x_i' - x_i'BA'\\|^2$ given $A'A = I_r$. That is, we compute SVD $(X'X)B = UDV'$ and let $\\hat A = UV'$. "
   ]
  },
  {
   "cell_type": "markdown",
   "id": "427787e6",
   "metadata": {},
   "source": [
    "Other methods:\n",
    "\n",
    "- Joint-row sparsity for sparse PCA\n",
    "- Sparse Probabilistic Principal Component Analysis by Guan and Dy (2009). \n",
    "- Bayseian methods for sparse PCA and factor analysis [Rockova and George (2016); Ning (2021)]\n",
    "- Functional PCA (Yao, Müller, and Wang (2005))\n"
   ]
  },
  {
   "cell_type": "markdown",
   "id": "a4c3df3a",
   "metadata": {},
   "source": [
    "#### Sparse PCA in action \n",
    "\n",
    "SparsePCA is avilable in scikit-learn see [here](https://scikit-learn.org/stable/modules/generated/sklearn.decomposition.SparsePCA.html)\n",
    "\n",
    "The method is based on Zou et al (2006)'s paper, the elastic net penalty is added. "
   ]
  },
  {
   "cell_type": "code",
   "execution_count": 55,
   "id": "ddc2933e",
   "metadata": {},
   "outputs": [],
   "source": [
    "from sklearn.decomposition import SparsePCA\n",
    "spca = SparsePCA(n_components = 30, ridge_alpha = 0.01)"
   ]
  },
  {
   "cell_type": "code",
   "execution_count": 56,
   "id": "05a0c8d7",
   "metadata": {},
   "outputs": [],
   "source": [
    "n = 200\n",
    "d = 50\n",
    "mean = np.zeros(d)\n",
    "cov = np.identity(d)\n",
    "x = np.random.multivariate_normal(mean, cov, n)\n",
    "\n",
    "spca.fit(x)\n",
    "t_spca = spca.transform(x)\n",
    "p_spca = spca.components_.T"
   ]
  },
  {
   "cell_type": "code",
   "execution_count": 57,
   "id": "fe6bc5e5",
   "metadata": {},
   "outputs": [
    {
     "data": {
      "image/png": "[encoded data removed]",
      "text/plain": [
       "<Figure size 432x288 with 2 Axes>"
      ]
     },
     "metadata": {
      "needs_background": "light"
     },
     "output_type": "display_data"
    }
   ],
   "source": [
    "import matplotlib.pyplot as plt\n",
    "\n",
    "plt.imshow(p_spca)\n",
    "plt.colorbar()\n",
    "plt.show()"
   ]
  },
  {
   "cell_type": "markdown",
   "id": "359a1ac2",
   "metadata": {},
   "source": [
    "### Bayesian analysis\n",
    "\n",
    "\n",
    "<img src=\"tomb.jpg\" width=40%>\n",
    "\n",
    "                                           Thomas Bayes tomb in Central London\n"
   ]
  },
  {
   "cell_type": "markdown",
   "id": "5cba95d2",
   "metadata": {},
   "source": [
    "#### Bayes rule:\n",
    "\n",
    "$$\n",
    "\\pi(\\theta | X) = \\frac{P(X | \\theta) \\pi(\\theta)}{P(X)},\n",
    "$$\n",
    "where $P(X) = \\int P(X|\\theta) \\pi(\\theta) d\\theta$.\n",
    "- $P(X | \\theta)$: _likelihood_\n",
    "- $\\pi(\\theta)$: _prior_\n",
    "- $\\pi(\\theta | X)$: _posterior_\n",
    "\n",
    "#### Yesterday's posterior is today's prior:\n",
    "$$\n",
    "\\pi(\\theta | x_1) \\propto f(x_1 | \\theta) \\pi(\\theta)\n",
    "$$\n",
    "$$\n",
    "\\pi(\\theta | x_1, x_2) \\propto f(x_1, x_2 | \\theta) \\pi(\\theta) = f(x_2 | x_1, \\theta) f(x_1 | \\theta) \\pi(\\theta)\n",
    "= f(x_2 | x_1, \\theta) \\pi(\\theta | x_1)\n",
    "$$\n",
    "$$\n",
    "\\cdots \\cdots \n",
    "$$\n",
    "$$\n",
    "\\pi(\\theta | x^n, x_{n+1}) \\propto f(x_{n+1}, x^n | \\theta) \\pi(\\theta) = f(x_{n+1} | x^n, \\theta) \\pi(\\theta | x^n)\n",
    "$$\n",
    "\n",
    "Let's watch a video first [video](https://www.youtube.com/watch?v=KhAUfqhLakw&list=WL&index=49)"
   ]
  },
  {
   "cell_type": "markdown",
   "id": "9b35c52e",
   "metadata": {},
   "source": [
    "_Bradley Efron (2013)_\n",
    "\n",
    "    Two contending philosophical parties, the Bayesians and the frequentists, have been vying for supremacy over \n",
    "    the past two-and-a-half centuries. The twentieth century was predominantly frequentist, especially in applicat-\n",
    "    ions, but the twenty-first has seen a strong Bayesian revival ... Unlike most philosophical arguments, this one has important practical consequences. The two philosophies represent competing visions of how science progress-es and how mathematical thinking assists in that progress."
   ]
  }
 ],
 "metadata": {
  "kernelspec": {
   "display_name": "Python 3",
   "language": "python",
   "name": "python3"
  },
  "language_info": {
   "codemirror_mode": {
    "name": "ipython",
    "version": 3
   },
   "file_extension": ".py",
   "mimetype": "text/x-python",
   "name": "python",
   "nbconvert_exporter": "python",
   "pygments_lexer": "ipython3",
   "version": "3.8.8"
  }
 },
 "nbformat": 4,
 "nbformat_minor": 5
}
