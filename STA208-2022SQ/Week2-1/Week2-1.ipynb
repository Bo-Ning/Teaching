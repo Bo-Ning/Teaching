{
 "cells": [
  {
   "cell_type": "markdown",
   "metadata": {
    "slideshow": {
     "slide_type": "slide"
    }
   },
   "source": [
    "## Week 2-1: Bias-variance tradeoff and model selection\n",
    "\n",
    "April 5, 2022\n",
    "\n",
    "#### Annoucement\n",
    "* Homework due this friday\n",
    "* Link to fill out your group members: https://docs.google.com/forms/d/e/1FAIpQLSdi1Y0jBWQPerWD8jo6QcRFv_V4pF0ubDvLPgH3V7joc4Jj_g/viewform. _If you could not find a group, you do not need to fill out this form. I will then randomly assign you to a group_\n",
    "\n",
    "* More about readability of Python code: https://docs.python-guide.org/writing/style/\n",
    "\n",
    "#### Last time\n",
    "* Regression model\n",
    "* Statistics inference\n",
    "* Prediction\n",
    "\n",
    "#### Today\n",
    "\n",
    "* Risk and empirical risk (cont'd)\n",
    "* Cross validation\n",
    "* Bias-variance tradeoff\n",
    "* Subset selection methods\n",
    "    - Greedy algorithms - Best subset selection, forward/backward/stepwise selection\n",
    "    - AIC, BIC\n",
    "    - False discovery rate - Benjamini-Hochberg procedure\n",
    "\n",
    "\n",
    "#### References \n",
    "* Chapters 3&7 in ESL\n",
    "* Abramovich, F., Y. Benjamini, D. Donoho, and I. Johnstone (2006). Adapting to Unknown Sparsity by Controlling the False Discovery Rate. _The Annals of Statistics_. 34:584--653.\n",
    "* Benjamini, Y. and Y. Hochberg (1995). Controlling the False Discovery Rate: a Practical and Powerful Approach to  Multiple Testing. _JRSSB_. 57(1):289--300.\n",
    "* Hastie, T., R. Tibshirani, and R. Tibshirani (2020). Best Subset, Forward Stepwise or Lasso? Analysis and Recommendations Based on Extensive Comparisons. _Statistical Science_. 35:579--592.\n",
    "* Shao, J. (1993). Linear Model Selection by Cross-Validation. _JASA_. 88:486--494.\n",
    "* Spiegelhalter, D. J., N. G. Best, B. P. Carlin, and A. Van Der Linde (2002). Bayesian measures of model complexity and fit. _JRSSB_. 64:583--639.\n",
    "* Foster, D. and E. George (1994). The risk inflation criterion for multiple regression. _AOS_. 22:1947--1975"
   ]
  },
  {
   "cell_type": "markdown",
   "metadata": {},
   "source": [
    "### Risk and Empirical Risk (from statistical learning theory viewpoint)\n",
    "\n",
    "Assuming that there is a joint probability distribution $P(x,y)$ over $X$ and $Y$, and that the training set consists of $n$ instances $(x_{1},y_{1}),\\ldots ,(x_{n},y_{n})$ drawn i.i.d. from $P(x,y)$.\n",
    "Introducing the assumption of a joint probability distribution allows us to model uncertainty in predictions\n",
    "\n",
    "Given a loss $\\ell(\\theta; X,Y)$, for parameters $\\theta$, the *risk* is \n",
    "$$\n",
    "R(\\theta) = \\mathbb E \\ell(\\theta; X,Y).\n",
    "$$\n",
    "\n",
    "And given training data $\\{x_i,y_i\\}_{i=1}^{n}$ (drawn iid to $X,Y$), then the *empirical risk* is\n",
    "$$\n",
    "R_n(\\theta) = \\frac 1n \\sum_{i=1}^n \\ell(\\theta; x_i, y_i).\n",
    "$$\n",
    "Notice that $\\mathbb E R_n(\\theta) = R(\\theta)$ for fixed $\\theta$.\n",
    "\n",
    "For a class of parameters $\\Theta$, the <font color='red'>*empirical risk minimizer (ERM)*</font> is the \n",
    "$$\n",
    "\\hat \\theta = \\arg \\min_{\\theta \\in \\Theta} R_n(\\theta)\n",
    "$$\n",
    "(may not be unique)."
   ]
  },
  {
   "cell_type": "markdown",
   "metadata": {},
   "source": [
    "### OLS is the ERM\n",
    "\n",
    "OLS minimizes the following objective,\n",
    "$$\n",
    "R_n(\\beta) = \\frac 1n \\sum_{i=1}^n \\left(y_i - x_i^\\top \\beta \\right)^2\n",
    "$$\n",
    "with respect to $\\beta$ (including $\\beta_0$).\n",
    "This is the ERM for square error loss and linear predictor."
   ]
  },
  {
   "cell_type": "markdown",
   "metadata": {},
   "source": [
    "### Why is ERM a good idea?\n",
    "\n",
    "For a fixed $\\theta$ we know by the Law of Large Numbers (as long as expectations exist and data is iid),\n",
    "$$\n",
    "R_n(\\theta) = \\frac 1n \\sum_{i=1}^n \\ell(\\theta; x_i, y_i) \\rightarrow \\mathbb E \\ell(\\theta; X,Y) = R(\\theta),\n",
    "$$\n",
    "where (uniform) convergence is in probability (or almost surely)$^1$.\n",
    "We want to minimize $R(\\theta)$ so $R_n(\\theta)$ is a pretty good surrogate.\n",
    "\n",
    "1. Proof; see Vapnik (1991)"
   ]
  },
  {
   "cell_type": "markdown",
   "metadata": {},
   "source": [
    "### Issue with training error in supervised learning.\n",
    "\n",
    "Let $\\hat \\theta$ be the ERM, then the *training error* is\n",
    "$$\n",
    "R_n(\\hat \\theta) = \\min_{\\theta \\in \\Theta} R_n(\\theta)\n",
    "$$\n",
    "which does NOT converge to $R(\\theta)$ because\n",
    "$$\n",
    "\\mathbb E R_n(\\hat \\theta) = \\mathbb E \\min_\\theta R_n(\\theta) \\ne \\min_{\\theta} \\mathbb E R_n(\\theta) = \\min_\\theta R(\\theta).\n",
    "$$\n",
    "\n",
    "### Solution\n",
    "\n",
    "Perhaps the simplest and most widely used method is cross-validation (cv)\n",
    "\n",
    "Split the data randomly into training and test sets: \n",
    "- train $\\hat \\theta$ with the training data\n",
    "- test $\\hat \\theta$ with the test data\n",
    "\n",
    "Because the test data is independent of $\\hat \\theta$ we can think of the training process as fixed and test error is now unbiased for risk of $\\hat \\theta$."
   ]
  },
  {
   "cell_type": "code",
   "execution_count": 1,
   "metadata": {},
   "outputs": [],
   "source": [
    "import numpy as np\n",
    "import pandas as pd\n",
    "from sklearn.linear_model import LinearRegression"
   ]
  },
  {
   "cell_type": "code",
   "execution_count": 2,
   "metadata": {},
   "outputs": [],
   "source": [
    "# load the wine quality data\n",
    "\n",
    "datapath = \"../data/\"\n",
    "with open(datapath + 'winequality-red.csv','r') as winefile:\n",
    "    header = winefile.readline()\n",
    "    wine_list = [line.strip().split(';') for line in winefile]"
   ]
  },
  {
   "cell_type": "code",
   "execution_count": 3,
   "metadata": {},
   "outputs": [
    {
     "name": "stdout",
     "output_type": "stream",
     "text": [
      "['fixed acidity', 'volatile acidity', 'citric acid', 'residual sugar', 'chlorides', 'free sulfur dioxide', 'total sulfur dioxide', 'density', 'pH', 'sulphates', 'alcohol', 'quality']\n"
     ]
    }
   ],
   "source": [
    "wine_ar = np.array(wine_list,dtype=np.float64)\n",
    "names = [name.strip('\"') for name in header.strip().split(';')]\n",
    "print(names)"
   ]
  },
  {
   "cell_type": "code",
   "execution_count": 4,
   "metadata": {},
   "outputs": [
    {
     "name": "stdout",
     "output_type": "stream",
     "text": [
      "1599\n",
      "11\n"
     ]
    }
   ],
   "source": [
    "#Subselect the predictor X and response y\n",
    "y = wine_ar[:,-1]\n",
    "X = wine_ar[:,:-1]\n",
    "n,p = X.shape\n",
    "print(n)\n",
    "print(p)"
   ]
  },
  {
   "cell_type": "code",
   "execution_count": 5,
   "metadata": {},
   "outputs": [],
   "source": [
    "def loss(yhat,y):\n",
    "    \"\"\"sqr error loss\"\"\"\n",
    "    return (yhat - y)**2\n",
    "\n",
    "def fit(X,Y):\n",
    "    \"\"\"fit the OLS from training w/ intercept\"\"\"\n",
    "    lin1 = LinearRegression(fit_intercept=True) # OLS from sklearn\n",
    "    lin1.fit(X,Y) # fit OLS\n",
    "    return np.append(lin1.intercept_,lin1.coef_) # return betahat\n",
    "\n",
    "def predict(x, betahat):\n",
    "    \"\"\"predict for point x\"\"\"\n",
    "    return betahat[0] + x @ betahat[1:]\n",
    "\n",
    "def train_test_split(X,Y,split_pr = 0.5):\n",
    "    \"\"\"train-test split\"\"\"\n",
    "    n,p = X.shape\n",
    "    Ind = np.arange(n) \n",
    "    np.random.shuffle(Ind) \n",
    "    train_size = int(split_pr * n) # set training set size\n",
    "    X_tr, X_te = X[Ind[:train_size],:], X[Ind[train_size:],:]\n",
    "    Y_tr, Y_te = Y[Ind[:train_size]], Y[Ind[train_size:]]\n",
    "    return (X_tr,Y_tr), (X_te, Y_te)"
   ]
  },
  {
   "cell_type": "code",
   "execution_count": 6,
   "metadata": {},
   "outputs": [],
   "source": [
    "np.random.seed(2001)\n",
    "\n",
    "Y = wine_ar[:,-1]\n",
    "X = wine_ar[:,:-1]\n",
    "(X_tr,Y_tr), (X_te, Y_te) = train_test_split(X,Y)"
   ]
  },
  {
   "cell_type": "code",
   "execution_count": 7,
   "metadata": {},
   "outputs": [
    {
     "name": "stdout",
     "output_type": "stream",
     "text": [
      "train avg loss: 0.3763705483557139\n",
      "test avg loss: 0.46918654256636566\n"
     ]
    }
   ],
   "source": [
    "≠\n",
    "## compute losses on train set\n",
    "Y_hat_tr = [predict(x,betahat) for x in X_tr]\n",
    "train_losses = [loss(yhat,y) for yhat,y in zip(Y_hat_tr,Y_tr)]\n",
    "\n",
    "print(\"train avg loss: {}\\ntest avg loss: {}\".format(np.mean(train_losses), np.mean(test_losses)))"
   ]
  },
  {
   "cell_type": "markdown",
   "metadata": {},
   "source": [
    "### Cross-validation\n",
    "\n",
    "* K-fold cross validation\n",
    "\n",
    "<img src=\"cv.png\" width=50%>\n",
    "\n",
    "(Source: wikipedia)\n",
    "\n",
    "* Leave one out cross validation (LOOCV)"
   ]
  },
  {
   "cell_type": "markdown",
   "metadata": {
    "slideshow": {
     "slide_type": "slide"
    }
   },
   "source": [
    "## Bias-variance tradeoff\n",
    "\n",
    "### Linear regression\n",
    "\n",
    "Recall that the OLS solves the following:\n",
    "$$\n",
    "\\hat \\beta = (X^\\top X)^{-1} X^\\top y\n",
    "$$\n",
    "\n",
    "From the last class, we know $\\hat \\beta$ is BLUE. Furthermore, if assuming $\\epsilon_i$ follows a normal distribution, then $\\hat \\beta$ is the UMVUE (uniformly minimum-variance unbiased estimator). \n",
    "\n",
    "__What does unbiased really mean?__\n",
    "\n",
    "Often, our goal is to minimize the mean squared error (MSE):\n",
    "\n",
    "$$\n",
    "\\text{MSE}(\\hat\\beta) = \\mathbb E[(\\hat \\beta - \\beta)^2]\n",
    "= \\mathbb E[(\\hat \\beta - \\mathbb E \\hat\\beta)^2] + (\\mathbb E \\hat\\beta - \\beta)^2\n",
    "= \\text{var}_\\beta(\\hat \\beta) + \\text{Bias}_\\beta^2(\\hat\\beta, \\beta) \n",
    "$$"
   ]
  },
  {
   "cell_type": "markdown",
   "metadata": {},
   "source": [
    "#### James-Stein estimator\n",
    "\n",
    "* Let $Y \\sim N(\\theta, \\sigma^2 I_n)$, the MLE $\\hat\\theta = Y$\n",
    "* Suppose $\\hat \\sigma$ is given, James and Stein showed that the estimator \n",
    "$$\n",
    "\\widehat{\\boldsymbol \\theta}_{JS} = \n",
    "\\left( 1 - \\frac{(n-2) \\sigma^2}{\\|{\\mathbf y}\\|^2} \\right) {\\mathbf y}.\n",
    "$$\n",
    "always achieves lower mean squared error (MSE) than the MLE if $n \\geq 2$\n",
    "\n",
    "<img src=\"mse-JS.png\" width=40%>\n",
    "\n",
    "(Source: wikipedia-James–Stein_estimator)"
   ]
  },
  {
   "cell_type": "markdown",
   "metadata": {},
   "source": [
    "\n",
    "<img src=\"stein.png\" width=30%>\n",
    "\n",
    "* Further reading about Charles Stein: https://news.stanford.edu/2016/12/01/charles-m-stein-extraordinary-statistician-anti-war-activist-dies-96/"
   ]
  },
  {
   "cell_type": "markdown",
   "metadata": {
    "slideshow": {
     "slide_type": "slide"
    }
   },
   "source": [
    "### Variable selection\n",
    "\n",
    "P. 57 of ESL\n",
    "\n",
    "There are two reasons why we are often not satisfied with the least squares estimates\n",
    "\n",
    "* _Prediction accuracy_: Prediction can sometimes be improved by shrinking or setting some coefficients to zero. Basically, we sacrifice a little bit of bias to reduce the variance, and hence improve the overall prediction accuracy\n",
    "* _Interpretation_: Find a smaller subset that exhibit the strongest effects among a large number of predictors. In order to get the \"big picture,\" we are willing to sacrifice some of the small details.  \n"
   ]
  },
  {
   "cell_type": "markdown",
   "metadata": {
    "slideshow": {
     "slide_type": "slide"
    }
   },
   "source": [
    "## Variable selection methods\n",
    "\n",
    "* Best subsect/forward/backward/stepwise selection\n",
    "* Benjamini-Hochberg procedure\n",
    "* Cross-validation\n",
    "* Information criterions\n",
    "* Penalty methods\n",
    "* Bayesian methods"
   ]
  },
  {
   "cell_type": "markdown",
   "metadata": {},
   "source": [
    "####  1. Best subset selection\n",
    "\n",
    "1. Consider all possible models with 1 variable, 2 variables, …, $p$ variables\n",
    "2. Choose the best model of size 1, the best model of size 2, …, the best model of size $p$\n",
    "3. From these finalists, choose the best overall model\n",
    "\n",
    "\n",
    "<img src=\"best-subset.png\" style=\"width: 600px;\"/>\n",
    "\n",
    "_source: https://quantifyinghealth.com/best-subset-selection_"
   ]
  },
  {
   "cell_type": "markdown",
   "metadata": {
    "slideshow": {
     "slide_type": "slide"
    }
   },
   "source": [
    "#### 2. Forward/Backward/Stepwise selection\n",
    "\n",
    "\n",
    "* Forward selection\n",
    "    - Start with no variables in the model\n",
    "    - Add the 1st variable, if significant --> stay; not signifitant --> remove (usually choose p-value larger than 0.05)\n",
    "    - Add the 2nd variable, if significant --> stay; not signifitant --> remove\n",
    "    - ....\n",
    "    - Stop until none improves the model to a statistically significant extent\n",
    "    \n",
    "    \n",
    "* Backward selection\n",
    "    - Start with the full model\n",
    "    - Remove the variable which is most statistically insignificant \n",
    "    - ....\n",
    "    - Stop until all variables in the model are significant \n",
    "    \n",
    "    \n",
    "    \n",
    "* Stepwise selection (modification of the forward selection)\n",
    "    - After each step in which a variable was added, all candidate variables in the model are checked to see if their significance has been reduced below the specified tolerance level. If a nonsignificant variable is found, it is removed from the model. \n"
   ]
  },
  {
   "cell_type": "markdown",
   "metadata": {},
   "source": [
    "In numpy, the function __[feature_selection.SequentialFeatureSelector](https://scikit-learn.org/stable/modules/generated/sklearn.feature_selection.SequentialFeatureSelector.html)__ in _sklearn_ does the forward, backward, and stepwise selections. See __[Example](https://scikit-learn.org/stable/auto_examples/feature_selection/plot_select_from_model_diabetes.html#sphx-glr-auto-examples-feature-selection-plot-select-from-model-diabetes-py)__ for details.\n"
   ]
  },
  {
   "cell_type": "markdown",
   "metadata": {
    "slideshow": {
     "slide_type": "slide"
    }
   },
   "source": [
    "_Source: Page 59 of ESL_\n",
    "\n",
    "<img src=\"subset-selection.png\" style=\"width: 600px;\"/>"
   ]
  },
  {
   "cell_type": "code",
   "execution_count": 19,
   "metadata": {},
   "outputs": [],
   "source": [
    "import numpy as np\n",
    "import matplotlib.pyplot as plt\n",
    "\n",
    "np.random.seed(2022)\n",
    "N = 300\n",
    "p = 31\n",
    "beta = np.zeros(p)\n",
    "beta[range(10)] = np.random.normal(0, np.sqrt(0.4), 10)\n",
    "cov_X = np.full((p, p), 0.85) # create the correlation matrix\n",
    "np.fill_diagonal(cov_X, 1)\n",
    "X = np.random.multivariate_normal(np.zeros(p), cov_X, N) # generate design matrix\n",
    "resid = np.random.normal(0, np.sqrt(0.625), N)\n",
    "mean = np.matmul(X, beta)\n",
    "y = mean + resid"
   ]
  },
  {
   "cell_type": "code",
   "execution_count": 9,
   "metadata": {},
   "outputs": [
    {
     "data": {
      "image/png": "[encoded data removed]",
      "text/plain": [
       "<Figure size 432x288 with 1 Axes>"
      ]
     },
     "metadata": {
      "needs_background": "light"
     },
     "output_type": "display_data"
    }
   ],
   "source": [
    "plt.plot(np.matmul(X, beta), \"red\")\n",
    "plt.plot(np.random.normal(0, np.sqrt(6.25), N), \"blue\")\n",
    "plt.show()"
   ]
  },
  {
   "cell_type": "code",
   "execution_count": 10,
   "metadata": {},
   "outputs": [
    {
     "data": {
      "text/plain": [
       "(array([ 2.,  3.,  5.,  2.,  7.,  9., 14., 26., 34., 36., 41., 28., 31.,\n",
       "        23., 12., 10.,  6.,  5.,  4.,  2.]),\n",
       " array([-7.85015841, -7.10060835, -6.35105829, -5.60150823, -4.85195817,\n",
       "        -4.10240811, -3.35285805, -2.60330799, -1.85375793, -1.10420787,\n",
       "        -0.35465781,  0.39489225,  1.14444231,  1.89399237,  2.64354243,\n",
       "         3.39309248,  4.14264254,  4.8921926 ,  5.64174266,  6.39129272,\n",
       "         7.14084278]),\n",
       " <BarContainer object of 20 artists>)"
      ]
     },
     "execution_count": 10,
     "metadata": {},
     "output_type": "execute_result"
    },
    {
     "data": {
      "image/png": "[encoded data removed]",
      "text/plain": [
       "<Figure size 432x288 with 2 Axes>"
      ]
     },
     "metadata": {
      "needs_background": "light"
     },
     "output_type": "display_data"
    }
   ],
   "source": [
    "fig, axs = plt.subplots(1, 2, sharey=True, tight_layout=True)\n",
    "n_bins = 20\n",
    "# We can set the number of bins with the *bins* keyword argument.\n",
    "axs[0].hist(mean, bins=n_bins)\n",
    "axs[1].hist(resid, bins=n_bins)"
   ]
  },
  {
   "cell_type": "code",
   "execution_count": 11,
   "metadata": {},
   "outputs": [
    {
     "name": "stdout",
     "output_type": "stream",
     "text": [
      "                                 OLS Regression Results                                \n",
      "=======================================================================================\n",
      "Dep. Variable:                      y   R-squared (uncentered):                   0.555\n",
      "Model:                            OLS   Adj. R-squared (uncentered):              0.504\n",
      "Method:                 Least Squares   F-statistic:                              10.82\n",
      "Date:                Mon, 04 Apr 2022   Prob (F-statistic):                    5.46e-32\n",
      "Time:                        20:35:00   Log-Likelihood:                         -696.03\n",
      "No. Observations:                 300   AIC:                                      1454.\n",
      "Df Residuals:                     269   BIC:                                      1569.\n",
      "Df Model:                          31                                                  \n",
      "Covariance Type:            nonrobust                                                  \n",
      "==============================================================================\n",
      "                 coef    std err          t      P>|t|      [0.025      0.975]\n",
      "------------------------------------------------------------------------------\n",
      "x1            -0.6742      0.383     -1.758      0.080      -1.429       0.081\n",
      "x2            -0.1464      0.443     -0.330      0.741      -1.019       0.726\n",
      "x3             0.2077      0.397      0.523      0.601      -0.574       0.989\n",
      "x4             1.5295      0.425      3.602      0.000       0.693       2.366\n",
      "x5             0.5071      0.391      1.296      0.196      -0.263       1.277\n",
      "x6             0.3556      0.421      0.845      0.399      -0.473       1.184\n",
      "x7             0.2398      0.443      0.542      0.588      -0.632       1.111\n",
      "x8             0.1285      0.453      0.284      0.777      -0.763       1.020\n",
      "x9             1.4561      0.396      3.679      0.000       0.677       2.235\n",
      "x10           -0.1453      0.413     -0.352      0.725      -0.959       0.668\n",
      "x11           -0.3381      0.399     -0.848      0.397      -1.123       0.447\n",
      "x12            0.1552      0.397      0.391      0.696      -0.626       0.936\n",
      "x13           -0.2681      0.389     -0.690      0.491      -1.033       0.497\n",
      "x14            0.2956      0.416      0.711      0.478      -0.523       1.114\n",
      "x15            0.4316      0.383      1.125      0.261      -0.323       1.187\n",
      "x16           -0.2336      0.400     -0.583      0.560      -1.022       0.555\n",
      "x17            0.2980      0.429      0.694      0.488      -0.548       1.144\n",
      "x18            0.3351      0.434      0.772      0.441      -0.520       1.190\n",
      "x19           -0.4197      0.411     -1.021      0.308      -1.229       0.390\n",
      "x20            0.4364      0.435      1.003      0.317      -0.420       1.293\n",
      "x21            0.2459      0.409      0.602      0.548      -0.559       1.051\n",
      "x22           -0.5710      0.424     -1.347      0.179      -1.405       0.263\n",
      "x23           -0.6837      0.374     -1.826      0.069      -1.421       0.054\n",
      "x24           -0.5042      0.386     -1.306      0.193      -1.264       0.256\n",
      "x25            0.0803      0.398      0.202      0.840      -0.703       0.863\n",
      "x26            0.1313      0.393      0.334      0.738      -0.642       0.905\n",
      "x27            0.3469      0.413      0.841      0.401      -0.466       1.159\n",
      "x28            0.4356      0.411      1.060      0.290      -0.374       1.245\n",
      "x29           -0.7212      0.433     -1.664      0.097      -1.575       0.132\n",
      "x30           -0.0254      0.395     -0.064      0.949      -0.803       0.752\n",
      "x31           -0.1674      0.414     -0.404      0.686      -0.983       0.648\n",
      "==============================================================================\n",
      "Omnibus:                        4.431   Durbin-Watson:                   1.900\n",
      "Prob(Omnibus):                  0.109   Jarque-Bera (JB):                4.348\n",
      "Skew:                          -0.209   Prob(JB):                        0.114\n",
      "Kurtosis:                       3.415   Cond. No.                         20.2\n",
      "==============================================================================\n",
      "\n",
      "Notes:\n",
      "[1] R² is computed without centering (uncentered) since the model does not contain a constant.\n",
      "[2] Standard Errors assume that the covariance matrix of the errors is correctly specified.\n"
     ]
    }
   ],
   "source": [
    "import statsmodels.api as sm\n",
    "\n",
    "# OLS model fitting\n",
    "reg = sm.OLS(y, X)\n",
    "fit = reg.fit()\n",
    "fit.sum = fit.summary()\n",
    "print(fit.sum)"
   ]
  },
  {
   "cell_type": "code",
   "execution_count": 12,
   "metadata": {},
   "outputs": [],
   "source": [
    "import pandas as pd\n",
    "fit_pd = pd.DataFrame(fit.sum.tables[1])"
   ]
  },
  {
   "cell_type": "code",
   "execution_count": 13,
   "metadata": {},
   "outputs": [
    {
     "name": "stdout",
     "output_type": "stream",
     "text": [
      "1      0.080\n",
      "2      0.741\n",
      "3      0.601\n",
      "4      0.000\n",
      "5      0.196\n",
      "6      0.399\n",
      "7      0.588\n",
      "8      0.777\n",
      "9      0.000\n",
      "10     0.725\n",
      "11     0.397\n",
      "12     0.696\n",
      "13     0.491\n",
      "14     0.478\n",
      "15     0.261\n",
      "16     0.560\n",
      "17     0.488\n",
      "18     0.441\n",
      "19     0.308\n",
      "20     0.317\n",
      "21     0.548\n",
      "22     0.179\n",
      "23     0.069\n",
      "24     0.193\n",
      "25     0.840\n",
      "26     0.738\n",
      "27     0.401\n",
      "28     0.290\n",
      "29     0.097\n",
      "30     0.949\n",
      "31     0.686\n",
      "Name: 4, dtype: object\n"
     ]
    }
   ],
   "source": [
    "p_val = fit_pd[4][1:] # obtain p-values\n",
    "print(p_val)"
   ]
  },
  {
   "cell_type": "markdown",
   "metadata": {},
   "source": [
    "####  3. Information criterions\n",
    "\n",
    "* AIC (Akaike information criterion)\n",
    "\n",
    "$$\n",
    "\\text{AIC} = - 2\\log L(\\hat\\theta) + 2p\n",
    "$$\n",
    "\n",
    "$p$: total number of parameters; $L$ likelihood function; $\\hat \\theta$ the MLE\n",
    "\n",
    "<img src=\"AIC-paper.png\" width=70%>\n",
    "\n"
   ]
  },
  {
   "cell_type": "markdown",
   "metadata": {},
   "source": [
    "#### BIC (Bayesian information criterion)\n",
    "\n",
    "$$\n",
    "\\text{BIC} = - 2 \\log L(\\hat \\theta) + p\\ln(n)\n",
    "$$\n",
    "\n",
    "\n",
    "Also the formula of BIC looks similar to AIC, BIC is derived from Bayesian point of view. (See wikipedia: [BIC](https://en.wikipedia.org/wiki/Bayesian_information_criterion))\n",
    "\n",
    "\n",
    "<img src=\"BIC-paper.png\" width=70%>\n"
   ]
  },
  {
   "cell_type": "markdown",
   "metadata": {},
   "source": [
    "There are other crterions such as \n",
    "* _[Deviance information criterion (DIC)](https://en.wikipedia.org/wiki/Deviance_information_criterion#:~:text=The%20deviance%20information%20criterion%20(DIC,Monte%20Carlo%20(MCMC)%20simulation.)_\n",
    "* _Residual information criterio (RIC)_ (Foster and George, 1994). "
   ]
  },
  {
   "cell_type": "code",
   "execution_count": 14,
   "metadata": {},
   "outputs": [],
   "source": [
    "aic = []\n",
    "bic = []\n",
    "\n",
    "for i in range(1, 31):\n",
    "    X_subset = X[:, 0:i]\n",
    "    model = sm.OLS(y, X_subset).fit()\n",
    "    aic.append(model.aic)\n",
    "    bic.append(model.bic)≠"
   ]
  },
  {
   "cell_type": "code",
   "execution_count": 15,
   "metadata": {},
   "outputs": [
    {
     "data": {
      "text/plain": [
       "[<matplotlib.lines.Line2D at 0x7fb202c73280>]"
      ]
     },
     "execution_count": 15,
     "metadata": {},
     "output_type": "execute_result"
    },
    {
     "data": {
      "image/png": "[encoded data removed]",
      "text/plain": [
       "<Figure size 432x288 with 1 Axes>"
      ]
     },
     "metadata": {
      "needs_background": "light"
     },
     "output_type": "display_data"
    }
   ],
   "source": [
    "plt.plot(aic)\n",
    "plt.plot(bic, \"green\")"
   ]
  },
  {
   "cell_type": "markdown",
   "metadata": {
    "slideshow": {
     "slide_type": "slide"
    }
   },
   "source": [
    "#### 4. False discovery rate (FDR)  - Benjamini-Hochberg (BH) Procedure\n",
    "\n",
    "\n",
    "<img src=\"bh.png\" style=\"width: 600px;\"/>"
   ]
  },
  {
   "cell_type": "markdown",
   "metadata": {},
   "source": [
    "#### False discovery rate (FDR)\n",
    "\n",
    "Give $m$ null hypothesis: $H_{0j}$ vs $H_{1j}$, $j = 1, \\dots, M$\n",
    "\n",
    "* We reject the null hypothesis if the test is declared significant\n",
    "* We do not reject the null hypothesis if the test is non-significant.\n",
    "\n",
    "\n",
    "                   ------------------------------------------------------------- \n",
    "                                   | not significant | significant |   Total \n",
    "                   ----------------|-----------------|-------------|------------\n",
    "                   $H_0$ is true   |        U        |     V       |    $m_0$ \n",
    "                   $H_0$ is false  |        T        |     S       |  $M - m_0$\n",
    "                   ----------------|-----------------|-------------|------------       \n",
    "                       Total       |       M - R     |     R       |     M     \n",
    "                   -------------------------------------------------------------     \n",
    "                   \n",
    "* $m_0$: total number of true hypothesis\n",
    "* $M-m_0$: total number of alternative hypothesis\n",
    "* R: total number of discoveries\n",
    "* V: number of false discoveries (type I error)\n",
    "* U: number of true negatives\n",
    "* S: number of true discoveries\n",
    "* T: number of false negatives (type II error)\n",
    "\n",
    "$$\n",
    "\\text{FDR} = \\mathbb E \\left(\\frac{V}{R}\\right) = \\mathbb E \\left(\\frac{V}{V+S}\\right)\n",
    "$$\n",
    "Goal: control FDR such that $\\text{FDR} \\leq \\alpha$."
   ]
  },
  {
   "cell_type": "markdown",
   "metadata": {},
   "source": [
    "#### Benjamini-Hochberg (BH) procedure\n",
    "\n",
    "Suppose we have computed $p$-values for $M$ independent hypothesis test: $H_{0j}$ vs $H_{1j}$, $j = 1, \\dots, M$\n",
    "\n",
    "The BH procedure does the following:\n",
    "\n",
    "- Sort the $p$-values: $p_{(1)} \\leq p_{(2)} \\leq \\cdots \\leq p_{(M)}$\n",
    "- Find $\\hat j = \\max\\{j: p_{(j)} < \\alpha \\frac{j}{M})\\}$ ($\\alpha = 0.05$ say)\n",
    "- Reject all hypothesis $H_{0j}$ that $p_{(j)} \\leq p_{(\\hat{j})}$.\n",
    "\n",
    "\n",
    "Watch Yoav Benjamini's talk: https://www.youtube.com/watch?v=oONHlua2gBY"
   ]
  },
  {
   "cell_type": "markdown",
   "metadata": {},
   "source": [
    "#### Why BH procedure works? (self-study)\n",
    "\n",
    "* Why BH procedure makes sense? Please read __[this](https://cpb-us-w2.wpmucdn.com/blog.nus.edu.sg/dist/0/3425/files/2018/10/Understanding-Benjamini-Hochberg-method-2ijolq0.pdf)__ to get more details\n",
    "\n",
    "#### BH procedure in numpy \n",
    "\n",
    "* __[multitest.multipletests](\n",
    "https://www.statsmodels.org/dev/generated/statsmodels.stats.multitest.multipletests.html)__ in statsmodels: choose the _fdr_bh_ method\n",
    "* __multipy__ package"
   ]
  },
  {
   "cell_type": "code",
   "execution_count": 16,
   "metadata": {},
   "outputs": [
    {
     "name": "stdout",
     "output_type": "stream",
     "text": [
      "Requirement already satisfied: multipy in /Users/yuchien/opt/anaconda3/lib/python3.8/site-packages (0.16)\r\n"
     ]
    }
   ],
   "source": [
    "!pip install multipy"
   ]
  },
  {
   "cell_type": "code",
   "execution_count": 17,
   "metadata": {},
   "outputs": [
    {
     "data": {
      "text/plain": [
       "[('0.0001', True),\n",
       " ('0.0004', True),\n",
       " ('0.0019', True),\n",
       " ('0.0095', True),\n",
       " ('0.0201', False),\n",
       " ('0.0278', False),\n",
       " ('0.0298', False),\n",
       " ('0.0344', False),\n",
       " ('0.0459', False),\n",
       " ('0.3240', False),\n",
       " ('0.4262', False),\n",
       " ('0.5719', False),\n",
       " ('0.6528', False),\n",
       " ('0.7590', False),\n",
       " ('1.0000', False)]"
      ]
     },
     "execution_count": 17,
     "metadata": {},
     "output_type": "execute_result"
    }
   ],
   "source": [
    "# example from https://puolival.github.io/multipy/\n",
    "\n",
    "from multipy.data import neuhaus\n",
    "from multipy.fdr import lsu\n",
    "\n",
    "pvals = neuhaus() # 15 hypothesis\n",
    "significant_pvals = lsu(pvals, q=0.05)\n",
    "list(zip(['{:.4f}'.format(p) for p in pvals], significant_pvals))"
   ]
  },
  {
   "cell_type": "markdown",
   "metadata": {},
   "source": [
    "### Connections between different methods - penalization viewpoint\n",
    "\n",
    "(Abramovich et al., 2006 P. 596)\n",
    "\n",
    "Penalization connects a vast literature on model selection. Consider the model selection rules of the form\n",
    "\n",
    "$$\n",
    "\\hat k = \\arg\\min_k RSS(k) + 2 k\\lambda,\n",
    "$$\n",
    "where $RSS(k)$ is the best residual sum of squares $\\|y - m\\|_2^2$ for a model $m$ with $k$ parameters. \n",
    "\n",
    "* AIC - choose $\\lambda = 1$\n",
    "* BIC - choose $\\lambda = \\log n/2$\n",
    "* FDR - choose $\\lambda \\sim \\log(n/k) - \\log \\log (n/k) /2 + c$\n",
    "* Best subset selection - $\\min_\\beta\\{ \\frac{1}{2}\\|Y - X\\beta\\|_2^2 + \\lambda \\|\\beta\\|_0\\}$\n",
    "    - $\\|\\beta\\|_0 = \\sum_{j=1}^p 1\\{\\beta \\neq 0\\}$"
   ]
  },
  {
   "cell_type": "markdown",
   "metadata": {},
   "source": [
    "Further reading:\n",
    "\n",
    "1. Subset selection compares to lasso: https://arxiv.org/pdf/1707.08692.pdf\n",
    "2. Cross-validation compares to AIC/BIC: http://users.stat.umn.edu/~yangx374/papers/ACV_v30.pdf\n",
    "3. Chapter 7.10 of ESL or in general, read Chapter 7 of ESL"
   ]
  },
  {
   "cell_type": "code",
   "execution_count": null,
   "metadata": {},
   "outputs": [],
   "source": []
  }
 ],
 "metadata": {
  "celltoolbar": "Slideshow",
  "kernelspec": {
   "display_name": "Python 3",
   "language": "python",
   "name": "python3"
  },
  "language_info": {
   "codemirror_mode": {
    "name": "ipython",
    "version": 3
   },
   "file_extension": ".py",
   "mimetype": "text/x-python",
   "name": "python",
   "nbconvert_exporter": "python",
   "pygments_lexer": "ipython3",
   "version": "3.8.8"
  }
 },
 "nbformat": 4,
 "nbformat_minor": 2
}
