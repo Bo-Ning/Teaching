{
 "cells": [
  {
   "cell_type": "markdown",
   "id": "f946ca3a",
   "metadata": {},
   "source": [
    "## Week 7-2: Nonparametric method - Kernel density estimation\n",
    "\n",
    "_Bo Y.-C. Ning_\n",
    "\n",
    "#### Last time\n",
    "* MCMC\n",
    "* Note: when calculate ACF, remove burnin first\n",
    "\n",
    "#### Today\n",
    "* Empirical cumulative distribution function\n",
    "* Histogram\n",
    "* KDE\n",
    "\n",
    "#### Reference\n",
    "* (__vdVAS__) Aad van der Vaart (1998). Asymptotic Statistics. _Cambridage Series in Statistical and Probabilistic Mathematics_.\n",
    "* Larry Wasserman (2005) All of nonparametric statistics. _Springer_.\n",
    "* Lecture notes from Yen-Chi Chen: https://faculty.washington.edu/yenchic/19A_stat535/Lec2_density.pdf\n",
    "* Max Köhler, Anja Schindler and Stefan Sperlich (2014) A Review and Comparison of Bandwidth Selection Methods for Kernel Regression. _International Statistical Review_ 82:243--274\n",
    "* Alexander Goldenshluger, Oleg Lepski (2011). Bandwidth selection in kernel density estimation: Oracle inequalities and adaptive minimax optimality. _AoS_ 39:1608--1632\n",
    "* Suzanne Varet, Claire Lacour, Pascal Massart, and Vincent Rivoirard (2019). Numerical performance of Penalized Comparison to Overfitting for multivariate kernel density estimation. [Link](https://www.ceremade.dauphine.fr/~rivoirar/PCO-num.pdf)\n",
    "* Johannes Schmidt-Hieber (2020). Nonparametric regression using deep neural networks with ReLU activation function. _AoS_ 48:1875--1897"
   ]
  },
  {
   "cell_type": "markdown",
   "id": "e9b0c658",
   "metadata": {},
   "source": [
    "### Empirical cumulative distribution function\n",
    "\n",
    "Suppose we observe one dimensional random samples $X_1, \\dots, X_n$ from a commmon distribution function $F$, $F$ is completely unknown. Then a natural estimator for the underlying distribution $F$ is the _empirical cumulative distribution function_ is defined as\n",
    "$$\n",
    "\\mathbb{F}_n(x) = \\frac{1}{n} \\sum_{i=1}^n \\mathbb{1}\\{X_i \\leq t\\}\n",
    "$$"
   ]
  },
  {
   "cell_type": "code",
   "execution_count": 3,
   "id": "0de93cbb",
   "metadata": {},
   "outputs": [
    {
     "data": {
      "text/plain": [
       "Text(0.5, 1.0, 'ECDF (blue) vs normal CDF (red)')"
      ]
     },
     "execution_count": 3,
     "metadata": {},
     "output_type": "execute_result"
    },
    {
     "data": {
      "image/png": "[encoded data removed]",
      "text/plain": [
       "<Figure size 432x288 with 1 Axes>"
      ]
     },
     "metadata": {
      "needs_background": "light"
     },
     "output_type": "display_data"
    }
   ],
   "source": [
    "import numpy as np\n",
    "from statsmodels.distributions.empirical_distribution import ECDF\n",
    "from matplotlib import pyplot as plt\n",
    "np.random.seed(2022)\n",
    "\n",
    "# obtain ECDF\n",
    "X = np.random.normal(0, 1, 100)\n",
    "ecdf = ECDF(X)\n",
    "\n",
    "# obtain normal quantile\n",
    "import scipy.stats as stats\n",
    "v = np.linspace(-3, 2.4, 1000)\n",
    "q = stats.norm.cdf(v)\n",
    "\n",
    "\n",
    "plt.step(ecdf.x, ecdf.y, color = \"darkblue\", linewidth = 2)\n",
    "plt.plot(v, q, color = \"red\", )\n",
    "plt.title(\"ECDF (blue) vs normal CDF (red)\")"
   ]
  },
  {
   "cell_type": "markdown",
   "id": "fe383a1c",
   "metadata": {},
   "source": [
    "1. Uniform version of the law of large numbers for empirical processes\n",
    "\n",
    "__Theorem 1__ (Glivenko-Cantelli). If $X_1, X_2, \\dots$ are i.i.d. random variables with distribution function $F$, then \n",
    "$$\n",
    "\\|\\mathbb{F}_n - F\\|_\\infty := \\sup_x|\\mathbb{F}_n(x) - F(t)| \\overset{a.s.}{\\to} 0.\n",
    "$$\n",
    "\n",
    "2. Donsker's functional central limit theorem \n",
    "\n",
    "__Theorem 2__ (Donsker). If $X_1, X_2, \\dots$ are i.i.d. ranodm variables with distribution $F$, then the sequence of empirical process \n",
    "$$\n",
    "\\sqrt{n} (\\mathbb{F}_n - F) \\leadsto \\mathbb{G}_F \\text{in} D[-\\infty, \\infty],\n",
    "$$\n",
    "where $\\mathbb{G}_F$ is a Gaussian process with zero mean and covariance structure $K(x_i, x_j) = \\text{cov}(\\mathbb{G}(x_i), \\mathbb{G}(x_j)$ and $D[-\\infty, \\infty]$ is the Skorokhod space, the space containing the collection of càdlàg functions (continue à gauche, limite à droite).\n",
    "\n",
    "- For starters, read the empirical processes in Ch. 19 of vdVAS \n",
    "- A more advanced reference is the book _Weak convergence and empirical processes_ by Aad van der Vaart & Wellner\n"
   ]
  },
  {
   "cell_type": "markdown",
   "id": "3664cfb2",
   "metadata": {},
   "source": [
    "Consider the following question: suppose $X_1, X_2, \\dots$ are sorted into increasing order, what is the probability the ECDF put mass on the value between $x_i$ and $x_{i+1}$. The answer is zero. This answer is unsatisfactory, as one one want to predict new samples based on the old ones. Another approach is to use histograms."
   ]
  },
  {
   "cell_type": "markdown",
   "id": "5f739b8c",
   "metadata": {},
   "source": [
    "### Histograms\n",
    "\n",
    "Suppose we observe samples $X_1, X_2, \\dots, X_n \\in [0,1]$, so the density $f(x), x \\in [0, 1]$. \n",
    "\n",
    "Assume:\n",
    "\n",
    "- $f(x)$ is smooth and bounded \n",
    "- Its derivative $|f'(x)| \\leq L$ is also bounded; $f$ is Lipschitz\n",
    "\n",
    "To estimate $f$ using histogram, we cut the interval $[0, 1]$ into $M$ evenly-spaced intervals\n",
    "\n",
    "$$\n",
    "I_1 = [0, 1/M), \\quad I_2 = [1/M, 2/M),\\quad \\dots, \\quad I_M = [(M-1)/M, 1]\n",
    "$$\n",
    "\n",
    "Then the histogram density estimator is given by\n",
    "$$\n",
    "\\hat f_n(x) = \\frac{\\text{# of obs. in $I_k$}}{\\text{total # of obs.}} \\times \\frac{1}{\\text{size of each bin}}\n",
    "= \\frac{M}{n} \\sum_{i=1}^n \\mathbb{1}\\{X_i \\in I_k\\}\n",
    "$$"
   ]
  },
  {
   "cell_type": "code",
   "execution_count": 35,
   "id": "2442dfc7",
   "metadata": {},
   "outputs": [
    {
     "data": {
      "text/plain": [
       "<AxesSubplot:ylabel='Density'>"
      ]
     },
     "execution_count": 35,
     "metadata": {},
     "output_type": "execute_result"
    },
    {
     "data": {
      "image/png": "[encoded data removed]",
      "text/plain": [
       "<Figure size 432x288 with 1 Axes>"
      ]
     },
     "metadata": {
      "needs_background": "light"
     },
     "output_type": "display_data"
    }
   ],
   "source": [
    "import seaborn as sns\n",
    "\n",
    "# plot histogram (bin = \"auto\")\n",
    "\n",
    "sns.histplot(X, stat = \"density\", color = 'darkblue')"
   ]
  },
  {
   "cell_type": "code",
   "execution_count": 38,
   "id": "a37dafe2",
   "metadata": {},
   "outputs": [
    {
     "data": {
      "text/plain": [
       "<AxesSubplot:ylabel='Density'>"
      ]
     },
     "execution_count": 38,
     "metadata": {},
     "output_type": "execute_result"
    },
    {
     "data": {
      "image/png": "[encoded data removed]",
      "text/plain": [
       "<Figure size 432x288 with 1 Axes>"
      ]
     },
     "metadata": {
      "needs_background": "light"
     },
     "output_type": "display_data"
    }
   ],
   "source": [
    "# plot histogram (bin = 2)\n",
    "\n",
    "sns.histplot(X, stat = \"density\", bins = 2, color = 'darkblue')"
   ]
  },
  {
   "cell_type": "code",
   "execution_count": 39,
   "id": "3baa5fbc",
   "metadata": {},
   "outputs": [
    {
     "data": {
      "text/plain": [
       "<AxesSubplot:ylabel='Density'>"
      ]
     },
     "execution_count": 39,
     "metadata": {},
     "output_type": "execute_result"
    },
    {
     "data": {
      "image/png": "[encoded data removed]",
      "text/plain": [
       "<Figure size 432x288 with 1 Axes>"
      ]
     },
     "metadata": {
      "needs_background": "light"
     },
     "output_type": "display_data"
    }
   ],
   "source": [
    "# plot histogram (bin = the sample size)\n",
    "\n",
    "sns.histplot(X, stat = \"density\", bins = X.size, color = 'darkblue')"
   ]
  },
  {
   "cell_type": "markdown",
   "id": "8a3b3069",
   "metadata": {},
   "source": [
    "### How to choose the bin size?\n",
    "\n",
    "From the above three plots, clearly, one cannot choose the size of the bin to be too large (e.g., $M = n$) and too small (e.g., $M = 2$). Intuitively, there exists some optimal bin size to be chosen. \n",
    "\n",
    "Let's study the histogram estimator:\n",
    "\n",
    "__Bias part__\n",
    "\n",
    "\\begin{align}\n",
    "\\mathbb{E}(\\hat f_n(x)) & = M P(X_i \\in I_k)  \\quad (\\text{Why?})\\\\\n",
    "& = M \\int_{\\frac{k-1}{M}}^{\\frac{k}{M}} f(x) dx \\\\\n",
    "& = M \\Big[ F\\big(\\frac{k}{M}\\big) - F\\big(\\frac{k-1}{M}\\big) \\Big] \\\\\n",
    "& = \\frac{F\\big(\\frac{k}{M}\\big) - F\\big(\\frac{k-1}{M}\\big)}{\\frac{k}{M} - \\frac{k-1}{M}}\n",
    "\\end{align}\n",
    "By the mean-value theorem, there exists $x^\\star \\in [(k-1)/M, k/M)$ such that \n",
    "\n",
    "$$\n",
    "\\frac{F\\big(\\frac{k}{M}\\big) - F\\big(\\frac{k-1}{M}\\big)}{\\frac{k}{M} - \\frac{k-1}{M}} = f(x^\\star)\n",
    "$$\n",
    "\n",
    "Then the bias of the histogram estimator is\n",
    "\\begin{align}\n",
    "\\mathbb{E}(\\hat f_n(x)) - f(x)\n",
    "= f(x^\\star) - f(x)\n",
    "= \\frac{f(x^\\star) - f(x)}{x^\\star - x} (x^\\star - x)\n",
    "= f'(x^{\\star\\star})(x^\\star - x),\n",
    "\\end{align}\n",
    "where $x^{\\star\\star} \\in [x^\\star, x]$ (if $x^\\star > x$, $x^{\\star\\star} \\in [x, x^\\star]$). \n",
    "The last line can be bounded by \n",
    "$$\n",
    "|f'(x^{\\star\\star})||x^\\star - x| \\leq L |x^\\star - x| \\leq \\frac{L}{M},\n",
    "$$\n",
    "as we assumed $|f'(t)| \\leq L$. \n",
    "\n",
    "Therefore, the bias is of the order $L/M$, as $M \\to \\infty$, then the bias goes to 0. Then, should we choose $M$ as large as possible? "
   ]
  },
  {
   "cell_type": "markdown",
   "id": "20b879ac",
   "metadata": {},
   "source": [
    "__Variance part__\n",
    "\n",
    "\\begin{align}\n",
    "\\text{Var}(\\hat f_n(x)) & = \\text{Var} \\Big( \\frac{M}{n} \\sum_{i=1}^n \\mathbb{1}\\{X_i \\in I_k\\} \\Big) \\\\\n",
    "& = \\frac{M^2}{n} P(X_i \\in I_k) (1 - P(X_i \\in I_k))  \\quad (\\text{why?}) \n",
    "\\end{align}\n",
    "\n",
    "From the bias part, $M P(X_i \\in I_k) = f(x^\\star)$, thus we have\n",
    "\\begin{align}\n",
    "\\text{Var}(\\hat f_n(x)) & = \\frac{M^2}{n} \\frac{f(x^\\star)}{M} \\big(1 - \\frac{f(x^\\star)}{M} \\big) \\\\\n",
    "& = \\frac{M f(x^\\star)}{n} - \\frac{f^2(x^\\star)}{n}.\n",
    "\\end{align}\n",
    "\n",
    "This result suggest that as $M \\to \\infty$, $\\text{Var}(\\hat f_n(x)) \\to \\infty$. \n",
    "\n",
    "__MSE__\n",
    "\n",
    "We calculate the MSE (mean squared error): \n",
    "$$\n",
    "\\text{MSE}(\\hat f_n(x)) = \\Big(\\mathbb{E}(\\hat f_n(x)) - f(x)\\Big)^2 + \\text{Var}(\\hat f_n(x))\n",
    "= \\frac{L^2}{M^2} + \\frac{M f(x^\\star)}{n} - \\frac{f^2(x^\\star)}{n}\n",
    "\\leq \\frac{L^2}{M^2} + \\frac{M \\max_x f(x)}{n}.\n",
    "$$\n",
    "\n",
    "If $M$ is large, we have a small bias and a large variance, this is the _undersmoothing_ case; if $M$ is small, we have a small variance but a large bias, this is the _oversmoothing_ case. By minimizing the MSE, we obtain \n",
    "\n",
    "$$\n",
    "M^{\\text{opt}} = \\Big(\\frac{2nL}{\\max_x f(x)} \\Big)^{1/3}\n",
    "$$\n",
    "\n",
    "Although we do not know $f$, the result suggests that the optimal bins should change with the sample size $n$ and \n",
    "$\n",
    "\\text{MSE}(\\hat f_n(x)) \\lesssim n^{-2/3}.\n",
    "$\n",
    "This implies the rate of convergence is $n^{-1/3}$, which is slower than the parametric rate $1/\\sqrt{n}$. "
   ]
  },
  {
   "cell_type": "markdown",
   "id": "972ea60e",
   "metadata": {},
   "source": [
    "### Kernel density estimator\n",
    "\n",
    "The histogram estimator we introduced is not smooth. Often, one wants to obtain a smooth density. One can use the _kernel density estimator_ (KDE), which not only provides a smooth estimator, but soon we will see it also improves the convergence rate. \n",
    "\n",
    "The KDE is defined as \n",
    "\n",
    "$$\n",
    "\\hat f_n(x) = \\frac{1}{nh} \\sum_{i=1}^n K\\big(\\frac{x - X_i}{h}\\big),\n",
    "$$\n",
    "where $h$ is the _bandwidth_ to be chosen, $K(u)$ is a kernel function satisfying:\n",
    "\n",
    "- smooth \n",
    "- symmetric $\\int uK(u) = 0$ (e.g., Gaussian)\n",
    "- $\\int K(u) = 1$\n",
    "\n",
    "\n",
    "The KDE smoothes all the density bumps and then sum up all the bumps together. \n",
    "\n",
    "(Source: Page 132 of L. Wasserman. _All of nonparametric statistics_)\n",
    "<img src=\"kde.png\" width=50%>  "
   ]
  },
  {
   "cell_type": "code",
   "execution_count": 79,
   "id": "af583411",
   "metadata": {},
   "outputs": [],
   "source": [
    "# generate sample from two mixture normal 0.4 N(-2, 1) + 0.6 N(2, 1)\n",
    "\n",
    "N = 500 # sample size\n",
    "np.random.seed(202205) # set random seed\n",
    "u = np.random.uniform(0, 1, N) #Sample N random uniforms u from [0, 1]\n",
    "X_mtr = [] # create an empty array\n",
    "for i in range(N):\n",
    "    if u[i] <= 0.4:\n",
    "        X_mtr = np.append(X_mtr, np.random.normal(-2, 1, 1))\n",
    "    else: \n",
    "        X_mtr = np.append(X_mtr, np.random.normal(2, 1, 1)) "
   ]
  },
  {
   "cell_type": "code",
   "execution_count": 83,
   "id": "d306462f",
   "metadata": {},
   "outputs": [
    {
     "data": {
      "text/plain": [
       "<AxesSubplot:ylabel='Density'>"
      ]
     },
     "execution_count": 83,
     "metadata": {},
     "output_type": "execute_result"
    },
    {
     "data": {
      "image/png": "[encoded data removed]",
      "text/plain": [
       "<Figure size 432x288 with 1 Axes>"
      ]
     },
     "metadata": {
      "needs_background": "light"
     },
     "output_type": "display_data"
    }
   ],
   "source": [
    "sns.histplot(X_mtr, bins = 20, kde = True, stat = \"density\", color = 'darkblue')\n",
    "\n",
    "# use Gaussian kernel"
   ]
  },
  {
   "cell_type": "markdown",
   "id": "5fe8e5ab",
   "metadata": {},
   "source": [
    "#### Kernel functions\n",
    "\n",
    "Commenly used kernel functions are \n",
    "\n",
    "_Gaussian kernel_\n",
    "$$\n",
    "K(u) = \\frac{1}{\\sqrt{2\\pi}} \\exp \\big(- \\frac{u^2}{2}\\big)\n",
    "$$\n",
    "\n",
    "_Uniform kernel_\n",
    "$$\n",
    "K(u) = \\frac{1}{2} \\mathbb{1}\\{-1\\leq u \\leq 1\\}\n",
    "$$\n",
    "\n",
    "_Epanechnikov kernel_\n",
    "$$\n",
    "K(u) = \\frac{3}{4} \\max\\{1 - u^2, 0\\}\n",
    "$$\n",
    "\n",
    "The Epanechnikov kernel has the lowest mean square error.\n",
    "\n",
    "<img src=\"kernel.png\" width=70%>\n",
    "\n",
    "Source: Yen-Chi Chen's notes (https://faculty.washington.edu/yenchic/19A_stat535/Lec2_density.pdf)"
   ]
  },
  {
   "cell_type": "markdown",
   "id": "090896f0",
   "metadata": {},
   "source": [
    "### Analysis of KDE"
   ]
  },
  {
   "cell_type": "markdown",
   "id": "b2821742",
   "metadata": {},
   "source": [
    "We study the mean integrated square error (MISE):\n",
    "\n",
    "$$\n",
    "\\text{MISE}(\\hat f_n(x)) = \\int \\text{MSE} (\\hat f_n(x)) dx\n",
    "$$\n",
    "\n",
    "Let's fix $x = x^\\star$ for now and study MSE part first. \n",
    "\n",
    "__Bias part__\n",
    "\n",
    "\\begin{align}\n",
    "\\mathbb{E}(\\hat f_n(x^\\star)) & = \\mathbb{E}\\Big(\\frac{1}{nh} \\sum_{i=1}^n K\\big(\\frac{X_i - x^\\star}{h} \\big) \\Big)  \\\\\n",
    "&= \\frac{1}{hn} \\sum_{i=1}^n \\mathbb{E} K\\big(\\frac{X_i - x^\\star}{h} \\big) \\\\\n",
    "&= \\frac{1}{h} \\int K\\big(\\frac{x - x^\\star}{h} \\big) f(x) dx \n",
    "\\end{align}\n",
    "Let $u = (x - x^\\star)/h$ and change variables from $x$ to $u$, note that $x = uh + x^\\star$, then we arrive at\n",
    "\\begin{align}\n",
    "\\frac{1}{h} \\int K(u) f(uh + x^\\star) d (uh + x^\\star)\n",
    "= \\int K(u) f(uh + x^\\star) du.\n",
    "\\end{align}\n",
    "\n",
    "Then the bias is given by\n",
    "\\begin{align}\n",
    "\\mathbb{E}(\\hat f_n(x^\\star)) - f(x^\\star) = \\int K(u) \\big[f(uh + x^\\star) - f(x^\\star)\\big] du,\n",
    "\\end{align}\n",
    "where we used the fact that $\\int K(u) = 1$.\n",
    "\n",
    "The remaining work is to bound $f(uh + x^\\star) - f(x^\\star)$. One could apply the Taylor's theorem to obtain \n",
    "$$\n",
    "f(uh + x^\\star) - f(x^\\star) = uh f'(x^\\star) + \\frac{(uh)^2}{2} f''(x^\\star) + \\frac{(uh)^3}{6} f'''(x^\\star) + \\cdots. \n",
    "$$\n",
    "Then, one has to assume all the derivatives $f^{(j)}(u)$, $j = 1, 2, \\dots$, i.e., $f^{(j)} = f'(u)$, $f^{(2)} = f''(u)$, etc, are bounded. \n",
    "\n",
    "Instead, we assume $f$ is $\\beta$-Hölder, i.e., $f \\in \\mathcal{H}(\\beta, L)$. For now, let's assume $\\beta = 2$ for simplicity. A more general result for any value of $\\beta$ will be given at the end of our derivation. \n",
    "\n",
    "__Fact 1.__ If $f \\in \\mathcal{H}(\\beta, L)$, then for all $x \\in (0, 1)$, \n",
    "$$\n",
    "\\Bigg| f(x) - \\sum_{j=0}^{\\lfloor \\beta \\rfloor} \\frac{f^{(j)}(y)}{j !} (x - y)^j  \\Bigg|\n",
    "\\leq L |x - y|^\\beta, \n",
    "$$\n",
    "for some constant $L$ and $\\lfloor \\beta \\rfloor$ is the largest integer smaller or equals to $\\beta$. "
   ]
  },
  {
   "cell_type": "markdown",
   "id": "2d2ffdb6",
   "metadata": {},
   "source": [
    "With Fact 1 and $\\beta = 2$, we can write \n",
    "\n",
    "\\begin{align}\n",
    "f(uh + x^\\star) - f(x^\\star)\n",
    "= \\underbrace{f(uh + x^\\star) - \\sum_{j = 0}^2 \\frac{f^{(j)} (x^\\star)}{j!} (uh + x^\\star - x^\\star)^j}_{(I)} \n",
    "+ \\underbrace{\\sum_{j = 0}^2 \\frac{f^{(j)} (x^\\star)}{j!} (uh + x^\\star - x^\\star)^j  - f(x^\\star)}_{(II)}\n",
    "\\end{align}\n",
    "\n",
    "Since $f \\in \\mathcal{H}(2, L)$, using Fact 1, $(I) \\leq L(uh)^2$.\n",
    "To bound $(II)$, we have\n",
    "\\begin{align}\n",
    "(II) & = f(x^\\star) + uf'(x^\\star) h + \\frac{f''(x^\\star)}{2} (uh)^2 - f(x^\\star) \\\\\n",
    "& = uf'(x^\\star) h + \\frac{f''(x^\\star)}{2} (uh)^2.\n",
    "\\end{align}\n",
    "\n",
    "Therefore, by combining the two upper bounds, \n",
    "\\begin{align}\n",
    "\\mathbb{E}(\\hat f_n(x^\\star)) - f(x^\\star) \n",
    "& \\leq L h^2 \\int u^2 K(u)du + f'(x^\\star) h \\int u K(u) du + \\frac{h^2 f''(x^\\star)}{2} \\int u^2 K(u) du \\\\\n",
    "& = L h^2 \\int u^2 K(u)du + \\frac{h^2 f''(x^\\star)}{2} \\int u^2 K(u) du.\n",
    "\\end{align}\n",
    "\n",
    "__Assumption 1.__ $\\int u^2 K(u) du = \\mu < \\infty$.\n",
    "\n",
    "With Assumption 1, the last display is bounded by \n",
    "$$\n",
    "L h^2 \\mu + \\frac{h^2 f''(x^\\star)}{2}\\mu,\n",
    "$$ \n",
    "which suggests that if $h \\to 0$, the bias $\\to 0$ for any fixed $x^\\star$. "
   ]
  },
  {
   "cell_type": "markdown",
   "id": "eefb330f",
   "metadata": {},
   "source": [
    "__Variance part__\n",
    "\n",
    "Now let's study the variance part in the MSE. \n",
    "\n",
    "\\begin{align}\n",
    "\\text{Var}(\\hat f_n(x)) & = \\text{Var} \n",
    "\\Big( \n",
    "\\frac{1}{nh} \\sum_{i=1}^n K \\big( \\frac{x_i - x^\\star}{h} \\big)\n",
    "\\Big) \\\\\n",
    "& = \\frac{1}{n^2h^2} \\sum_{i=1}^n \\text{Var}\\Big(K \\big( \\frac{x_i - x^\\star}{h} \\big)\\Big) \\\\\n",
    "& = \\frac{1}{nh^2} \\text{Var} \\Big(K \\big( \\frac{x - x^\\star}{h} \\big) \\Big)\\\\\n",
    "& = \\frac{1}{nh^2} \\Bigg\\{\n",
    "\\mathbb{E} \\Big(K^2 \\big( \\frac{x - x^\\star}{h} \\big) \\Big) - \n",
    "\\Big[\\mathbb{E} \\Big(K \\big( \\frac{x - x^\\star}{h} \\big) \\Big) \\Big]^2\n",
    "\\Bigg\\} \\\\\n",
    "& \\leq \\frac{1}{nh^2} \\mathbb{E} \\Big(K^2 \\big( \\frac{x - x^\\star}{h} \\big) \\Big) \\\\\n",
    "& = \\frac{1}{nh^2} \\int K^2 \\big(\\frac{x - x^\\star}{h} \\big) f(x) dx.\n",
    "\\end{align}\n",
    "\n",
    "Again, we change of variance $u = (x - x^\\star)/h$, then the last line in the display above can be written as \n",
    "\n",
    "\\begin{align}\n",
    "\\frac{1}{nh} \\int K^2(u) f(uh + x^\\star) du\n",
    "\\end{align}\n",
    "\n",
    "Using Fact 1, $f \\in \\mathcal{H}(2, L)$, and triangle inequality, \n",
    "$$\n",
    "f(uh + x^\\star) \\leq L(uh)^2 + \\sum_{j=0}^2 \\frac{f^{(j)}(x^\\star)}{j!} (uh)^j.\n",
    "$$\n",
    "\n",
    "Thus, \n",
    "\\begin{align}\n",
    "\\frac{1}{nh} \\int K^2(u) f(uh + x^\\star) du\n",
    "& \\leq \n",
    "\\frac{1}{nh} \\int K^2(u) \n",
    "\\Big[\n",
    "f(x^\\star) + uh f'(x^\\star) + (uh)^2 f''(x^\\star)\n",
    "\\Big] du \\\\\n",
    "& = \\frac{1}{nh}f(x^\\star) \\int K^2(u) du + \\frac{1}{n} f'(x^\\star) \\int u K^2(u) du + \\frac{h}{n} f''(x^\\star) \\int u^2 K^2(u) du \\\\\n",
    "& = \\frac{1}{nh}f(x^\\star) \\int K^2(u) du + \\frac{h}{n} f''(x^\\star) \\int u^2 K^2(u) du.\n",
    "\\end{align}\n",
    "\n",
    "__Assumption 2.__ Assuming $\\int u^\\beta K^2(u) du < \\infty$ (here, $\\beta = 2$).\n",
    "\n",
    "With Assumption 2, the last display can be written as \n",
    "\n",
    "\\begin{align}\n",
    "C_1 \\frac{1}{nh}f(x^\\star) + C_2 \\frac{h}{n} f''(x^\\star),\n",
    "\\end{align}\n",
    "where we denote $\\int K^2(u) du = C_1$ and $\\int u^2 K^2(u) = C_2$.\n",
    "\n",
    "Note that  the second term in the last display is much smaller than the first term if $h \\to 0$. "
   ]
  },
  {
   "cell_type": "markdown",
   "id": "b70ae687",
   "metadata": {},
   "source": [
    "Finally, we obtain the upper bound for the MISE, which is given by \n",
    "\n",
    "\\begin{align}\n",
    "\\text{MISE}(\\hat f_n(x) )\n",
    "= \\int\n",
    "\\Big\\{\n",
    "h^4  \\mu\n",
    "\\big(\n",
    "L + \\frac{f''(x)}{2}\n",
    "\\big)^2\n",
    "+ \n",
    "\\frac{C_1}{nh} f(x) + \\frac{C_2h}{n} f''(x)\n",
    "\\Big\\} dx.\n",
    "\\end{align}\n",
    "\n",
    "Apply the inequality $(a+b)^2 \\leq 2a^2 + 2b^2$ and using the fact that $\\int_0^1 dx = 1$, as $x \\in [0, 1]$, and $\\int_0^1 f(x) dx = 1$,\n",
    "as $f(x)$ is a density function, the last display can be bounded by \n",
    "\n",
    "\\begin{align}\n",
    "h^4 \\mu \\Big(2L^2 + \\frac{\\int (f''(x))^2 dx}{2} \\Big)\n",
    "+ \\frac{C_1}{nh} + \\frac{C_2h}{n} \\int f''(x) dx.\n",
    "\\end{align}\n",
    "\n",
    "__Assumption 3.__ Assuming $\\int (f''(x))^2 dx = \\|f''(x)\\|^2_2 < \\infty$.\n",
    "\n",
    "With Assumption 3, since $\\mu$, $L$ are both constants, $h = o(1)$, we simply the expression a little bit and obtain \n",
    "$$\n",
    "\\text{MISE}(\\hat f_n(x) ) \n",
    "\\leq C_3 h^4 + \\frac{C_4}{nh} + \\text{small}.\n",
    "$$\n",
    "\n",
    "By minimizing the MISE, we obtain the optimal bandwidth is \n",
    "\n",
    "$$\n",
    "h^{\\text{opt}} \\asymp n^{-1/5}.\n",
    "$$\n",
    "Then $\\text{MISE}(\\hat f_n(x)) = O(n^{-4/5})$. The convergence rate when $f\\in \\mathcal{H}(\\beta, L)$ and $\\beta = 2$ is $n^{-2/5}$. Comparing to the rate of the histogram estimator, $n^{-1/3}$, the rate for KDE is slightly faster. Both rates are slower than $1/\\sqrt{n}$, the parametric rate. This suggests there is a price to pay for making lesser assumptions.\n",
    "\n",
    "In general, if $f$ in $\\beta$-Hölder, by following a similar proof, we can show that the convergence rate is \n",
    "\n",
    "$$\n",
    "n^{- \\frac{\\beta}{2\\beta + 1}}.\n",
    "$$\n",
    "\n",
    "For example, when $\\beta = 1$, the rate is $n^{-1/3}$, as for the histogram estimator. When $\\beta = 2$, the rate is $n^{-2/5}$, which is the rate of KDE obtained above. \n",
    "\n",
    "The following theorem suggests that the KDE achieves the minimax rate, meaning that it gives the optimal rate of convergence. \n",
    "\n",
    "__Theorem 3.__ (Page 135 of Wasserman (2015)). Let $\\mathcal{F}$ be the set of all probability density function and let $f^{(\\beta)}$ denote the $\\beta$-th derivative of $f$. Define \n",
    "\n",
    "$$\n",
    "\\mathcal{F}_j(c) = \\big\\{ f\\in \\mathcal{F}: \\int |f^{(\\beta)}|^2 dx \\leq c^2 \\big\\}.\n",
    "$$\n",
    "\n",
    "For any estimator $\\hat f_n$, \n",
    "\n",
    "$$\n",
    "\\sup_{f \\in \\mathcal{F}_\\beta(c)}\n",
    "\\mathbb{E}_f \\int \\big( \\hat f_n(x) - f(x) \\big)^2 dx \\geq b n^{- \\frac{\\beta}{2\\beta+1}},\n",
    "$$\n",
    "where $b > 0$ is a universal constant that depends only on $\\beta$ and $c$. "
   ]
  },
  {
   "cell_type": "markdown",
   "id": "b906906a",
   "metadata": {},
   "source": [
    "#### How to select the bandwidth?\n",
    "\n",
    "The derivation above suggest that the optimal choice of bandwidth should depends on $n$. It also depends on the unknown quantity $\\int (f''(x))^2 dx$, the overall curvature of density $f$. Indeed, how to select bandwidth is an active research area in statistics. \n",
    "Here are a couple of common approaches:\n",
    "\n",
    "- _Rule of thumb_. This strategy is motivated by selecting the optimal bandwith for estimating the PDF of a univariate Gaussian density with the choice of the Gaussian kernel. It is suggested to choose \n",
    "$$\n",
    "\\hat h = 1.05 \\hat \\sigma n^{-1/5}.\n",
    "$$\n",
    "One can replace $\\hat \\sigma$ by the interquartile range [IQR](https://en.wikipedia.org/wiki/Interquartile_range)/1.34, this leads to \n",
    "\n",
    "$$\n",
    "\\hat h = 0.79 \\hat{\\text{IQR}} n^{-1/5}.\n",
    "$$\n",
    "\n",
    "Later Silverman noticed that this bandwidth often oversmooth and miss the multi-modality so he\n",
    "recommended to revise it as\n",
    "\n",
    "$$\n",
    "\\hat h = 0.9 \\min\\{\\hat \\sigma, \\hat{\\text{IQR}}\\} n^{-1/5}.\n",
    "$$\n",
    "\n",
    "This choice is known as the _Silverman’s rule of thumb_.\n",
    "\n",
    "- _Plug-in method_. An intuitive approach is to plug-in a consistent estimator of $f''(x)$. However, a major challenge is that one needs to specify another bandwidth for estimating the second derivative.\n",
    "\n",
    "- _Least squared cross-validation_. The LSCV method is to use leave-one-out CV to estimate the integral $\\int \\hat f_n(x) f(x) dx$, a quantity arised in MISE. More details, please read Section 2.2.3 in Yen-Chi Chen's notes.\n",
    "\n",
    "- _Lepski's method_. The approach is proposed by Goldenshluger and Lepski (2011). The method treats the bandwidth selection problem as a model selection problem. In the paper, they propose a new selection procedure for a set of kernel estimators. A nice summary of this method can be found in Varet et al. (2019).\n",
    "\n",
    "- _Penalized Comparison to Overfitting (PCO) method_. Recently Varet et al. (2019) compared the PCO method with other methods including the Plug-in method, cv, and Lepski's method. Through simulation studies, they found the PCO method outperform other methods, in particular for estimating a multivariate density function. \n",
    "\n",
    "Speaking of estimating a multivariate density function, the convergence rate for $d$-dimensional density using KDE is $n^{- \\beta/(2\\beta + d)}$, which is super slow when $d$ becomes large. This is known as _the curse of dimensionality_ phenomena. This rate matches with the minimax rate. A recent seminal work by Schmidt-Hieber (2020) showed that it is possible to get a faster rate using the deep neural networks with RELU activation function. "
   ]
  }
 ],
 "metadata": {
  "kernelspec": {
   "display_name": "Python 3",
   "language": "python",
   "name": "python3"
  },
  "language_info": {
   "codemirror_mode": {
    "name": "ipython",
    "version": 3
   },
   "file_extension": ".py",
   "mimetype": "text/x-python",
   "name": "python",
   "nbconvert_exporter": "python",
   "pygments_lexer": "ipython3",
   "version": "3.8.8"
  }
 },
 "nbformat": 4,
 "nbformat_minor": 5
}
