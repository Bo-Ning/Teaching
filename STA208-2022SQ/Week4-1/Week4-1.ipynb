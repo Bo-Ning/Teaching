{
 "cells": [
  {
   "cell_type": "markdown",
   "metadata": {
    "slideshow": {
     "slide_type": "slide"
    }
   },
   "source": [
    "## Week 4-1: Classification\n",
    "\n",
    "#### Last time\n",
    "* Lasso - LAR & Coordinate descent\n",
    "* Variants of the lasso method\n",
    "\n",
    "#### Today\n",
    "* Classification\n",
    "    - Logistic regression\n",
    "    - LDA and QDA\n",
    "\n",
    "#### Reference\n",
    "- James Sharpnack's lecture notes\n",
    "- Ch 4 of ESL"
   ]
  },
  {
   "cell_type": "markdown",
   "metadata": {},
   "source": [
    "## Introduction to classification\n",
    "\n",
    "We have seen how you can evaluate a supervised learner with a loss function.  Classification is the learning task where one tried to predict a binary response variable, this can be thought of as the answer to a yes/no question, as in \"Will this stock value go up today?\".  \n",
    "\n",
    "This is in contrast to regression which predicts a continuous response variable, answering a question such as \"What will be the increase in stock value today?\".  \n",
    "\n",
    "Classification has some interesting lessons for other machine learning tasks, and we will try to introduce many of the main concepts in classification.\n",
    "\n",
    "Recall that the _supervised learning_ setting has that the data consists of response variables, $y_i$ and predictor variables $x_i$ for $i=1,\\ldots,n$.  We will focus on binary classification which we will encode as the binary variable: $y_i \\in \\{0,1\\}$.  We will see that two hueristics can help us understand the basics of evaluating classifiers."
   ]
  },
  {
   "cell_type": "markdown",
   "metadata": {},
   "source": [
    "### Logistic regression\n",
    "\n",
    "The logistic regression is a supervised learning algorithm that is widely used for classification. \n",
    "The outcome of the logistic regression is discrete and restricted to a limited number of values.\n",
    "\n",
    "Consider the logistic regression model with a binary outcome (say, 0 and 1), the model has the form \n",
    "$$\n",
    "\\log \\frac{P(C = 1 | X = x)}{P(C = 0 | X = x)} = \\beta'x,\n",
    "$$\n",
    "where $\\beta = (\\beta_0, \\beta_1)$, $\\beta_0 \\in \\mathbb{R}$ and $\\beta_1 \\in \\mathbb{R}^p$, and $x = [1, \\tilde x] \\in \\mathbb{R}^{p+1}$.\n",
    "The ratio is known as the _odds-ratio_. \n",
    "\n",
    "By calculation, one can show that \n",
    "$$\n",
    "P(C = 1 | X = x) = \\frac{e^{\\beta'x}}{1 + e^{\\beta'x}}\n",
    "$$\n",
    "\n",
    "We denote the probability $P(C = 1 | X = x) = p(x; \\beta)$, where $\\beta = (\\beta_0, \\beta_1)$; similarly, $P(C = 0|X=x) = 1 - p_0(x; \\beta)$;\n",
    "\n"
   ]
  },
  {
   "cell_type": "markdown",
   "metadata": {},
   "source": [
    "The log-likelihood function can be written as \n",
    "\\begin{align*}\n",
    "\\ell(\\beta) & = \\sum_{i = 1}^n \\{y_i \\log p(x_i;\\beta) + (1-y_i) \\log (1-p(x_i; \\beta))\\}\\\\\n",
    "            & = \\sum_{i = 1}^n \\{y_i \\beta' x_i - \\log (1+e^{\\beta'x_i})\\}\n",
    "\\end{align*}\n",
    "\n",
    "Then by taking derivatives to zero, we have\n",
    "$$\n",
    "\\frac{d \\ell(\\beta)}{d \\beta} = \\sum_{i=1}^n x_i (y_i - p(x_i; \\beta)) = 0,\n",
    "$$\n",
    "which are $p+1$ equations that are nonlinear in $\\beta$. How to solve $\\beta$? (Newton's algorithm)\n",
    "\n",
    "\n",
    "Iterating $j = 1, \\dots, K$, \n",
    "$$\n",
    "\\beta_j = \\beta_{j-1} + s\\Big(-\\frac{d^2 \\ell(\\beta)}{d\\beta d\\beta'}\\Big)^{-1} \\frac{d\\ell(\\beta)}{d\\beta}.\n",
    "$$\n"
   ]
  },
  {
   "cell_type": "code",
   "execution_count": 1,
   "metadata": {
    "slideshow": {
     "slide_type": "slide"
    }
   },
   "outputs": [],
   "source": [
    "import pandas as pd\n",
    "import numpy as np\n",
    "import matplotlib as mpl\n",
    "import plotnine as p9\n",
    "import matplotlib.pyplot as plt\n",
    "import itertools\n",
    "\n",
    "import warnings\n",
    "warnings.simplefilter(\"ignore\")\n",
    "\n",
    "np.random.seed(2022041801)"
   ]
  },
  {
   "cell_type": "code",
   "execution_count": 2,
   "metadata": {},
   "outputs": [],
   "source": [
    "from matplotlib.pyplot import rcParams\n",
    "rcParams['figure.figsize'] = 6,6"
   ]
  },
  {
   "cell_type": "markdown",
   "metadata": {},
   "source": [
    "#### Logistic regression in action"
   ]
  },
  {
   "cell_type": "code",
   "execution_count": 3,
   "metadata": {},
   "outputs": [],
   "source": [
    "def lm_sim(N = 100):\n",
    "    \"\"\"simulate a binary response and two predictors\"\"\"\n",
    "    X1 = (np.random.randn(N*2)).reshape((N,2)) + np.array([2,3])\n",
    "    X0 = (np.random.randn(N*2)).reshape((N,2)) + np.array([.5,1.5])\n",
    "    y = - np.ones(N*2)\n",
    "    y[:N]=1\n",
    "    X = np.vstack((X1,X0))\n",
    "    return X, y, X0, X1"
   ]
  },
  {
   "cell_type": "code",
   "execution_count": 4,
   "metadata": {},
   "outputs": [],
   "source": [
    "X_sim,y_sim,X0,X1 = lm_sim()"
   ]
  },
  {
   "cell_type": "code",
   "execution_count": 5,
   "metadata": {},
   "outputs": [
    {
     "data": {
      "image/png": "[encoded data removed]",
      "text/plain": [
       "<Figure size 432x432 with 1 Axes>"
      ]
     },
     "metadata": {
      "needs_background": "light"
     },
     "output_type": "display_data"
    }
   ],
   "source": [
    "plt.scatter(X0[:,0],X0[:,1],c='b',label='neg')\n",
    "plt.scatter(X1[:,0],X1[:,1],c='r',label='pos')\n",
    "plt.title(\"Two dimensional classification simulation\")\n",
    "_ = plt.legend(loc=2)"
   ]
  },
  {
   "cell_type": "markdown",
   "metadata": {},
   "source": [
    "The red dots correspond to ``Y = +1`` and blue is ``Y = -1``.  We can see that a classifier that classifies as +1 when the point is in the upper right of the coordinate system should do pretty well.  We could propose several $\\beta$ vectors to form linear classifiers and observe their training errors, finally selecting the one that minimized the training error.    We have seen that a linear classifier has a separator hyperplane (a line in 2 dimensions).  To find out what the prediction the classifier makes for a point one just needs to look at which side of the hyperplane it falls on.  Consider a few such lines."
   ]
  },
  {
   "cell_type": "code",
   "execution_count": 6,
   "metadata": {},
   "outputs": [],
   "source": [
    "from sklearn import linear_model\n",
    "\n",
    "lr_sim = linear_model.LogisticRegression()\n",
    "lr_sim.fit(X_sim,y_sim)\n",
    "\n",
    "beta1 = lr_sim.coef_[0,0]\n",
    "beta2 = lr_sim.coef_[0,1]\n",
    "beta0 = lr_sim.intercept_\n",
    "\n",
    "mults=0.8\n",
    "T = np.linspace(-1,4,100)\n",
    "x2hat = -(beta0 + beta1*T) / beta2\n",
    "line1 = -(beta0 + np.random.randn(1)*2 + \n",
    "          (beta1 + np.random.randn(1)*mults) *T) / (beta2 + np.random.randn(1)*mults)\n",
    "line2 = -(beta0 + np.random.randn(1)*2 + \n",
    "          (beta1 + np.random.randn(1)*mults) *T) / (beta2 + np.random.randn(1)*mults)\n",
    "line3 = -(beta0 + np.random.randn(1)*2 + \n",
    "          (beta1 + np.random.randn(1)*mults) *T) / (beta2 + np.random.randn(1)*mults)"
   ]
  },
  {
   "cell_type": "code",
   "execution_count": 7,
   "metadata": {},
   "outputs": [
    {
     "data": {
      "image/png": "[encoded data removed]",
      "text/plain": [
       "<Figure size 432x432 with 1 Axes>"
      ]
     },
     "metadata": {
      "needs_background": "light"
     },
     "output_type": "display_data"
    }
   ],
   "source": [
    "plt.scatter(X0[:,0],X0[:,1],c='b',label='neg')\n",
    "plt.scatter(X1[:,0],X1[:,1],c='r',label='pos')\n",
    "plt.plot(T,line3,c='k')\n",
    "plt.plot(T,line1,c='k')\n",
    "plt.plot(T,line2,c='k')\n",
    "plt.ylim([-1,7])\n",
    "plt.title(\"Three possible separator lines\")\n",
    "_ = plt.legend(loc=2)"
   ]
  },
  {
   "cell_type": "markdown",
   "metadata": {},
   "source": [
    "One of these will probably do a better job at separating the training data than the others, but if we wanted to do this over all possible $\\beta \\in \\mathbb R^{p+1}$ then we need to solve the program (0-1 min) above."
   ]
  },
  {
   "cell_type": "code",
   "execution_count": 8,
   "metadata": {},
   "outputs": [
    {
     "data": {
      "image/png": "[encoded data removed]",
      "text/plain": [
       "<Figure size 432x432 with 1 Axes>"
      ]
     },
     "metadata": {
      "needs_background": "light"
     },
     "output_type": "display_data"
    }
   ],
   "source": [
    "plt.scatter(X0[:,0],X0[:,1],c='b',label='neg')\n",
    "plt.scatter(X1[:,0],X1[:,1],c='r',label='pos')\n",
    "plt.plot(T,x2hat,c='k')\n",
    "plt.title(\"Logistic regression separator line\")\n",
    "_ = plt.legend(loc=2)"
   ]
  },
  {
   "cell_type": "markdown",
   "metadata": {},
   "source": [
    "The points above this line are predicted as a +1, and so we can also isolate those points that we classified incorrectly.  The 0-1 loss counts each of these points as a loss of 1."
   ]
  },
  {
   "cell_type": "code",
   "execution_count": 9,
   "metadata": {},
   "outputs": [
    {
     "data": {
      "image/png": "[encoded data removed]",
      "text/plain": [
       "<Figure size 432x432 with 1 Axes>"
      ]
     },
     "metadata": {
      "needs_background": "light"
     },
     "output_type": "display_data"
    }
   ],
   "source": [
    "N = 100\n",
    "y_hat = lr_sim.predict(X_sim)\n",
    "plt.scatter(X0[y_hat[N:] == 1,0],X0[y_hat[N:] == 1,1],c='b',label='neg')\n",
    "plt.scatter(X1[y_hat[:N] == -1,0],X1[y_hat[:N] == -1,1],c='r',label='pos')\n",
    "plt.plot(T,x2hat,c='k')\n",
    "plt.title(\"Points classified incorrectly\")\n",
    "_ = plt.legend(loc=2)"
   ]
  },
  {
   "cell_type": "markdown",
   "metadata": {},
   "source": [
    "#### Linear discriminant analysis\n",
    "\n",
    "Consider estimating $P(C=1|X)$ for binary clusters. Suppose $f_1(x)$ is the class-conditional density of $X$ in $C = 1$, let $\\pi$ be the prior probability of this class, by applying Bayes rule, we have\n",
    "$$\n",
    "P(C = 1 | X = x) = \\frac{f_1(x)\\pi}{f_0(x) (1-\\pi) + f_1(x) \\pi},\n",
    "$$\n",
    "where $f_0(\\cdot)$ the conditional density of $X$ in $C = 0$.\n",
    "\n",
    "Assuming $f_k \\sim N(\\mu_k, \\Sigma_k)$ and $\\Sigma_k = \\Sigma$ for $k = 0,1$, then the log-ratio between the two classes are \n",
    "\\begin{align}\n",
    "\\log \\frac{P(C = 1|X)}{P(C=0|X)}\n",
    "& = \\log \\frac{f_1(x)}{f_0(x)} + \\log \\frac{\\pi}{1-\\pi}\\\\\n",
    "& = \\log  \\frac{\\pi}{1-\\pi} - \\frac{1}{2} (\\mu_1 + \\mu_0)'\\Sigma^{-1} (\\mu_1 + \\mu_0) + x'\\Sigma^{-1}(\\mu_1 - \\mu_0),\n",
    "\\end{align}\n",
    "which is _linear in $x$_.\n",
    "\n",
    "\n",
    "In practice, we do not know the parameters of the Gaussian distributions, we estimate them from the training data:\n",
    "- $\\hat \\pi = n_1/n$, where $n_1$ is the number observation in Class $1$;\n",
    "- $\\hat \\mu_k = \\sum_{i \\in N_k} x_i / n_k$, where $N_k$ is the set containing the observations in Class 1;\n",
    "- $\\hat \\Sigma = \\sum_{k=0}^1 \\sum_{i \\in N_k} (x_i - \\hat \\mu_k)(x_i - \\hat \\mu_k)'/(n - n_k)$\n",
    "\n",
    "The LDA rule in favor of Class 1 if the log-ratio is larger than 1, i.e., \n",
    "$$\n",
    "x'\\Sigma^{-1}(\\mu_1 - \\mu_0) > \\frac{1}{2} (\\mu_1 + \\mu_0)'\\Sigma^{-1} (\\mu_1 + \\mu_0) - \\log \\frac{\\pi}{1-\\pi}.\n",
    "$$\n",
    "\n",
    "#### Quadratic Discriminant Analysis (QDA)\n",
    "\n",
    "Similar to LDA, but allow $\\Sigma_k$ to differ.\n",
    "Then \n",
    "- $\\hat \\Sigma_k = \\sum_{i \\in N_k} (x_i - \\hat \\mu_k)(x_i - \\hat \\mu_k)'/(n - n_k)$\n",
    "\n",
    "#### Regularized Discriminant Analysis \n",
    "\n",
    "Friedman (1989) proposed a compromise between LDA and QDA, which allows one to shrink the separate covariance of QDA toward a common covariance as in LDA\n",
    "$$\n",
    "\\hat \\Sigma_k(\\alpha) = \\alpha \\hat\\Sigma_k + (1-\\alpha) \\hat\\Sigma\n",
    "$$"
   ]
  },
  {
   "cell_type": "code",
   "execution_count": 10,
   "metadata": {},
   "outputs": [],
   "source": [
    "import matplotlib as mpl\n",
    "from matplotlib import colors\n",
    "\n",
    "from sklearn.discriminant_analysis import LinearDiscriminantAnalysis\n",
    "from sklearn.discriminant_analysis import QuadraticDiscriminantAnalysis"
   ]
  },
  {
   "cell_type": "code",
   "execution_count": 11,
   "metadata": {},
   "outputs": [],
   "source": [
    "lda = LinearDiscriminantAnalysis(solver=\"svd\", store_covariance=True)\n",
    "y_hat_lda = lda.fit(X_sim, y_sim).predict(X_sim)"
   ]
  },
  {
   "cell_type": "code",
   "execution_count": 12,
   "metadata": {},
   "outputs": [
    {
     "data": {
      "text/plain": [
       "array([0., 0., 0., 0., 0., 0., 0., 0., 0., 0., 0., 0., 0., 0., 0., 0., 0.,\n",
       "       0., 0., 0., 0., 0., 0., 0., 0., 0., 0., 0., 0., 0., 0., 0., 0., 0.,\n",
       "       0., 0., 0., 0., 0., 0., 0., 0., 0., 0., 0., 0., 2., 0., 0., 0., 0.,\n",
       "       0., 0., 0., 0., 0., 0., 0., 0., 0., 0., 0., 0., 0., 0., 0., 0., 0.,\n",
       "       0., 0., 0., 0., 0., 0., 0., 0., 0., 0., 0., 0., 0., 0., 0., 0., 0.,\n",
       "       0., 0., 0., 0., 0., 0., 0., 0., 0., 0., 0., 0., 0., 0., 0., 0., 0.,\n",
       "       0., 0., 0., 0., 0., 0., 0., 0., 0., 0., 0., 0., 0., 0., 0., 0., 0.,\n",
       "       0., 0., 0., 0., 0., 0., 0., 0., 0., 0., 0., 0., 0., 0., 0., 0., 0.,\n",
       "       0., 0., 0., 0., 0., 0., 0., 0., 0., 0., 0., 0., 0., 0., 0., 0., 0.,\n",
       "       0., 0., 0., 0., 0., 0., 0., 0., 0., 0., 0., 0., 0., 0., 0., 0., 0.,\n",
       "       2., 0., 0., 0., 0., 0., 0., 0., 0., 0., 0., 0., 0., 0., 0., 0., 0.,\n",
       "       0., 0., 0., 0., 0., 0., 0., 0., 0., 0., 0., 0., 0.])"
      ]
     },
     "execution_count": 12,
     "metadata": {},
     "output_type": "execute_result"
    }
   ],
   "source": [
    "y_hat_lda - y_hat"
   ]
  },
  {
   "cell_type": "markdown",
   "metadata": {},
   "source": [
    "### LDA vs logistic regression?\n",
    "\n",
    "Note that the log-odds of the LDA model is linear to $x$:\n",
    "\n",
    "\\begin{align}\n",
    "\\log \\frac{P(C = 1|X)}{P(C=0|X)}\n",
    "& = \\log \\frac{f_1(x)}{f_0(x)} + \\log \\frac{\\pi}{1-\\pi}\\\\\n",
    "& = \\log  \\frac{\\pi}{1-\\pi} - \\frac{1}{2} (\\mu_1 + \\mu_0)'\\Sigma^{-1} (\\mu_1 + \\mu_0) + x'\\Sigma^{-1}(\\mu_1 - \\mu_0)\\\\\n",
    "& = \\alpha_0 + \\alpha_1'x\n",
    "\\end{align}\n",
    "\n",
    "The log-odds of the logistic regression is \n",
    "$$\\log \\frac{P(C = 1 | X = x)}{P(C = 0 | X = x)} = \\beta_0 + \\beta_1'x$$\n",
    "\n",
    "Indeed, the two models seem are the same! \n",
    "\n",
    "Note that the difference between the two models is the linear coefficients that are estimated. The logistic regression model is more general, as it makes less assumptions. Why?"
   ]
  },
  {
   "cell_type": "markdown",
   "metadata": {},
   "source": [
    "Q: how to implement LDA and logistic regression for multiclass classification?\n"
   ]
  },
  {
   "cell_type": "markdown",
   "metadata": {},
   "source": [
    "### Regularized logistic regression\n",
    "\n",
    "Simliar to the lasso, we can add the $\\ell_1$ penalty for logistic regression for variable selection and shrinkage coefficents, i.e., \n",
    "$$\n",
    "\\max_{\\beta_0, \\beta} \n",
    "\\Big\\{\n",
    "    \\sum_{i=1}^n \n",
    "    \\Big(\n",
    "        y_i (\\beta_0 + \\beta'x_i) - \\log (1+e^{\\beta_0 + \\beta'x_i)}\n",
    "    \\Big) \n",
    "    + \\lambda \\|\\beta\\|_1\n",
    "\\Big\\}\n",
    "$$\n",
    "Note that usually we do not penalize $\\beta_0$.\n",
    "\n",
    "In python, the [package](https://scikit-learn.org/stable/modules/generated/sklearn.linear_model.LogisticRegression.html) impliment $\\ell_1$, $\\ell_2$, and elastic net penalty functions."
   ]
  },
  {
   "cell_type": "code",
   "execution_count": 13,
   "metadata": {},
   "outputs": [],
   "source": [
    "from sklearn import LogisticRegression"
   ]
  },
  {
   "cell_type": "code",
   "execution_count": 14,
   "metadata": {},
   "outputs": [
    {
     "name": "stdout",
     "output_type": "stream",
     "text": [
      "<class 'pandas.core.frame.DataFrame'>\n",
      "RangeIndex: 4521 entries, 0 to 4520\n",
      "Data columns (total 17 columns):\n",
      " #   Column     Non-Null Count  Dtype  \n",
      "---  ------     --------------  -----  \n",
      " 0   age        4521 non-null   int64  \n",
      " 1   job        4483 non-null   object \n",
      " 2   marital    4521 non-null   object \n",
      " 3   education  4334 non-null   object \n",
      " 4   default    4521 non-null   object \n",
      " 5   balance    4519 non-null   float64\n",
      " 6   housing    4521 non-null   object \n",
      " 7   loan       4521 non-null   object \n",
      " 8   contact    3197 non-null   object \n",
      " 9   day        4521 non-null   int64  \n",
      " 10  month      4521 non-null   object \n",
      " 11  duration   4521 non-null   int64  \n",
      " 12  campaign   4521 non-null   int64  \n",
      " 13  pdays      4521 non-null   int64  \n",
      " 14  previous   4521 non-null   int64  \n",
      " 15  poutcome   816 non-null    object \n",
      " 16  y          4521 non-null   object \n",
      "dtypes: float64(1), int64(6), object(10)\n",
      "memory usage: 600.6+ KB\n"
     ]
    }
   ],
   "source": [
    "bank = pd.read_csv('../data/bank.csv',sep=';',na_values=['unknown',999,'nonexistent'])\n",
    "bank.info()"
   ]
  },
  {
   "cell_type": "code",
   "execution_count": 15,
   "metadata": {},
   "outputs": [],
   "source": [
    "bank_tr, bank_te = model_selection.train_test_split(bank,test_size=.33)"
   ]
  },
  {
   "cell_type": "code",
   "execution_count": 16,
   "metadata": {},
   "outputs": [
    {
     "data": {
      "text/plain": [
       "count     4521\n",
       "unique       2\n",
       "top         no\n",
       "freq      4000\n",
       "Name: y, dtype: object"
      ]
     },
     "execution_count": 16,
     "metadata": {},
     "output_type": "execute_result"
    }
   ],
   "source": [
    "bank['y'].describe()"
   ]
  },
  {
   "cell_type": "code",
   "execution_count": 17,
   "metadata": {},
   "outputs": [],
   "source": [
    "def train_bank_to_xy(bank):\n",
    "    \"\"\"standardize and impute training\"\"\"\n",
    "    bank_sel = bank[['age','balance','duration','y']].values\n",
    "    X,y = bank_sel[:,:-1], bank_sel[:,-1]\n",
    "    scaler = preprocessing.StandardScaler().fit(X)\n",
    "    imputer = impute.SimpleImputer(fill_value=0).fit(X)\n",
    "    trans_prep = lambda Z: imputer.transform(scaler.transform(Z)) \n",
    "    X = trans_prep(X)\n",
    "    y = 2*(y == 'yes')-1\n",
    "    return (X, y), trans_prep\n",
    "\n",
    "def test_bank_to_xy(bank, trans_prep):\n",
    "    \"\"\"standardize and impute test\"\"\"\n",
    "    bank_sel = bank[['age','balance','duration','y']].values\n",
    "    X,y = bank_sel[:,:-1], bank_sel[:,-1]\n",
    "    X = trans_prep(X)\n",
    "    y = 2*(y == 'yes')-1\n",
    "    return (X, y)"
   ]
  },
  {
   "cell_type": "code",
   "execution_count": 18,
   "metadata": {},
   "outputs": [],
   "source": [
    "(X_tr, y_tr), trans_prep  = train_bank_to_xy(bank_tr)\n",
    "X_te, y_te = test_bank_to_xy(bank_te, trans_prep)"
   ]
  },
  {
   "cell_type": "code",
   "execution_count": 19,
   "metadata": {},
   "outputs": [
    {
     "data": {
      "text/plain": [
       "LogisticRegression()"
      ]
     },
     "execution_count": 19,
     "metadata": {},
     "output_type": "execute_result"
    }
   ],
   "source": [
    "lamb = 1.\n",
    "lr = linear_model.LogisticRegression(penalty='l2', C = 1/lamb)\n",
    "lr.fit(X_tr,y_tr)"
   ]
  },
  {
   "cell_type": "markdown",
   "metadata": {},
   "source": [
    "We can then predict on the test set and see what the resulting 0-1 test error is."
   ]
  },
  {
   "cell_type": "code",
   "execution_count": 20,
   "metadata": {},
   "outputs": [
    {
     "data": {
      "text/plain": [
       "0.11327077747989277"
      ]
     },
     "execution_count": 20,
     "metadata": {},
     "output_type": "execute_result"
    }
   ],
   "source": [
    "yhat = lr.predict(X_te)\n",
    "(yhat != y_te).mean()"
   ]
  }
 ],
 "metadata": {
  "kernelspec": {
   "display_name": "Python 3",
   "language": "python",
   "name": "python3"
  },
  "language_info": {
   "codemirror_mode": {
    "name": "ipython",
    "version": 3
   },
   "file_extension": ".py",
   "mimetype": "text/x-python",
   "name": "python",
   "nbconvert_exporter": "python",
   "pygments_lexer": "ipython3",
   "version": "3.8.8"
  }
 },
 "nbformat": 4,
 "nbformat_minor": 2
}
